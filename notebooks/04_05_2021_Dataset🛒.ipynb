{
 "cells": [
  {
   "cell_type": "markdown",
   "metadata": {},
   "source": [
    "# Dataset Validation\n",
    "---"
   ]
  },
  {
   "cell_type": "markdown",
   "metadata": {},
   "source": [
    "## Sanity Check"
   ]
  },
  {
   "cell_type": "code",
   "execution_count": 7,
   "metadata": {},
   "outputs": [],
   "source": [
    "import json\n",
    "\n",
    "def load_config(file_path: str = \"./config.json\"):\n",
    "    with open(file_path) as config_file:\n",
    "        data = json.load(config_file)\n",
    "    return data\n",
    "\n",
    "config = load_config(\"../config.json\")\n",
    "DBNAME = config.get(\"DBNAME\")\n",
    "HOSTNAME = config.get(\"HOSTNAME\")\n",
    "USER = config.get(\"USER\")\n",
    "PASS = config.get(\"PASS\")\n",
    "SCHEMA = config.get(\"SCHEMA\")"
   ]
  },
  {
   "cell_type": "code",
   "execution_count": 8,
   "metadata": {},
   "outputs": [],
   "source": [
    "# Basic \n",
    "import sys\n",
    "import numpy as np\n",
    "import scipy as sp\n",
    "import pandas as pd\n",
    "\n",
    "# SQL Engine\n",
    "import psycopg2\n",
    "import pandas as pd\n",
    "from sqlalchemy import create_engine\n",
    "\n",
    "# Profiling process\n",
    "from tqdm import tqdm\n",
    "\n",
    "# Warning problems in notebook\n",
    "import warnings\n",
    "warnings.filterwarnings('ignore')\n",
    "\n",
    "# Reporting result\n",
    "import sweetviz as sv\n",
    "from dataprep.eda import create_report"
   ]
  },
  {
   "cell_type": "code",
   "execution_count": 9,
   "metadata": {},
   "outputs": [],
   "source": [
    "# Load data\n",
    "\n",
    "# Create an engine instance\n",
    "alchemyEngine = create_engine(\n",
    "    f'postgresql+psycopg2://{USER}:{PASS}@{HOSTNAME}/{DBNAME}', pool_recycle=3600)\n",
    "\n",
    "# Connect to PostgreSQL server\n",
    "conn = alchemyEngine.connect()\n",
    "\n",
    "schema = SCHEMA"
   ]
  },
  {
   "cell_type": "markdown",
   "metadata": {},
   "source": [
    "---\n",
    "__**An Overview of the Data Warehouse**__\n",
    "\n",
    "Let see the overview from the data that we can get from the data warehouse\n",
    "\n",
    "---"
   ]
  },
  {
   "cell_type": "code",
   "execution_count": 10,
   "metadata": {},
   "outputs": [],
   "source": [
    "date = pd.read_sql_table(\"dim_date\", conn, schema=schema)\n",
    "time = pd.read_sql_table(\"dim_time\", conn, schema=schema)\n",
    "user = pd.read_sql_table(\"dim_user\", conn, schema=schema)\n",
    "product = pd.read_sql_table(\"dim_product\", conn, schema=schema)\n",
    "seller = pd.read_sql_table(\"dim_seller\", conn, schema=schema)\n",
    "feedback = pd.read_sql_table(\"dim_feedback\", conn, schema=schema)\n",
    "fct_order_item = pd.read_sql_table(\"fct_order_items\", conn, schema=schema)"
   ]
  },
  {
   "cell_type": "code",
   "execution_count": 11,
   "metadata": {},
   "outputs": [
    {
     "data": {
      "text/html": [
       "<style  type=\"text/css\" >\n",
       "#T_03559_row0_col1{\n",
       "            background-color:  #fef6fb;\n",
       "            color:  #000000;\n",
       "        }#T_03559_row0_col2{\n",
       "            background-color:  #c0c9e2;\n",
       "            color:  #000000;\n",
       "        }#T_03559_row0_col3,#T_03559_row0_col4,#T_03559_row1_col1,#T_03559_row1_col2,#T_03559_row1_col3,#T_03559_row1_col4,#T_03559_row2_col2,#T_03559_row2_col3,#T_03559_row2_col4,#T_03559_row4_col2,#T_03559_row4_col3,#T_03559_row4_col4,#T_03559_row5_col3,#T_03559_row5_col4{\n",
       "            background-color:  #fff7fb;\n",
       "            color:  #000000;\n",
       "        }#T_03559_row2_col1{\n",
       "            background-color:  #045e94;\n",
       "            color:  #f1f1f1;\n",
       "        }#T_03559_row3_col1{\n",
       "            background-color:  #c5cce3;\n",
       "            color:  #000000;\n",
       "        }#T_03559_row3_col2{\n",
       "            background-color:  #e3e0ee;\n",
       "            color:  #000000;\n",
       "        }#T_03559_row3_col3{\n",
       "            background-color:  #d4d4e8;\n",
       "            color:  #000000;\n",
       "        }#T_03559_row3_col4{\n",
       "            background-color:  #187cb6;\n",
       "            color:  #000000;\n",
       "        }#T_03559_row4_col1{\n",
       "            background-color:  #fdf5fa;\n",
       "            color:  #000000;\n",
       "        }#T_03559_row5_col1{\n",
       "            background-color:  #04598c;\n",
       "            color:  #f1f1f1;\n",
       "        }#T_03559_row5_col2{\n",
       "            background-color:  #f5eef6;\n",
       "            color:  #000000;\n",
       "        }#T_03559_row6_col1,#T_03559_row6_col2,#T_03559_row6_col3,#T_03559_row6_col4{\n",
       "            background-color:  #023858;\n",
       "            color:  #f1f1f1;\n",
       "        }</style><table id=\"T_03559_\" ><thead>    <tr>        <th class=\"blank level0\" ></th>        <th class=\"col_heading level0 col0\" >dataset</th>        <th class=\"col_heading level0 col1\" >n_rows</th>        <th class=\"col_heading level0 col2\" >n_cols</th>        <th class=\"col_heading level0 col3\" >null_amount</th>        <th class=\"col_heading level0 col4\" >qty_null_columns</th>        <th class=\"col_heading level0 col5\" >null_columns</th>    </tr></thead><tbody>\n",
       "                <tr>\n",
       "                        <th id=\"T_03559_level0_row0\" class=\"row_heading level0 row0\" >0</th>\n",
       "                        <td id=\"T_03559_row0_col0\" class=\"data row0 col0\" >date</td>\n",
       "                        <td id=\"T_03559_row0_col1\" class=\"data row0 col1\" >2191</td>\n",
       "                        <td id=\"T_03559_row0_col2\" class=\"data row0 col2\" >15</td>\n",
       "                        <td id=\"T_03559_row0_col3\" class=\"data row0 col3\" >0</td>\n",
       "                        <td id=\"T_03559_row0_col4\" class=\"data row0 col4\" >0</td>\n",
       "                        <td id=\"T_03559_row0_col5\" class=\"data row0 col5\" ></td>\n",
       "            </tr>\n",
       "            <tr>\n",
       "                        <th id=\"T_03559_level0_row1\" class=\"row_heading level0 row1\" >1</th>\n",
       "                        <td id=\"T_03559_row1_col0\" class=\"data row1 col0\" >time</td>\n",
       "                        <td id=\"T_03559_row1_col1\" class=\"data row1 col1\" >1440</td>\n",
       "                        <td id=\"T_03559_row1_col2\" class=\"data row1 col2\" >6</td>\n",
       "                        <td id=\"T_03559_row1_col3\" class=\"data row1 col3\" >0</td>\n",
       "                        <td id=\"T_03559_row1_col4\" class=\"data row1 col4\" >0</td>\n",
       "                        <td id=\"T_03559_row1_col5\" class=\"data row1 col5\" ></td>\n",
       "            </tr>\n",
       "            <tr>\n",
       "                        <th id=\"T_03559_level0_row2\" class=\"row_heading level0 row2\" >2</th>\n",
       "                        <td id=\"T_03559_row2_col0\" class=\"data row2 col0\" >user</td>\n",
       "                        <td id=\"T_03559_row2_col1\" class=\"data row2 col1\" >96096</td>\n",
       "                        <td id=\"T_03559_row2_col2\" class=\"data row2 col2\" >6</td>\n",
       "                        <td id=\"T_03559_row2_col3\" class=\"data row2 col3\" >0</td>\n",
       "                        <td id=\"T_03559_row2_col4\" class=\"data row2 col4\" >0</td>\n",
       "                        <td id=\"T_03559_row2_col5\" class=\"data row2 col5\" ></td>\n",
       "            </tr>\n",
       "            <tr>\n",
       "                        <th id=\"T_03559_level0_row3\" class=\"row_heading level0 row3\" >3</th>\n",
       "                        <td id=\"T_03559_row3_col0\" class=\"data row3 col0\" >product</td>\n",
       "                        <td id=\"T_03559_row3_col1\" class=\"data row3 col1\" >32951</td>\n",
       "                        <td id=\"T_03559_row3_col2\" class=\"data row3 col2\" >11</td>\n",
       "                        <td id=\"T_03559_row3_col3\" class=\"data row3 col3\" >1838</td>\n",
       "                        <td id=\"T_03559_row3_col4\" class=\"data row3 col4\" >7</td>\n",
       "                        <td id=\"T_03559_row3_col5\" class=\"data row3 col5\" >product_name_length, product_description_length, product_photos_qty, product_length_cm, product_weight_g, product_height_cm, product_width_cm</td>\n",
       "            </tr>\n",
       "            <tr>\n",
       "                        <th id=\"T_03559_level0_row4\" class=\"row_heading level0 row4\" >4</th>\n",
       "                        <td id=\"T_03559_row4_col0\" class=\"data row4 col0\" >seller</td>\n",
       "                        <td id=\"T_03559_row4_col1\" class=\"data row4 col1\" >3095</td>\n",
       "                        <td id=\"T_03559_row4_col2\" class=\"data row4 col2\" >6</td>\n",
       "                        <td id=\"T_03559_row4_col3\" class=\"data row4 col3\" >0</td>\n",
       "                        <td id=\"T_03559_row4_col4\" class=\"data row4 col4\" >0</td>\n",
       "                        <td id=\"T_03559_row4_col5\" class=\"data row4 col5\" ></td>\n",
       "            </tr>\n",
       "            <tr>\n",
       "                        <th id=\"T_03559_level0_row5\" class=\"row_heading level0 row5\" >5</th>\n",
       "                        <td id=\"T_03559_row5_col0\" class=\"data row5 col0\" >feedback</td>\n",
       "                        <td id=\"T_03559_row5_col1\" class=\"data row5 col1\" >98854</td>\n",
       "                        <td id=\"T_03559_row5_col2\" class=\"data row5 col2\" >8</td>\n",
       "                        <td id=\"T_03559_row5_col3\" class=\"data row5 col3\" >0</td>\n",
       "                        <td id=\"T_03559_row5_col4\" class=\"data row5 col4\" >0</td>\n",
       "                        <td id=\"T_03559_row5_col5\" class=\"data row5 col5\" ></td>\n",
       "            </tr>\n",
       "            <tr>\n",
       "                        <th id=\"T_03559_level0_row6\" class=\"row_heading level0 row6\" >6</th>\n",
       "                        <td id=\"T_03559_row6_col0\" class=\"data row6 col0\" >order</td>\n",
       "                        <td id=\"T_03559_row6_col1\" class=\"data row6 col1\" >112650</td>\n",
       "                        <td id=\"T_03559_row6_col2\" class=\"data row6 col2\" >36</td>\n",
       "                        <td id=\"T_03559_row6_col3\" class=\"data row6 col3\" >7852</td>\n",
       "                        <td id=\"T_03559_row6_col4\" class=\"data row6 col4\" >10</td>\n",
       "                        <td id=\"T_03559_row6_col5\" class=\"data row6 col5\" >order_approved_date, order_approved_time, pickup_date, pickup_time, delivered_date, delivered_time, num_payment, total_payment_value, total_payment_installment, lifetime_order</td>\n",
       "            </tr>\n",
       "    </tbody></table>"
      ],
      "text/plain": [
       "<pandas.io.formats.style.Styler at 0x22240a35430>"
      ]
     },
     "execution_count": 11,
     "metadata": {},
     "output_type": "execute_result"
    }
   ],
   "source": [
    "# Collections for each dataset\n",
    "datasets = [date, time, user, product, seller, feedback, fct_order_item]\n",
    "names = ['date', 'time', 'user', 'product', 'seller', 'feedback', 'order']\n",
    "\n",
    "# Creating a DataFrame with useful information about all datasets\n",
    "data_info = pd.DataFrame({})\n",
    "data_info['dataset'] = names\n",
    "data_info['n_rows'] = [df.shape[0] for df in datasets]\n",
    "data_info['n_cols'] = [df.shape[1] for df in datasets]\n",
    "data_info['null_amount'] = [df.isnull().sum().sum() for df in datasets]\n",
    "data_info['qty_null_columns'] = [len([col for col, null in df.isnull().sum().items() if null > 0]) for df in datasets]\n",
    "data_info['null_columns'] = [', '.join([col for col, null in df.isnull().sum().items() if null > 0]) for df in datasets]\n",
    "\n",
    "data_info.style.background_gradient()"
   ]
  },
  {
   "cell_type": "markdown",
   "metadata": {},
   "source": [
    "## Datamart 1\n",
    "\n",
    "---\n",
    "Order related datamart"
   ]
  },
  {
   "cell_type": "code",
   "execution_count": 4,
   "metadata": {},
   "outputs": [],
   "source": [
    "QUERY = \"\"\"\n",
    "-- Data Mart 1 \n",
    "-- Sales Trend Analysis Datamart\n",
    "select \n",
    "\tfoi.order_id ,\n",
    "\tfoi.order_item_id ,\n",
    "\tu.user_name,\n",
    "\tp.product_id ,\n",
    "\tp.product_category ,\n",
    "\tfoi.price,\n",
    "\tfoi.shipping_cost ,\n",
    "\tfoi.total_payment_value \n",
    "from staging.fct_order_items foi\n",
    "left outer join staging.dim_date dd on foi.order_date = dd.date_id \n",
    "left outer join staging.dim_time dt on foi.order_time = dt.time_id \n",
    "left join (\n",
    "\tselect \n",
    "\t\tdu.user_key ,\n",
    "\t\tdu.user_name\n",
    "\tfrom staging.dim_user du \n",
    "\twhere du.is_current_version=true\n",
    ") u on foi.user_key = u.user_key\n",
    "left join (\n",
    "\tselect \n",
    "\t\tdp.product_key ,\n",
    "\t\tdp.product_id , \n",
    "\t\tdp.product_category \n",
    "\tfrom staging.dim_product dp \n",
    "\twhere dp.is_current_version=true\n",
    ") p on foi.product_key = p.product_key;\n",
    "\"\"\""
   ]
  },
  {
   "cell_type": "code",
   "execution_count": 5,
   "metadata": {},
   "outputs": [],
   "source": [
    "# Init dataframe\n",
    "order = pd.read_sql_query(QUERY, conn)"
   ]
  },
  {
   "cell_type": "code",
   "execution_count": 6,
   "metadata": {},
   "outputs": [
    {
     "data": {
      "text/html": [
       "<style  type=\"text/css\" >\n",
       "#T_c9830_row0_col1,#T_c9830_row1_col1,#T_c9830_row1_col5,#T_c9830_row1_col7,#T_c9830_row2_col1,#T_c9830_row3_col1,#T_c9830_row4_col1,#T_c9830_row4_col6{\n",
       "            background-color:  #fff7fb;\n",
       "            color:  #000000;\n",
       "        }#T_c9830_row0_col5,#T_c9830_row0_col6,#T_c9830_row0_col7{\n",
       "            background-color:  #023858;\n",
       "            color:  #f1f1f1;\n",
       "        }#T_c9830_row1_col6{\n",
       "            background-color:  #e9e5f1;\n",
       "            color:  #000000;\n",
       "        }#T_c9830_row2_col5,#T_c9830_row2_col7{\n",
       "            background-color:  #04639b;\n",
       "            color:  #f1f1f1;\n",
       "        }#T_c9830_row2_col6{\n",
       "            background-color:  #056aa6;\n",
       "            color:  #f1f1f1;\n",
       "        }#T_c9830_row3_col5{\n",
       "            background-color:  #f9f2f8;\n",
       "            color:  #000000;\n",
       "        }#T_c9830_row3_col6{\n",
       "            background-color:  #ece7f2;\n",
       "            color:  #000000;\n",
       "        }#T_c9830_row3_col7{\n",
       "            background-color:  #faf2f8;\n",
       "            color:  #000000;\n",
       "        }#T_c9830_row4_col5{\n",
       "            background-color:  #4897c4;\n",
       "            color:  #000000;\n",
       "        }#T_c9830_row4_col7{\n",
       "            background-color:  #549cc7;\n",
       "            color:  #000000;\n",
       "        }</style><table id=\"T_c9830_\" ><thead>    <tr>        <th class=\"blank level0\" ></th>        <th class=\"col_heading level0 col0\" >order_id</th>        <th class=\"col_heading level0 col1\" >order_item_id</th>        <th class=\"col_heading level0 col2\" >user_name</th>        <th class=\"col_heading level0 col3\" >product_id</th>        <th class=\"col_heading level0 col4\" >product_category</th>        <th class=\"col_heading level0 col5\" >price</th>        <th class=\"col_heading level0 col6\" >shipping_cost</th>        <th class=\"col_heading level0 col7\" >total_payment_value</th>    </tr></thead><tbody>\n",
       "                <tr>\n",
       "                        <th id=\"T_c9830_level0_row0\" class=\"row_heading level0 row0\" >0</th>\n",
       "                        <td id=\"T_c9830_row0_col0\" class=\"data row0 col0\" >00018f77f2f0320c557190d7a144bdd3</td>\n",
       "                        <td id=\"T_c9830_row0_col1\" class=\"data row0 col1\" >1</td>\n",
       "                        <td id=\"T_c9830_row0_col2\" class=\"data row0 col2\" >eb28e67c4c0b83846050ddfb8a35d051</td>\n",
       "                        <td id=\"T_c9830_row0_col3\" class=\"data row0 col3\" >e5f2d52b802189ee658865ca93d83a8f</td>\n",
       "                        <td id=\"T_c9830_row0_col4\" class=\"data row0 col4\" >pet_shop</td>\n",
       "                        <td id=\"T_c9830_row0_col5\" class=\"data row0 col5\" >239900.000000</td>\n",
       "                        <td id=\"T_c9830_row0_col6\" class=\"data row0 col6\" >19930.000000</td>\n",
       "                        <td id=\"T_c9830_row0_col7\" class=\"data row0 col7\" >259830.000000</td>\n",
       "            </tr>\n",
       "            <tr>\n",
       "                        <th id=\"T_c9830_level0_row1\" class=\"row_heading level0 row1\" >1</th>\n",
       "                        <td id=\"T_c9830_row1_col0\" class=\"data row1 col0\" >00024acbcdf0a6daa1e931b038114c75</td>\n",
       "                        <td id=\"T_c9830_row1_col1\" class=\"data row1 col1\" >1</td>\n",
       "                        <td id=\"T_c9830_row1_col2\" class=\"data row1 col2\" >af861d436cfc08b2c2ddefd0ba074622</td>\n",
       "                        <td id=\"T_c9830_row1_col3\" class=\"data row1 col3\" >7634da152a4610f1595efa32f14722fc</td>\n",
       "                        <td id=\"T_c9830_row1_col4\" class=\"data row1 col4\" >perfumery</td>\n",
       "                        <td id=\"T_c9830_row1_col5\" class=\"data row1 col5\" >12990.000000</td>\n",
       "                        <td id=\"T_c9830_row1_col6\" class=\"data row1 col6\" >12790.000000</td>\n",
       "                        <td id=\"T_c9830_row1_col7\" class=\"data row1 col7\" >25780.000000</td>\n",
       "            </tr>\n",
       "            <tr>\n",
       "                        <th id=\"T_c9830_level0_row2\" class=\"row_heading level0 row2\" >2</th>\n",
       "                        <td id=\"T_c9830_row2_col0\" class=\"data row2 col0\" >00042b26cf59d7ce69dfabb4e55b4fd9</td>\n",
       "                        <td id=\"T_c9830_row2_col1\" class=\"data row2 col1\" >1</td>\n",
       "                        <td id=\"T_c9830_row2_col2\" class=\"data row2 col2\" >64b576fb70d441e8f1b2d7d446e483c5</td>\n",
       "                        <td id=\"T_c9830_row2_col3\" class=\"data row2 col3\" >ac6c3623068f30de03045865e4e10089</td>\n",
       "                        <td id=\"T_c9830_row2_col4\" class=\"data row2 col4\" >garden_tools</td>\n",
       "                        <td id=\"T_c9830_row2_col5\" class=\"data row2 col5\" >199900.000000</td>\n",
       "                        <td id=\"T_c9830_row2_col6\" class=\"data row2 col6\" >18140.000000</td>\n",
       "                        <td id=\"T_c9830_row2_col7\" class=\"data row2 col7\" >218040.000000</td>\n",
       "            </tr>\n",
       "            <tr>\n",
       "                        <th id=\"T_c9830_level0_row3\" class=\"row_heading level0 row3\" >3</th>\n",
       "                        <td id=\"T_c9830_row3_col0\" class=\"data row3 col0\" >00048cc3ae777c65dbb7d2a0634bc1ea</td>\n",
       "                        <td id=\"T_c9830_row3_col1\" class=\"data row3 col1\" >1</td>\n",
       "                        <td id=\"T_c9830_row3_col2\" class=\"data row3 col2\" >85c835d128beae5b4ce8602c491bf385</td>\n",
       "                        <td id=\"T_c9830_row3_col3\" class=\"data row3 col3\" >ef92defde845ab8450f9d70c526ef70f</td>\n",
       "                        <td id=\"T_c9830_row3_col4\" class=\"data row3 col4\" >housewares</td>\n",
       "                        <td id=\"T_c9830_row3_col5\" class=\"data row3 col5\" >21900.000000</td>\n",
       "                        <td id=\"T_c9830_row3_col6\" class=\"data row3 col6\" >12690.000000</td>\n",
       "                        <td id=\"T_c9830_row3_col7\" class=\"data row3 col7\" >34590.000000</td>\n",
       "            </tr>\n",
       "            <tr>\n",
       "                        <th id=\"T_c9830_level0_row4\" class=\"row_heading level0 row4\" >4</th>\n",
       "                        <td id=\"T_c9830_row4_col0\" class=\"data row4 col0\" >0005a1a1728c9d785b8e2b08b904576c</td>\n",
       "                        <td id=\"T_c9830_row4_col1\" class=\"data row4 col1\" >1</td>\n",
       "                        <td id=\"T_c9830_row4_col2\" class=\"data row4 col2\" >639d23421f5517f69d0c3d6e6564cf0e</td>\n",
       "                        <td id=\"T_c9830_row4_col3\" class=\"data row4 col3\" >310ae3c140ff94b03219ad0adc3c778f</td>\n",
       "                        <td id=\"T_c9830_row4_col4\" class=\"data row4 col4\" >health_beauty</td>\n",
       "                        <td id=\"T_c9830_row4_col5\" class=\"data row4 col5\" >145950.000000</td>\n",
       "                        <td id=\"T_c9830_row4_col6\" class=\"data row4 col6\" >11650.000000</td>\n",
       "                        <td id=\"T_c9830_row4_col7\" class=\"data row4 col7\" >157600.000000</td>\n",
       "            </tr>\n",
       "    </tbody></table>"
      ],
      "text/plain": [
       "<pandas.io.formats.style.Styler at 0x22248d4b9a0>"
      ]
     },
     "execution_count": 6,
     "metadata": {},
     "output_type": "execute_result"
    }
   ],
   "source": [
    "order.head().style.background_gradient()"
   ]
  },
  {
   "cell_type": "markdown",
   "metadata": {},
   "source": [
    "### Understanding Data "
   ]
  },
  {
   "cell_type": "code",
   "execution_count": null,
   "metadata": {},
   "outputs": [],
   "source": [
    "# Data preparation module loading\n",
    "from dataprep.eda import create_report, plot_correlation, plot_missing, plot\n",
    "\n",
    "# Understanding distribution\n",
    "plot(order)"
   ]
  },
  {
   "cell_type": "code",
   "execution_count": null,
   "metadata": {},
   "outputs": [],
   "source": [
    "# Finding & Handling Missing Value\n",
    "plot_missing(order)"
   ]
  },
  {
   "cell_type": "code",
   "execution_count": null,
   "metadata": {},
   "outputs": [],
   "source": [
    "# So, columns with missing value : product_category, total_payment_value -> need to find way to handle it\n",
    "\n",
    "# First, need to see what is the prob\n",
    "# Product_category\n",
    "\n",
    "plot(order.loc[order.product_category.isna()])"
   ]
  },
  {
   "cell_type": "code",
   "execution_count": null,
   "metadata": {},
   "outputs": [],
   "source": [
    "# Distribution not much diff, can handle using flag\n",
    "order['product_category'].fillna(\"Other\", inplace=True)"
   ]
  },
  {
   "cell_type": "code",
   "execution_count": null,
   "metadata": {},
   "outputs": [],
   "source": [
    "order.loc[order.total_payment_value.isna()]"
   ]
  },
  {
   "cell_type": "code",
   "execution_count": null,
   "metadata": {},
   "outputs": [],
   "source": [
    "# Only 1 item, could handle it manually\n",
    "payment_val = (44990.0 + 2830.0) * 3\n",
    "order.loc[order.total_payment_value.isna(), 'total_payment_value'] = payment_val"
   ]
  },
  {
   "cell_type": "code",
   "execution_count": null,
   "metadata": {},
   "outputs": [],
   "source": [
    "# To summarize : \n",
    "\n",
    "def handle_missing_mart(df):\n",
    "    df['product_category'].fillna(\"Other\", inplace=True)\n",
    "    payment_val = (44990.0 + 2830.0) * 3\n",
    "    df.loc[df.total_payment_value.isna(), 'total_payment_value'] = payment_val\n",
    "    \n",
    "    return df"
   ]
  },
  {
   "cell_type": "code",
   "execution_count": null,
   "metadata": {},
   "outputs": [],
   "source": [
    "# Reporting Result\n",
    "\n",
    "from dataprep.eda import create_report\n",
    "report = create_report(order, title='Item Transaction Data Mart')\n",
    "\n",
    "report"
   ]
  },
  {
   "cell_type": "markdown",
   "metadata": {},
   "source": [
    "## Datamart 2\n",
    "\n",
    "---\n",
    "User related datamart"
   ]
  },
  {
   "cell_type": "code",
   "execution_count": null,
   "metadata": {},
   "outputs": [],
   "source": [
    "QUERY = \"\"\"\n",
    "-- RFM Analysis Datamart\n",
    "-- Churn Analysis Datamart\n",
    "-- CLTV = ((Average Order Value x Purchase Frequency)/Churn Rate) x Profit margin. -> churn rate + purchase frequency hitung manual nanti\n",
    "select \n",
    "\tu.user_name,\n",
    "\tEXTRACT(DAY from '2018-09-03'::timestamp - MAX(dd.\"date\")) as recency,\n",
    "\tMAX(foi.lifetime_order) as frequency ,\n",
    "\tMAX(foi.lifetime_spending) as monetary,\n",
    "\tMAX(dd.\"date\") - MIN(dd.\"date\") as usage_days,\n",
    "\tMAX(foi.lifetime_spending) / MAX(foi.lifetime_order) as average_order_value,\n",
    "\tMAX(foi.lifetime_order) <= 1 as isChurned\n",
    "from staging.fct_order_items foi\n",
    "left outer join staging.dim_date dd on foi.order_date = dd.date_id \n",
    "left outer join (\n",
    "\tselect \n",
    "\t\tdu.user_key ,\n",
    "\t\tdu.user_name \n",
    "\tfrom staging.dim_user du \n",
    "\twhere du.is_current_version=true\n",
    ") u on foi.user_key = u.user_key\n",
    "group by u.user_name \n",
    "order by 5 desc;\n",
    "\"\"\""
   ]
  },
  {
   "cell_type": "code",
   "execution_count": null,
   "metadata": {},
   "outputs": [],
   "source": [
    "# Init dataframe\n",
    "user = pd.read_sql_query(QUERY, conn)\n",
    "user.info()"
   ]
  },
  {
   "cell_type": "markdown",
   "metadata": {},
   "source": [
    "### Understanding Data "
   ]
  },
  {
   "cell_type": "code",
   "execution_count": null,
   "metadata": {},
   "outputs": [],
   "source": [
    "# Understanding distribution\n",
    "plot(user)"
   ]
  },
  {
   "cell_type": "code",
   "execution_count": null,
   "metadata": {},
   "outputs": [],
   "source": [
    "# Finding & Handling Missing Value\n",
    "plot_missing(user)"
   ]
  },
  {
   "cell_type": "code",
   "execution_count": null,
   "metadata": {},
   "outputs": [],
   "source": [
    "# Understanding correlation \n",
    "\n",
    "plot_correlation(user)"
   ]
  },
  {
   "cell_type": "code",
   "execution_count": null,
   "metadata": {},
   "outputs": [],
   "source": [
    "report = create_report(user, title='User Data Mart')\n",
    "report"
   ]
  },
  {
   "cell_type": "markdown",
   "metadata": {},
   "source": [
    "## Datamart 3\n",
    "\n",
    "---\n",
    "Product related datamart"
   ]
  },
  {
   "cell_type": "code",
   "execution_count": null,
   "metadata": {},
   "outputs": [],
   "source": [
    "QUERY = \"\"\"\n",
    "-- Data mart no aggregation\n",
    "select \n",
    "\tfoi.order_id ,\n",
    "\tp.product_id,\n",
    "\tp.product_category,\n",
    "    foi.price,\n",
    "\tfoi.total_payment_value \n",
    "from staging.fct_order_items foi \n",
    "left outer join (\n",
    "\tselect \n",
    "\t\tdp.product_key ,\n",
    "\t\tdp.product_id ,\n",
    "\t\tdp.product_category\n",
    "\tfrom staging.dim_product dp \n",
    "\twhere dp.is_current_version=true\n",
    ") p on foi.product_key = p.product_key\n",
    "order by 1,2;\n",
    "\"\"\""
   ]
  },
  {
   "cell_type": "code",
   "execution_count": null,
   "metadata": {},
   "outputs": [],
   "source": [
    "# Init dataframe\n",
    "prod = pd.read_sql_query(QUERY, conn)\n",
    "prod.info()"
   ]
  },
  {
   "cell_type": "markdown",
   "metadata": {},
   "source": [
    "### Understanding Data "
   ]
  },
  {
   "cell_type": "code",
   "execution_count": null,
   "metadata": {},
   "outputs": [],
   "source": [
    "plot(prod)"
   ]
  },
  {
   "cell_type": "code",
   "execution_count": null,
   "metadata": {},
   "outputs": [],
   "source": [
    "plot_missing(prod)"
   ]
  },
  {
   "cell_type": "code",
   "execution_count": null,
   "metadata": {},
   "outputs": [],
   "source": [
    "prod_cleaned = handle_missing_mart(prod)\n",
    "prod_cleaned.info()"
   ]
  },
  {
   "cell_type": "code",
   "execution_count": null,
   "metadata": {},
   "outputs": [],
   "source": [
    "plot(prod_cleaned)"
   ]
  },
  {
   "cell_type": "code",
   "execution_count": null,
   "metadata": {},
   "outputs": [],
   "source": []
  }
 ],
 "metadata": {
  "kernelspec": {
   "display_name": "Python 3",
   "language": "python",
   "name": "python3"
  },
  "language_info": {
   "codemirror_mode": {
    "name": "ipython",
    "version": 3
   },
   "file_extension": ".py",
   "mimetype": "text/x-python",
   "name": "python",
   "nbconvert_exporter": "python",
   "pygments_lexer": "ipython3",
   "version": "3.8.8"
  }
 },
 "nbformat": 4,
 "nbformat_minor": 4
}
