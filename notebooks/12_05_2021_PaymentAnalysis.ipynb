{
 "cells": [
  {
   "cell_type": "markdown",
   "id": "d532e222",
   "metadata": {},
   "source": [
    "# Payment Analysis\n",
    "\n",
    "## Purpose\n",
    "Finding insight on :\n",
    "- **What is the \"prefered\" way to pay for user?**\n",
    "- **What type of payment is used on big value payment and why?**\n",
    "- **What can we do regarding the payment method to increase new user (recommendation)?** \n",
    "\n",
    "## Background\n",
    "In ecommerce, payment analytics may help us to make better business decision. For example by understanding local conversion rate & preferred payment type, we could give better discount & cashback that are more likely increase the number of sales.\n",
    "\n",
    "Also, we can also reduce the number of abandonment rate for new user user when they check out the basket by providing payment types & benefit that were more likely to be used by them. Based on a number of different ecommerce studies, the average shopping cart abandonment rate is 68.81% with the most recent study showing 74.52%. [reference](https://www.geckoboard.com/best-practice/kpi-examples/shopping-cart-abandonment-rate/#:~:text=Based%20on%20a%20number%20of,most%20recent%20study%20showing%2074.52%25.). \n",
    "\n",
    "Depending on the country & local customer, the e-payment method used might different too. That's why this payment analysis purpose is to try to identify the characteristic for payment type used by local customer, and ways to improve it.\n",
    "\n",
    "## Assumption\n",
    "Before we do analysis, generally e-payment is divided into 3 categories:\n",
    "- credit based\n",
    "- alternative e-payment (various implementation, but always use bank as transaction medium)\n",
    "- digital wallet (3rd party)\n",
    "\n",
    "Based on research ([reference](https://www.jpmorgan.com/merchant-services/insights/reports/indonesia)), we can see that the e-payment trend in Indonesia are credit card and bank usage (debit). Meanwhile regulation in Indonesia still hinder the growth for digital wallet, but we could see the rise on popularity for the digital wallet based payment."
   ]
  },
  {
   "cell_type": "markdown",
   "id": "1d9bbf2a",
   "metadata": {},
   "source": [
    "## Sanity Check"
   ]
  },
  {
   "cell_type": "code",
   "execution_count": null,
   "id": "25d0f43e",
   "metadata": {},
   "outputs": [],
   "source": [
    "import json\n",
    "\n",
    "def load_config(file_path: str = \"./config.json\"):\n",
    "    with open(file_path) as config_file:\n",
    "        data = json.load(config_file)\n",
    "    return data\n",
    "\n",
    "config = load_config(\"../config.json\")\n",
    "DBNAME = config.get(\"DBNAME\")\n",
    "HOSTNAME = config.get(\"HOSTNAME\")\n",
    "USER = config.get(\"USER\")\n",
    "PASS = config.get(\"PASS\")\n",
    "SCHEMA = config.get(\"SCHEMA\")"
   ]
  },
  {
   "cell_type": "code",
   "execution_count": null,
   "id": "650ae321",
   "metadata": {},
   "outputs": [],
   "source": [
    "# Basic \n",
    "import sys\n",
    "import numpy as np\n",
    "import scipy as sp\n",
    "import pandas as pd\n",
    "\n",
    "# SQL Engine\n",
    "import psycopg2\n",
    "import pandas as pd\n",
    "from sqlalchemy import create_engine\n",
    "\n",
    "# Profiling process\n",
    "from tqdm import tqdm\n",
    "\n",
    "# Warning problems in notebook\n",
    "import warnings\n",
    "warnings.filterwarnings('ignore')\n",
    "\n",
    "# Visualization\n",
    "import bamboolib as bam\n",
    "import plotly.express as px\n",
    "\n",
    "# Reporting result\n",
    "import sweetviz as sv\n",
    "from dataprep.eda import create_report"
   ]
  },
  {
   "cell_type": "code",
   "execution_count": null,
   "id": "52232cfb",
   "metadata": {},
   "outputs": [],
   "source": [
    "# Load data\n",
    "\n",
    "# Create an engine instance\n",
    "alchemyEngine = create_engine(\n",
    "    f'postgresql+psycopg2://{USER}:{PASS}@{HOSTNAME}/{DBNAME}', pool_recycle=3600)\n",
    "\n",
    "# Connect to PostgreSQL server\n",
    "conn = alchemyEngine.connect()\n",
    "\n",
    "schema = SCHEMA"
   ]
  },
  {
   "cell_type": "code",
   "execution_count": null,
   "id": "269d407a",
   "metadata": {},
   "outputs": [],
   "source": [
    "# Init needed data\n",
    "\n",
    "QUERY = \"\"\"\n",
    "-- Payment Datamart\n",
    "-- Datamart 5\n",
    "select \n",
    "\tfoi.order_id ,\n",
    "\tMAX(foi.num_blipay) as num_blipay,\n",
    "\tMAX(foi.num_credit_card) as num_credit_card,\n",
    "\tMAX(foi.num_debit) as num_debit,\n",
    "\tMAX(foi.num_voucher) as num_voucher,\n",
    "\tMAX(foi.num_unknown) as num_unknown,\n",
    "\tMAX(foi.total_payment_blipay) as total_payment_blipay,\n",
    "\tMAX(foi.total_payment_credit_card) as total_payment_credit_card,\n",
    "\tMAX(foi.total_payment_debit) as total_payment_debit,\n",
    "\tMAX(foi.total_payment_voucher) as total_payment_voucher,\n",
    "\tMAX(foi.total_payment_unknown) as  total_payment_unknown\n",
    "from staging.fct_order_items foi \n",
    "group by 1\n",
    "order by 3 desc ,2 desc ,4 desc ,5 desc , 6 desc;\n",
    "\"\"\"\n",
    "\n",
    "# Init dataframe\n",
    "df = pd.read_sql_query(QUERY, conn)\n",
    "df[\"payment_per_installment_blipay\"] = df['total_payment_blipay'] / df['num_blipay']\n",
    "df[\"payment_per_installment_credit\"] = df['total_payment_credit_card'] / df['num_credit_card']\n",
    "df[\"payment_per_installment_debit\"] = df['total_payment_debit'] / df['num_debit']\n",
    "df[\"payment_per_installment_voucher\"] = df['total_payment_voucher'] / df['num_voucher']\n",
    "df"
   ]
  },
  {
   "cell_type": "code",
   "execution_count": null,
   "id": "55ea4bbc",
   "metadata": {},
   "outputs": [],
   "source": [
    "blipay_num = df.loc[df.num_blipay > 0].num_blipay.agg(['sum', 'count', 'mean', 'max'])\n",
    "blipay_num"
   ]
  },
  {
   "cell_type": "code",
   "execution_count": null,
   "id": "1b9bab2c",
   "metadata": {},
   "outputs": [],
   "source": [
    "credit_num = df.loc[df.num_credit_card > 0].num_credit_card.agg(['sum', 'count', 'mean', 'max'])\n",
    "credit_num"
   ]
  },
  {
   "cell_type": "code",
   "execution_count": null,
   "id": "8c5c7b0d",
   "metadata": {},
   "outputs": [],
   "source": [
    "debit_num = df.loc[df.num_debit > 0].num_debit.agg(['sum', 'count', 'mean', 'max'])\n",
    "debit_num"
   ]
  },
  {
   "cell_type": "code",
   "execution_count": null,
   "id": "81225b52",
   "metadata": {},
   "outputs": [],
   "source": [
    "voucher_num = df.loc[df.num_voucher > 0].num_voucher.agg(['sum', 'count', 'mean', 'max'])\n",
    "voucher_num"
   ]
  },
  {
   "cell_type": "code",
   "execution_count": null,
   "id": "6c649fcd",
   "metadata": {},
   "outputs": [],
   "source": [
    "blipay_val = df.loc[df.total_payment_blipay > 0].total_payment_blipay.agg(['sum', 'mean'])\n",
    "blipay_val"
   ]
  },
  {
   "cell_type": "code",
   "execution_count": null,
   "id": "e7081be5",
   "metadata": {},
   "outputs": [],
   "source": [
    "credit_val = df.loc[df.total_payment_credit_card > 0].total_payment_credit_card.agg(['sum', 'mean'])\n",
    "credit_val"
   ]
  },
  {
   "cell_type": "code",
   "execution_count": null,
   "id": "9e6b1341",
   "metadata": {},
   "outputs": [],
   "source": [
    "debit_val = df.loc[df.total_payment_debit > 0].total_payment_debit.agg(['sum', 'mean'])\n",
    "debit_val"
   ]
  },
  {
   "cell_type": "code",
   "execution_count": null,
   "id": "1e47a874",
   "metadata": {},
   "outputs": [],
   "source": [
    "voucher_val = df.loc[df.total_payment_voucher > 0].total_payment_voucher.agg(['sum', 'mean'])\n",
    "voucher_val.values"
   ]
  },
  {
   "cell_type": "code",
   "execution_count": null,
   "id": "5f7bf0d3",
   "metadata": {},
   "outputs": [],
   "source": [
    "blipay_installment = df.loc[df.payment_per_installment_blipay > 0].payment_per_installment_blipay.agg(['sum', 'mean'])\n",
    "blipay_installment"
   ]
  },
  {
   "cell_type": "code",
   "execution_count": null,
   "id": "4aedd32f",
   "metadata": {},
   "outputs": [],
   "source": [
    "credit_installment = df.loc[df.payment_per_installment_credit > 0].payment_per_installment_credit.agg(['sum', 'mean'])\n",
    "credit_installment"
   ]
  },
  {
   "cell_type": "code",
   "execution_count": null,
   "id": "b416f226",
   "metadata": {},
   "outputs": [],
   "source": [
    "debit_installment = df.loc[df.payment_per_installment_debit > 0].payment_per_installment_debit.agg(['sum', 'mean'])\n",
    "debit_installment"
   ]
  },
  {
   "cell_type": "code",
   "execution_count": null,
   "id": "bc3537aa",
   "metadata": {},
   "outputs": [],
   "source": [
    "voucher_installment = df.loc[df.payment_per_installment_voucher > 0].payment_per_installment_voucher.agg(['sum', 'mean'])\n",
    "voucher_installment"
   ]
  },
  {
   "cell_type": "code",
   "execution_count": null,
   "id": "185f03cc",
   "metadata": {},
   "outputs": [],
   "source": [
    "payment = pd.DataFrame({\n",
    "    \"blipay\" : [blipay_num.values[0], blipay_num.values[1], blipay_num.values[2], blipay_num.values[3], blipay_val.values[0], blipay_val.values[1], blipay_installment.values[0], blipay_installment.values[1]],\n",
    "    \"credit\" : [credit_num.values[0], credit_num.values[1], credit_num.values[2], credit_num.values[3], credit_val.values[0], credit_val.values[1], credit_installment.values[0], credit_installment.values[1]], \n",
    "    \"debit\" : [debit_num.values[0], debit_num.values[1], debit_num.values[2], debit_num.values[3], debit_val.values[0], debit_val.values[1], debit_installment.values[0], debit_installment.values[1]],\n",
    "    \"voucher\" : [voucher_num.values[0], voucher_num.values[1], voucher_num.values[2], voucher_num.values[3], voucher_val.values[0], voucher_val.values[1], voucher_installment.values[0], voucher_installment.values[1]]\n",
    "})\n",
    "payment = payment.T\n",
    "payment.columns = ['total_usage', 'order_count', 'installment_avg', 'installment_max', 'total_value', 'avg_value', 'total_installment_value ', 'avg_installment_value']\n",
    "payment = payment.reset_index()\n",
    "payment"
   ]
  },
  {
   "cell_type": "markdown",
   "id": "a947abac",
   "metadata": {},
   "source": [
    "## Preferred way to pay in Ecommerce"
   ]
  },
  {
   "cell_type": "code",
   "execution_count": null,
   "id": "e75b88c8",
   "metadata": {},
   "outputs": [],
   "source": [
    "import plotly.express as px\n",
    "fig = px.bar(payment, x=payment.index, y='order_count', template='ggplot2', title='Payment Type in Ecommerce Usage')\n",
    "fig.update_xaxes( type='category')\n",
    "# To sorting : Uncomment below\n",
    "fig.update_xaxes(categoryorder='total descending')\n",
    "fig.update_xaxes(title_text='Payment Type')\n",
    "fig.update_yaxes(title_text='Number of instance')\n",
    "fig"
   ]
  },
  {
   "cell_type": "markdown",
   "id": "27a5ded9",
   "metadata": {},
   "source": [
    "Based on usage for paying order, we could see that **credit card** is the \"preferred\" method for payment, and then followed by blipay. Based on this [reference](https://www.blibli.com/faq/blipay/apa-itu-blipay/), blipay is similar to digital wallet that have a saving to pay for service provided by Blibli.com (digital wallet)\n",
    "\n",
    "We could see that the other payment type (debit & voucher) is not used as frequent as the \"preferred\" method for payment."
   ]
  },
  {
   "cell_type": "markdown",
   "id": "26c7c0a2",
   "metadata": {},
   "source": [
    "## What is the average value for transaction of each payment type?"
   ]
  },
  {
   "cell_type": "code",
   "execution_count": null,
   "id": "f65152a1",
   "metadata": {},
   "outputs": [],
   "source": [
    "import plotly.express as px\n",
    "fig = px.bar(payment, x=payment.index, y='total_value', template='ggplot2', \n",
    "             title='Payment Type Transaction Value in Ecommerce')\n",
    "fig.update_xaxes( type='category')\n",
    "# To sorting : Uncomment below\n",
    "fig.update_xaxes(categoryorder='total descending')\n",
    "fig.update_xaxes(title_text='Payment Type')\n",
    "fig.update_yaxes(title_text='Total Transaction Value')\n",
    "fig"
   ]
  },
  {
   "cell_type": "markdown",
   "id": "2a3c9d61",
   "metadata": {},
   "source": [
    "From above graph, we could see that credit card have biggest total transaction value. But this result may be biased because credit card is the most used payment type (previous graph). \n",
    "\n",
    "Let see average payment (per installment) for each payment type..."
   ]
  },
  {
   "cell_type": "code",
   "execution_count": null,
   "id": "7317ae8f",
   "metadata": {},
   "outputs": [],
   "source": [
    "fig = px.bar(payment, x=payment.index, y='avg_installment_value', template='ggplot2', \n",
    "             title='Payment Type Average Value (per Installment)')\n",
    "fig.update_xaxes( type='category')\n",
    "# To sorting : Uncomment below\n",
    "fig.update_xaxes(categoryorder='total descending')\n",
    "fig.update_xaxes(title_text='Payment Type')\n",
    "fig.update_yaxes(title_text='Avg Transaction Value (per Installment)')\n",
    "fig"
   ]
  },
  {
   "cell_type": "markdown",
   "id": "dbcff4be",
   "metadata": {},
   "source": [
    "Here, we see that for each installment, credit card still have the most value for payment, followed by blipay and credit. \n",
    "\n",
    "Looks like voucher is used for payment that were less than 100k (about 78k)."
   ]
  },
  {
   "cell_type": "code",
   "execution_count": null,
   "id": "0201e942",
   "metadata": {},
   "outputs": [],
   "source": [
    "# Boxplot preparation\n",
    "\n",
    "blipay_total_transaction = pd.DataFrame({\n",
    "    \"total_payment\" : [],\n",
    "    \"type\":[]\n",
    "})\n",
    "blipay_total_transaction.total_payment = df.loc[df.total_payment_blipay > 0].total_payment_blipay\n",
    "blipay_total_transaction.type = \"blipay\"\n",
    "blipay_total_transaction\n",
    "credit_total_transaction = pd.DataFrame({\n",
    "    \"total_payment\" : [],\n",
    "    \"type\":[]\n",
    "})\n",
    "credit_total_transaction.total_payment = df.loc[df.total_payment_credit_card > 0].total_payment_credit_card\n",
    "credit_total_transaction.type = \"credit\"\n",
    "\n",
    "debit_total_transaction = pd.DataFrame({\n",
    "    \"total_payment\" : [],\n",
    "    \"type\":[]\n",
    "})\n",
    "debit_total_transaction.total_payment = df.loc[df.total_payment_debit > 0].total_payment_debit\n",
    "debit_total_transaction.type = \"debit\"\n",
    "\n",
    "voucher_total_transaction = pd.DataFrame({\n",
    "    \"total_payment\" : [],\n",
    "    \"type\":[]\n",
    "})\n",
    "voucher_total_transaction.total_payment = df.loc[df.total_payment_voucher > 0].total_payment_voucher\n",
    "voucher_total_transaction.type = \"voucher\"\n",
    "\n",
    "total_transaction = pd.concat([blipay_total_transaction,credit_total_transaction,debit_total_transaction,voucher_total_transaction], ignore_index=True)\n",
    "total_transaction"
   ]
  },
  {
   "cell_type": "code",
   "execution_count": null,
   "id": "cdcaa445",
   "metadata": {},
   "outputs": [],
   "source": [
    "fig = px.box(total_transaction.sort_index(), x='type', y='total_payment', template='ggplot2', title=\"Boxplot for Each payment type\")\n",
    "fig.update_xaxes( type='category')\n",
    "# To sorting : Uncomment below\n",
    "fig.update_xaxes(categoryorder='total descending')\n",
    "fig.update_xaxes(title_text='Payment Type')\n",
    "fig.update_yaxes(title_text='Total Transaction Value')\n",
    "fig"
   ]
  },
  {
   "cell_type": "markdown",
   "id": "972209a5",
   "metadata": {},
   "source": [
    "Based on the boxplot, we could see many outlier from credit, blipay and debit for each transaction (order). From the outlier, we could see that most likely people will use either credit card for high value transaction.\n",
    "\n",
    "What about installment? How many installment normally happen for each payment type"
   ]
  },
  {
   "cell_type": "code",
   "execution_count": null,
   "id": "cf7e8a6a",
   "metadata": {},
   "outputs": [],
   "source": [
    "def customLegend(fig, nameSwap):\n",
    "    for i, dat in enumerate(fig.data):\n",
    "        for elem in dat:\n",
    "            if elem == 'name':\n",
    "                print(fig.data[i].name)\n",
    "                fig.data[i].name = nameSwap[fig.data[i].name]\n",
    "    return(fig)"
   ]
  },
  {
   "cell_type": "code",
   "execution_count": null,
   "id": "d48b80d9",
   "metadata": {},
   "outputs": [],
   "source": [
    "fig = px.bar(x=payment.index, y=[payment.installment_avg, payment.installment_max], template='ggplot2',barmode='group',\n",
    "             title='Payment Type Average Value (per Installment)')\n",
    "fig.update_xaxes( type='category')\n",
    "# To sorting : Uncomment below\n",
    "fig.update_xaxes(categoryorder='total descending')\n",
    "fig.update_xaxes(title_text='Payment Type')\n",
    "fig.update_yaxes(title_text='Avg Transaction Value (per Installment)')\n",
    "texts = [payment.installment_avg, payment.installment_max]\n",
    "for i, t in enumerate(texts):\n",
    "    fig.data[i].text = t\n",
    "    fig.data[i].textposition = 'outside'\n",
    "fig = customLegend(fig, {\"wide_variable_0\": \"Avg Installment\", \"wide_variable_1\": \"Max Installment\"})\n",
    "fig"
   ]
  },
  {
   "cell_type": "markdown",
   "id": "069220b2",
   "metadata": {},
   "source": [
    "## Insight\n",
    "\n",
    "There are various notes that we can get from the payment analysis:  \n",
    "- Based on boxplot, it seems that there are extreme outliers from transaction value payment. This means that for higher value of transactions ,people prefer to buy using credit card, maybe because they can pay later using this method (installment handled by the credit card party).\n",
    "- Transaction using blipay is also multimodal, and seems like for lesser value even though still dominated by outliers.\n",
    "- The most \"preferred\" way of paying is by using credit card followed by blipay.\n",
    "- Debit and voucher are not used much as the other payment method."
   ]
  },
  {
   "cell_type": "markdown",
   "id": "9dd55dd2",
   "metadata": {},
   "source": [
    "## Recommendation\n",
    "\n",
    "Based on insight that we get from the payment analysis, we can recommend few things:\n",
    "- In order to decrease the abondonment rates in checkout process because of payment method, might use A/B Testing E-Payment Methods to find out the best payment method for this ecommerce.\n",
    "Benefit : Lower abandonment rate, Reduced customer acquisition cost and increase profit (because of lower abondonment rate).\n",
    "- Might give special discount (from pairing with specific credit card), because it seems like customer from this ecommerce \"prefer\" to use credit card as payment method.\n",
    "- Also might be able to give some \"cashback\" from using digital wallet like blipay to increase the usage of blipay, as we can see in the increasing Indonesian trend to use digital wallet  "
   ]
  },
  {
   "cell_type": "markdown",
   "id": "d6237d97",
   "metadata": {},
   "source": [
    "## Reference : \n",
    "- [Ecommerce e-payment method](https://extension.psu.edu/e-commerce-payment-methods)\n",
    "- [The need of payment analytics](https://home.bluesnap.com/snap-center/blog/ecommerce-payment-analytics/)\n",
    "- [Reduce Abondenment Rate](https://towardsdatascience.com/how-to-reduce-abandonment-rate-during-the-e-commerce-checkout-stage-a-b-testing-e-payment-methods-8818506a353c)\n",
    "- [e-payment Trend Indonesia](https://www.jpmorgan.com/merchant-services/insights/reports/indonesia)"
   ]
  },
  {
   "cell_type": "code",
   "execution_count": null,
   "id": "33b51f6b",
   "metadata": {},
   "outputs": [],
   "source": []
  }
 ],
 "metadata": {
  "kernelspec": {
   "display_name": "Python 3",
   "language": "python",
   "name": "python3"
  },
  "language_info": {
   "codemirror_mode": {
    "name": "ipython",
    "version": 3
   },
   "file_extension": ".py",
   "mimetype": "text/x-python",
   "name": "python",
   "nbconvert_exporter": "python",
   "pygments_lexer": "ipython3",
   "version": "3.8.8"
  }
 },
 "nbformat": 4,
 "nbformat_minor": 5
}
