{
 "cells": [
  {
   "cell_type": "markdown",
   "id": "3d5e313c",
   "metadata": {},
   "source": [
    "# Order Trend Analysis\n",
    "\n",
    "## Purpose\n",
    "Finding insight on :\n",
    "- **What the trend of sales over the time?**\n",
    "- **Is there any growing trend on the e-commerce?**\n",
    "- **On what day of week do the users tend to create order / purchasing item?**\n",
    "- **On what hour/time of the day do the users tend to create order / purchasing item?**\n",
    "\n",
    "\n",
    "## Background\n",
    "In ecommerce, finding sales trend is one of the most important aspect in ecommerce. As one of the main business process e-commerce can offer, we should know about the trend for the ecommerce, wether growing trend, or anything else. The insight that we get from understanding what is the trend and when the people most likely to purchase (peak season) will be able to increase the number of sales in the future\n",
    "\n",
    "## In General\n",
    "Sebelum itu, saya ingin membahas terlebih dahulu trend peningkatan order secara general dari e-commerce yang sedang berkembang. Umumnya peningkatan order untuk ecommerce yang sedang berkembang tentunya akan naik dengan perlahan. Namun terkadang, terdapat masa - masa tertentu yang sering dikenal sebagai “Peak Season” dimana tingkat order menaik secara tiba - tiba untuk interval waktu tertentu dan kembali normal. Mengenal lebih jauh terkait pola - pola ini dapat mempersiapkan ecommerce untuk menanggapi demand yang naik turun.\n"
   ]
  },
  {
   "cell_type": "markdown",
   "id": "41b48b21",
   "metadata": {},
   "source": [
    "## Sanity Check"
   ]
  },
  {
   "cell_type": "code",
   "execution_count": null,
   "id": "cb22d293",
   "metadata": {},
   "outputs": [],
   "source": [
    "def single_countplot(df, ax, x=None, y=None, top=None, order=True, hue=False, palette='plasma',\n",
    "                     width=0.75, sub_width=0.3, sub_size=12):\n",
    "\n",
    "    ncount = len(df)\n",
    "    if x:\n",
    "        col = x\n",
    "    else:\n",
    "        col = y\n",
    "\n",
    "    # Verificando a plotagem de top categorias\n",
    "    if top is not None:\n",
    "        cat_count = df[col].value_counts()\n",
    "        top_categories = cat_count[:top].index\n",
    "        df = df[df[col].isin(top_categories)]\n",
    "\n",
    "    # Validando demais argumentos e plotando gráfico\n",
    "    if hue != False:\n",
    "        if order:\n",
    "            sns.countplot(x=x, y=y, data=df, palette=palette, ax=ax, order=df[col].value_counts().index, hue=hue)\n",
    "        else:\n",
    "            sns.countplot(x=x, y=y, data=df, palette=palette, ax=ax, hue=hue)\n",
    "    else:\n",
    "        if order:\n",
    "            sns.countplot(x=x, y=y, data=df, palette=palette, ax=ax, order=df[col].value_counts().index)\n",
    "        else:\n",
    "            sns.countplot(x=x, y=y, data=df, palette=palette, ax=ax)\n",
    "\n",
    "    format_spines(ax, right_border=False)\n",
    "\n",
    "    if x:\n",
    "        for p in ax.patches:\n",
    "            x = p.get_bbox().get_points()[:, 0]\n",
    "            y = p.get_bbox().get_points()[1, 1]\n",
    "            ax.annotate('{}\\n{:.1f}%'.format(int(y), 100. * y / ncount), (x.mean(), y), ha='center', va='bottom')\n",
    "    else:\n",
    "        for p in ax.patches:\n",
    "            x = p.get_bbox().get_points()[1, 0]\n",
    "            y = p.get_bbox().get_points()[:, 1]\n",
    "            ax.annotate('{} ({:.1f}%)'.format(int(x), 100. * x / ncount), (x, y.mean()), va='center')\n",
    "\n",
    "def format_spines(ax, right_border=True):\n",
    "    \"\"\"\n",
    "    This function sets up borders from an axis and personalize colors\n",
    "\n",
    "    Input:\n",
    "        Axis and a flag for deciding or not to plot the right border\n",
    "    Returns:\n",
    "        Plot configuration\n",
    "    \"\"\"\n",
    "    # Setting up colors\n",
    "    ax.spines['bottom'].set_color('#CCCCCC')\n",
    "    ax.spines['left'].set_color('#CCCCCC')\n",
    "    ax.spines['top'].set_visible(False)\n",
    "    if right_border:\n",
    "        ax.spines['right'].set_color('#CCCCCC')\n",
    "    else:\n",
    "        ax.spines['right'].set_color('#FFFFFF')\n",
    "    ax.patch.set_facecolor('#FFFFFF')"
   ]
  },
  {
   "cell_type": "code",
   "execution_count": null,
   "id": "3c34d371",
   "metadata": {},
   "outputs": [],
   "source": [
    "import json\n",
    "\n",
    "def load_config(file_path: str = \"./config.json\"):\n",
    "    with open(file_path) as config_file:\n",
    "        data = json.load(config_file)\n",
    "    return data\n",
    "\n",
    "config = load_config(\"../config.json\")\n",
    "DBNAME = config.get(\"DBNAME\")\n",
    "HOSTNAME = config.get(\"HOSTNAME\")\n",
    "USER = config.get(\"USER\")\n",
    "PASS = config.get(\"PASS\")\n",
    "SCHEMA = config.get(\"SCHEMA\")"
   ]
  },
  {
   "cell_type": "code",
   "execution_count": null,
   "id": "68e7068d",
   "metadata": {},
   "outputs": [],
   "source": [
    "# Basic \n",
    "import sys\n",
    "import numpy as np\n",
    "import scipy as sp\n",
    "import pandas as pd\n",
    "\n",
    "# SQL Engine\n",
    "import psycopg2\n",
    "import pandas as pd\n",
    "from sqlalchemy import create_engine\n",
    "\n",
    "# Profiling process\n",
    "from tqdm import tqdm\n",
    "\n",
    "# Warning problems in notebook\n",
    "import warnings\n",
    "warnings.filterwarnings('ignore')\n",
    "\n",
    "# Visualization\n",
    "import bamboolib as bam\n",
    "import plotly.express as px\n",
    "from plotly.subplots import make_subplots\n",
    "import matplotlib.pyplot as plt\n",
    "import seaborn as sns\n",
    "\n",
    "%matplotlib inline\n",
    "from matplotlib.gridspec import GridSpec\n",
    "\n",
    "# Reporting result\n",
    "import sweetviz as sv\n",
    "from dataprep.eda import create_report"
   ]
  },
  {
   "cell_type": "code",
   "execution_count": null,
   "id": "ede73097",
   "metadata": {},
   "outputs": [],
   "source": [
    "def handle_missing_mart(df):\n",
    "    df['product_category'].fillna(\"Other\", inplace=True)\n",
    "    payment_val = (44990.0 + 2830.0) * 3\n",
    "    df.loc[df.total_payment_value.isna(), 'total_payment_value'] = payment_val\n",
    "    \n",
    "    return df"
   ]
  },
  {
   "cell_type": "code",
   "execution_count": null,
   "id": "18ef0cf6",
   "metadata": {},
   "outputs": [],
   "source": [
    "# Load data\n",
    "\n",
    "# Create an engine instance\n",
    "alchemyEngine = create_engine(\n",
    "    f'postgresql+psycopg2://{USER}:{PASS}@{HOSTNAME}/{DBNAME}', pool_recycle=3600)\n",
    "\n",
    "# Connect to PostgreSQL server\n",
    "conn = alchemyEngine.connect()\n",
    "\n",
    "schema = SCHEMA"
   ]
  },
  {
   "cell_type": "code",
   "execution_count": null,
   "id": "326d79dc",
   "metadata": {},
   "outputs": [],
   "source": [
    "# Init needed data\n",
    "\n",
    "QUERY = \"\"\"\n",
    "select \n",
    "\tfoi.order_id ,\n",
    "\tMIN(u.user_name) as user_name,\n",
    "\tMIN(foi.total_payment_value) as order_value,\n",
    "\tMIN(dd.\"date\") as order_date,\n",
    "\tMIN(dd.day_of_year) as order_day_of_year,\n",
    "\tMIN(dd.day_of_month) as order_day_of_month,\n",
    "\tMIN(dd.day_of_quarter) as order_day_of_quarter,\n",
    "\tMIN(dd.day_name) as order_day_name,\n",
    "\tMIN(dd.day_of_week) as order_day_of_week,\n",
    "\tMIN(dd.month_actual) as order_month,\n",
    "\tMIN(dd.month_name) as order_month_name,\n",
    "\tMIN(dd.week_of_month) as order_week_of_month,\n",
    "\tMIN(dd.\"year\") as order_year,\n",
    "\tcase when MIN(dd.\"isWeekend\"::int) = 1 then true else false end as order_is_weekend ,\n",
    "\tMIN(dt.\"hour\") as order_time\n",
    "from staging.fct_order_items foi\n",
    "left outer join staging.dim_date dd on foi.order_date = dd.date_id \n",
    "left outer join staging.dim_time dt on foi.order_time = dt.time_id \n",
    "left outer join (\n",
    "\tselect \n",
    "\t\tdu.user_key ,\n",
    "\t\tdu.user_name\n",
    "\tfrom staging.dim_user du \n",
    "\twhere du.is_current_version=true\n",
    ") u on foi.user_key = u.user_key\n",
    "group by foi.order_id;\n",
    "\"\"\"\n",
    "\n",
    "# Init dataframe\n",
    "df = pd.read_sql_query(QUERY, conn)\n",
    "df"
   ]
  },
  {
   "cell_type": "markdown",
   "id": "f37e0c7e",
   "metadata": {},
   "source": [
    "## Transaction Value by Year"
   ]
  },
  {
   "cell_type": "code",
   "execution_count": null,
   "id": "9a40d3e1",
   "metadata": {},
   "outputs": [],
   "source": [
    "data = df.groupby(['order_year']).agg(value=('order_value', 'sum'), num_of_transaction=('order_id', 'count')).reset_index()"
   ]
  },
  {
   "cell_type": "code",
   "execution_count": null,
   "id": "b607e373",
   "metadata": {},
   "outputs": [],
   "source": [
    "data"
   ]
  },
  {
   "cell_type": "code",
   "execution_count": null,
   "id": "d7afb750",
   "metadata": {},
   "outputs": [],
   "source": [
    "fig = px.bar(data, x='order_year', y='value', template='simple_white', title='Order Value per Year')\n",
    "fig.update_xaxes( type='category')\n",
    "# To sorting : Uncomment below\n",
    "# fig.update_xaxes(categoryorder='total descending')\n",
    "fig.update_xaxes(title_text='Year')\n",
    "fig.update_yaxes(title_text='Total Purchase Value')\n",
    "fig"
   ]
  },
  {
   "cell_type": "code",
   "execution_count": null,
   "id": "8d795d57",
   "metadata": {},
   "outputs": [],
   "source": [
    "fig = px.box(df, x=\"order_year\", y=\"order_value\", template='ggplot2', title='Box Plot of transactions over the year' )\n",
    "fig.update_xaxes(title_text='Year')\n",
    "fig.update_yaxes(title_text='Total Value')\n",
    "fig.show()"
   ]
  },
  {
   "cell_type": "code",
   "execution_count": null,
   "id": "62922465",
   "metadata": {},
   "outputs": [],
   "source": [
    "fig = px.bar(data, x='order_year', y='num_of_transaction', template='ggplot2', title='Order Count per Year')\n",
    "fig.update_xaxes( type='category')\n",
    "# To sorting : Uncomment below\n",
    "# fig.update_xaxes(categoryorder='total descending')\n",
    "fig.update_xaxes(title_text='Year')\n",
    "fig.update_yaxes(title_text='Total Purchase Count')\n",
    "fig"
   ]
  },
  {
   "cell_type": "code",
   "execution_count": null,
   "id": "07c2e3f4",
   "metadata": {},
   "outputs": [],
   "source": [
    "order_grouped_year = df.groupby(['order_year', 'order_day_of_year']).agg(value=('order_value', 'sum'), num_of_transaction=('order_id', 'count')).reset_index()"
   ]
  },
  {
   "cell_type": "markdown",
   "id": "c95b4b4a",
   "metadata": {},
   "source": [
    "---\n",
    "\n",
    "Data provided only give us the information from Sept 2016 - Sept 2018. We could see that's why the number of order in 2016 so low. Meanwhile we have the full year data for 2017 year. For lack of entire data,we are unable to conclude any significant findings here.\n",
    "\n",
    "\n",
    "---"
   ]
  },
  {
   "cell_type": "code",
   "execution_count": null,
   "id": "c7538b9d",
   "metadata": {},
   "outputs": [],
   "source": [
    "df['order_year_month'] = df['order_date'].apply(lambda x: x.strftime('%Y%m'))\n",
    "df"
   ]
  },
  {
   "cell_type": "code",
   "execution_count": null,
   "id": "8d42b436",
   "metadata": {},
   "outputs": [],
   "source": [
    "trend_date=df.groupby('order_date').agg({'order_id':'count', 'order_value': 'sum'}).rename(columns={'order_id':'freq_order', 'order_value' : 'total_value'}).reset_index()\n",
    "trend_date"
   ]
  },
  {
   "cell_type": "code",
   "execution_count": null,
   "id": "a4285c6f",
   "metadata": {},
   "outputs": [],
   "source": [
    "fig = px.line(trend_date, x='order_date', y='freq_order', title=\"Order Frequency over the date\", template='ggplot2')\n",
    "fig.update_xaxes(\n",
    "    rangeslider_visible=True,\n",
    "    rangeselector=dict(\n",
    "        buttons=list([\n",
    "            dict(count=1, label=\"1m\", step=\"month\", stepmode=\"backward\"),\n",
    "            dict(count=6, label=\"6m\", step=\"month\", stepmode=\"backward\"),\n",
    "            dict(count=1, label=\"YTD\", step=\"year\", stepmode=\"todate\"),\n",
    "            dict(count=1, label=\"1y\", step=\"year\", stepmode=\"backward\"),\n",
    "            dict(step=\"all\")\n",
    "        ])\n",
    "    ),\n",
    "    title_text='Date'\n",
    ")\n",
    "fig.update_yaxes(title_text='Total Purchase Count')\n",
    "fig.show()"
   ]
  },
  {
   "cell_type": "markdown",
   "id": "26752226",
   "metadata": {},
   "source": [
    "---\n",
    "\n",
    "Some insight we can get:\n",
    "- There are sales spike in 24 November 2017. Based on internet, this is the famous \"Black Friday\". Might be the cause of huge spike.\n",
    "- Sales are weak after Dec 20. Possible end - year holidays (?)\n",
    "- Data not complete in 2016? And in 2018. Only 2017 have full year data that we can analyse\n",
    "\n",
    "---"
   ]
  },
  {
   "cell_type": "code",
   "execution_count": null,
   "id": "377e6800",
   "metadata": {},
   "outputs": [],
   "source": [
    "fig = px.line(trend_date, x='order_date', y='total_value', title=\"Order Total Value over the date\", template='ggplot2')\n",
    "fig.update_xaxes(\n",
    "    rangeslider_visible=True,\n",
    "    rangeselector=dict(\n",
    "        buttons=list([\n",
    "            dict(count=1, label=\"1m\", step=\"month\", stepmode=\"backward\"),\n",
    "            dict(count=6, label=\"6m\", step=\"month\", stepmode=\"backward\"),\n",
    "            dict(count=1, label=\"YTD\", step=\"year\", stepmode=\"todate\"),\n",
    "            dict(count=1, label=\"1y\", step=\"year\", stepmode=\"backward\"),\n",
    "            dict(step=\"all\")\n",
    "        ])\n",
    "    ),\n",
    "    title_text='Date'\n",
    ")\n",
    "fig.update_yaxes(title_text='Total Purchase Value')\n",
    "fig.show()"
   ]
  },
  {
   "cell_type": "code",
   "execution_count": null,
   "id": "193ae1f0",
   "metadata": {},
   "outputs": [],
   "source": [
    "fig = plt.figure(constrained_layout=True, figsize=(13, 10))\n",
    "\n",
    "# Axis definition\n",
    "gs = GridSpec(2, 2, figure=fig)\n",
    "ax1 = fig.add_subplot(gs[0, :])\n",
    "ax2 = fig.add_subplot(gs[1, 0])\n",
    "ax3 = fig.add_subplot(gs[1, 1])\n",
    "\n",
    "sns.lineplot(data=df['order_year_month'].value_counts().sort_index(), ax=ax1, \n",
    "             color='darkslateblue', linewidth=2)\n",
    "ax1.annotate(f'Highest orders \\nreceived', (13, 7500), xytext=(-75, -25), \n",
    "             textcoords='offset points', bbox=dict(boxstyle=\"round4\", fc=\"w\", pad=.8),\n",
    "             arrowprops=dict(arrowstyle='-|>', fc='w'), color='dimgrey', ha='center')\n",
    "ax1.annotate(f'Noise on data \\n(huge decrease)', (23, 0), xytext=(48, 25), \n",
    "             textcoords='offset points', bbox=dict(boxstyle=\"round4\", fc=\"w\", pad=.5),\n",
    "             arrowprops=dict(arrowstyle='-|>', fc='w'), color='dimgrey', ha='center') \n",
    "format_spines(ax1, right_border=False)  \n",
    "for tick in ax1.get_xticklabels():\n",
    "    tick.set_rotation(45)\n",
    "ax1.set_title('Evolution of Total Orders in Brazilian E-Commerce', size=14, color='dimgrey')\n",
    "ax1.set_xlabel(\"Date\")\n",
    "ax1.set_ylabel(\"Order Count\")\n",
    "# Barchart - Total of orders by day of week\n",
    "single_countplot(df, x='order_day_of_week', ax=ax2, order=False, palette='YlGnBu')\n",
    "weekday_label = ['Mon', 'Tue', 'Wed', 'Thu', 'Fri', 'Sat', 'Sun']\n",
    "ax2.set_xticklabels(weekday_label)\n",
    "ax2.set_title('Total Orders by Day of Week', size=14, color='dimgrey', pad=20)\n",
    "ax2.set_xlabel(\"Day of Week\")\n",
    "ax2.set_ylabel(\"Total Order\")\n",
    "\n",
    "# Barchart - Total of orders by time of the day ->  ganti jadi versi siang evening dkk aja\n",
    "day_color_list = ['darkslateblue', 'deepskyblue', 'darkorange', 'purple']\n",
    "single_countplot(df, x='order_month', ax=ax3, order=False, palette=day_color_list)\n",
    "ax3.set_title('Total Orders by Month', size=14, color='dimgrey', pad=20)\n",
    "\n",
    "plt.tight_layout()\n",
    "plt.show()"
   ]
  },
  {
   "cell_type": "markdown",
   "id": "c9c73421",
   "metadata": {},
   "source": [
    "By the chart above we can conclude:\n",
    "\n",
    "E-commerce on Brazil really has a growing trend along the time. We can see some seasonality with peaks at specific months, but in general we can see clear that customers are more prone to buy things online than before.\n",
    "Monday are the prefered day for brazilian's customers and they tend to buy more at afternoons.\n",
    "\n",
    "Notes : There are some sharp decrease between August 2018 - Sept 2018, maybe because it is the cutoff from data.\n",
    "Meanwhile the 2016 data is not compareable, maybe because the ecommerce only started??\n",
    "\n",
    "If we want to compare the growth, it might be between 2017 & 2018 data (January - August)"
   ]
  },
  {
   "cell_type": "markdown",
   "id": "a39c59d0",
   "metadata": {},
   "source": [
    "---\n",
    "\n",
    "Compare 2017 & 2018 \n",
    "\n",
    "---"
   ]
  },
  {
   "cell_type": "code",
   "execution_count": null,
   "id": "6f2c4400",
   "metadata": {},
   "outputs": [],
   "source": [
    "# Creating figure\n",
    "fig = plt.figure(constrained_layout=True, figsize=(13, 5))\n",
    "\n",
    "# Axis definition\n",
    "gs = GridSpec(1, 3, figure=fig)\n",
    "ax1 = fig.add_subplot(gs[0, 0])\n",
    "ax2 = fig.add_subplot(gs[0, 1:])\n",
    "\n",
    "# Annotation - Grown on e-commerce orders between 2017 and 2018\n",
    "df_compare = df.query('order_year in (2017, 2018) & order_month <= 8')\n",
    "year_orders = df_compare['order_year'].value_counts()\n",
    "growth = int(round(100 * (1 + year_orders[2017] / year_orders[2018]), 0))\n",
    "ax1.text(0.00, 0.73, f'{year_orders[2017]}', fontsize=40, color='mediumseagreen', ha='center')\n",
    "ax1.text(0.00, 0.64, 'orders registered in 2017\\nbetween January and August', fontsize=10, ha='center')\n",
    "ax1.text(0.00, 0.40, f'{year_orders[2018]}', fontsize=60, color='darkslateblue', ha='center')\n",
    "ax1.text(0.00, 0.31, 'orders registered in 2018\\nbetween January and August', fontsize=10, ha='center')\n",
    "signal = '+' if growth > 0 else '-'\n",
    "ax1.text(0.00, 0.20, f'{signal}{growth}%', fontsize=14, ha='center', color='white', style='italic', weight='bold',\n",
    "         bbox=dict(facecolor='navy', alpha=0.5, pad=10, boxstyle='round, pad=.7'))\n",
    "ax1.axis('off')\n",
    "\n",
    "# Bar chart - Comparison between monthly sales between 2017 and 2018\n",
    "single_countplot(df_compare, x='order_month', hue='order_year', ax=ax2, order=False,\n",
    "                 palette='YlGnBu')\n",
    "month_label = ['Jan', 'Feb', 'Mar', 'Apr', 'May', 'Jun', 'Jul', 'Aug']\n",
    "ax2.set_xticklabels(month_label)\n",
    "ax2.set_title('Total Orders Comparison Between 2017 and 2018 (January to August)', size=12, pad=20)\n",
    "ax2.set_xlabel('Month')\n",
    "ax2.set_ylabel('Order count')\n",
    "\n",
    "plt.legend(loc='lower right')\n",
    "plt.show()"
   ]
  },
  {
   "cell_type": "markdown",
   "id": "8eb61f23",
   "metadata": {},
   "source": [
    "---\n",
    "\n",
    "Based on data above, we could see that the ecommerce is growing!!\n",
    "\n",
    "---"
   ]
  },
  {
   "cell_type": "code",
   "execution_count": null,
   "id": "03ae4600",
   "metadata": {},
   "outputs": [],
   "source": [
    "trend_hour=df.groupby('order_time').agg({'order_id':'count', 'order_value': 'sum'}).rename(columns={'order_id':'freq_order', 'order_value' : 'total_value'}).reset_index()\n",
    "trend_hour"
   ]
  },
  {
   "cell_type": "code",
   "execution_count": null,
   "id": "5cfb64af",
   "metadata": {},
   "outputs": [],
   "source": [
    "fig = make_subplots(rows=2, cols=1,\n",
    "                   subplot_titles=(\"Order Frequency over the hour\", \"Order Total Value over the hour\"))\n",
    "\n",
    "# Figure 1 : \n",
    "figure1 = px.bar(trend_hour, x='order_time', y='freq_order', template='ggplot2', title='Order Frequency over the hour')\n",
    "\n",
    "# Figure 2 : \n",
    "figure2 = px.bar(trend_hour, x='order_time', y='total_value', template='ggplot2', title='Order Total Value over the hour')\n",
    "\n",
    "# For as many traces that exist per Express figure, get the traces from each plot and store them in an array.\n",
    "# This is essentially breaking down the Express fig into it's traces\n",
    "figure1_traces = []\n",
    "figure2_traces = []\n",
    "for trace in range(len(figure1[\"data\"])):\n",
    "    figure1_traces.append(figure1[\"data\"][trace])\n",
    "for trace in range(len(figure2[\"data\"])):\n",
    "    figure2_traces.append(figure2[\"data\"][trace])\n",
    "\n",
    "# Get the Express fig broken down as traces and add the traces to the proper plot within in the subplot\n",
    "for traces in figure1_traces:\n",
    "    fig.append_trace(traces, row=1, col=1)\n",
    "for traces in figure2_traces:\n",
    "    fig.append_trace(traces, row=2, col=1)\n",
    "\n",
    "fig.update_xaxes(title_text='Hour', type='category', row=1, col=1)\n",
    "fig.update_xaxes(title_text='Hour', type='category', row=2, col=1)\n",
    "fig.update_yaxes(title_text='Total Purchase Count', row=1, col=1)\n",
    "fig.update_yaxes(title_text='Total Purchase Value', row=2, col=1)\n",
    "\n",
    "fig.update_layout(title_text=\"Order Hour Trend\", height=800)\n",
    "\n",
    "fig.show()\n"
   ]
  },
  {
   "cell_type": "markdown",
   "id": "1704f720",
   "metadata": {},
   "source": [
    "---\n",
    "\n",
    "We could see that most people buy / purchase using ecommerce in 11 - 21 o'clock\n",
    "\n",
    "---"
   ]
  },
  {
   "cell_type": "code",
   "execution_count": null,
   "id": "7d8da8f4",
   "metadata": {},
   "outputs": [],
   "source": [
    "df['weekday'] = df.apply(\n",
    "    lambda x: x['order_day_name'].replace('day', '')[:3],\n",
    "    axis=1\n",
    ")\n",
    "df['weekday']=pd.Categorical(df['weekday'],categories=['Sun','Mon','Tue','Wed','Thu','Fri','Sat'],ordered=True)\n",
    "\n",
    "day_hour=df.groupby(['weekday','order_time']).agg({'order_id':'count'}).rename(columns={'order_id':'freq'}).reset_index()\n",
    "\n",
    "day_hour = day_hour.pivot('weekday','order_time','freq')\n",
    "plt.figure(figsize=(15,8))\n",
    "ax=sns.heatmap(day_hour,annot=True,fmt=\"d\",cmap=\"OrRd\")\n",
    "ax.set_xlabel(\"Hour\")\n",
    "ax.set_ylabel(\"Day\")\n",
    "ax.set_title(\"Heatmap Transaction over the hour by day\",size=20)"
   ]
  },
  {
   "cell_type": "markdown",
   "id": "11383f3f",
   "metadata": {},
   "source": [
    "## Insight"
   ]
  },
  {
   "cell_type": "markdown",
   "id": "9da01f62",
   "metadata": {},
   "source": [
    "## Recommendation"
   ]
  }
 ],
 "metadata": {
  "kernelspec": {
   "display_name": "Python 3",
   "language": "python",
   "name": "python3"
  },
  "language_info": {
   "codemirror_mode": {
    "name": "ipython",
    "version": 3
   },
   "file_extension": ".py",
   "mimetype": "text/x-python",
   "name": "python",
   "nbconvert_exporter": "python",
   "pygments_lexer": "ipython3",
   "version": "3.8.8"
  }
 },
 "nbformat": 4,
 "nbformat_minor": 5
}
