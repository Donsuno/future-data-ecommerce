{
 "cells": [
  {
   "cell_type": "markdown",
   "id": "wrapped-warning",
   "metadata": {},
   "source": [
    "# DBT Quality Checking\n",
    "A notebook to check the result from transform layer with DBT\n"
   ]
  },
  {
   "cell_type": "markdown",
   "id": "modified-bracket",
   "metadata": {},
   "source": [
    "## Notebook Sanity Check"
   ]
  },
  {
   "cell_type": "code",
   "execution_count": 1,
   "id": "matched-modification",
   "metadata": {},
   "outputs": [],
   "source": [
    "import numpy as np"
   ]
  },
  {
   "cell_type": "code",
   "execution_count": 2,
   "id": "biblical-chambers",
   "metadata": {},
   "outputs": [],
   "source": [
    "from dotenv import load_dotenv\n",
    "import os\n",
    "load_dotenv()\n",
    "\n",
    "# OR, the same with increased verbosity\n",
    "load_dotenv(verbose=True)\n",
    "\n",
    "DBNAME= os.getenv(\"DBNAME\")\n",
    "HOSTNAME= os.getenv(\"HOSTNAME\")\n",
    "USER= os.getenv(\"USER\")\n",
    "PASS= os.getenv(\"PASS\")\n",
    "STGDBNAME = os.getenv(\"STAGING_DBNAME\")"
   ]
  },
  {
   "cell_type": "code",
   "execution_count": 3,
   "id": "unnecessary-limitation",
   "metadata": {},
   "outputs": [],
   "source": [
    "import psycopg2\n",
    "import pandas as pd\n",
    "from sqlalchemy import create_engine\n",
    "\n",
    "# Create an engine instance\n",
    "alchemyEngine = create_engine(f'postgresql+psycopg2://{USER}:{PASS}@{HOSTNAME}/{DBNAME}', pool_recycle=3600);\n",
    "\n",
    "# Connect to PostgreSQL server\n",
    "conn  = alchemyEngine.connect();"
   ]
  },
  {
   "cell_type": "markdown",
   "id": "streaming-effect",
   "metadata": {},
   "source": [
    "## Date Dimension"
   ]
  },
  {
   "cell_type": "code",
   "execution_count": 4,
   "id": "supreme-halloween",
   "metadata": {},
   "outputs": [
    {
     "data": {
      "text/html": [
       "<div>\n",
       "<style scoped>\n",
       "    .dataframe tbody tr th:only-of-type {\n",
       "        vertical-align: middle;\n",
       "    }\n",
       "\n",
       "    .dataframe tbody tr th {\n",
       "        vertical-align: top;\n",
       "    }\n",
       "\n",
       "    .dataframe thead th {\n",
       "        text-align: right;\n",
       "    }\n",
       "</style>\n",
       "<table border=\"1\" class=\"dataframe\">\n",
       "  <thead>\n",
       "    <tr style=\"text-align: right;\">\n",
       "      <th></th>\n",
       "      <th>date_id</th>\n",
       "      <th>date</th>\n",
       "      <th>day_name</th>\n",
       "      <th>day_of_week</th>\n",
       "      <th>day_of_month</th>\n",
       "      <th>day_of_quarter</th>\n",
       "      <th>day_of_year</th>\n",
       "      <th>week_of_month</th>\n",
       "      <th>week_of_year</th>\n",
       "      <th>month_actual</th>\n",
       "      <th>month_name</th>\n",
       "      <th>month_name_abbreviated</th>\n",
       "      <th>quarter</th>\n",
       "      <th>year</th>\n",
       "      <th>isweekend</th>\n",
       "    </tr>\n",
       "  </thead>\n",
       "  <tbody>\n",
       "    <tr>\n",
       "      <th>0</th>\n",
       "      <td>20150101</td>\n",
       "      <td>2015-01-01</td>\n",
       "      <td>Thursday</td>\n",
       "      <td>4.0</td>\n",
       "      <td>1.0</td>\n",
       "      <td>1</td>\n",
       "      <td>1.0</td>\n",
       "      <td>1</td>\n",
       "      <td>1.0</td>\n",
       "      <td>1.0</td>\n",
       "      <td>January</td>\n",
       "      <td>Jan</td>\n",
       "      <td>1.0</td>\n",
       "      <td>2015.0</td>\n",
       "      <td>False</td>\n",
       "    </tr>\n",
       "    <tr>\n",
       "      <th>1</th>\n",
       "      <td>20150102</td>\n",
       "      <td>2015-01-02</td>\n",
       "      <td>Friday</td>\n",
       "      <td>5.0</td>\n",
       "      <td>2.0</td>\n",
       "      <td>2</td>\n",
       "      <td>2.0</td>\n",
       "      <td>1</td>\n",
       "      <td>1.0</td>\n",
       "      <td>1.0</td>\n",
       "      <td>January</td>\n",
       "      <td>Jan</td>\n",
       "      <td>1.0</td>\n",
       "      <td>2015.0</td>\n",
       "      <td>False</td>\n",
       "    </tr>\n",
       "    <tr>\n",
       "      <th>2</th>\n",
       "      <td>20150103</td>\n",
       "      <td>2015-01-03</td>\n",
       "      <td>Saturday</td>\n",
       "      <td>6.0</td>\n",
       "      <td>3.0</td>\n",
       "      <td>3</td>\n",
       "      <td>3.0</td>\n",
       "      <td>1</td>\n",
       "      <td>1.0</td>\n",
       "      <td>1.0</td>\n",
       "      <td>January</td>\n",
       "      <td>Jan</td>\n",
       "      <td>1.0</td>\n",
       "      <td>2015.0</td>\n",
       "      <td>True</td>\n",
       "    </tr>\n",
       "    <tr>\n",
       "      <th>3</th>\n",
       "      <td>20150104</td>\n",
       "      <td>2015-01-04</td>\n",
       "      <td>Sunday</td>\n",
       "      <td>7.0</td>\n",
       "      <td>4.0</td>\n",
       "      <td>4</td>\n",
       "      <td>4.0</td>\n",
       "      <td>1</td>\n",
       "      <td>1.0</td>\n",
       "      <td>1.0</td>\n",
       "      <td>January</td>\n",
       "      <td>Jan</td>\n",
       "      <td>1.0</td>\n",
       "      <td>2015.0</td>\n",
       "      <td>True</td>\n",
       "    </tr>\n",
       "    <tr>\n",
       "      <th>4</th>\n",
       "      <td>20150105</td>\n",
       "      <td>2015-01-05</td>\n",
       "      <td>Monday</td>\n",
       "      <td>1.0</td>\n",
       "      <td>5.0</td>\n",
       "      <td>5</td>\n",
       "      <td>5.0</td>\n",
       "      <td>1</td>\n",
       "      <td>2.0</td>\n",
       "      <td>1.0</td>\n",
       "      <td>January</td>\n",
       "      <td>Jan</td>\n",
       "      <td>1.0</td>\n",
       "      <td>2015.0</td>\n",
       "      <td>False</td>\n",
       "    </tr>\n",
       "  </tbody>\n",
       "</table>\n",
       "</div>"
      ],
      "text/plain": [
       "    date_id       date   day_name  day_of_week  day_of_month  day_of_quarter  \\\n",
       "0  20150101 2015-01-01  Thursday           4.0           1.0               1   \n",
       "1  20150102 2015-01-02  Friday             5.0           2.0               2   \n",
       "2  20150103 2015-01-03  Saturday           6.0           3.0               3   \n",
       "3  20150104 2015-01-04  Sunday             7.0           4.0               4   \n",
       "4  20150105 2015-01-05  Monday             1.0           5.0               5   \n",
       "\n",
       "   day_of_year  week_of_month  week_of_year  month_actual month_name  \\\n",
       "0          1.0              1           1.0           1.0  January     \n",
       "1          2.0              1           1.0           1.0  January     \n",
       "2          3.0              1           1.0           1.0  January     \n",
       "3          4.0              1           1.0           1.0  January     \n",
       "4          5.0              1           2.0           1.0  January     \n",
       "\n",
       "  month_name_abbreviated  quarter    year  isweekend  \n",
       "0                    Jan      1.0  2015.0      False  \n",
       "1                    Jan      1.0  2015.0      False  \n",
       "2                    Jan      1.0  2015.0       True  \n",
       "3                    Jan      1.0  2015.0       True  \n",
       "4                    Jan      1.0  2015.0      False  "
      ]
     },
     "execution_count": 4,
     "metadata": {},
     "output_type": "execute_result"
    }
   ],
   "source": [
    "date = pd.read_sql_table(\"dim_date\", conn, schema=\"warehouse\")\n",
    "date.head()"
   ]
  },
  {
   "cell_type": "code",
   "execution_count": 5,
   "id": "celtic-forestry",
   "metadata": {},
   "outputs": [
    {
     "data": {
      "text/plain": [
       "True"
      ]
     },
     "execution_count": 5,
     "metadata": {},
     "output_type": "execute_result"
    }
   ],
   "source": [
    "# Checking if all id is unique\n",
    "date.date_id.is_unique"
   ]
  },
  {
   "cell_type": "code",
   "execution_count": 6,
   "id": "recorded-hanging",
   "metadata": {},
   "outputs": [
    {
     "data": {
      "text/plain": [
       "(1801, 15)"
      ]
     },
     "execution_count": 6,
     "metadata": {},
     "output_type": "execute_result"
    }
   ],
   "source": [
    "date.shape"
   ]
  },
  {
   "cell_type": "code",
   "execution_count": 7,
   "id": "organizational-surge",
   "metadata": {},
   "outputs": [
    {
     "name": "stdout",
     "output_type": "stream",
     "text": [
      "First date:  2015-01-01 00:00:00\n",
      "Last date:  2019-12-06 00:00:00\n"
     ]
    }
   ],
   "source": [
    "# Checking date range\n",
    "print(\"First date: \" ,date.loc[0].date)\n",
    "print(\"Last date: \", date.loc[date.shape[0] -1].date)"
   ]
  },
  {
   "cell_type": "markdown",
   "id": "tested-welsh",
   "metadata": {},
   "source": [
    "## Geo Dimension"
   ]
  },
  {
   "cell_type": "code",
   "execution_count": 8,
   "id": "adolescent-merit",
   "metadata": {},
   "outputs": [
    {
     "data": {
      "text/html": [
       "<div>\n",
       "<style scoped>\n",
       "    .dataframe tbody tr th:only-of-type {\n",
       "        vertical-align: middle;\n",
       "    }\n",
       "\n",
       "    .dataframe tbody tr th {\n",
       "        vertical-align: top;\n",
       "    }\n",
       "\n",
       "    .dataframe thead th {\n",
       "        text-align: right;\n",
       "    }\n",
       "</style>\n",
       "<table border=\"1\" class=\"dataframe\">\n",
       "  <thead>\n",
       "    <tr style=\"text-align: right;\">\n",
       "      <th></th>\n",
       "      <th>zip_code</th>\n",
       "      <th>city</th>\n",
       "      <th>state</th>\n",
       "    </tr>\n",
       "  </thead>\n",
       "  <tbody>\n",
       "    <tr>\n",
       "      <th>0</th>\n",
       "      <td>99990</td>\n",
       "      <td>KABUPATEN MINAHASA UTARA</td>\n",
       "      <td>SULAWESI UTARA</td>\n",
       "    </tr>\n",
       "    <tr>\n",
       "      <th>1</th>\n",
       "      <td>99980</td>\n",
       "      <td>KOTA LUBUKLINGGAU</td>\n",
       "      <td>SUMATERA SELATAN</td>\n",
       "    </tr>\n",
       "    <tr>\n",
       "      <th>2</th>\n",
       "      <td>99970</td>\n",
       "      <td>KABUPATEN BOJONEGORO</td>\n",
       "      <td>JAWA TIMUR</td>\n",
       "    </tr>\n",
       "    <tr>\n",
       "      <th>3</th>\n",
       "      <td>99965</td>\n",
       "      <td>KABUPATEN ACEH BESAR</td>\n",
       "      <td>ACEH</td>\n",
       "    </tr>\n",
       "    <tr>\n",
       "      <th>4</th>\n",
       "      <td>99960</td>\n",
       "      <td>KOTA PEKANBARU</td>\n",
       "      <td>RIAU</td>\n",
       "    </tr>\n",
       "  </tbody>\n",
       "</table>\n",
       "</div>"
      ],
      "text/plain": [
       "  zip_code                      city             state\n",
       "0    99990  KABUPATEN MINAHASA UTARA    SULAWESI UTARA\n",
       "1    99980         KOTA LUBUKLINGGAU  SUMATERA SELATAN\n",
       "2    99970      KABUPATEN BOJONEGORO        JAWA TIMUR\n",
       "3    99965      KABUPATEN ACEH BESAR              ACEH\n",
       "4    99960            KOTA PEKANBARU              RIAU"
      ]
     },
     "execution_count": 8,
     "metadata": {},
     "output_type": "execute_result"
    }
   ],
   "source": [
    "geo = pd.read_sql_table(\"dim_geo\", conn, schema=\"warehouse\")\n",
    "geo.head()"
   ]
  },
  {
   "cell_type": "code",
   "execution_count": 9,
   "id": "revised-dress",
   "metadata": {},
   "outputs": [
    {
     "data": {
      "text/plain": [
       "state           city                     \n",
       "ACEH            KABUPATEN ACEH BARAT         12\n",
       "                KABUPATEN ACEH BARAT DAYA    12\n",
       "                KABUPATEN ACEH BESAR         10\n",
       "                KABUPATEN ACEH JAYA          10\n",
       "                KABUPATEN ACEH SELATAN        7\n",
       "                                             ..\n",
       "SUMATERA UTARA  KOTA PADANGSIDIMPUAN          7\n",
       "                KOTA PEMATANG SIANTAR        31\n",
       "                KOTA SIBOLGA                 20\n",
       "                KOTA TANJUNG BALAI            8\n",
       "                KOTA TEBING TINGGI           22\n",
       "Name: zip_code, Length: 514, dtype: int64"
      ]
     },
     "execution_count": 9,
     "metadata": {},
     "output_type": "execute_result"
    }
   ],
   "source": [
    "groupby_state = geo.groupby([\"state\", \"city\"])[\"zip_code\"].count()\n",
    "groupby_state"
   ]
  },
  {
   "cell_type": "code",
   "execution_count": 10,
   "id": "confident-intensity",
   "metadata": {},
   "outputs": [
    {
     "data": {
      "text/plain": [
       "True"
      ]
     },
     "execution_count": 10,
     "metadata": {},
     "output_type": "execute_result"
    }
   ],
   "source": [
    "# check primary key uniqueness\n",
    "geo.zip_code.is_unique"
   ]
  },
  {
   "cell_type": "code",
   "execution_count": 11,
   "id": "social-cooperative",
   "metadata": {},
   "outputs": [
    {
     "name": "stdout",
     "output_type": "stream",
     "text": [
      "Number of zip code with less than 5 digit : 3906\n",
      "Number of all address: 15070\n"
     ]
    }
   ],
   "source": [
    "# Concern : Some zip code only consist of 4 digit\n",
    "f = np.vectorize(len)\n",
    "arr = f(geo.zip_code.values)\n",
    "print(\"Number of zip code with less than 5 digit :\",len(arr[arr < 5]))\n",
    "print(\"Number of all address:\", len(arr))"
   ]
  },
  {
   "cell_type": "markdown",
   "id": "informed-anthony",
   "metadata": {},
   "source": [
    "## User Dimension"
   ]
  },
  {
   "cell_type": "code",
   "execution_count": 12,
   "id": "least-aircraft",
   "metadata": {},
   "outputs": [
    {
     "data": {
      "text/html": [
       "<div>\n",
       "<style scoped>\n",
       "    .dataframe tbody tr th:only-of-type {\n",
       "        vertical-align: middle;\n",
       "    }\n",
       "\n",
       "    .dataframe tbody tr th {\n",
       "        vertical-align: top;\n",
       "    }\n",
       "\n",
       "    .dataframe thead th {\n",
       "        text-align: right;\n",
       "    }\n",
       "</style>\n",
       "<table border=\"1\" class=\"dataframe\">\n",
       "  <thead>\n",
       "    <tr style=\"text-align: right;\">\n",
       "      <th></th>\n",
       "      <th>user_name</th>\n",
       "      <th>num_order</th>\n",
       "      <th>total_spending</th>\n",
       "      <th>version</th>\n",
       "      <th>is_current_version</th>\n",
       "    </tr>\n",
       "  </thead>\n",
       "  <tbody>\n",
       "    <tr>\n",
       "      <th>0</th>\n",
       "      <td>0000366f3b9a7992bf8c76cfdf3221e2</td>\n",
       "      <td>1</td>\n",
       "      <td>141900.0</td>\n",
       "      <td>1</td>\n",
       "      <td>True</td>\n",
       "    </tr>\n",
       "    <tr>\n",
       "      <th>1</th>\n",
       "      <td>0000b849f77a49e4a4ce2b2a4ca5be3f</td>\n",
       "      <td>1</td>\n",
       "      <td>27190.0</td>\n",
       "      <td>1</td>\n",
       "      <td>True</td>\n",
       "    </tr>\n",
       "    <tr>\n",
       "      <th>2</th>\n",
       "      <td>0000f46a3911fa3c0805444483337064</td>\n",
       "      <td>1</td>\n",
       "      <td>86220.0</td>\n",
       "      <td>1</td>\n",
       "      <td>True</td>\n",
       "    </tr>\n",
       "    <tr>\n",
       "      <th>3</th>\n",
       "      <td>0000f6ccb0745a6a4b88665a16c9f078</td>\n",
       "      <td>1</td>\n",
       "      <td>43620.0</td>\n",
       "      <td>1</td>\n",
       "      <td>True</td>\n",
       "    </tr>\n",
       "    <tr>\n",
       "      <th>4</th>\n",
       "      <td>0004aac84e0df4da2b147fca70cf8255</td>\n",
       "      <td>1</td>\n",
       "      <td>196890.0</td>\n",
       "      <td>1</td>\n",
       "      <td>True</td>\n",
       "    </tr>\n",
       "  </tbody>\n",
       "</table>\n",
       "</div>"
      ],
      "text/plain": [
       "                          user_name  num_order  total_spending  version  \\\n",
       "0  0000366f3b9a7992bf8c76cfdf3221e2          1        141900.0        1   \n",
       "1  0000b849f77a49e4a4ce2b2a4ca5be3f          1         27190.0        1   \n",
       "2  0000f46a3911fa3c0805444483337064          1         86220.0        1   \n",
       "3  0000f6ccb0745a6a4b88665a16c9f078          1         43620.0        1   \n",
       "4  0004aac84e0df4da2b147fca70cf8255          1        196890.0        1   \n",
       "\n",
       "   is_current_version  \n",
       "0                True  \n",
       "1                True  \n",
       "2                True  \n",
       "3                True  \n",
       "4                True  "
      ]
     },
     "execution_count": 12,
     "metadata": {},
     "output_type": "execute_result"
    }
   ],
   "source": [
    "user = pd.read_sql_table(\"dim_user\", conn, schema=\"warehouse\")\n",
    "user.head()"
   ]
  },
  {
   "cell_type": "code",
   "execution_count": 13,
   "id": "allied-heart",
   "metadata": {},
   "outputs": [
    {
     "data": {
      "text/html": [
       "<div>\n",
       "<style scoped>\n",
       "    .dataframe tbody tr th:only-of-type {\n",
       "        vertical-align: middle;\n",
       "    }\n",
       "\n",
       "    .dataframe tbody tr th {\n",
       "        vertical-align: top;\n",
       "    }\n",
       "\n",
       "    .dataframe thead th {\n",
       "        text-align: right;\n",
       "    }\n",
       "</style>\n",
       "<table border=\"1\" class=\"dataframe\">\n",
       "  <thead>\n",
       "    <tr style=\"text-align: right;\">\n",
       "      <th></th>\n",
       "      <th>user_name</th>\n",
       "      <th>num_order</th>\n",
       "      <th>total_spending</th>\n",
       "      <th>version</th>\n",
       "      <th>is_current_version</th>\n",
       "    </tr>\n",
       "  </thead>\n",
       "  <tbody>\n",
       "  </tbody>\n",
       "</table>\n",
       "</div>"
      ],
      "text/plain": [
       "Empty DataFrame\n",
       "Columns: [user_name, num_order, total_spending, version, is_current_version]\n",
       "Index: []"
      ]
     },
     "execution_count": 13,
     "metadata": {},
     "output_type": "execute_result"
    }
   ],
   "source": [
    "# With only 1 loading operation ever been done, all version should be one\n",
    "username = user.loc[(user.version > 1)].user_name\n",
    "user.loc[user.user_name.isin(username)]"
   ]
  },
  {
   "cell_type": "code",
   "execution_count": 14,
   "id": "adopted-stanley",
   "metadata": {},
   "outputs": [
    {
     "data": {
      "text/plain": [
       "True"
      ]
     },
     "execution_count": 14,
     "metadata": {},
     "output_type": "execute_result"
    }
   ],
   "source": [
    "# Check uniqueness\n",
    "user.apply(\n",
    "        lambda x: x['user_name'] + str(x['version']),\n",
    "        axis = 1\n",
    ").is_unique"
   ]
  },
  {
   "cell_type": "markdown",
   "id": "bronze-relation",
   "metadata": {},
   "source": [
    "## Product Dimension"
   ]
  },
  {
   "cell_type": "code",
   "execution_count": 15,
   "id": "thrown-italy",
   "metadata": {},
   "outputs": [
    {
     "data": {
      "text/html": [
       "<div>\n",
       "<style scoped>\n",
       "    .dataframe tbody tr th:only-of-type {\n",
       "        vertical-align: middle;\n",
       "    }\n",
       "\n",
       "    .dataframe tbody tr th {\n",
       "        vertical-align: top;\n",
       "    }\n",
       "\n",
       "    .dataframe thead th {\n",
       "        text-align: right;\n",
       "    }\n",
       "</style>\n",
       "<table border=\"1\" class=\"dataframe\">\n",
       "  <thead>\n",
       "    <tr style=\"text-align: right;\">\n",
       "      <th></th>\n",
       "      <th>product_id</th>\n",
       "      <th>product_name_length</th>\n",
       "      <th>product_description_length</th>\n",
       "      <th>product_photos_qty</th>\n",
       "      <th>product_weight_g</th>\n",
       "      <th>product_length_cm</th>\n",
       "      <th>product_height_cm</th>\n",
       "      <th>product_width_cm</th>\n",
       "      <th>avg_product_feedback</th>\n",
       "      <th>version</th>\n",
       "      <th>is_current_version</th>\n",
       "    </tr>\n",
       "  </thead>\n",
       "  <tbody>\n",
       "    <tr>\n",
       "      <th>0</th>\n",
       "      <td>00066f42aeeb9f3007548bb9d3f33c38</td>\n",
       "      <td>53.0</td>\n",
       "      <td>596.0</td>\n",
       "      <td>6.0</td>\n",
       "      <td>300.0</td>\n",
       "      <td>20.0</td>\n",
       "      <td>16.0</td>\n",
       "      <td>16.0</td>\n",
       "      <td>5.0</td>\n",
       "      <td>1</td>\n",
       "      <td>True</td>\n",
       "    </tr>\n",
       "    <tr>\n",
       "      <th>1</th>\n",
       "      <td>00088930e925c41fd95ebfe695fd2655</td>\n",
       "      <td>56.0</td>\n",
       "      <td>752.0</td>\n",
       "      <td>4.0</td>\n",
       "      <td>1225.0</td>\n",
       "      <td>55.0</td>\n",
       "      <td>10.0</td>\n",
       "      <td>26.0</td>\n",
       "      <td>4.0</td>\n",
       "      <td>1</td>\n",
       "      <td>True</td>\n",
       "    </tr>\n",
       "    <tr>\n",
       "      <th>2</th>\n",
       "      <td>0009406fd7479715e4bef61dd91f2462</td>\n",
       "      <td>50.0</td>\n",
       "      <td>266.0</td>\n",
       "      <td>2.0</td>\n",
       "      <td>300.0</td>\n",
       "      <td>45.0</td>\n",
       "      <td>15.0</td>\n",
       "      <td>35.0</td>\n",
       "      <td>1.0</td>\n",
       "      <td>1</td>\n",
       "      <td>True</td>\n",
       "    </tr>\n",
       "    <tr>\n",
       "      <th>3</th>\n",
       "      <td>000b8f95fcb9e0096488278317764d19</td>\n",
       "      <td>25.0</td>\n",
       "      <td>364.0</td>\n",
       "      <td>3.0</td>\n",
       "      <td>550.0</td>\n",
       "      <td>19.0</td>\n",
       "      <td>24.0</td>\n",
       "      <td>12.0</td>\n",
       "      <td>5.0</td>\n",
       "      <td>1</td>\n",
       "      <td>True</td>\n",
       "    </tr>\n",
       "    <tr>\n",
       "      <th>4</th>\n",
       "      <td>000d9be29b5207b54e86aa1b1ac54872</td>\n",
       "      <td>48.0</td>\n",
       "      <td>613.0</td>\n",
       "      <td>4.0</td>\n",
       "      <td>250.0</td>\n",
       "      <td>22.0</td>\n",
       "      <td>11.0</td>\n",
       "      <td>15.0</td>\n",
       "      <td>5.0</td>\n",
       "      <td>1</td>\n",
       "      <td>True</td>\n",
       "    </tr>\n",
       "  </tbody>\n",
       "</table>\n",
       "</div>"
      ],
      "text/plain": [
       "                         product_id  product_name_length  \\\n",
       "0  00066f42aeeb9f3007548bb9d3f33c38                 53.0   \n",
       "1  00088930e925c41fd95ebfe695fd2655                 56.0   \n",
       "2  0009406fd7479715e4bef61dd91f2462                 50.0   \n",
       "3  000b8f95fcb9e0096488278317764d19                 25.0   \n",
       "4  000d9be29b5207b54e86aa1b1ac54872                 48.0   \n",
       "\n",
       "   product_description_length  product_photos_qty  product_weight_g  \\\n",
       "0                       596.0                 6.0             300.0   \n",
       "1                       752.0                 4.0            1225.0   \n",
       "2                       266.0                 2.0             300.0   \n",
       "3                       364.0                 3.0             550.0   \n",
       "4                       613.0                 4.0             250.0   \n",
       "\n",
       "   product_length_cm  product_height_cm  product_width_cm  \\\n",
       "0               20.0               16.0              16.0   \n",
       "1               55.0               10.0              26.0   \n",
       "2               45.0               15.0              35.0   \n",
       "3               19.0               24.0              12.0   \n",
       "4               22.0               11.0              15.0   \n",
       "\n",
       "   avg_product_feedback  version  is_current_version  \n",
       "0                   5.0        1                True  \n",
       "1                   4.0        1                True  \n",
       "2                   1.0        1                True  \n",
       "3                   5.0        1                True  \n",
       "4                   5.0        1                True  "
      ]
     },
     "execution_count": 15,
     "metadata": {},
     "output_type": "execute_result"
    }
   ],
   "source": [
    "product = pd.read_sql_table(\"dim_product\", conn, schema=\"warehouse\")\n",
    "product.head()"
   ]
  },
  {
   "cell_type": "code",
   "execution_count": 16,
   "id": "facial-preservation",
   "metadata": {},
   "outputs": [
    {
     "data": {
      "text/html": [
       "<div>\n",
       "<style scoped>\n",
       "    .dataframe tbody tr th:only-of-type {\n",
       "        vertical-align: middle;\n",
       "    }\n",
       "\n",
       "    .dataframe tbody tr th {\n",
       "        vertical-align: top;\n",
       "    }\n",
       "\n",
       "    .dataframe thead th {\n",
       "        text-align: right;\n",
       "    }\n",
       "</style>\n",
       "<table border=\"1\" class=\"dataframe\">\n",
       "  <thead>\n",
       "    <tr style=\"text-align: right;\">\n",
       "      <th></th>\n",
       "      <th>product_id</th>\n",
       "      <th>product_name_length</th>\n",
       "      <th>product_description_length</th>\n",
       "      <th>product_photos_qty</th>\n",
       "      <th>product_weight_g</th>\n",
       "      <th>product_length_cm</th>\n",
       "      <th>product_height_cm</th>\n",
       "      <th>product_width_cm</th>\n",
       "      <th>avg_product_feedback</th>\n",
       "      <th>version</th>\n",
       "      <th>is_current_version</th>\n",
       "    </tr>\n",
       "  </thead>\n",
       "  <tbody>\n",
       "  </tbody>\n",
       "</table>\n",
       "</div>"
      ],
      "text/plain": [
       "Empty DataFrame\n",
       "Columns: [product_id, product_name_length, product_description_length, product_photos_qty, product_weight_g, product_length_cm, product_height_cm, product_width_cm, avg_product_feedback, version, is_current_version]\n",
       "Index: []"
      ]
     },
     "execution_count": 16,
     "metadata": {},
     "output_type": "execute_result"
    }
   ],
   "source": [
    "# Check version error\n",
    "products_id = product.loc[(product.version > 1)].product_id\n",
    "product.loc[product.product_id.isin(products_id)]"
   ]
  },
  {
   "cell_type": "code",
   "execution_count": 17,
   "id": "intermediate-enhancement",
   "metadata": {},
   "outputs": [
    {
     "name": "stdout",
     "output_type": "stream",
     "text": [
      "Shape :  (32729, 11)\n"
     ]
    }
   ],
   "source": [
    "# Check product shape\n",
    "print(\"Shape : \", product.shape)"
   ]
  },
  {
   "cell_type": "code",
   "execution_count": 18,
   "id": "moral-olympus",
   "metadata": {},
   "outputs": [
    {
     "data": {
      "text/plain": [
       "True"
      ]
     },
     "execution_count": 18,
     "metadata": {},
     "output_type": "execute_result"
    }
   ],
   "source": [
    "product.product_id.is_unique"
   ]
  },
  {
   "cell_type": "markdown",
   "id": "abstract-appraisal",
   "metadata": {},
   "source": [
    "## Seller Dimension"
   ]
  },
  {
   "cell_type": "code",
   "execution_count": 19,
   "id": "centered-affiliation",
   "metadata": {},
   "outputs": [
    {
     "data": {
      "text/html": [
       "<div>\n",
       "<style scoped>\n",
       "    .dataframe tbody tr th:only-of-type {\n",
       "        vertical-align: middle;\n",
       "    }\n",
       "\n",
       "    .dataframe tbody tr th {\n",
       "        vertical-align: top;\n",
       "    }\n",
       "\n",
       "    .dataframe thead th {\n",
       "        text-align: right;\n",
       "    }\n",
       "</style>\n",
       "<table border=\"1\" class=\"dataframe\">\n",
       "  <thead>\n",
       "    <tr style=\"text-align: right;\">\n",
       "      <th></th>\n",
       "      <th>seller_id</th>\n",
       "      <th>seller_zip_code</th>\n",
       "      <th>num_order</th>\n",
       "      <th>total_revenue</th>\n",
       "      <th>version</th>\n",
       "      <th>is_current_version</th>\n",
       "    </tr>\n",
       "  </thead>\n",
       "  <tbody>\n",
       "    <tr>\n",
       "      <th>0</th>\n",
       "      <td>0015a82c2db000af6aaaf3ae2ecb0532</td>\n",
       "      <td>9080</td>\n",
       "      <td>3</td>\n",
       "      <td>2685000.0</td>\n",
       "      <td>1</td>\n",
       "      <td>True</td>\n",
       "    </tr>\n",
       "    <tr>\n",
       "      <th>1</th>\n",
       "      <td>001cca7ae9ae17fb1caed9dfb1094831</td>\n",
       "      <td>29156</td>\n",
       "      <td>200</td>\n",
       "      <td>25080030.0</td>\n",
       "      <td>1</td>\n",
       "      <td>True</td>\n",
       "    </tr>\n",
       "    <tr>\n",
       "      <th>2</th>\n",
       "      <td>002100f778ceb8431b7a1020ff7ab48f</td>\n",
       "      <td>14405</td>\n",
       "      <td>51</td>\n",
       "      <td>1234500.0</td>\n",
       "      <td>1</td>\n",
       "      <td>True</td>\n",
       "    </tr>\n",
       "    <tr>\n",
       "      <th>3</th>\n",
       "      <td>003554e2dce176b5555353e4f3555ac8</td>\n",
       "      <td>74565</td>\n",
       "      <td>1</td>\n",
       "      <td>120000.0</td>\n",
       "      <td>1</td>\n",
       "      <td>True</td>\n",
       "    </tr>\n",
       "    <tr>\n",
       "      <th>4</th>\n",
       "      <td>004c9cd9d87a3c30c522c48c4fc07416</td>\n",
       "      <td>14940</td>\n",
       "      <td>158</td>\n",
       "      <td>19712710.0</td>\n",
       "      <td>1</td>\n",
       "      <td>True</td>\n",
       "    </tr>\n",
       "  </tbody>\n",
       "</table>\n",
       "</div>"
      ],
      "text/plain": [
       "                          seller_id seller_zip_code  num_order  total_revenue  \\\n",
       "0  0015a82c2db000af6aaaf3ae2ecb0532            9080          3      2685000.0   \n",
       "1  001cca7ae9ae17fb1caed9dfb1094831           29156        200     25080030.0   \n",
       "2  002100f778ceb8431b7a1020ff7ab48f           14405         51      1234500.0   \n",
       "3  003554e2dce176b5555353e4f3555ac8           74565          1       120000.0   \n",
       "4  004c9cd9d87a3c30c522c48c4fc07416           14940        158     19712710.0   \n",
       "\n",
       "   version  is_current_version  \n",
       "0        1                True  \n",
       "1        1                True  \n",
       "2        1                True  \n",
       "3        1                True  \n",
       "4        1                True  "
      ]
     },
     "execution_count": 19,
     "metadata": {},
     "output_type": "execute_result"
    }
   ],
   "source": [
    "seller = pd.read_sql_table(\"dim_seller\", conn, schema=\"warehouse\")\n",
    "seller.head()"
   ]
  },
  {
   "cell_type": "code",
   "execution_count": 20,
   "id": "worthy-poverty",
   "metadata": {},
   "outputs": [
    {
     "data": {
      "text/html": [
       "<div>\n",
       "<style scoped>\n",
       "    .dataframe tbody tr th:only-of-type {\n",
       "        vertical-align: middle;\n",
       "    }\n",
       "\n",
       "    .dataframe tbody tr th {\n",
       "        vertical-align: top;\n",
       "    }\n",
       "\n",
       "    .dataframe thead th {\n",
       "        text-align: right;\n",
       "    }\n",
       "</style>\n",
       "<table border=\"1\" class=\"dataframe\">\n",
       "  <thead>\n",
       "    <tr style=\"text-align: right;\">\n",
       "      <th></th>\n",
       "      <th>seller_id</th>\n",
       "      <th>seller_zip_code</th>\n",
       "      <th>num_order</th>\n",
       "      <th>total_revenue</th>\n",
       "      <th>version</th>\n",
       "      <th>is_current_version</th>\n",
       "    </tr>\n",
       "  </thead>\n",
       "  <tbody>\n",
       "  </tbody>\n",
       "</table>\n",
       "</div>"
      ],
      "text/plain": [
       "Empty DataFrame\n",
       "Columns: [seller_id, seller_zip_code, num_order, total_revenue, version, is_current_version]\n",
       "Index: []"
      ]
     },
     "execution_count": 20,
     "metadata": {},
     "output_type": "execute_result"
    }
   ],
   "source": [
    "# Check version error\n",
    "sellers_id = seller.loc[(seller.version > 1)].seller_id\n",
    "seller.loc[seller.seller_id.isin(sellers_id)]"
   ]
  },
  {
   "cell_type": "code",
   "execution_count": 21,
   "id": "pharmaceutical-weekly",
   "metadata": {},
   "outputs": [
    {
     "name": "stdout",
     "output_type": "stream",
     "text": [
      "Shape :  (3053, 6)\n"
     ]
    }
   ],
   "source": [
    "# Check product shape\n",
    "print(\"Shape : \", seller.shape)"
   ]
  },
  {
   "cell_type": "code",
   "execution_count": 22,
   "id": "prompt-nightmare",
   "metadata": {},
   "outputs": [
    {
     "data": {
      "text/plain": [
       "True"
      ]
     },
     "execution_count": 22,
     "metadata": {},
     "output_type": "execute_result"
    }
   ],
   "source": [
    "seller.seller_id.is_unique"
   ]
  },
  {
   "cell_type": "markdown",
   "id": "criminal-angola",
   "metadata": {},
   "source": [
    "## Payment Dimension"
   ]
  },
  {
   "cell_type": "code",
   "execution_count": 23,
   "id": "honey-processing",
   "metadata": {},
   "outputs": [
    {
     "data": {
      "text/html": [
       "<div>\n",
       "<style scoped>\n",
       "    .dataframe tbody tr th:only-of-type {\n",
       "        vertical-align: middle;\n",
       "    }\n",
       "\n",
       "    .dataframe tbody tr th {\n",
       "        vertical-align: top;\n",
       "    }\n",
       "\n",
       "    .dataframe thead th {\n",
       "        text-align: right;\n",
       "    }\n",
       "</style>\n",
       "<table border=\"1\" class=\"dataframe\">\n",
       "  <thead>\n",
       "    <tr style=\"text-align: right;\">\n",
       "      <th></th>\n",
       "      <th>payment_id</th>\n",
       "      <th>payment_type</th>\n",
       "      <th>num_payment</th>\n",
       "      <th>total_payment_value</th>\n",
       "      <th>is_current_version</th>\n",
       "    </tr>\n",
       "  </thead>\n",
       "  <tbody>\n",
       "    <tr>\n",
       "      <th>0</th>\n",
       "      <td>00010242fe8c5a6d1ba2dd792cb16214</td>\n",
       "      <td>credit_card</td>\n",
       "      <td>1</td>\n",
       "      <td>72190.0</td>\n",
       "      <td>True</td>\n",
       "    </tr>\n",
       "    <tr>\n",
       "      <th>1</th>\n",
       "      <td>00018f77f2f0320c557190d7a144bdd3</td>\n",
       "      <td>credit_card</td>\n",
       "      <td>1</td>\n",
       "      <td>259830.0</td>\n",
       "      <td>True</td>\n",
       "    </tr>\n",
       "    <tr>\n",
       "      <th>2</th>\n",
       "      <td>000229ec398224ef6ca0657da4fc703e</td>\n",
       "      <td>credit_card</td>\n",
       "      <td>1</td>\n",
       "      <td>216870.0</td>\n",
       "      <td>True</td>\n",
       "    </tr>\n",
       "    <tr>\n",
       "      <th>3</th>\n",
       "      <td>00024acbcdf0a6daa1e931b038114c75</td>\n",
       "      <td>credit_card</td>\n",
       "      <td>1</td>\n",
       "      <td>25780.0</td>\n",
       "      <td>True</td>\n",
       "    </tr>\n",
       "    <tr>\n",
       "      <th>4</th>\n",
       "      <td>00042b26cf59d7ce69dfabb4e55b4fd9</td>\n",
       "      <td>credit_card</td>\n",
       "      <td>1</td>\n",
       "      <td>218040.0</td>\n",
       "      <td>True</td>\n",
       "    </tr>\n",
       "  </tbody>\n",
       "</table>\n",
       "</div>"
      ],
      "text/plain": [
       "                         payment_id payment_type  num_payment  \\\n",
       "0  00010242fe8c5a6d1ba2dd792cb16214  credit_card            1   \n",
       "1  00018f77f2f0320c557190d7a144bdd3  credit_card            1   \n",
       "2  000229ec398224ef6ca0657da4fc703e  credit_card            1   \n",
       "3  00024acbcdf0a6daa1e931b038114c75  credit_card            1   \n",
       "4  00042b26cf59d7ce69dfabb4e55b4fd9  credit_card            1   \n",
       "\n",
       "   total_payment_value  is_current_version  \n",
       "0              72190.0                True  \n",
       "1             259830.0                True  \n",
       "2             216870.0                True  \n",
       "3              25780.0                True  \n",
       "4             218040.0                True  "
      ]
     },
     "execution_count": 23,
     "metadata": {},
     "output_type": "execute_result"
    }
   ],
   "source": [
    "payment = pd.read_sql_table(\"dim_payment\", conn, schema=\"warehouse\")\n",
    "payment.head()"
   ]
  },
  {
   "cell_type": "code",
   "execution_count": 24,
   "id": "valued-dynamics",
   "metadata": {},
   "outputs": [
    {
     "data": {
      "text/html": [
       "<div>\n",
       "<style scoped>\n",
       "    .dataframe tbody tr th:only-of-type {\n",
       "        vertical-align: middle;\n",
       "    }\n",
       "\n",
       "    .dataframe tbody tr th {\n",
       "        vertical-align: top;\n",
       "    }\n",
       "\n",
       "    .dataframe thead th {\n",
       "        text-align: right;\n",
       "    }\n",
       "</style>\n",
       "<table border=\"1\" class=\"dataframe\">\n",
       "  <thead>\n",
       "    <tr style=\"text-align: right;\">\n",
       "      <th></th>\n",
       "      <th>payment_id</th>\n",
       "      <th>payment_type</th>\n",
       "      <th>num_payment</th>\n",
       "      <th>total_payment_value</th>\n",
       "      <th>is_current_version</th>\n",
       "    </tr>\n",
       "  </thead>\n",
       "  <tbody>\n",
       "  </tbody>\n",
       "</table>\n",
       "</div>"
      ],
      "text/plain": [
       "Empty DataFrame\n",
       "Columns: [payment_id, payment_type, num_payment, total_payment_value, is_current_version]\n",
       "Index: []"
      ]
     },
     "execution_count": 24,
     "metadata": {},
     "output_type": "execute_result"
    }
   ],
   "source": [
    "# Check version error -> because only one time entry, all version should be current version\n",
    "payment_error = payment.loc[(payment.is_current_version == False)].payment_id\n",
    "payment.loc[payment.payment_id.isin(payment_error)]"
   ]
  },
  {
   "cell_type": "code",
   "execution_count": 25,
   "id": "excessive-warning",
   "metadata": {},
   "outputs": [
    {
     "data": {
      "text/plain": [
       "True"
      ]
     },
     "execution_count": 25,
     "metadata": {},
     "output_type": "execute_result"
    }
   ],
   "source": [
    "# All payment_id == order_id (+ different method of payment), means all should be unique \n",
    "payment.apply(\n",
    "        lambda x: x['payment_id'] +\"-\"+ str(x['payment_type']),\n",
    "        axis = 1\n",
    ").is_unique"
   ]
  },
  {
   "cell_type": "markdown",
   "id": "threatened-border",
   "metadata": {},
   "source": [
    "## Feedback Dimension"
   ]
  },
  {
   "cell_type": "code",
   "execution_count": 26,
   "id": "treated-falls",
   "metadata": {},
   "outputs": [
    {
     "data": {
      "text/html": [
       "<div>\n",
       "<style scoped>\n",
       "    .dataframe tbody tr th:only-of-type {\n",
       "        vertical-align: middle;\n",
       "    }\n",
       "\n",
       "    .dataframe tbody tr th {\n",
       "        vertical-align: top;\n",
       "    }\n",
       "\n",
       "    .dataframe thead th {\n",
       "        text-align: right;\n",
       "    }\n",
       "</style>\n",
       "<table border=\"1\" class=\"dataframe\">\n",
       "  <thead>\n",
       "    <tr style=\"text-align: right;\">\n",
       "      <th></th>\n",
       "      <th>feedback_id</th>\n",
       "      <th>avg_feedback_score</th>\n",
       "      <th>feedback_form_sent_date</th>\n",
       "      <th>feedback_answer_date</th>\n",
       "      <th>version</th>\n",
       "      <th>is_current_version</th>\n",
       "    </tr>\n",
       "  </thead>\n",
       "  <tbody>\n",
       "    <tr>\n",
       "      <th>0</th>\n",
       "      <td>00010242fe8c5a6d1ba2dd792cb16214</td>\n",
       "      <td>5.0</td>\n",
       "      <td>20170921</td>\n",
       "      <td>20170922</td>\n",
       "      <td>1</td>\n",
       "      <td>True</td>\n",
       "    </tr>\n",
       "    <tr>\n",
       "      <th>1</th>\n",
       "      <td>00018f77f2f0320c557190d7a144bdd3</td>\n",
       "      <td>4.0</td>\n",
       "      <td>20170513</td>\n",
       "      <td>20170515</td>\n",
       "      <td>1</td>\n",
       "      <td>True</td>\n",
       "    </tr>\n",
       "    <tr>\n",
       "      <th>2</th>\n",
       "      <td>000229ec398224ef6ca0657da4fc703e</td>\n",
       "      <td>5.0</td>\n",
       "      <td>20180123</td>\n",
       "      <td>20180123</td>\n",
       "      <td>1</td>\n",
       "      <td>True</td>\n",
       "    </tr>\n",
       "    <tr>\n",
       "      <th>3</th>\n",
       "      <td>00024acbcdf0a6daa1e931b038114c75</td>\n",
       "      <td>4.0</td>\n",
       "      <td>20180815</td>\n",
       "      <td>20180815</td>\n",
       "      <td>1</td>\n",
       "      <td>True</td>\n",
       "    </tr>\n",
       "    <tr>\n",
       "      <th>4</th>\n",
       "      <td>00042b26cf59d7ce69dfabb4e55b4fd9</td>\n",
       "      <td>5.0</td>\n",
       "      <td>20170302</td>\n",
       "      <td>20170303</td>\n",
       "      <td>1</td>\n",
       "      <td>True</td>\n",
       "    </tr>\n",
       "  </tbody>\n",
       "</table>\n",
       "</div>"
      ],
      "text/plain": [
       "                        feedback_id  avg_feedback_score  \\\n",
       "0  00010242fe8c5a6d1ba2dd792cb16214                 5.0   \n",
       "1  00018f77f2f0320c557190d7a144bdd3                 4.0   \n",
       "2  000229ec398224ef6ca0657da4fc703e                 5.0   \n",
       "3  00024acbcdf0a6daa1e931b038114c75                 4.0   \n",
       "4  00042b26cf59d7ce69dfabb4e55b4fd9                 5.0   \n",
       "\n",
       "   feedback_form_sent_date  feedback_answer_date  version  is_current_version  \n",
       "0                 20170921              20170922        1                True  \n",
       "1                 20170513              20170515        1                True  \n",
       "2                 20180123              20180123        1                True  \n",
       "3                 20180815              20180815        1                True  \n",
       "4                 20170302              20170303        1                True  "
      ]
     },
     "execution_count": 26,
     "metadata": {},
     "output_type": "execute_result"
    }
   ],
   "source": [
    "feedback = pd.read_sql_table(\"dim_feedback\", conn, schema=\"warehouse\")\n",
    "feedback.head()"
   ]
  },
  {
   "cell_type": "code",
   "execution_count": 27,
   "id": "impaired-minimum",
   "metadata": {},
   "outputs": [
    {
     "data": {
      "text/html": [
       "<div>\n",
       "<style scoped>\n",
       "    .dataframe tbody tr th:only-of-type {\n",
       "        vertical-align: middle;\n",
       "    }\n",
       "\n",
       "    .dataframe tbody tr th {\n",
       "        vertical-align: top;\n",
       "    }\n",
       "\n",
       "    .dataframe thead th {\n",
       "        text-align: right;\n",
       "    }\n",
       "</style>\n",
       "<table border=\"1\" class=\"dataframe\">\n",
       "  <thead>\n",
       "    <tr style=\"text-align: right;\">\n",
       "      <th></th>\n",
       "      <th>feedback_id</th>\n",
       "      <th>avg_feedback_score</th>\n",
       "      <th>feedback_form_sent_date</th>\n",
       "      <th>feedback_answer_date</th>\n",
       "      <th>version</th>\n",
       "      <th>is_current_version</th>\n",
       "    </tr>\n",
       "  </thead>\n",
       "  <tbody>\n",
       "  </tbody>\n",
       "</table>\n",
       "</div>"
      ],
      "text/plain": [
       "Empty DataFrame\n",
       "Columns: [feedback_id, avg_feedback_score, feedback_form_sent_date, feedback_answer_date, version, is_current_version]\n",
       "Index: []"
      ]
     },
     "execution_count": 27,
     "metadata": {},
     "output_type": "execute_result"
    }
   ],
   "source": [
    "# Check version error -> because only one time entry, all version should be current version\n",
    "feedback_error = feedback.loc[(feedback.is_current_version == False)].feedback_id\n",
    "feedback.loc[feedback.feedback_id.isin(feedback_error)]"
   ]
  },
  {
   "cell_type": "code",
   "execution_count": 28,
   "id": "magnetic-magnitude",
   "metadata": {},
   "outputs": [
    {
     "data": {
      "text/plain": [
       "True"
      ]
     },
     "execution_count": 28,
     "metadata": {},
     "output_type": "execute_result"
    }
   ],
   "source": [
    "feedback.feedback_id.is_unique"
   ]
  },
  {
   "cell_type": "markdown",
   "id": "recent-rover",
   "metadata": {},
   "source": [
    "## Order Items Fact Table"
   ]
  },
  {
   "cell_type": "code",
   "execution_count": 29,
   "id": "french-manual",
   "metadata": {},
   "outputs": [
    {
     "data": {
      "text/html": [
       "<div>\n",
       "<style scoped>\n",
       "    .dataframe tbody tr th:only-of-type {\n",
       "        vertical-align: middle;\n",
       "    }\n",
       "\n",
       "    .dataframe tbody tr th {\n",
       "        vertical-align: top;\n",
       "    }\n",
       "\n",
       "    .dataframe thead th {\n",
       "        text-align: right;\n",
       "    }\n",
       "</style>\n",
       "<table border=\"1\" class=\"dataframe\">\n",
       "  <thead>\n",
       "    <tr style=\"text-align: right;\">\n",
       "      <th></th>\n",
       "      <th>order_id</th>\n",
       "      <th>order_item_id</th>\n",
       "      <th>product_id</th>\n",
       "      <th>seller_id</th>\n",
       "      <th>feedback_id</th>\n",
       "      <th>payment_id</th>\n",
       "      <th>user_name</th>\n",
       "      <th>order_item_status</th>\n",
       "      <th>pickup_limit_date</th>\n",
       "      <th>order_date</th>\n",
       "      <th>order_approved_date</th>\n",
       "      <th>pickup_date</th>\n",
       "      <th>delivered_date</th>\n",
       "      <th>estimated_time_delivery</th>\n",
       "      <th>price</th>\n",
       "      <th>shipping_cost</th>\n",
       "    </tr>\n",
       "  </thead>\n",
       "  <tbody>\n",
       "    <tr>\n",
       "      <th>0</th>\n",
       "      <td>00061f2a7bc09da83e415a52dc8a4af1</td>\n",
       "      <td>1</td>\n",
       "      <td>d63c1011f49d98b976c352955b1c4bea</td>\n",
       "      <td>cc419e0650a3c5ba77189a1882b7556a</td>\n",
       "      <td>00061f2a7bc09da83e415a52dc8a4af1</td>\n",
       "      <td>00061f2a7bc09da83e415a52dc8a4af1</td>\n",
       "      <td>107e6259485efac66428a56f10801f4f</td>\n",
       "      <td>delivered</td>\n",
       "      <td>20180329</td>\n",
       "      <td>20180324</td>\n",
       "      <td>20180324.0</td>\n",
       "      <td>20180327.0</td>\n",
       "      <td>20180329.0</td>\n",
       "      <td>20180409</td>\n",
       "      <td>59990.0</td>\n",
       "      <td>8880.0</td>\n",
       "    </tr>\n",
       "    <tr>\n",
       "      <th>1</th>\n",
       "      <td>0009c9a17f916a706d71784483a5d643</td>\n",
       "      <td>1</td>\n",
       "      <td>3f27ac8e699df3d300ec4a5d8c5cf0b2</td>\n",
       "      <td>fcb5ace8bcc92f75707dc0f01a27d269</td>\n",
       "      <td>0009c9a17f916a706d71784483a5d643</td>\n",
       "      <td>0009c9a17f916a706d71784483a5d643</td>\n",
       "      <td>6062db572f3ef38b7a8ff4307abbfad3</td>\n",
       "      <td>delivered</td>\n",
       "      <td>20180502</td>\n",
       "      <td>20180425</td>\n",
       "      <td>20180425.0</td>\n",
       "      <td>20180427.0</td>\n",
       "      <td>20180430.0</td>\n",
       "      <td>20180509</td>\n",
       "      <td>639000.0</td>\n",
       "      <td>11340.0</td>\n",
       "    </tr>\n",
       "    <tr>\n",
       "      <th>2</th>\n",
       "      <td>000e906b789b55f64edcb1f84030f90d</td>\n",
       "      <td>1</td>\n",
       "      <td>57d79905de06d8897872c551bfd09358</td>\n",
       "      <td>ea8482cd71df3c1969d7b9473ff13abc</td>\n",
       "      <td>000e906b789b55f64edcb1f84030f90d</td>\n",
       "      <td>000e906b789b55f64edcb1f84030f90d</td>\n",
       "      <td>3588484a539617d91500764822230fb6</td>\n",
       "      <td>delivered</td>\n",
       "      <td>20171127</td>\n",
       "      <td>20171121</td>\n",
       "      <td>20171121.0</td>\n",
       "      <td>20171122.0</td>\n",
       "      <td>20171209.0</td>\n",
       "      <td>20171207</td>\n",
       "      <td>21990.0</td>\n",
       "      <td>11850.0</td>\n",
       "    </tr>\n",
       "    <tr>\n",
       "      <th>3</th>\n",
       "      <td>000f25f4d72195062c040b12dce9a18a</td>\n",
       "      <td>1</td>\n",
       "      <td>1c05e0964302b6cf68ca0d15f326c6ba</td>\n",
       "      <td>7c67e1448b00f6e969d365cea6b010ab</td>\n",
       "      <td>000f25f4d72195062c040b12dce9a18a</td>\n",
       "      <td>000f25f4d72195062c040b12dce9a18a</td>\n",
       "      <td>1a6cbc34ea404cb0af7ed74df0999354</td>\n",
       "      <td>delivered</td>\n",
       "      <td>20180321</td>\n",
       "      <td>20180307</td>\n",
       "      <td>20180307.0</td>\n",
       "      <td>20180316.0</td>\n",
       "      <td>20180322.0</td>\n",
       "      <td>20180411</td>\n",
       "      <td>119990.0</td>\n",
       "      <td>44400.0</td>\n",
       "    </tr>\n",
       "    <tr>\n",
       "      <th>4</th>\n",
       "      <td>0014ae671de39511f7575066200733b7</td>\n",
       "      <td>1</td>\n",
       "      <td>23365beed316535b4105bd800c46670e</td>\n",
       "      <td>92eb0f42c21942b6552362b9b114707d</td>\n",
       "      <td>0014ae671de39511f7575066200733b7</td>\n",
       "      <td>0014ae671de39511f7575066200733b7</td>\n",
       "      <td>8e5a8d9363eb6296154b65750c8702ca</td>\n",
       "      <td>delivered</td>\n",
       "      <td>20170529</td>\n",
       "      <td>20170522</td>\n",
       "      <td>20170523.0</td>\n",
       "      <td>20170529.0</td>\n",
       "      <td>20170607.0</td>\n",
       "      <td>20170613</td>\n",
       "      <td>16500.0</td>\n",
       "      <td>14100.0</td>\n",
       "    </tr>\n",
       "  </tbody>\n",
       "</table>\n",
       "</div>"
      ],
      "text/plain": [
       "                           order_id  order_item_id  \\\n",
       "0  00061f2a7bc09da83e415a52dc8a4af1              1   \n",
       "1  0009c9a17f916a706d71784483a5d643              1   \n",
       "2  000e906b789b55f64edcb1f84030f90d              1   \n",
       "3  000f25f4d72195062c040b12dce9a18a              1   \n",
       "4  0014ae671de39511f7575066200733b7              1   \n",
       "\n",
       "                         product_id                         seller_id  \\\n",
       "0  d63c1011f49d98b976c352955b1c4bea  cc419e0650a3c5ba77189a1882b7556a   \n",
       "1  3f27ac8e699df3d300ec4a5d8c5cf0b2  fcb5ace8bcc92f75707dc0f01a27d269   \n",
       "2  57d79905de06d8897872c551bfd09358  ea8482cd71df3c1969d7b9473ff13abc   \n",
       "3  1c05e0964302b6cf68ca0d15f326c6ba  7c67e1448b00f6e969d365cea6b010ab   \n",
       "4  23365beed316535b4105bd800c46670e  92eb0f42c21942b6552362b9b114707d   \n",
       "\n",
       "                        feedback_id                        payment_id  \\\n",
       "0  00061f2a7bc09da83e415a52dc8a4af1  00061f2a7bc09da83e415a52dc8a4af1   \n",
       "1  0009c9a17f916a706d71784483a5d643  0009c9a17f916a706d71784483a5d643   \n",
       "2  000e906b789b55f64edcb1f84030f90d  000e906b789b55f64edcb1f84030f90d   \n",
       "3  000f25f4d72195062c040b12dce9a18a  000f25f4d72195062c040b12dce9a18a   \n",
       "4  0014ae671de39511f7575066200733b7  0014ae671de39511f7575066200733b7   \n",
       "\n",
       "                          user_name order_item_status  pickup_limit_date  \\\n",
       "0  107e6259485efac66428a56f10801f4f         delivered           20180329   \n",
       "1  6062db572f3ef38b7a8ff4307abbfad3         delivered           20180502   \n",
       "2  3588484a539617d91500764822230fb6         delivered           20171127   \n",
       "3  1a6cbc34ea404cb0af7ed74df0999354         delivered           20180321   \n",
       "4  8e5a8d9363eb6296154b65750c8702ca         delivered           20170529   \n",
       "\n",
       "   order_date  order_approved_date  pickup_date  delivered_date  \\\n",
       "0    20180324           20180324.0   20180327.0      20180329.0   \n",
       "1    20180425           20180425.0   20180427.0      20180430.0   \n",
       "2    20171121           20171121.0   20171122.0      20171209.0   \n",
       "3    20180307           20180307.0   20180316.0      20180322.0   \n",
       "4    20170522           20170523.0   20170529.0      20170607.0   \n",
       "\n",
       "   estimated_time_delivery     price  shipping_cost  \n",
       "0                 20180409   59990.0         8880.0  \n",
       "1                 20180509  639000.0        11340.0  \n",
       "2                 20171207   21990.0        11850.0  \n",
       "3                 20180411  119990.0        44400.0  \n",
       "4                 20170613   16500.0        14100.0  "
      ]
     },
     "execution_count": 29,
     "metadata": {},
     "output_type": "execute_result"
    }
   ],
   "source": [
    "fct = pd.read_sql_table(\"fct_order_item\", conn, schema=\"warehouse\")\n",
    "fct.head()"
   ]
  },
  {
   "cell_type": "code",
   "execution_count": 30,
   "id": "banner-failure",
   "metadata": {},
   "outputs": [
    {
     "data": {
      "text/plain": [
       "112650"
      ]
     },
     "execution_count": 30,
     "metadata": {},
     "output_type": "execute_result"
    }
   ],
   "source": [
    "fct.shape[0]"
   ]
  },
  {
   "cell_type": "code",
   "execution_count": 31,
   "id": "endless-hunger",
   "metadata": {},
   "outputs": [
    {
     "name": "stdout",
     "output_type": "stream",
     "text": [
      "Not all product have reference to the product dimension\n",
      "Missing : 222\n"
     ]
    }
   ],
   "source": [
    "# Check connection to the product_id\n",
    "\n",
    "all_products_id = fct.product_id.unique()\n",
    "dim_id = product.loc[product.is_current_version == True].product_id.unique()\n",
    "check = [elem in dim_id  for elem in all_products_id]\n",
    "if all(check):\n",
    "    print(\"All product have reference to the product dimension\")\n",
    "else : \n",
    "    print(\"Not all product have reference to the product dimension\")\n",
    "    count = 0\n",
    "    for elem in check:\n",
    "        if not elem:\n",
    "            count+=1\n",
    "    print(\"Missing :\", count)"
   ]
  },
  {
   "cell_type": "code",
   "execution_count": 32,
   "id": "seeing-threat",
   "metadata": {},
   "outputs": [
    {
     "name": "stdout",
     "output_type": "stream",
     "text": [
      "Not all seller have reference to the product dimension\n",
      "Missing : 42\n"
     ]
    }
   ],
   "source": [
    "# Check connection to the product_id\n",
    "\n",
    "all_sellers_id = fct.seller_id.unique()\n",
    "dim_id = seller.loc[seller.is_current_version == True].seller_id.unique()    \n",
    "check = [elem in dim_id  for elem in all_sellers_id]\n",
    "if all(check):\n",
    "    print(\"All seller have reference to the product dimension\")\n",
    "else : \n",
    "    print(\"Not all seller have reference to the product dimension\")\n",
    "    count = 0\n",
    "    for elem in check:\n",
    "        if not elem:\n",
    "            count+=1\n",
    "    print(\"Missing :\", count)"
   ]
  },
  {
   "cell_type": "code",
   "execution_count": null,
   "id": "quiet-pierre",
   "metadata": {},
   "outputs": [],
   "source": [
    "# Check connection to the user who bought the item\n",
    "\n",
    "all_username = fct.user_name.unique()\n",
    "dim_id = user.loc[user.is_current_version == True].user_name.unique()    \n",
    "check = [elem in dim_id  for elem in all_username]\n",
    "if all(check):\n",
    "    print(\"All user have reference to the product dimension\")\n",
    "else : \n",
    "    print(\"Not all user have reference to the product dimension\")\n",
    "    count = 0\n",
    "    for elem in check:\n",
    "        if not elem:\n",
    "            count+=1\n",
    "    print(\"Missing :\", sum(count))"
   ]
  },
  {
   "cell_type": "code",
   "execution_count": null,
   "id": "handed-birthday",
   "metadata": {},
   "outputs": [],
   "source": [
    "# Check connection to the payment who have reference using order id\n",
    "all_order = fct.order_id.unique()\n",
    "dim_id = payment.loc[payment.is_current_version == True].payment_id.unique()    \n",
    "check = [elem in dim_id  for elem in all_order]\n",
    "if all(check):\n",
    "    print(\"All payment order id have reference to the product dimension\")\n",
    "else : \n",
    "    print(\"Not all payment order id have reference to the product dimension\")\n",
    "    count = 0\n",
    "    for elem in check:\n",
    "        if not elem:\n",
    "            count+=1\n",
    "    print(\"Missing :\", sum(count))"
   ]
  },
  {
   "cell_type": "code",
   "execution_count": null,
   "id": "charged-musical",
   "metadata": {},
   "outputs": [],
   "source": [
    "# Check connection to the feedback using reference using order id\n",
    "all_order = fct.order_id.unique()\n",
    "dim_id = feedback.loc[feedback.is_current_version == True].feedback_id.unique()    \n",
    "check = [elem in dim_id  for elem in all_order]\n",
    "if all(check):\n",
    "    print(\"All feedback order id have reference to the product dimension\")\n",
    "else : \n",
    "    print(\"Not all feedback order id have reference to the product dimension\")\n",
    "    count = 0\n",
    "    for elem in check:\n",
    "        if not elem:\n",
    "            count+=1\n",
    "    print(\"Missing :\", sum(count))"
   ]
  },
  {
   "cell_type": "code",
   "execution_count": null,
   "id": "narrow-speed",
   "metadata": {},
   "outputs": [],
   "source": [
    "# Making sure the primary key for the fact table\n",
    "fct.apply(\n",
    "        lambda x: x['order_id'] +\"-\"+ str(x['order_item_id']),\n",
    "        axis = 1\n",
    ").is_unique"
   ]
  },
  {
   "cell_type": "code",
   "execution_count": null,
   "id": "ceramic-headquarters",
   "metadata": {},
   "outputs": [],
   "source": []
  }
 ],
 "metadata": {
  "kernelspec": {
   "display_name": "Python 3",
   "language": "python",
   "name": "python3"
  },
  "language_info": {
   "codemirror_mode": {
    "name": "ipython",
    "version": 3
   },
   "file_extension": ".py",
   "mimetype": "text/x-python",
   "name": "python",
   "nbconvert_exporter": "python",
   "pygments_lexer": "ipython3",
   "version": "3.9.0"
  }
 },
 "nbformat": 4,
 "nbformat_minor": 5
}
