{
 "cells": [
  {
   "cell_type": "markdown",
   "metadata": {
    "colab_type": "text",
    "id": "view-in-github"
   },
   "source": [
    "<a href=\"https://colab.research.google.com/github/William9923/future-data-ecommerce/blob/master/notebooks/13_02_2021DatasetRelationshipExploration.ipynb\" target=\"_parent\"><img src=\"https://colab.research.google.com/assets/colab-badge.svg\" alt=\"Open In Colab\"/></a>"
   ]
  },
  {
   "cell_type": "markdown",
   "metadata": {
    "id": "ySAgqzcmfIfl"
   },
   "source": [
    "# Data Exploration\n",
    "\n",
    "Goal : \n",
    "* Finding relationship and understanding data context\n",
    "* Exploring data for database creation context\n"
   ]
  },
  {
   "cell_type": "markdown",
   "metadata": {
    "id": "m6Er_MNpfFrg"
   },
   "source": [
    "## Importing Libraries"
   ]
  },
  {
   "cell_type": "code",
   "execution_count": 1,
   "metadata": {
    "id": "mjddU4lUaDgA"
   },
   "outputs": [],
   "source": [
    "#ignore warnings\n",
    "import warnings\n",
    "warnings.filterwarnings('ignore')\n",
    "\n",
    "from IPython.core.interactiveshell import InteractiveShell\n",
    "InteractiveShell.ast_node_interactivity = \"all\"\n",
    "\n",
    "import pandas as pd"
   ]
  },
  {
   "cell_type": "code",
   "execution_count": 2,
   "metadata": {
    "id": "tUxD43pCfvWG"
   },
   "outputs": [],
   "source": [
    "def profilling(df, filename):\n",
    "  # importing sweetviz\n",
    "  import sweetviz as sv                 #analyzing the dataset\n",
    "  advert_report = sv.analyze(df)  #display the report\n",
    "  advert_report.show_html(filename)"
   ]
  },
  {
   "cell_type": "code",
   "execution_count": 3,
   "metadata": {
    "id": "JX4-NsJvgDlv"
   },
   "outputs": [],
   "source": [
    "def show_missing_data(df):\n",
    "    print(f\"Shape : {df.shape}\")\n",
    "    print(f\"Missing Data : {df.isnull().sum()}\")\n",
    "    return None"
   ]
  },
  {
   "cell_type": "markdown",
   "metadata": {
    "id": "rwBhtdWHfSMt"
   },
   "source": [
    "## Importing Data\n"
   ]
  },
  {
   "cell_type": "code",
   "execution_count": 4,
   "metadata": {
    "id": "QdrZHj7bfH54"
   },
   "outputs": [
    {
     "output_type": "stream",
     "name": "stdout",
     "text": [
      "Loading Dataset ...\n",
      "Finish...\n"
     ]
    }
   ],
   "source": [
    "print(\"Loading Dataset ...\")\n",
    "\n",
    "data_folder = \"data/raw/\"\n",
    "\n",
    "user = pd.read_csv(data_folder + \"user_dataset.csv\")\n",
    "order = pd.read_csv(data_folder + \"order_dataset.csv\")\n",
    "order_item = pd.read_csv(data_folder + \"order_item_dataset.csv\")\n",
    "payment = pd.read_csv(data_folder + \"payment_dataset.csv\")\n",
    "products = pd.read_csv(data_folder + \"products_dataset.csv\")\n",
    "seller = pd.read_csv(data_folder + \"seller_dataset.csv\")\n",
    "feedback = pd.read_csv(data_folder + \"feedback_dataset.csv\")\n",
    "\n",
    "print(\"Finish...\")"
   ]
  },
  {
   "cell_type": "code",
   "execution_count": null,
   "metadata": {
    "id": "ptcyY6OTgYT5"
   },
   "outputs": [],
   "source": [
    "dataset = [user, order, order_item, payment, products, seller, feedback]\n",
    "filenames = [\"User\", \"Order\", \"OrderItem\", \"Payment\", \"Products\", \"Seller\", \"Feedback\"]\n",
    "\n",
    "report_folder = 'reports/docs/'\n",
    "\n",
    "for data, filename in zip(dataset, filenames) :\n",
    "  profilling(data, filename + \".html\")"
   ]
  },
  {
   "cell_type": "markdown",
   "metadata": {
    "id": "ZBTaPGEpysww"
   },
   "source": [
    "## Single Entity Exploration"
   ]
  },
  {
   "cell_type": "markdown",
   "metadata": {
    "id": "NJ9StUmNgEso"
   },
   "source": [
    "### User Dataset Exploration"
   ]
  },
  {
   "cell_type": "code",
   "execution_count": 5,
   "metadata": {
    "id": "BYJNam3FftEO"
   },
   "outputs": [
    {
     "output_type": "stream",
     "name": "stdout",
     "text": [
      "Missing Data | User : \nShape : (99441, 4)\nMissing Data : user_name            0\ncustomer_zip_code    0\ncustomer_city        0\ncustomer_state       0\ndtype: int64\n"
     ]
    }
   ],
   "source": [
    "print(\"Missing Data | User : \")\n",
    "show_missing_data(user)"
   ]
  },
  {
   "cell_type": "code",
   "execution_count": 6,
   "metadata": {
    "id": "tbsAWWuShnXy"
   },
   "outputs": [
    {
     "output_type": "stream",
     "name": "stdout",
     "text": [
      "<class 'pandas.core.frame.DataFrame'>\nRangeIndex: 99441 entries, 0 to 99440\nData columns (total 4 columns):\n #   Column             Non-Null Count  Dtype \n---  ------             --------------  ----- \n 0   user_name          99441 non-null  object\n 1   customer_zip_code  99441 non-null  int64 \n 2   customer_city      99441 non-null  object\n 3   customer_state     99441 non-null  object\ndtypes: int64(1), object(3)\nmemory usage: 3.0+ MB\n"
     ]
    }
   ],
   "source": [
    "user.info()"
   ]
  },
  {
   "cell_type": "code",
   "execution_count": 7,
   "metadata": {
    "id": "60eWeIsegLUl"
   },
   "outputs": [
    {
     "output_type": "execute_result",
     "data": {
      "text/plain": [
       "                          user_name  customer_zip_code  \\\n",
       "0  861eff4711a542e4b93843c6dd7febb0              14409   \n",
       "1  290c77bc529b7ac935b93aa66c333dc3               9790   \n",
       "2  060e732b5b29e8181a18229c7b0b2b5e               1151   \n",
       "3  259dac757896d24d7702b9acbbff3f3c               8775   \n",
       "4  345ecd01c38d18a9036ed96c73b8d066              13056   \n",
       "\n",
       "             customer_city customer_state  \n",
       "0     KABUPATEN PEKALONGAN    JAWA TENGAH  \n",
       "1              KOTA BEKASI     JAWA BARAT  \n",
       "2           KOTA TANGERANG         BANTEN  \n",
       "3  KABUPATEN BANDUNG BARAT     JAWA BARAT  \n",
       "4       KOTA JAKARTA TIMUR    DKI JAKARTA  "
      ],
      "text/html": "<div>\n<style scoped>\n    .dataframe tbody tr th:only-of-type {\n        vertical-align: middle;\n    }\n\n    .dataframe tbody tr th {\n        vertical-align: top;\n    }\n\n    .dataframe thead th {\n        text-align: right;\n    }\n</style>\n<table border=\"1\" class=\"dataframe\">\n  <thead>\n    <tr style=\"text-align: right;\">\n      <th></th>\n      <th>user_name</th>\n      <th>customer_zip_code</th>\n      <th>customer_city</th>\n      <th>customer_state</th>\n    </tr>\n  </thead>\n  <tbody>\n    <tr>\n      <th>0</th>\n      <td>861eff4711a542e4b93843c6dd7febb0</td>\n      <td>14409</td>\n      <td>KABUPATEN PEKALONGAN</td>\n      <td>JAWA TENGAH</td>\n    </tr>\n    <tr>\n      <th>1</th>\n      <td>290c77bc529b7ac935b93aa66c333dc3</td>\n      <td>9790</td>\n      <td>KOTA BEKASI</td>\n      <td>JAWA BARAT</td>\n    </tr>\n    <tr>\n      <th>2</th>\n      <td>060e732b5b29e8181a18229c7b0b2b5e</td>\n      <td>1151</td>\n      <td>KOTA TANGERANG</td>\n      <td>BANTEN</td>\n    </tr>\n    <tr>\n      <th>3</th>\n      <td>259dac757896d24d7702b9acbbff3f3c</td>\n      <td>8775</td>\n      <td>KABUPATEN BANDUNG BARAT</td>\n      <td>JAWA BARAT</td>\n    </tr>\n    <tr>\n      <th>4</th>\n      <td>345ecd01c38d18a9036ed96c73b8d066</td>\n      <td>13056</td>\n      <td>KOTA JAKARTA TIMUR</td>\n      <td>DKI JAKARTA</td>\n    </tr>\n  </tbody>\n</table>\n</div>"
     },
     "metadata": {},
     "execution_count": 7
    }
   ],
   "source": [
    "user.head()"
   ]
  },
  {
   "cell_type": "code",
   "execution_count": 8,
   "metadata": {
    "id": "oXFKnMXrij6I"
   },
   "outputs": [
    {
     "output_type": "stream",
     "name": "stdout",
     "text": [
      "Total rows : 99441\nTotal unique rows (based on username) : 96096\nNumber of duplicate after processed : 3345\n"
     ]
    }
   ],
   "source": [
    "print(f\"Total rows : {user.shape[0]}\")\n",
    "print(f\"Total unique rows (based on username) : {user.user_name.nunique()}\")\n",
    "print(f\"Number of duplicate after processed : {user.duplicated(subset = ['user_name']).sum()}\")"
   ]
  },
  {
   "cell_type": "code",
   "execution_count": 9,
   "metadata": {
    "id": "3tBPJh06j_zk"
   },
   "outputs": [
    {
     "output_type": "execute_result",
     "data": {
      "text/plain": [
       "0    False\n",
       "1    False\n",
       "2    False\n",
       "3    False\n",
       "4    False\n",
       "dtype: bool"
      ]
     },
     "metadata": {},
     "execution_count": 9
    }
   ],
   "source": [
    "# Get all duplicate data\n",
    "user.duplicated(subset = ['user_name']).head()"
   ]
  },
  {
   "cell_type": "code",
   "execution_count": 10,
   "metadata": {
    "id": "LPUh7-PKkF64"
   },
   "outputs": [
    {
     "output_type": "execute_result",
     "data": {
      "text/plain": [
       "                              user_name  customer_zip_code  \\\n",
       "54643  2b6ce149982204423f4efac29701255a              31840   \n",
       "85949  2b6ce149982204423f4efac29701255a              31840   \n",
       "\n",
       "             customer_city customer_state  \n",
       "54643  KABUPATEN TANGERANG         BANTEN  \n",
       "85949  KABUPATEN TANGERANG         BANTEN  "
      ],
      "text/html": "<div>\n<style scoped>\n    .dataframe tbody tr th:only-of-type {\n        vertical-align: middle;\n    }\n\n    .dataframe tbody tr th {\n        vertical-align: top;\n    }\n\n    .dataframe thead th {\n        text-align: right;\n    }\n</style>\n<table border=\"1\" class=\"dataframe\">\n  <thead>\n    <tr style=\"text-align: right;\">\n      <th></th>\n      <th>user_name</th>\n      <th>customer_zip_code</th>\n      <th>customer_city</th>\n      <th>customer_state</th>\n    </tr>\n  </thead>\n  <tbody>\n    <tr>\n      <th>54643</th>\n      <td>2b6ce149982204423f4efac29701255a</td>\n      <td>31840</td>\n      <td>KABUPATEN TANGERANG</td>\n      <td>BANTEN</td>\n    </tr>\n    <tr>\n      <th>85949</th>\n      <td>2b6ce149982204423f4efac29701255a</td>\n      <td>31840</td>\n      <td>KABUPATEN TANGERANG</td>\n      <td>BANTEN</td>\n    </tr>\n  </tbody>\n</table>\n</div>"
     },
     "metadata": {},
     "execution_count": 10
    }
   ],
   "source": [
    "# Check single sample duplicate username\n",
    "user.loc[user.user_name == \"2b6ce149982204423f4efac29701255a\"]"
   ]
  },
  {
   "cell_type": "code",
   "execution_count": 11,
   "metadata": {
    "id": "AOi89kGMk23n"
   },
   "outputs": [],
   "source": [
    "user_no_duplicate = user.drop_duplicates(subset=['user_name'], keep=\"last\")\n",
    "user_no_duplicate.to_csv(\"data/processed/user_no_duplicate.csv\", index=False)"
   ]
  },
  {
   "cell_type": "code",
   "execution_count": 12,
   "metadata": {
    "id": "J013cig2lnHL"
   },
   "outputs": [
    {
     "output_type": "stream",
     "name": "stdout",
     "text": [
      "Number of duplicate after processed : 0\n"
     ]
    }
   ],
   "source": [
    "print(f\"Number of duplicate after processed : {user_no_duplicate.duplicated(subset = ['user_name']).sum()}\")"
   ]
  },
  {
   "cell_type": "markdown",
   "metadata": {
    "id": "ZQEbEPqEgO07"
   },
   "source": [
    "**Few Important Notes :**\n",
    "\n",
    "* user_name encoded\n",
    "* multiple same username (?)\n",
    "---\n",
    "**Data Types For Database:**\n",
    "\n",
    "* user_name : VARCHAR (PK)\n",
    "* customer_zip_code : VARCHAR\n",
    "* customer_city : VARCHAR\n",
    "* customer_state : VARCHAR\n",
    "---\n",
    "**Preprocess Procedure:**\n",
    "\n",
    "* drop_duplicate (use last entry as saved username)\n",
    "* ask the context of multiple zip_code"
   ]
  },
  {
   "cell_type": "markdown",
   "metadata": {
    "id": "8rVn4bKPmfDI"
   },
   "source": [
    "### Product Dataset Exploration"
   ]
  },
  {
   "cell_type": "code",
   "execution_count": 13,
   "metadata": {
    "id": "KdM4d5wjgMul"
   },
   "outputs": [
    {
     "output_type": "stream",
     "name": "stdout",
     "text": [
      "Missing Data | Product : \nShape : (32951, 9)\nMissing Data : product_id                      0\nproduct_category              623\nproduct_name_lenght           610\nproduct_description_lenght    610\nproduct_photos_qty            610\nproduct_weight_g                2\nproduct_length_cm               2\nproduct_height_cm               2\nproduct_width_cm                2\ndtype: int64\n"
     ]
    }
   ],
   "source": [
    "print(\"Missing Data | Product : \")\n",
    "show_missing_data(products)"
   ]
  },
  {
   "cell_type": "code",
   "execution_count": 14,
   "metadata": {
    "id": "BJJFxLagvkm1"
   },
   "outputs": [
    {
     "output_type": "stream",
     "name": "stdout",
     "text": [
      "<class 'pandas.core.frame.DataFrame'>\nRangeIndex: 32951 entries, 0 to 32950\nData columns (total 9 columns):\n #   Column                      Non-Null Count  Dtype  \n---  ------                      --------------  -----  \n 0   product_id                  32951 non-null  object \n 1   product_category            32328 non-null  object \n 2   product_name_lenght         32341 non-null  float64\n 3   product_description_lenght  32341 non-null  float64\n 4   product_photos_qty          32341 non-null  float64\n 5   product_weight_g            32949 non-null  float64\n 6   product_length_cm           32949 non-null  float64\n 7   product_height_cm           32949 non-null  float64\n 8   product_width_cm            32949 non-null  float64\ndtypes: float64(7), object(2)\nmemory usage: 2.3+ MB\n"
     ]
    }
   ],
   "source": [
    "products.info()"
   ]
  },
  {
   "cell_type": "code",
   "execution_count": 15,
   "metadata": {
    "id": "wVzR4Hldv6V2"
   },
   "outputs": [
    {
     "output_type": "stream",
     "name": "stdout",
     "text": [
      "Total rows : 32951\nTotal unique rows (based on product_id) : 32951\nNumber of duplicate after processed : 0\n"
     ]
    }
   ],
   "source": [
    "print(f\"Total rows : {products.shape[0]}\")\n",
    "print(f\"Total unique rows (based on product_id) : {products.product_id.nunique()}\")\n",
    "print(f\"Number of duplicate after processed : {products.duplicated(subset = ['product_id']).sum()}\")"
   ]
  },
  {
   "cell_type": "markdown",
   "metadata": {
    "id": "ITCcVvhCnBUZ"
   },
   "source": [
    "**Few Important Notes :**\n",
    "\n",
    "* missing data on some rows\n",
    "---\n",
    "**Data Types For Database:**\n",
    "\n",
    "* product_id : VARCHAR (PK)\n",
    "* product_category : INT\n",
    "* product_name_length : INT\n",
    "* product_description_length : INT\n",
    "* product_photos_qty  : INT\n",
    "* product_weight_g : FLOAT\n",
    "* product_height_cm : FLOAT\n",
    "* product_width_cm : FLOAT\n",
    "---\n",
    "**Preprocess Procedure:**\n",
    "\n",
    "* keep missing data (allow NULL on database)\n",
    "* rename columns (product_name_lenght -> product_name_length, product_description_lenght -> product_description_length)"
   ]
  },
  {
   "cell_type": "markdown",
   "metadata": {
    "id": "YM2PZugiwGGX"
   },
   "source": [
    "### Seller Dataset Exploration"
   ]
  },
  {
   "cell_type": "code",
   "execution_count": 16,
   "metadata": {
    "id": "g12jkZQ2wXcI"
   },
   "outputs": [
    {
     "output_type": "stream",
     "name": "stdout",
     "text": [
      "Missing Data | Seller : \nShape : (3095, 4)\nMissing Data : seller_id          0\nseller_zip_code    0\nseller_city        0\nseller_state       0\ndtype: int64\n"
     ]
    }
   ],
   "source": [
    "print(\"Missing Data | Seller : \")\n",
    "show_missing_data(seller)"
   ]
  },
  {
   "cell_type": "code",
   "execution_count": 17,
   "metadata": {
    "id": "0ZIDclz4wcJu"
   },
   "outputs": [
    {
     "output_type": "stream",
     "name": "stdout",
     "text": [
      "<class 'pandas.core.frame.DataFrame'>\nRangeIndex: 3095 entries, 0 to 3094\nData columns (total 4 columns):\n #   Column           Non-Null Count  Dtype \n---  ------           --------------  ----- \n 0   seller_id        3095 non-null   object\n 1   seller_zip_code  3095 non-null   int64 \n 2   seller_city      3095 non-null   object\n 3   seller_state     3095 non-null   object\ndtypes: int64(1), object(3)\nmemory usage: 96.8+ KB\n"
     ]
    }
   ],
   "source": [
    "seller.info()"
   ]
  },
  {
   "cell_type": "markdown",
   "metadata": {
    "id": "u8ET8BCqwUP9"
   },
   "source": [
    "**Few Important Notes :**\n",
    "\n",
    "---\n",
    "**Data Types For Database:**\n",
    "\n",
    "* seller_id : VARCHAR (PK)\n",
    "* seller_zip_code : VARCHAR\n",
    "* seller_city : VARCHAR\n",
    "* seller_state : VARCHAR\n",
    "---\n",
    "**Preprocess Procedure:**\n",
    "-"
   ]
  },
  {
   "cell_type": "markdown",
   "metadata": {
    "id": "oFJ5EMJow0ew"
   },
   "source": [
    "### Order Dataset Exploration"
   ]
  },
  {
   "cell_type": "code",
   "execution_count": 18,
   "metadata": {
    "id": "nlRQd_ASy3to"
   },
   "outputs": [
    {
     "output_type": "stream",
     "name": "stdout",
     "text": [
      "Missing Data | Order : \nShape : (99441, 8)\nMissing Data : order_id                      0\nuser_name                     0\norder_status                  0\norder_date                    0\norder_approved_date         160\npickup_date                1783\ndelivered_date             2965\nestimated_time_delivery       0\ndtype: int64\n"
     ]
    }
   ],
   "source": [
    "print(\"Missing Data | Order : \")\n",
    "show_missing_data(order)"
   ]
  },
  {
   "cell_type": "code",
   "execution_count": 19,
   "metadata": {
    "id": "HW43RyJFy9bC"
   },
   "outputs": [
    {
     "output_type": "stream",
     "name": "stdout",
     "text": [
      "<class 'pandas.core.frame.DataFrame'>\nRangeIndex: 99441 entries, 0 to 99440\nData columns (total 8 columns):\n #   Column                   Non-Null Count  Dtype \n---  ------                   --------------  ----- \n 0   order_id                 99441 non-null  object\n 1   user_name                99441 non-null  object\n 2   order_status             99441 non-null  object\n 3   order_date               99441 non-null  object\n 4   order_approved_date      99281 non-null  object\n 5   pickup_date              97658 non-null  object\n 6   delivered_date           96476 non-null  object\n 7   estimated_time_delivery  99441 non-null  object\ndtypes: object(8)\nmemory usage: 6.1+ MB\n"
     ]
    }
   ],
   "source": [
    "order.info()"
   ]
  },
  {
   "cell_type": "code",
   "execution_count": 20,
   "metadata": {
    "id": "1N07smYB0nfS"
   },
   "outputs": [
    {
     "output_type": "stream",
     "name": "stdout",
     "text": [
      "Total rows : 99441\nTotal unique rows (based on product_id) : 99441\nNumber of duplicate after processed : 0\n"
     ]
    }
   ],
   "source": [
    "print(f\"Total rows : {order.shape[0]}\")\n",
    "print(f\"Total unique rows (based on product_id) : {order.order_id.nunique()}\")\n",
    "print(f\"Number of duplicate after processed : {order.duplicated(subset = ['order_id']).sum()}\")"
   ]
  },
  {
   "cell_type": "markdown",
   "metadata": {
    "id": "4NwnLhT1yffn"
   },
   "source": [
    "**Few Important Notes :**\n",
    "* Some missing value in order_approved_date, pickup_date, delivered_date, estimated_time_delivery\n",
    "---\n",
    "**Data Types For Database:**\n",
    "\n",
    "* order_id : VARCHAR (PK)\n",
    "* user_name : VARCHAR\n",
    "* order_status : VARCHAR\n",
    "* order_date : VARCHAR\n",
    "* order_approved_date : TIMESTAMP\n",
    "* pickup_date : TIMESTAMP\n",
    "* delivered_date : TIMESTAMP\n",
    "* estimated_time_delivery : TIMESTAMP\n",
    "---\n",
    "**Preprocess Procedure:**\n",
    "* keep missing data (allow NULL on database)"
   ]
  },
  {
   "cell_type": "markdown",
   "metadata": {
    "id": "tF-KuIDcw-7K"
   },
   "source": [
    "### Order Item Dataset Exploration"
   ]
  },
  {
   "cell_type": "code",
   "execution_count": 21,
   "metadata": {
    "id": "svwcZDJU325q"
   },
   "outputs": [
    {
     "output_type": "stream",
     "name": "stdout",
     "text": [
      "Missing Data | Order Item: \nShape : (112650, 7)\nMissing Data : order_id             0\norder_item_id        0\nproduct_id           0\nseller_id            0\npickup_limit_date    0\nprice                0\nshipping_cost        0\ndtype: int64\n"
     ]
    }
   ],
   "source": [
    "print(\"Missing Data | Order Item: \")\n",
    "show_missing_data(order_item)"
   ]
  },
  {
   "cell_type": "code",
   "execution_count": 22,
   "metadata": {
    "id": "4dJXt9Hp37w1"
   },
   "outputs": [
    {
     "output_type": "stream",
     "name": "stdout",
     "text": [
      "<class 'pandas.core.frame.DataFrame'>\nRangeIndex: 112650 entries, 0 to 112649\nData columns (total 7 columns):\n #   Column             Non-Null Count   Dtype  \n---  ------             --------------   -----  \n 0   order_id           112650 non-null  object \n 1   order_item_id      112650 non-null  int64  \n 2   product_id         112650 non-null  object \n 3   seller_id          112650 non-null  object \n 4   pickup_limit_date  112650 non-null  object \n 5   price              112650 non-null  float64\n 6   shipping_cost      112650 non-null  float64\ndtypes: float64(2), int64(1), object(4)\nmemory usage: 6.0+ MB\n"
     ]
    }
   ],
   "source": [
    "order_item.info()"
   ]
  },
  {
   "cell_type": "code",
   "execution_count": 23,
   "metadata": {
    "id": "U9DhK1Sc3-HQ"
   },
   "outputs": [
    {
     "output_type": "stream",
     "name": "stdout",
     "text": [
      "Testing PK : Order Id\n",
      "Total rows : 112650\n",
      "Total unique rows (based on order_item_id) : 98666\n",
      "Number of duplicate after processed : 13984\n",
      "--------------------\n",
      "Testing PK : Order Item Id\n",
      "Total rows : 112650\n",
      "Total unique rows (based on order_item_id) : 21\n",
      "Number of duplicate after processed : 112629\n",
      "--------------------\n",
      "Testing PK : Composite(order_id, order_item_id)\n",
      "Total rows : 112650\n",
      "Total unique rows (based on order_item_id) : order_item_id       21\n",
      "order_id         98666\n",
      "dtype: int64\n",
      "Number of duplicate after processed : 0\n"
     ]
    }
   ],
   "source": [
    "# Checking Primary Key\n",
    "print(\"Testing PK : Order Id\")\n",
    "print(f\"Total rows : {order_item.shape[0]}\")\n",
    "print(f\"Total unique rows (based on order_item_id) : {order_item.order_id.nunique()}\")\n",
    "print(f\"Number of duplicate after processed : {order_item.duplicated(subset = ['order_id']).sum()}\")\n",
    "print('-' * 20)\n",
    "\n",
    "print(\"Testing PK : Order Item Id\")\n",
    "print(f\"Total rows : {order_item.shape[0]}\")\n",
    "print(f\"Total unique rows (based on order_item_id) : {order_item.order_item_id.nunique()}\")\n",
    "print(f\"Number of duplicate after processed : {order_item.duplicated(subset = ['order_item_id']).sum()}\")\n",
    "print('-' * 20)\n",
    "\n",
    "print(\"Testing PK : Composite(order_id, order_item_id)\")\n",
    "print(f\"Total rows : {order_item.shape[0]}\")\n",
    "print(f\"Total unique rows (based on order_item_id) : {order_item[['order_item_id', 'order_id']].nunique()}\")\n",
    "print(f\"Number of duplicate after processed : {order_item.duplicated(subset = ['order_item_id', 'order_id']).sum()}\")"
   ]
  },
  {
   "cell_type": "markdown",
   "metadata": {
    "id": "CmUSyV4Oygkl"
   },
   "source": [
    "**Few Important Notes :**\n",
    "* what is order_item_id? \n",
    "* PK is composite key of order_id & order_item_id\n",
    "---\n",
    "**Data Types For Database:**\n",
    "\n",
    "* order_id : VARCHAR\n",
    "* order_item_id : INT\n",
    "* product_id : VARCHAR\n",
    "* seller_id : VARCHAR\n",
    "* pickup_limit_date : TIMESTAMP\n",
    "* price : FLOAT\n",
    "* shipping_cost : FLOAT\n",
    "---\n",
    "**Preprocess Procedure:**\n",
    "-"
   ]
  },
  {
   "cell_type": "markdown",
   "metadata": {
    "id": "pVlb4m1_yVag"
   },
   "source": [
    "### Payment Dataset Exploration"
   ]
  },
  {
   "cell_type": "code",
   "execution_count": 24,
   "metadata": {
    "id": "4VCu8tQk5n2M"
   },
   "outputs": [
    {
     "output_type": "stream",
     "name": "stdout",
     "text": [
      "Missing Data | Payment: \nShape : (103886, 5)\nMissing Data : order_id                0\npayment_sequential      0\npayment_type            0\npayment_installments    0\npayment_value           0\ndtype: int64\n"
     ]
    }
   ],
   "source": [
    "print(\"Missing Data | Payment: \")\n",
    "show_missing_data(payment)"
   ]
  },
  {
   "cell_type": "code",
   "execution_count": 25,
   "metadata": {
    "id": "zUmSySEL5zCq"
   },
   "outputs": [
    {
     "output_type": "stream",
     "name": "stdout",
     "text": [
      "<class 'pandas.core.frame.DataFrame'>\nRangeIndex: 103886 entries, 0 to 103885\nData columns (total 5 columns):\n #   Column                Non-Null Count   Dtype  \n---  ------                --------------   -----  \n 0   order_id              103886 non-null  object \n 1   payment_sequential    103886 non-null  int64  \n 2   payment_type          103886 non-null  object \n 3   payment_installments  103886 non-null  int64  \n 4   payment_value         103886 non-null  float64\ndtypes: float64(1), int64(2), object(2)\nmemory usage: 4.0+ MB\n"
     ]
    }
   ],
   "source": [
    "payment.info()"
   ]
  },
  {
   "cell_type": "code",
   "execution_count": 26,
   "metadata": {
    "id": "GGwftOwP5zKi"
   },
   "outputs": [
    {
     "output_type": "execute_result",
     "data": {
      "text/plain": [
       "                           order_id  payment_sequential payment_type  \\\n",
       "0  b81ef226f3fe1789b1e8b2acac839d17                   1  credit_card   \n",
       "1  a9810da82917af2d9aefd1278f1dcfa0                   1  credit_card   \n",
       "2  25e8ea4e93396b6fa0d3dd708e76c1bd                   1  credit_card   \n",
       "3  ba78997921bbcdc1373bb41e913ab953                   1  credit_card   \n",
       "4  42fdf880ba16b47b59251dd489d4441a                   1  credit_card   \n",
       "\n",
       "   payment_installments  payment_value  \n",
       "0                     8        99330.0  \n",
       "1                     1        24390.0  \n",
       "2                     1        65710.0  \n",
       "3                     8       107780.0  \n",
       "4                     2       128450.0  "
      ],
      "text/html": "<div>\n<style scoped>\n    .dataframe tbody tr th:only-of-type {\n        vertical-align: middle;\n    }\n\n    .dataframe tbody tr th {\n        vertical-align: top;\n    }\n\n    .dataframe thead th {\n        text-align: right;\n    }\n</style>\n<table border=\"1\" class=\"dataframe\">\n  <thead>\n    <tr style=\"text-align: right;\">\n      <th></th>\n      <th>order_id</th>\n      <th>payment_sequential</th>\n      <th>payment_type</th>\n      <th>payment_installments</th>\n      <th>payment_value</th>\n    </tr>\n  </thead>\n  <tbody>\n    <tr>\n      <th>0</th>\n      <td>b81ef226f3fe1789b1e8b2acac839d17</td>\n      <td>1</td>\n      <td>credit_card</td>\n      <td>8</td>\n      <td>99330.0</td>\n    </tr>\n    <tr>\n      <th>1</th>\n      <td>a9810da82917af2d9aefd1278f1dcfa0</td>\n      <td>1</td>\n      <td>credit_card</td>\n      <td>1</td>\n      <td>24390.0</td>\n    </tr>\n    <tr>\n      <th>2</th>\n      <td>25e8ea4e93396b6fa0d3dd708e76c1bd</td>\n      <td>1</td>\n      <td>credit_card</td>\n      <td>1</td>\n      <td>65710.0</td>\n    </tr>\n    <tr>\n      <th>3</th>\n      <td>ba78997921bbcdc1373bb41e913ab953</td>\n      <td>1</td>\n      <td>credit_card</td>\n      <td>8</td>\n      <td>107780.0</td>\n    </tr>\n    <tr>\n      <th>4</th>\n      <td>42fdf880ba16b47b59251dd489d4441a</td>\n      <td>1</td>\n      <td>credit_card</td>\n      <td>2</td>\n      <td>128450.0</td>\n    </tr>\n  </tbody>\n</table>\n</div>"
     },
     "metadata": {},
     "execution_count": 26
    }
   ],
   "source": [
    "payment.head()"
   ]
  },
  {
   "cell_type": "code",
   "execution_count": 27,
   "metadata": {
    "id": "WRUCPo3q6FHx"
   },
   "outputs": [
    {
     "output_type": "stream",
     "name": "stdout",
     "text": [
      "Testing PK : Order Id\nTotal rows : 103886\nTotal unique rows (based on order_id) : 99440\nNumber of duplicate after processed : 4446\n--------------------\nTesting PK : Composite(Order Id, Payment Sequential)\nTotal rows : 103886\nNumber of duplicate after processed : 0\n--------------------\n"
     ]
    }
   ],
   "source": [
    "# Checking Primary Key\n",
    "print(\"Testing PK : Order Id\")\n",
    "print(f\"Total rows : {payment.shape[0]}\")\n",
    "print(f\"Total unique rows (based on order_id) : {payment.order_id.nunique()}\")\n",
    "print(f\"Number of duplicate after processed : {payment.duplicated(subset = ['order_id']).sum()}\")\n",
    "print('-' * 20)\n",
    "\n",
    "print(\"Testing PK : Composite(Order Id, Payment Sequential)\")\n",
    "print(f\"Total rows : {payment.shape[0]}\")\n",
    "print(f\"Number of duplicate after processed : {payment.duplicated(subset = ['order_id','payment_sequential']).sum()}\")\n",
    "print('-' * 20)"
   ]
  },
  {
   "cell_type": "code",
   "execution_count": 33,
   "metadata": {},
   "outputs": [],
   "source": [
    "merged = pd.merge(order_item, payment, left_on='order_id', right_on='order_id')"
   ]
  },
  {
   "cell_type": "code",
   "execution_count": 48,
   "metadata": {},
   "outputs": [
    {
     "output_type": "execute_result",
     "data": {
      "text/plain": [
       "Empty DataFrame\n",
       "Columns: [order_item_id, payment_sequential]\n",
       "Index: []"
      ],
      "text/html": "<div>\n<style scoped>\n    .dataframe tbody tr th:only-of-type {\n        vertical-align: middle;\n    }\n\n    .dataframe tbody tr th {\n        vertical-align: top;\n    }\n\n    .dataframe thead th {\n        text-align: right;\n    }\n</style>\n<table border=\"1\" class=\"dataframe\">\n  <thead>\n    <tr style=\"text-align: right;\">\n      <th></th>\n      <th>order_item_id</th>\n      <th>payment_sequential</th>\n    </tr>\n    <tr>\n      <th>order_id</th>\n      <th></th>\n      <th></th>\n    </tr>\n  </thead>\n  <tbody>\n  </tbody>\n</table>\n</div>"
     },
     "metadata": {},
     "execution_count": 48
    }
   ],
   "source": [
    "check = merged[['order_id', 'order_item_id', 'payment_sequential']].copy().groupby(by=\"order_id\").count()\n",
    "check.loc[check.order_item_id != check.payment_sequential]"
   ]
  },
  {
   "cell_type": "code",
   "execution_count": 50,
   "metadata": {},
   "outputs": [
    {
     "output_type": "execute_result",
     "data": {
      "text/plain": [
       "                                  payment_sequential payment_type  \\\n",
       "order_id                                                            \n",
       "0016dfedd97fc2950e388d2971d718c7                   2      voucher   \n",
       "002f19a65a2ddd70a090297872e6d64e                   2      voucher   \n",
       "0071ee2429bc1efdc43aa3e073a5290e                   2      voucher   \n",
       "009ac365164f8e06f59d18a08045f6c4                   5      voucher   \n",
       "00ac05fe0fc047c54418098eb64e3aaa                   2   debit_card   \n",
       "...                                              ...          ...   \n",
       "ff7400d904161b62b6e830b3988f5cbd                   2      voucher   \n",
       "ff978de32e717acd3b5abe1fb069d2b6                   4      voucher   \n",
       "ffa1dd97810de91a03abd7bd76d2fed1                   2      voucher   \n",
       "ffa39020fe7c8a3e907320e1bec4b985                   2      voucher   \n",
       "ffc730a0615d28ec19f9cad02cb41442                   2  credit_card   \n",
       "\n",
       "                                  payment_installments  payment_value  \n",
       "order_id                                                               \n",
       "0016dfedd97fc2950e388d2971d718c7                     1        17920.0  \n",
       "002f19a65a2ddd70a090297872e6d64e                     1        33180.0  \n",
       "0071ee2429bc1efdc43aa3e073a5290e                     1        92440.0  \n",
       "009ac365164f8e06f59d18a08045f6c4                     1         8750.0  \n",
       "00ac05fe0fc047c54418098eb64e3aaa                     1       123470.0  \n",
       "...                                                ...            ...  \n",
       "ff7400d904161b62b6e830b3988f5cbd                     1       100000.0  \n",
       "ff978de32e717acd3b5abe1fb069d2b6                     1         7680.0  \n",
       "ffa1dd97810de91a03abd7bd76d2fed1                     1       418730.0  \n",
       "ffa39020fe7c8a3e907320e1bec4b985                     1        64010.0  \n",
       "ffc730a0615d28ec19f9cad02cb41442                     1        12630.0  \n",
       "\n",
       "[3039 rows x 4 columns]"
      ],
      "text/html": "<div>\n<style scoped>\n    .dataframe tbody tr th:only-of-type {\n        vertical-align: middle;\n    }\n\n    .dataframe tbody tr th {\n        vertical-align: top;\n    }\n\n    .dataframe thead th {\n        text-align: right;\n    }\n</style>\n<table border=\"1\" class=\"dataframe\">\n  <thead>\n    <tr style=\"text-align: right;\">\n      <th></th>\n      <th>payment_sequential</th>\n      <th>payment_type</th>\n      <th>payment_installments</th>\n      <th>payment_value</th>\n    </tr>\n    <tr>\n      <th>order_id</th>\n      <th></th>\n      <th></th>\n      <th></th>\n      <th></th>\n    </tr>\n  </thead>\n  <tbody>\n    <tr>\n      <th>0016dfedd97fc2950e388d2971d718c7</th>\n      <td>2</td>\n      <td>voucher</td>\n      <td>1</td>\n      <td>17920.0</td>\n    </tr>\n    <tr>\n      <th>002f19a65a2ddd70a090297872e6d64e</th>\n      <td>2</td>\n      <td>voucher</td>\n      <td>1</td>\n      <td>33180.0</td>\n    </tr>\n    <tr>\n      <th>0071ee2429bc1efdc43aa3e073a5290e</th>\n      <td>2</td>\n      <td>voucher</td>\n      <td>1</td>\n      <td>92440.0</td>\n    </tr>\n    <tr>\n      <th>009ac365164f8e06f59d18a08045f6c4</th>\n      <td>5</td>\n      <td>voucher</td>\n      <td>1</td>\n      <td>8750.0</td>\n    </tr>\n    <tr>\n      <th>00ac05fe0fc047c54418098eb64e3aaa</th>\n      <td>2</td>\n      <td>debit_card</td>\n      <td>1</td>\n      <td>123470.0</td>\n    </tr>\n    <tr>\n      <th>...</th>\n      <td>...</td>\n      <td>...</td>\n      <td>...</td>\n      <td>...</td>\n    </tr>\n    <tr>\n      <th>ff7400d904161b62b6e830b3988f5cbd</th>\n      <td>2</td>\n      <td>voucher</td>\n      <td>1</td>\n      <td>100000.0</td>\n    </tr>\n    <tr>\n      <th>ff978de32e717acd3b5abe1fb069d2b6</th>\n      <td>4</td>\n      <td>voucher</td>\n      <td>1</td>\n      <td>7680.0</td>\n    </tr>\n    <tr>\n      <th>ffa1dd97810de91a03abd7bd76d2fed1</th>\n      <td>2</td>\n      <td>voucher</td>\n      <td>1</td>\n      <td>418730.0</td>\n    </tr>\n    <tr>\n      <th>ffa39020fe7c8a3e907320e1bec4b985</th>\n      <td>2</td>\n      <td>voucher</td>\n      <td>1</td>\n      <td>64010.0</td>\n    </tr>\n    <tr>\n      <th>ffc730a0615d28ec19f9cad02cb41442</th>\n      <td>2</td>\n      <td>credit_card</td>\n      <td>1</td>\n      <td>12630.0</td>\n    </tr>\n  </tbody>\n</table>\n<p>3039 rows × 4 columns</p>\n</div>"
     },
     "metadata": {},
     "execution_count": 50
    }
   ],
   "source": [
    "payment.loc[payment.payment_sequential > 1].groupby(by=\"order_id\").first()"
   ]
  },
  {
   "cell_type": "markdown",
   "metadata": {
    "id": "NNeY9d2ryhtB"
   },
   "source": [
    "**Few Important Notes :**\n",
    "* missing column payment_id?\n",
    "* what is payment_sequential?\n",
    "---\n",
    "**Data Types For Database:**\n",
    "\n",
    "* order_id : VARCHAR (PK)\n",
    "* payment_sequential : INT (PK)\n",
    "* payment_type : VARCHAR\n",
    "* payment_installments : VARCHAR\n",
    "* payment_value : FLOAT\n",
    "---\n",
    "**Preprocess Procedure:**\n",
    "- confused, because metadata different from specs, need clarification"
   ]
  },
  {
   "cell_type": "code",
   "execution_count": 59,
   "metadata": {},
   "outputs": [
    {
     "output_type": "execute_result",
     "data": {
      "text/plain": [
       "32000.0"
      ]
     },
     "metadata": {},
     "execution_count": 59
    }
   ],
   "source": [
    "payment.loc[payment.order_id == \"009ac365164f8e06f59d18a08045f6c4\"].payment_value.sum()"
   ]
  },
  {
   "cell_type": "code",
   "execution_count": 55,
   "metadata": {},
   "outputs": [
    {
     "output_type": "execute_result",
     "data": {
      "text/plain": [
       "32000.0"
      ]
     },
     "metadata": {},
     "execution_count": 55
    }
   ],
   "source": [
    "order_item.loc[order_item.order_id == \"009ac365164f8e06f59d18a08045f6c4\"].price.values[0] + order_item.loc[order_item.order_id == \"009ac365164f8e06f59d18a08045f6c4\"].shipping_cost.values[0]"
   ]
  },
  {
   "cell_type": "markdown",
   "metadata": {
    "id": "xLes1nh1yVeo"
   },
   "source": [
    "### Feedback Dataset Exploration"
   ]
  },
  {
   "cell_type": "code",
   "execution_count": 28,
   "metadata": {
    "id": "RHgKfipl6dQ0"
   },
   "outputs": [
    {
     "output_type": "stream",
     "name": "stdout",
     "text": [
      "Missing Data | Feedback: \nShape : (100000, 5)\nMissing Data : feedback_id                0\norder_id                   0\nfeedback_score             0\nfeedback_form_sent_date    0\nfeedback_answer_date       0\ndtype: int64\n"
     ]
    }
   ],
   "source": [
    "print(\"Missing Data | Feedback: \")\n",
    "show_missing_data(feedback)"
   ]
  },
  {
   "cell_type": "code",
   "execution_count": 29,
   "metadata": {
    "id": "gsgq3MSk6dTs"
   },
   "outputs": [
    {
     "output_type": "stream",
     "name": "stdout",
     "text": [
      "<class 'pandas.core.frame.DataFrame'>\nRangeIndex: 100000 entries, 0 to 99999\nData columns (total 5 columns):\n #   Column                   Non-Null Count   Dtype \n---  ------                   --------------   ----- \n 0   feedback_id              100000 non-null  object\n 1   order_id                 100000 non-null  object\n 2   feedback_score           100000 non-null  int64 \n 3   feedback_form_sent_date  100000 non-null  object\n 4   feedback_answer_date     100000 non-null  object\ndtypes: int64(1), object(4)\nmemory usage: 3.8+ MB\n"
     ]
    }
   ],
   "source": [
    "feedback.info()"
   ]
  },
  {
   "cell_type": "code",
   "execution_count": 30,
   "metadata": {
    "id": "cdMz66ce6dba"
   },
   "outputs": [
    {
     "output_type": "execute_result",
     "data": {
      "text/plain": [
       "                        feedback_id                          order_id  \\\n",
       "0  7bc2406110b926393aa56f80a40eba40  73fc7af87114b39712e6da79b0a377eb   \n",
       "1  80e641a11e56f04c1ad469d5645fdfde  a548910a1c6147796b98fdf73dbeba33   \n",
       "2  228ce5500dc1d8e020d8d1322874b6f0  f9e4b658b201a9f2ecdecbb34bed034b   \n",
       "3  e64fb393e7b32834bb789ff8bb30750e  658677c97b385a9be170737859d3511b   \n",
       "4  f7c4243c7fe1938f181bec41a392bdeb  8e6bfb81e283fa7e4f11123a3fb894f1   \n",
       "\n",
       "   feedback_score feedback_form_sent_date feedback_answer_date  \n",
       "0               4     2018-01-18 00:00:00  2018-01-18 21:46:59  \n",
       "1               5     2018-03-10 00:00:00  2018-03-11 03:05:13  \n",
       "2               5     2018-02-17 00:00:00  2018-02-18 14:36:24  \n",
       "3               5     2017-04-21 00:00:00  2017-04-21 22:02:06  \n",
       "4               5     2018-03-01 00:00:00  2018-03-02 10:26:53  "
      ],
      "text/html": "<div>\n<style scoped>\n    .dataframe tbody tr th:only-of-type {\n        vertical-align: middle;\n    }\n\n    .dataframe tbody tr th {\n        vertical-align: top;\n    }\n\n    .dataframe thead th {\n        text-align: right;\n    }\n</style>\n<table border=\"1\" class=\"dataframe\">\n  <thead>\n    <tr style=\"text-align: right;\">\n      <th></th>\n      <th>feedback_id</th>\n      <th>order_id</th>\n      <th>feedback_score</th>\n      <th>feedback_form_sent_date</th>\n      <th>feedback_answer_date</th>\n    </tr>\n  </thead>\n  <tbody>\n    <tr>\n      <th>0</th>\n      <td>7bc2406110b926393aa56f80a40eba40</td>\n      <td>73fc7af87114b39712e6da79b0a377eb</td>\n      <td>4</td>\n      <td>2018-01-18 00:00:00</td>\n      <td>2018-01-18 21:46:59</td>\n    </tr>\n    <tr>\n      <th>1</th>\n      <td>80e641a11e56f04c1ad469d5645fdfde</td>\n      <td>a548910a1c6147796b98fdf73dbeba33</td>\n      <td>5</td>\n      <td>2018-03-10 00:00:00</td>\n      <td>2018-03-11 03:05:13</td>\n    </tr>\n    <tr>\n      <th>2</th>\n      <td>228ce5500dc1d8e020d8d1322874b6f0</td>\n      <td>f9e4b658b201a9f2ecdecbb34bed034b</td>\n      <td>5</td>\n      <td>2018-02-17 00:00:00</td>\n      <td>2018-02-18 14:36:24</td>\n    </tr>\n    <tr>\n      <th>3</th>\n      <td>e64fb393e7b32834bb789ff8bb30750e</td>\n      <td>658677c97b385a9be170737859d3511b</td>\n      <td>5</td>\n      <td>2017-04-21 00:00:00</td>\n      <td>2017-04-21 22:02:06</td>\n    </tr>\n    <tr>\n      <th>4</th>\n      <td>f7c4243c7fe1938f181bec41a392bdeb</td>\n      <td>8e6bfb81e283fa7e4f11123a3fb894f1</td>\n      <td>5</td>\n      <td>2018-03-01 00:00:00</td>\n      <td>2018-03-02 10:26:53</td>\n    </tr>\n  </tbody>\n</table>\n</div>"
     },
     "metadata": {},
     "execution_count": 30
    }
   ],
   "source": [
    "feedback.head()"
   ]
  },
  {
   "cell_type": "code",
   "execution_count": 31,
   "metadata": {
    "id": "4YHx0cWk7wmF"
   },
   "outputs": [
    {
     "output_type": "stream",
     "name": "stdout",
     "text": [
      "Testing PK : Feedback Id\n",
      "Total rows : 100000\n",
      "Total unique rows (based on feedback_id) : 99173\n",
      "Number of duplicate after processed : 827\n",
      "--------------------\n",
      "Testing PK : Order Id\n",
      "Total rows : 100000\n",
      "Total unique rows (based on order_id) : 99441\n",
      "Number of duplicate after processed : 559\n",
      "--------------------\n",
      "Testing PK : Composite(Order Id, Feedback Id)\n",
      "Total rows : 100000\n",
      "Number of duplicate after processed : 0\n",
      "--------------------\n"
     ]
    }
   ],
   "source": [
    "# Checking Primary Key\n",
    "print(\"Testing PK : Feedback Id\")\n",
    "print(f\"Total rows : {feedback.shape[0]}\")\n",
    "print(f\"Total unique rows (based on feedback_id) : {feedback.feedback_id.nunique()}\")\n",
    "print(f\"Number of duplicate after processed : {feedback.duplicated(subset = ['feedback_id']).sum()}\")\n",
    "print('-' * 20)\n",
    "\n",
    "print(\"Testing PK : Order Id\")\n",
    "print(f\"Total rows : {feedback.shape[0]}\")\n",
    "print(f\"Total unique rows (based on order_id) : {feedback.order_id.nunique()}\")\n",
    "print(f\"Number of duplicate after processed : {feedback.duplicated(subset = ['order_id']).sum()}\")\n",
    "print('-' * 20)\n",
    "\n",
    "print(\"Testing PK : Composite(Order Id, Feedback Id)\")\n",
    "print(f\"Total rows : {feedback.shape[0]}\")\n",
    "print(f\"Number of duplicate after processed : {feedback.duplicated(subset = ['order_id','feedback_id']).sum()}\")\n",
    "print('-' * 20)\n"
   ]
  },
  {
   "cell_type": "markdown",
   "metadata": {
    "id": "naQITbQwyiyg"
   },
   "source": [
    "**Few Important Notes :**\n",
    "* is delta time (how long to answer a feedback) have a correlation in feedback score?\n",
    "* what about order that user / buyer not give feedback?\n",
    "---\n",
    "**Data Types For Database:**\n",
    "\n",
    "* feedback_id : VARCHAR (PK)\n",
    "* order_id : VARCHAR (PK)\n",
    "* feedback_score : INT\n",
    "* feedback_form_sent_date : TIMESTAMP\n",
    "* feedback_answer_date : TIMESTAMP\n",
    "---\n",
    "**Preprocess Procedure:**\n",
    "-"
   ]
  },
  {
   "cell_type": "markdown",
   "metadata": {
    "id": "pZuUqw10yxUV"
   },
   "source": [
    "## Entity Relationship Exploration\n",
    "\n",
    "Potential Relationship (based on dataset) : \n",
    "1. User 1 .. M Order on _user_name_\n",
    "2. Order 1 .. M Order_item on _order_id_\n",
    "3. Order 1 .. 1 Payment on _order_id_\n",
    "4. Order 1 .. 1 Feedback on _order_id_\n",
    "5. Product 1 .. M Order_item on _product_id_\n",
    "6. Seller 1 .. M Order_item on _seller_id_"
   ]
  },
  {
   "cell_type": "code",
   "execution_count": null,
   "metadata": {
    "id": "YAAJNvqMvBU6"
   },
   "outputs": [],
   "source": [
    "user = pd.read_csv(\"data/processed/user_no_duplicate.csv\")"
   ]
  },
  {
   "cell_type": "code",
   "execution_count": null,
   "metadata": {
    "id": "K9Kcd0P2wzl1"
   },
   "outputs": [],
   "source": [
    "# Check user - order\n",
    "print(\"User - Order\")\n",
    "set(user.columns).intersection(order.columns)"
   ]
  },
  {
   "cell_type": "code",
   "execution_count": null,
   "metadata": {
    "id": "9s2LULbymtVA"
   },
   "outputs": [],
   "source": [
    "# Try to join using on 'user_name' on order\n",
    "print (\"Uniqueness of username in User table : \")\n",
    "user.user_name.value_counts()"
   ]
  },
  {
   "cell_type": "code",
   "execution_count": null,
   "metadata": {
    "id": "g-R06ZKXu8Q5"
   },
   "outputs": [],
   "source": [
    "print(\"Uniquness of username in Order table :\")\n",
    "order.user_name.value_counts()"
   ]
  },
  {
   "cell_type": "code",
   "execution_count": null,
   "metadata": {
    "id": "P9XeYMiTxuGF"
   },
   "outputs": [],
   "source": [
    "merged = pd.merge(user, order, left_on='user_name', right_on='user_name')\n",
    "merged.info()"
   ]
  },
  {
   "cell_type": "markdown",
   "metadata": {
    "id": "lPeFrc1Gvnn9"
   },
   "source": [
    "**Conclussion**:\n",
    "User 1 .. M Order on _user_name_"
   ]
  },
  {
   "cell_type": "code",
   "execution_count": null,
   "metadata": {
    "id": "9qGFITe6wCZI"
   },
   "outputs": [],
   "source": [
    "# Check Order - OrderItem\n",
    "print(\"Order - OrderItem\")\n",
    "set(order.columns).intersection(order_item.columns)"
   ]
  },
  {
   "cell_type": "code",
   "execution_count": null,
   "metadata": {
    "id": "tQyZ-fhRy80Z"
   },
   "outputs": [],
   "source": [
    "print (\"Uniqueness of order_id in Order table : \")\n",
    "order.order_id.value_counts()"
   ]
  },
  {
   "cell_type": "code",
   "execution_count": null,
   "metadata": {
    "id": "1UBmNzP4zL8_"
   },
   "outputs": [],
   "source": [
    "print (\"Uniqueness of order_id in OrderItem table : \")\n",
    "order_item.order_id.value_counts()"
   ]
  },
  {
   "cell_type": "code",
   "execution_count": null,
   "metadata": {
    "id": "8RU2hiwvwNIw"
   },
   "outputs": [],
   "source": [
    "merged = pd.merge(order, order_item, left_on='order_id', right_on='order_id')\n",
    "merged.info()"
   ]
  },
  {
   "cell_type": "markdown",
   "metadata": {
    "id": "dYp5XsF1zPOj"
   },
   "source": [
    "**Conclussion**:\n",
    "Order 1 .. M Order_item on _order_id_"
   ]
  },
  {
   "cell_type": "code",
   "execution_count": null,
   "metadata": {
    "id": "6-UVkZWC2ZCB"
   },
   "outputs": [],
   "source": [
    "# Check Order - Payment\n",
    "print(\"Order - Payment\")\n",
    "set(order.columns).intersection(payment.columns)"
   ]
  },
  {
   "cell_type": "code",
   "execution_count": null,
   "metadata": {
    "id": "xRfLBkwQ2nyK"
   },
   "outputs": [],
   "source": [
    "payment.order_id.value_counts()"
   ]
  },
  {
   "cell_type": "code",
   "execution_count": null,
   "metadata": {
    "id": "Wm_y9ltV2glg"
   },
   "outputs": [],
   "source": [
    "merged = pd.merge(order, payment, left_on='order_id', right_on='order_id')\n",
    "merged.info()"
   ]
  },
  {
   "cell_type": "markdown",
   "metadata": {
    "id": "FYVV4y88zdyb"
   },
   "source": [
    "**Conclussion**:\n",
    "Order 1 .. M Order_item on _order_id_"
   ]
  },
  {
   "cell_type": "code",
   "execution_count": null,
   "metadata": {
    "id": "_dIeZ1G05ZS8"
   },
   "outputs": [],
   "source": [
    "# Check Order - Payment\n",
    "print(\"Order - Feedback\")\n",
    "set(order.columns).intersection(feedback.columns)"
   ]
  },
  {
   "cell_type": "code",
   "execution_count": null,
   "metadata": {
    "id": "uOOizBJl5fim"
   },
   "outputs": [],
   "source": [
    "feedback.order_id.value_counts()"
   ]
  },
  {
   "cell_type": "code",
   "execution_count": null,
   "metadata": {
    "id": "i6iiK_cE5nRc"
   },
   "outputs": [],
   "source": [
    "merged = pd.merge(order, feedback, left_on='order_id', right_on='order_id')\n",
    "merged.info()"
   ]
  },
  {
   "cell_type": "markdown",
   "metadata": {
    "id": "uQW7yJ6Azd4M"
   },
   "source": [
    "**Conclussion**:\n",
    "Order 1 .. M Feedback on _order_id_"
   ]
  },
  {
   "cell_type": "code",
   "execution_count": null,
   "metadata": {
    "id": "iEGduj2w51Qi"
   },
   "outputs": [],
   "source": [
    "# Check Order - Payment\n",
    "print(\"OrderItem - Product\")\n",
    "set(order_item.columns).intersection(products.columns)"
   ]
  },
  {
   "cell_type": "code",
   "execution_count": null,
   "metadata": {
    "id": "_EXjJhrn6HMZ"
   },
   "outputs": [],
   "source": [
    "print(f\"Order Item rows : {order_item.shape[0]}\")\n",
    "print(f\"Producst rows : {products.shape[0]}\")"
   ]
  },
  {
   "cell_type": "code",
   "execution_count": null,
   "metadata": {
    "id": "sFQ98BRh598O"
   },
   "outputs": [],
   "source": [
    "merged = pd.merge(order_item, products, left_on='product_id', right_on='product_id')\n",
    "merged.info()"
   ]
  },
  {
   "cell_type": "markdown",
   "metadata": {
    "id": "XgM50qvozd8n"
   },
   "source": [
    "**Conclussion**:\n",
    "Product 1 .. M Order_item on _product_id_"
   ]
  },
  {
   "cell_type": "code",
   "execution_count": null,
   "metadata": {
    "id": "dl26EXfh6SCK"
   },
   "outputs": [],
   "source": [
    "# Check Order - Payment\n",
    "print(\"OrderItem - Seller\")\n",
    "set(order_item.columns).intersection(seller.columns)"
   ]
  },
  {
   "cell_type": "code",
   "execution_count": null,
   "metadata": {
    "id": "2jmjKfFg6d6U"
   },
   "outputs": [],
   "source": [
    "print(f\"Order Item rows : {order_item.shape[0]}\")\n",
    "print(f\"Producst rows : {seller.shape[0]}\")"
   ]
  },
  {
   "cell_type": "code",
   "execution_count": null,
   "metadata": {
    "id": "1EYYs41k6ZO-"
   },
   "outputs": [],
   "source": [
    "merged = pd.merge(order_item, seller, left_on='seller_id', right_on='seller_id')\n",
    "merged.info()"
   ]
  },
  {
   "cell_type": "markdown",
   "metadata": {
    "id": "vv8JSRI46TbO"
   },
   "source": [
    "**Conclussion**:\n",
    "Seller 1 .. M Order_item on _seller_id_"
   ]
  },
  {
   "cell_type": "markdown",
   "metadata": {
    "id": "MAlv-51T_Rg3"
   },
   "source": [
    "[TODO (Database Integration)] : \n",
    "1. Check each potential relationship\n",
    "2. Create ER Diagram\n",
    "3. Porting into local Postgres SQL\n",
    "---\n",
    "[TODO (Datamart)]:\n",
    "1. https://stackoverflow.com/questions/61030755/connect-to-postresql-database-from-google-colab\n",
    "--> Integrating colab with local db"
   ]
  },
  {
   "cell_type": "code",
   "execution_count": null,
   "metadata": {
    "id": "iR0TYRga_6-g"
   },
   "outputs": [],
   "source": []
  }
 ],
 "metadata": {
  "colab": {
   "authorship_tag": "ABX9TyOqiKjItu/brgGMr3T5q7MS",
   "collapsed_sections": [],
   "include_colab_link": true,
   "name": "DataExploration - 13/ 02 / 2021.ipynb",
   "private_outputs": true,
   "provenance": [],
   "toc_visible": true
  },
  "kernelspec": {
   "display_name": "Python 3",
   "language": "python",
   "name": "python3"
  }
 },
 "nbformat": 4,
 "nbformat_minor": 1
}