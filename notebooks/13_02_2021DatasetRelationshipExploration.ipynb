{
 "cells": [
  {
   "cell_type": "markdown",
   "metadata": {
    "colab_type": "text",
    "id": "view-in-github"
   },
   "source": [
    "<a href=\"https://colab.research.google.com/github/William9923/future-data-ecommerce/blob/master/notebooks/13_02_2021DatasetRelationshipExploration.ipynb\" target=\"_parent\"><img src=\"https://colab.research.google.com/assets/colab-badge.svg\" alt=\"Open In Colab\"/></a>"
   ]
  },
  {
   "cell_type": "markdown",
   "metadata": {
    "id": "ySAgqzcmfIfl"
   },
   "source": [
    "# Data Exploration\n",
    "\n",
    "Goal : \n",
    "* Finding relationship and understanding data context\n",
    "* Exploring data for database creation context\n"
   ]
  },
  {
   "cell_type": "markdown",
   "metadata": {
    "id": "m6Er_MNpfFrg"
   },
   "source": [
    "## Importing Libraries"
   ]
  },
  {
   "cell_type": "code",
   "execution_count": null,
   "metadata": {
    "id": "mjddU4lUaDgA"
   },
   "outputs": [],
   "source": [
    "#ignore warnings\n",
    "import warnings\n",
    "warnings.filterwarnings('ignore')\n",
    "\n",
    "from IPython.core.interactiveshell import InteractiveShell\n",
    "InteractiveShell.ast_node_interactivity = \"all\"\n",
    "\n",
    "import pandas as pd"
   ]
  },
  {
   "cell_type": "code",
   "execution_count": null,
   "metadata": {
    "id": "tUxD43pCfvWG"
   },
   "outputs": [],
   "source": [
    "def profilling(df, filename):\n",
    "  # importing sweetviz\n",
    "  import sweetviz as sv                 #analyzing the dataset\n",
    "  advert_report = sv.analyze(df)  #display the report\n",
    "  advert_report.show_html(filename)"
   ]
  },
  {
   "cell_type": "code",
   "execution_count": null,
   "metadata": {
    "id": "JX4-NsJvgDlv"
   },
   "outputs": [],
   "source": [
    "def show_missing_data(df):\n",
    "    print(f\"Shape : {df.shape}\")\n",
    "    print(f\"Missing Data : {df.isnull().sum()}\")\n",
    "    return None"
   ]
  },
  {
   "cell_type": "markdown",
   "metadata": {
    "id": "rwBhtdWHfSMt"
   },
   "source": [
    "## Importing Data\n"
   ]
  },
  {
   "cell_type": "code",
   "execution_count": null,
   "metadata": {
    "id": "QdrZHj7bfH54"
   },
   "outputs": [],
   "source": [
    "print(\"Loading Dataset ...\")\n",
    "\n",
    "data_folder = \"data/raw/\"\n",
    "\n",
    "user = pd.read_csv(data_folder + \"user_dataset.csv\")\n",
    "order = pd.read_csv(data_folder + \"order_dataset.csv\")\n",
    "order_item = pd.read_csv(data_folder + \"order_item_dataset.csv\")\n",
    "payment = pd.read_csv(data_folder + \"payment_dataset.csv\")\n",
    "products = pd.read_csv(data_folder + \"products_dataset.csv\")\n",
    "seller = pd.read_csv(data_folder + \"seller_dataset.csv\")\n",
    "feedback = pd.read_csv(data_folder + \"feedback_dataset.csv\")\n",
    "\n",
    "print(\"Finish...\")"
   ]
  },
  {
   "cell_type": "code",
   "execution_count": null,
   "metadata": {
    "id": "ptcyY6OTgYT5"
   },
   "outputs": [],
   "source": [
    "dataset = [user, order, order_item, payment, products, seller, feedback]\n",
    "filenames = [\"User\", \"Order\", \"OrderItem\", \"Payment\", \"Products\", \"Seller\", \"Feedback\"]\n",
    "\n",
    "report_folder = 'reports/docs/'\n",
    "\n",
    "for data, filename in zip(dataset, filenames) :\n",
    "  profilling(data, filename + \".html\")"
   ]
  },
  {
   "cell_type": "markdown",
   "metadata": {
    "id": "ZBTaPGEpysww"
   },
   "source": [
    "## Single Entity Exploration"
   ]
  },
  {
   "cell_type": "markdown",
   "metadata": {
    "id": "NJ9StUmNgEso"
   },
   "source": [
    "### User Dataset Exploration"
   ]
  },
  {
   "cell_type": "code",
   "execution_count": null,
   "metadata": {
    "id": "BYJNam3FftEO"
   },
   "outputs": [],
   "source": [
    "print(\"Missing Data | User : \")\n",
    "show_missing_data(user)"
   ]
  },
  {
   "cell_type": "code",
   "execution_count": null,
   "metadata": {
    "id": "tbsAWWuShnXy"
   },
   "outputs": [],
   "source": [
    "user.info()"
   ]
  },
  {
   "cell_type": "code",
   "execution_count": null,
   "metadata": {
    "id": "60eWeIsegLUl"
   },
   "outputs": [],
   "source": [
    "user.head()"
   ]
  },
  {
   "cell_type": "code",
   "execution_count": null,
   "metadata": {
    "id": "oXFKnMXrij6I"
   },
   "outputs": [],
   "source": [
    "print(f\"Total rows : {user.shape[0]}\")\n",
    "print(f\"Total unique rows (based on username) : {user.user_name.nunique()}\")\n",
    "print(f\"Number of duplicate after processed : {user.duplicated(subset = ['user_name']).sum()}\")"
   ]
  },
  {
   "cell_type": "code",
   "execution_count": null,
   "metadata": {
    "id": "3tBPJh06j_zk"
   },
   "outputs": [],
   "source": [
    "# Get all duplicate data\n",
    "user.duplicated(subset = ['user_name']).head()"
   ]
  },
  {
   "cell_type": "code",
   "execution_count": null,
   "metadata": {
    "id": "LPUh7-PKkF64"
   },
   "outputs": [],
   "source": [
    "# Check single sample duplicate username\n",
    "user.loc[user.user_name == \"2b6ce149982204423f4efac29701255a\"]"
   ]
  },
  {
   "cell_type": "code",
   "execution_count": null,
   "metadata": {
    "id": "AOi89kGMk23n"
   },
   "outputs": [],
   "source": [
    "user_no_duplicate = user.drop_duplicates(subset=['user_name'], keep=\"last\")\n",
    "user_no_duplicate.to_csv(\"data/processed/user_no_duplicate.csv\", index=False)"
   ]
  },
  {
   "cell_type": "code",
   "execution_count": null,
   "metadata": {
    "id": "J013cig2lnHL"
   },
   "outputs": [],
   "source": [
    "print(f\"Number of duplicate after processed : {user_no_duplicate.duplicated(subset = ['user_name']).sum()}\")"
   ]
  },
  {
   "cell_type": "markdown",
   "metadata": {
    "id": "ZQEbEPqEgO07"
   },
   "source": [
    "**Few Important Notes :**\n",
    "\n",
    "* user_name encoded\n",
    "* multiple same username (?)\n",
    "---\n",
    "**Data Types For Database:**\n",
    "\n",
    "* user_name : VARCHAR (PK)\n",
    "* customer_zip_code : VARCHAR\n",
    "* customer_city : VARCHAR\n",
    "* customer_state : VARCHAR\n",
    "---\n",
    "**Preprocess Procedure:**\n",
    "\n",
    "* drop_duplicate (use last entry as saved username)\n",
    "* ask the context of multiple zip_code"
   ]
  },
  {
   "cell_type": "markdown",
   "metadata": {
    "id": "8rVn4bKPmfDI"
   },
   "source": [
    "### Product Dataset Exploration"
   ]
  },
  {
   "cell_type": "code",
   "execution_count": null,
   "metadata": {
    "id": "KdM4d5wjgMul"
   },
   "outputs": [],
   "source": [
    "print(\"Missing Data | Product : \")\n",
    "show_missing_data(products)"
   ]
  },
  {
   "cell_type": "code",
   "execution_count": null,
   "metadata": {
    "id": "BJJFxLagvkm1"
   },
   "outputs": [],
   "source": [
    "products.info()"
   ]
  },
  {
   "cell_type": "code",
   "execution_count": null,
   "metadata": {
    "id": "wVzR4Hldv6V2"
   },
   "outputs": [],
   "source": [
    "print(f\"Total rows : {products.shape[0]}\")\n",
    "print(f\"Total unique rows (based on product_id) : {products.product_id.nunique()}\")\n",
    "print(f\"Number of duplicate after processed : {products.duplicated(subset = ['product_id']).sum()}\")"
   ]
  },
  {
   "cell_type": "markdown",
   "metadata": {
    "id": "ITCcVvhCnBUZ"
   },
   "source": [
    "**Few Important Notes :**\n",
    "\n",
    "* missing data on some rows\n",
    "---\n",
    "**Data Types For Database:**\n",
    "\n",
    "* product_id : VARCHAR (PK)\n",
    "* product_category : INT\n",
    "* product_name_length : INT\n",
    "* product_description_length : INT\n",
    "* product_photos_qty  : INT\n",
    "* product_weight_g : FLOAT\n",
    "* product_height_cm : FLOAT\n",
    "* product_width_cm : FLOAT\n",
    "---\n",
    "**Preprocess Procedure:**\n",
    "\n",
    "* keep missing data (allow NULL on database)\n",
    "* rename columns (product_name_lenght -> product_name_length, product_description_lenght -> product_description_length)"
   ]
  },
  {
   "cell_type": "markdown",
   "metadata": {
    "id": "YM2PZugiwGGX"
   },
   "source": [
    "### Seller Dataset Exploration"
   ]
  },
  {
   "cell_type": "code",
   "execution_count": null,
   "metadata": {
    "id": "g12jkZQ2wXcI"
   },
   "outputs": [],
   "source": [
    "print(\"Missing Data | Seller : \")\n",
    "show_missing_data(seller)"
   ]
  },
  {
   "cell_type": "code",
   "execution_count": null,
   "metadata": {
    "id": "0ZIDclz4wcJu"
   },
   "outputs": [],
   "source": [
    "seller.info()"
   ]
  },
  {
   "cell_type": "markdown",
   "metadata": {
    "id": "u8ET8BCqwUP9"
   },
   "source": [
    "**Few Important Notes :**\n",
    "\n",
    "---\n",
    "**Data Types For Database:**\n",
    "\n",
    "* seller_id : VARCHAR (PK)\n",
    "* seller_zip_code : VARCHAR\n",
    "* seller_city : VARCHAR\n",
    "* seller_state : VARCHAR\n",
    "---\n",
    "**Preprocess Procedure:**\n",
    "-"
   ]
  },
  {
   "cell_type": "markdown",
   "metadata": {
    "id": "oFJ5EMJow0ew"
   },
   "source": [
    "### Order Dataset Exploration"
   ]
  },
  {
   "cell_type": "code",
   "execution_count": null,
   "metadata": {
    "id": "nlRQd_ASy3to"
   },
   "outputs": [],
   "source": [
    "print(\"Missing Data | Order : \")\n",
    "show_missing_data(order)"
   ]
  },
  {
   "cell_type": "code",
   "execution_count": null,
   "metadata": {
    "id": "HW43RyJFy9bC"
   },
   "outputs": [],
   "source": [
    "order.info()"
   ]
  },
  {
   "cell_type": "code",
   "execution_count": null,
   "metadata": {
    "id": "1N07smYB0nfS"
   },
   "outputs": [],
   "source": [
    "print(f\"Total rows : {order.shape[0]}\")\n",
    "print(f\"Total unique rows (based on product_id) : {order.order_id.nunique()}\")\n",
    "print(f\"Number of duplicate after processed : {order.duplicated(subset = ['order_id']).sum()}\")"
   ]
  },
  {
   "cell_type": "markdown",
   "metadata": {
    "id": "4NwnLhT1yffn"
   },
   "source": [
    "**Few Important Notes :**\n",
    "* Some missing value in order_approved_date, pickup_date, delivered_date, estimated_time_delivery\n",
    "---\n",
    "**Data Types For Database:**\n",
    "\n",
    "* order_id : VARCHAR (PK)\n",
    "* user_name : VARCHAR\n",
    "* order_status : VARCHAR\n",
    "* order_date : VARCHAR\n",
    "* order_approved_date : TIMESTAMP\n",
    "* pickup_date : TIMESTAMP\n",
    "* delivered_date : TIMESTAMP\n",
    "* estimated_time_delivery : TIMESTAMP\n",
    "---\n",
    "**Preprocess Procedure:**\n",
    "* keep missing data (allow NULL on database)"
   ]
  },
  {
   "cell_type": "markdown",
   "metadata": {
    "id": "tF-KuIDcw-7K"
   },
   "source": [
    "### Order Item Dataset Exploration"
   ]
  },
  {
   "cell_type": "code",
   "execution_count": null,
   "metadata": {
    "id": "svwcZDJU325q"
   },
   "outputs": [],
   "source": [
    "print(\"Missing Data | Order Item: \")\n",
    "show_missing_data(order_item)"
   ]
  },
  {
   "cell_type": "code",
   "execution_count": null,
   "metadata": {
    "id": "4dJXt9Hp37w1"
   },
   "outputs": [],
   "source": [
    "order_item.info()"
   ]
  },
  {
   "cell_type": "code",
   "execution_count": null,
   "metadata": {
    "id": "U9DhK1Sc3-HQ"
   },
   "outputs": [],
   "source": [
    "# Checking Primary Key\n",
    "print(\"Testing PK : Order Id\")\n",
    "print(f\"Total rows : {order_item.shape[0]}\")\n",
    "print(f\"Total unique rows (based on order_item_id) : {order_item.order_id.nunique()}\")\n",
    "print(f\"Number of duplicate after processed : {order_item.duplicated(subset = ['order_id']).sum()}\")\n",
    "print('-' * 20)\n",
    "\n",
    "print(\"Testing PK : Order Item Id\")\n",
    "print(f\"Total rows : {order_item.shape[0]}\")\n",
    "print(f\"Total unique rows (based on order_item_id) : {order_item.order_item_id.nunique()}\")\n",
    "print(f\"Number of duplicate after processed : {order_item.duplicated(subset = ['order_item_id']).sum()}\")\n",
    "print('-' * 20)\n",
    "\n",
    "print(\"Testing PK : Composite(order_id, order_item_id)\")\n",
    "print(f\"Total rows : {order_item.shape[0]}\")\n",
    "print(f\"Total unique rows (based on order_item_id) : {order_item[['order_item_id', 'order_id']].nunique()}\")\n",
    "print(f\"Number of duplicate after processed : {order_item.duplicated(subset = ['order_item_id', 'order_id']).sum()}\")"
   ]
  },
  {
   "cell_type": "markdown",
   "metadata": {
    "id": "CmUSyV4Oygkl"
   },
   "source": [
    "**Few Important Notes :**\n",
    "* what is order_item_id? \n",
    "* PK is composite key of order_id & order_item_id\n",
    "---\n",
    "**Data Types For Database:**\n",
    "\n",
    "* order_id : VARCHAR\n",
    "* order_item_id : INT\n",
    "* product_id : VARCHAR\n",
    "* seller_id : VARCHAR\n",
    "* pickup_limit_date : TIMESTAMP\n",
    "* price : FLOAT\n",
    "* shipping_cost : FLOAT\n",
    "---\n",
    "**Preprocess Procedure:**\n",
    "-"
   ]
  },
  {
   "cell_type": "markdown",
   "metadata": {
    "id": "pVlb4m1_yVag"
   },
   "source": [
    "### Payment Dataset Exploration"
   ]
  },
  {
   "cell_type": "code",
   "execution_count": null,
   "metadata": {
    "id": "4VCu8tQk5n2M"
   },
   "outputs": [],
   "source": [
    "print(\"Missing Data | Payment: \")\n",
    "show_missing_data(payment)"
   ]
  },
  {
   "cell_type": "code",
   "execution_count": null,
   "metadata": {
    "id": "zUmSySEL5zCq"
   },
   "outputs": [],
   "source": [
    "payment.info()"
   ]
  },
  {
   "cell_type": "code",
   "execution_count": null,
   "metadata": {
    "id": "GGwftOwP5zKi"
   },
   "outputs": [],
   "source": [
    "payment.head()"
   ]
  },
  {
   "cell_type": "code",
   "execution_count": null,
   "metadata": {
    "id": "WRUCPo3q6FHx"
   },
   "outputs": [],
   "source": [
    "# Checking Primary Key\n",
    "print(\"Testing PK : Order Id\")\n",
    "print(f\"Total rows : {payment.shape[0]}\")\n",
    "print(f\"Total unique rows (based on order_id) : {payment.order_id.nunique()}\")\n",
    "print(f\"Number of duplicate after processed : {payment.duplicated(subset = ['order_id']).sum()}\")\n",
    "print('-' * 20)\n",
    "\n",
    "print(\"Testing PK : Composite(Order Id, Payment Sequential)\")\n",
    "print(f\"Total rows : {payment.shape[0]}\")\n",
    "print(f\"Number of duplicate after processed : {payment.duplicated(subset = ['order_id','payment_sequential']).sum()}\")\n",
    "print('-' * 20)"
   ]
  },
  {
   "cell_type": "markdown",
   "metadata": {
    "id": "NNeY9d2ryhtB"
   },
   "source": [
    "**Few Important Notes :**\n",
    "* missing column payment_id?\n",
    "* what is payment_sequential?\n",
    "---\n",
    "**Data Types For Database:**\n",
    "\n",
    "* order_id : VARCHAR (PK)\n",
    "* payment_sequential : INT (PK)\n",
    "* payment_type : VARCHAR\n",
    "* payment_installments : VARCHAR\n",
    "* payment_value : FLOAT\n",
    "---\n",
    "**Preprocess Procedure:**\n",
    "- confused, because metadata different from specs, need clarification"
   ]
  },
  {
   "cell_type": "markdown",
   "metadata": {
    "id": "xLes1nh1yVeo"
   },
   "source": [
    "### Feedback Dataset Exploration"
   ]
  },
  {
   "cell_type": "code",
   "execution_count": null,
   "metadata": {
    "id": "RHgKfipl6dQ0"
   },
   "outputs": [],
   "source": [
    "print(\"Missing Data | Feedback: \")\n",
    "show_missing_data(feedback)"
   ]
  },
  {
   "cell_type": "code",
   "execution_count": null,
   "metadata": {
    "id": "gsgq3MSk6dTs"
   },
   "outputs": [],
   "source": [
    "feedback.info()"
   ]
  },
  {
   "cell_type": "code",
   "execution_count": null,
   "metadata": {
    "id": "cdMz66ce6dba"
   },
   "outputs": [],
   "source": [
    "feedback.head()"
   ]
  },
  {
   "cell_type": "code",
   "execution_count": null,
   "metadata": {
    "id": "4YHx0cWk7wmF"
   },
   "outputs": [],
   "source": [
    "# Checking Primary Key\n",
    "print(\"Testing PK : Feedback Id\")\n",
    "print(f\"Total rows : {feedback.shape[0]}\")\n",
    "print(f\"Total unique rows (based on feedback_id) : {feedback.feedback_id.nunique()}\")\n",
    "print(f\"Number of duplicate after processed : {feedback.duplicated(subset = ['feedback_id']).sum()}\")\n",
    "print('-' * 20)\n",
    "\n",
    "print(\"Testing PK : Order Id\")\n",
    "print(f\"Total rows : {feedback.shape[0]}\")\n",
    "print(f\"Total unique rows (based on order_id) : {feedback.order_id.nunique()}\")\n",
    "print(f\"Number of duplicate after processed : {feedback.duplicated(subset = ['order_id']).sum()}\")\n",
    "print('-' * 20)\n",
    "\n",
    "print(\"Testing PK : Composite(Order Id, Feedback Id)\")\n",
    "print(f\"Total rows : {feedback.shape[0]}\")\n",
    "print(f\"Number of duplicate after processed : {feedback.duplicated(subset = ['order_id','feedback_id']).sum()}\")\n",
    "print('-' * 20)\n"
   ]
  },
  {
   "cell_type": "markdown",
   "metadata": {
    "id": "naQITbQwyiyg"
   },
   "source": [
    "**Few Important Notes :**\n",
    "* is delta time (how long to answer a feedback) have a correlation in feedback score?\n",
    "* what about order that user / buyer not give feedback?\n",
    "---\n",
    "**Data Types For Database:**\n",
    "\n",
    "* feedback_id : VARCHAR (PK)\n",
    "* order_id : VARCHAR (PK)\n",
    "* feedback_score : INT\n",
    "* feedback_form_sent_date : TIMESTAMP\n",
    "* feedback_answer_date : TIMESTAMP\n",
    "---\n",
    "**Preprocess Procedure:**\n",
    "-"
   ]
  },
  {
   "cell_type": "markdown",
   "metadata": {
    "id": "pZuUqw10yxUV"
   },
   "source": [
    "## Entity Relationship Exploration\n",
    "\n",
    "Potential Relationship (based on dataset) : \n",
    "1. User 1 .. M Order on _user_name_\n",
    "2. Order 1 .. M Order_item on _order_id_\n",
    "3. Order 1 .. 1 Payment on _order_id_\n",
    "4. Order 1 .. 1 Feedback on _order_id_\n",
    "5. Product 1 .. M Order_item on _product_id_\n",
    "6. Seller 1 .. M Order_item on _seller_id_"
   ]
  },
  {
   "cell_type": "code",
   "execution_count": null,
   "metadata": {
    "id": "YAAJNvqMvBU6"
   },
   "outputs": [],
   "source": [
    "user = pd.read_csv(\"data/processed/user_no_duplicate.csv\")"
   ]
  },
  {
   "cell_type": "code",
   "execution_count": null,
   "metadata": {
    "id": "K9Kcd0P2wzl1"
   },
   "outputs": [],
   "source": [
    "# Check user - order\n",
    "print(\"User - Order\")\n",
    "set(user.columns).intersection(order.columns)"
   ]
  },
  {
   "cell_type": "code",
   "execution_count": null,
   "metadata": {
    "id": "9s2LULbymtVA"
   },
   "outputs": [],
   "source": [
    "# Try to join using on 'user_name' on order\n",
    "print (\"Uniqueness of username in User table : \")\n",
    "user.user_name.value_counts()"
   ]
  },
  {
   "cell_type": "code",
   "execution_count": null,
   "metadata": {
    "id": "g-R06ZKXu8Q5"
   },
   "outputs": [],
   "source": [
    "print(\"Uniquness of username in Order table :\")\n",
    "order.user_name.value_counts()"
   ]
  },
  {
   "cell_type": "code",
   "execution_count": null,
   "metadata": {
    "id": "P9XeYMiTxuGF"
   },
   "outputs": [],
   "source": [
    "merged = pd.merge(user, order, left_on='user_name', right_on='user_name')\n",
    "merged.info()"
   ]
  },
  {
   "cell_type": "markdown",
   "metadata": {
    "id": "lPeFrc1Gvnn9"
   },
   "source": [
    "**Conclussion**:\n",
    "User 1 .. M Order on _user_name_"
   ]
  },
  {
   "cell_type": "code",
   "execution_count": null,
   "metadata": {
    "id": "9qGFITe6wCZI"
   },
   "outputs": [],
   "source": [
    "# Check Order - OrderItem\n",
    "print(\"Order - OrderItem\")\n",
    "set(order.columns).intersection(order_item.columns)"
   ]
  },
  {
   "cell_type": "code",
   "execution_count": null,
   "metadata": {
    "id": "tQyZ-fhRy80Z"
   },
   "outputs": [],
   "source": [
    "print (\"Uniqueness of order_id in Order table : \")\n",
    "order.order_id.value_counts()"
   ]
  },
  {
   "cell_type": "code",
   "execution_count": null,
   "metadata": {
    "id": "1UBmNzP4zL8_"
   },
   "outputs": [],
   "source": [
    "print (\"Uniqueness of order_id in OrderItem table : \")\n",
    "order_item.order_id.value_counts()"
   ]
  },
  {
   "cell_type": "code",
   "execution_count": null,
   "metadata": {
    "id": "8RU2hiwvwNIw"
   },
   "outputs": [],
   "source": [
    "merged = pd.merge(order, order_item, left_on='order_id', right_on='order_id')\n",
    "merged.info()"
   ]
  },
  {
   "cell_type": "markdown",
   "metadata": {
    "id": "dYp5XsF1zPOj"
   },
   "source": [
    "**Conclussion**:\n",
    "Order 1 .. M Order_item on _order_id_"
   ]
  },
  {
   "cell_type": "code",
   "execution_count": null,
   "metadata": {
    "id": "6-UVkZWC2ZCB"
   },
   "outputs": [],
   "source": [
    "# Check Order - Payment\n",
    "print(\"Order - Payment\")\n",
    "set(order.columns).intersection(payment.columns)"
   ]
  },
  {
   "cell_type": "code",
   "execution_count": null,
   "metadata": {
    "id": "xRfLBkwQ2nyK"
   },
   "outputs": [],
   "source": [
    "payment.order_id.value_counts()"
   ]
  },
  {
   "cell_type": "code",
   "execution_count": null,
   "metadata": {
    "id": "Wm_y9ltV2glg"
   },
   "outputs": [],
   "source": [
    "merged = pd.merge(order, payment, left_on='order_id', right_on='order_id')\n",
    "merged.info()"
   ]
  },
  {
   "cell_type": "markdown",
   "metadata": {
    "id": "FYVV4y88zdyb"
   },
   "source": [
    "**Conclussion**:\n",
    "Order 1 .. M Order_item on _order_id_"
   ]
  },
  {
   "cell_type": "code",
   "execution_count": null,
   "metadata": {
    "id": "_dIeZ1G05ZS8"
   },
   "outputs": [],
   "source": [
    "# Check Order - Payment\n",
    "print(\"Order - Feedback\")\n",
    "set(order.columns).intersection(feedback.columns)"
   ]
  },
  {
   "cell_type": "code",
   "execution_count": null,
   "metadata": {
    "id": "uOOizBJl5fim"
   },
   "outputs": [],
   "source": [
    "feedback.order_id.value_counts()"
   ]
  },
  {
   "cell_type": "code",
   "execution_count": null,
   "metadata": {
    "id": "i6iiK_cE5nRc"
   },
   "outputs": [],
   "source": [
    "merged = pd.merge(order, feedback, left_on='order_id', right_on='order_id')\n",
    "merged.info()"
   ]
  },
  {
   "cell_type": "markdown",
   "metadata": {
    "id": "uQW7yJ6Azd4M"
   },
   "source": [
    "**Conclussion**:\n",
    "Order 1 .. M Feedback on _order_id_"
   ]
  },
  {
   "cell_type": "code",
   "execution_count": null,
   "metadata": {
    "id": "iEGduj2w51Qi"
   },
   "outputs": [],
   "source": [
    "# Check Order - Payment\n",
    "print(\"OrderItem - Product\")\n",
    "set(order_item.columns).intersection(products.columns)"
   ]
  },
  {
   "cell_type": "code",
   "execution_count": null,
   "metadata": {
    "id": "_EXjJhrn6HMZ"
   },
   "outputs": [],
   "source": [
    "print(f\"Order Item rows : {order_item.shape[0]}\")\n",
    "print(f\"Producst rows : {products.shape[0]}\")"
   ]
  },
  {
   "cell_type": "code",
   "execution_count": null,
   "metadata": {
    "id": "sFQ98BRh598O"
   },
   "outputs": [],
   "source": [
    "merged = pd.merge(order_item, products, left_on='product_id', right_on='product_id')\n",
    "merged.info()"
   ]
  },
  {
   "cell_type": "markdown",
   "metadata": {
    "id": "XgM50qvozd8n"
   },
   "source": [
    "**Conclussion**:\n",
    "Product 1 .. M Order_item on _product_id_"
   ]
  },
  {
   "cell_type": "code",
   "execution_count": null,
   "metadata": {
    "id": "dl26EXfh6SCK"
   },
   "outputs": [],
   "source": [
    "# Check Order - Payment\n",
    "print(\"OrderItem - Seller\")\n",
    "set(order_item.columns).intersection(seller.columns)"
   ]
  },
  {
   "cell_type": "code",
   "execution_count": null,
   "metadata": {
    "id": "2jmjKfFg6d6U"
   },
   "outputs": [],
   "source": [
    "print(f\"Order Item rows : {order_item.shape[0]}\")\n",
    "print(f\"Producst rows : {seller.shape[0]}\")"
   ]
  },
  {
   "cell_type": "code",
   "execution_count": null,
   "metadata": {
    "id": "1EYYs41k6ZO-"
   },
   "outputs": [],
   "source": [
    "merged = pd.merge(order_item, seller, left_on='seller_id', right_on='seller_id')\n",
    "merged.info()"
   ]
  },
  {
   "cell_type": "markdown",
   "metadata": {
    "id": "vv8JSRI46TbO"
   },
   "source": [
    "**Conclussion**:\n",
    "Seller 1 .. M Order_item on _seller_id_"
   ]
  },
  {
   "cell_type": "markdown",
   "metadata": {
    "id": "MAlv-51T_Rg3"
   },
   "source": [
    "[TODO (Database Integration)] : \n",
    "1. Check each potential relationship\n",
    "2. Create ER Diagram\n",
    "3. Porting into local Postgres SQL\n",
    "---\n",
    "[TODO (Datamart)]:\n",
    "1. https://stackoverflow.com/questions/61030755/connect-to-postresql-database-from-google-colab\n",
    "--> Integrating colab with local db"
   ]
  },
  {
   "cell_type": "code",
   "execution_count": null,
   "metadata": {
    "id": "iR0TYRga_6-g"
   },
   "outputs": [],
   "source": []
  }
 ],
 "metadata": {
  "colab": {
   "authorship_tag": "ABX9TyOqiKjItu/brgGMr3T5q7MS",
   "collapsed_sections": [],
   "include_colab_link": true,
   "name": "DataExploration - 13/ 02 / 2021.ipynb",
   "private_outputs": true,
   "provenance": [],
   "toc_visible": true
  },
  "kernelspec": {
   "display_name": "Python 3",
   "language": "python",
   "name": "python3"
  },
  "language_info": {
   "codemirror_mode": {
    "name": "ipython",
    "version": 3
   },
   "file_extension": ".py",
   "mimetype": "text/x-python",
   "name": "python",
   "nbconvert_exporter": "python",
   "pygments_lexer": "ipython3",
   "version": "3.6.12"
  }
 },
 "nbformat": 4,
 "nbformat_minor": 1
}
