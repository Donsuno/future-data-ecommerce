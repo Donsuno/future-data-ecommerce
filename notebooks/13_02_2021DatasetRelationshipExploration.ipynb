{
  "nbformat": 4,
  "nbformat_minor": 0,
  "metadata": {
    "colab": {
      "name": "DataExploration - 13/ 02 / 2021.ipynb",
      "private_outputs": true,
      "provenance": [],
      "collapsed_sections": [],
      "toc_visible": true,
      "authorship_tag": "ABX9TyOqiKjItu/brgGMr3T5q7MS",
      "include_colab_link": true
    },
    "kernelspec": {
      "name": "python3",
      "display_name": "Python 3"
    }
  },
  "cells": [
    {
      "cell_type": "markdown",
      "metadata": {
        "id": "view-in-github",
        "colab_type": "text"
      },
      "source": [
        "<a href=\"https://colab.research.google.com/github/William9923/future-data-ecommerce/blob/master/notebooks/13_02_2021DatasetRelationshipExploration.ipynb\" target=\"_parent\"><img src=\"https://colab.research.google.com/assets/colab-badge.svg\" alt=\"Open In Colab\"/></a>"
      ]
    },
    {
      "cell_type": "markdown",
      "metadata": {
        "id": "ySAgqzcmfIfl"
      },
      "source": [
        "# Data Exploration\r\n",
        "\r\n",
        "Goal : \r\n",
        "* Finding relationship and understanding data context\r\n",
        "* Exploring data for database creation context\r\n"
      ]
    },
    {
      "cell_type": "markdown",
      "metadata": {
        "id": "m6Er_MNpfFrg"
      },
      "source": [
        "## Importing Libraries"
      ]
    },
    {
      "cell_type": "code",
      "metadata": {
        "id": "mjddU4lUaDgA"
      },
      "source": [
        "#ignore warnings\r\n",
        "import warnings\r\n",
        "warnings.filterwarnings('ignore')\r\n",
        "\r\n",
        "from IPython.core.interactiveshell import InteractiveShell\r\n",
        "InteractiveShell.ast_node_interactivity = \"all\"\r\n",
        "\r\n",
        "import pandas as pd"
      ],
      "execution_count": null,
      "outputs": []
    },
    {
      "cell_type": "code",
      "metadata": {
        "id": "tUxD43pCfvWG"
      },
      "source": [
        "def profilling(df, filename):\r\n",
        "  # importing sweetviz\r\n",
        "  import sweetviz as sv                 #analyzing the dataset\r\n",
        "  advert_report = sv.analyze(df)  #display the report\r\n",
        "  advert_report.show_html(filename)"
      ],
      "execution_count": null,
      "outputs": []
    },
    {
      "cell_type": "code",
      "metadata": {
        "id": "JX4-NsJvgDlv"
      },
      "source": [
        "def show_missing_data(df):\r\n",
        "    print(f\"Shape : {df.shape}\")\r\n",
        "    print(f\"Missing Data : {df.isnull().sum()}\")\r\n",
        "    return None"
      ],
      "execution_count": null,
      "outputs": []
    },
    {
      "cell_type": "markdown",
      "metadata": {
        "id": "rwBhtdWHfSMt"
      },
      "source": [
        "## Importing Data\r\n"
      ]
    },
    {
      "cell_type": "code",
      "metadata": {
        "id": "QdrZHj7bfH54"
      },
      "source": [
        "print(\"Loading Dataset ...\")\r\n",
        "\r\n",
        "data_folder = \"data/raw/\"\r\n",
        "\r\n",
        "user = pd.read_csv(data_folder + \"user_dataset.csv\")\r\n",
        "order = pd.read_csv(data_folder + \"order_dataset.csv\")\r\n",
        "order_item = pd.read_csv(data_folder + \"order_item_dataset.csv\")\r\n",
        "payment = pd.read_csv(data_folder + \"payment_dataset.csv\")\r\n",
        "products = pd.read_csv(data_folder + \"products_dataset.csv\")\r\n",
        "seller = pd.read_csv(data_folder + \"seller_dataset.csv\")\r\n",
        "feedback = pd.read_csv(data_folder + \"feedback_dataset.csv\")\r\n",
        "\r\n",
        "print(\"Finish...\")"
      ],
      "execution_count": null,
      "outputs": []
    },
    {
      "cell_type": "code",
      "metadata": {
        "id": "ptcyY6OTgYT5"
      },
      "source": [
        "dataset = [user, order, order_item, payment, products, seller, feedback]\r\n",
        "filenames = [\"User\", \"Order\", \"OrderItem\", \"Payment\", \"Products\", \"Seller\", \"Feedback\"]\r\n",
        "\r\n",
        "report_folder = 'reports/docs/'\r\n",
        "\r\n",
        "for data, filename in zip(dataset, filenames) :\r\n",
        "  profilling(data, filename + \".html\")"
      ],
      "execution_count": null,
      "outputs": []
    },
    {
      "cell_type": "markdown",
      "metadata": {
        "id": "ZBTaPGEpysww"
      },
      "source": [
        "## Single Entity Exploration"
      ]
    },
    {
      "cell_type": "markdown",
      "metadata": {
        "id": "NJ9StUmNgEso"
      },
      "source": [
        "### User Dataset Exploration"
      ]
    },
    {
      "cell_type": "code",
      "metadata": {
        "id": "BYJNam3FftEO"
      },
      "source": [
        "print(\"Missing Data | User : \")\r\n",
        "show_missing_data(user)"
      ],
      "execution_count": null,
      "outputs": []
    },
    {
      "cell_type": "code",
      "metadata": {
        "id": "tbsAWWuShnXy"
      },
      "source": [
        "user.info()"
      ],
      "execution_count": null,
      "outputs": []
    },
    {
      "cell_type": "code",
      "metadata": {
        "id": "60eWeIsegLUl"
      },
      "source": [
        "user.head()"
      ],
      "execution_count": null,
      "outputs": []
    },
    {
      "cell_type": "code",
      "metadata": {
        "id": "oXFKnMXrij6I"
      },
      "source": [
        "print(f\"Total rows : {user.shape[0]}\")\r\n",
        "print(f\"Total unique rows (based on username) : {user.user_name.nunique()}\")\r\n",
        "print(f\"Number of duplicate after processed : {user.duplicated(subset = ['user_name']).sum()}\")"
      ],
      "execution_count": null,
      "outputs": []
    },
    {
      "cell_type": "code",
      "metadata": {
        "id": "3tBPJh06j_zk"
      },
      "source": [
        "# Get all duplicate data\r\n",
        "user.duplicated(subset = ['user_name']).head()"
      ],
      "execution_count": null,
      "outputs": []
    },
    {
      "cell_type": "code",
      "metadata": {
        "id": "LPUh7-PKkF64"
      },
      "source": [
        "# Check single sample duplicate username\r\n",
        "user.loc[user.user_name == \"2b6ce149982204423f4efac29701255a\"]"
      ],
      "execution_count": null,
      "outputs": []
    },
    {
      "cell_type": "code",
      "metadata": {
        "id": "AOi89kGMk23n"
      },
      "source": [
        "user_no_duplicate = user.drop_duplicates(subset=['user_name'], keep=\"last\")\r\n",
        "user_no_duplicate.to_csv(\"data/processed/user_no_duplicate.csv\", index=False)"
      ],
      "execution_count": null,
      "outputs": []
    },
    {
      "cell_type": "code",
      "metadata": {
        "id": "J013cig2lnHL"
      },
      "source": [
        "print(f\"Number of duplicate after processed : {user_no_duplicate.duplicated(subset = ['user_name']).sum()}\")"
      ],
      "execution_count": null,
      "outputs": []
    },
    {
      "cell_type": "markdown",
      "metadata": {
        "id": "ZQEbEPqEgO07"
      },
      "source": [
        "**Few Important Notes :**\r\n",
        "\r\n",
        "* user_name encoded\r\n",
        "* multiple same username (?)\r\n",
        "---\r\n",
        "**Data Types For Database:**\r\n",
        "\r\n",
        "* user_name : VARCHAR (PK)\r\n",
        "* customer_zip_code : VARCHAR\r\n",
        "* customer_city : VARCHAR\r\n",
        "* customer_state : VARCHAR\r\n",
        "---\r\n",
        "**Preprocess Procedure:**\r\n",
        "\r\n",
        "* drop_duplicate (use last entry as saved username)\r\n",
        "* ask the context of multiple zip_code"
      ]
    },
    {
      "cell_type": "markdown",
      "metadata": {
        "id": "8rVn4bKPmfDI"
      },
      "source": [
        "### Product Dataset Exploration"
      ]
    },
    {
      "cell_type": "code",
      "metadata": {
        "id": "KdM4d5wjgMul"
      },
      "source": [
        "print(\"Missing Data | Product : \")\r\n",
        "show_missing_data(products)"
      ],
      "execution_count": null,
      "outputs": []
    },
    {
      "cell_type": "code",
      "metadata": {
        "id": "BJJFxLagvkm1"
      },
      "source": [
        "products.info()"
      ],
      "execution_count": null,
      "outputs": []
    },
    {
      "cell_type": "code",
      "metadata": {
        "id": "wVzR4Hldv6V2"
      },
      "source": [
        "print(f\"Total rows : {products.shape[0]}\")\r\n",
        "print(f\"Total unique rows (based on product_id) : {products.product_id.nunique()}\")\r\n",
        "print(f\"Number of duplicate after processed : {products.duplicated(subset = ['product_id']).sum()}\")"
      ],
      "execution_count": null,
      "outputs": []
    },
    {
      "cell_type": "markdown",
      "metadata": {
        "id": "ITCcVvhCnBUZ"
      },
      "source": [
        "**Few Important Notes :**\r\n",
        "\r\n",
        "* missing data on some rows\r\n",
        "---\r\n",
        "**Data Types For Database:**\r\n",
        "\r\n",
        "* product_id : VARCHAR (PK)\r\n",
        "* product_category : INT\r\n",
        "* product_name_length : INT\r\n",
        "* product_description_length : INT\r\n",
        "* product_photos_qty  : INT\r\n",
        "* product_weight_g : FLOAT\r\n",
        "* product_height_cm : FLOAT\r\n",
        "* product_width_cm : FLOAT\r\n",
        "---\r\n",
        "**Preprocess Procedure:**\r\n",
        "\r\n",
        "* keep missing data (allow NULL on database)\r\n",
        "* rename columns (product_name_lenght -> product_name_length, product_description_lenght -> product_description_length)"
      ]
    },
    {
      "cell_type": "markdown",
      "metadata": {
        "id": "YM2PZugiwGGX"
      },
      "source": [
        "### Seller Dataset Exploration"
      ]
    },
    {
      "cell_type": "code",
      "metadata": {
        "id": "g12jkZQ2wXcI"
      },
      "source": [
        "print(\"Missing Data | Seller : \")\r\n",
        "show_missing_data(seller)"
      ],
      "execution_count": null,
      "outputs": []
    },
    {
      "cell_type": "code",
      "metadata": {
        "id": "0ZIDclz4wcJu"
      },
      "source": [
        "seller.info()"
      ],
      "execution_count": null,
      "outputs": []
    },
    {
      "cell_type": "markdown",
      "metadata": {
        "id": "u8ET8BCqwUP9"
      },
      "source": [
        "**Few Important Notes :**\r\n",
        "\r\n",
        "---\r\n",
        "**Data Types For Database:**\r\n",
        "\r\n",
        "* seller_id : VARCHAR (PK)\r\n",
        "* seller_zip_code : VARCHAR\r\n",
        "* seller_city : VARCHAR\r\n",
        "* seller_state : VARCHAR\r\n",
        "---\r\n",
        "**Preprocess Procedure:**\r\n",
        "-"
      ]
    },
    {
      "cell_type": "markdown",
      "metadata": {
        "id": "oFJ5EMJow0ew"
      },
      "source": [
        "### Order Dataset Exploration"
      ]
    },
    {
      "cell_type": "code",
      "metadata": {
        "id": "nlRQd_ASy3to"
      },
      "source": [
        "print(\"Missing Data | Order : \")\r\n",
        "show_missing_data(order)"
      ],
      "execution_count": null,
      "outputs": []
    },
    {
      "cell_type": "code",
      "metadata": {
        "id": "HW43RyJFy9bC"
      },
      "source": [
        "order.info()"
      ],
      "execution_count": null,
      "outputs": []
    },
    {
      "cell_type": "code",
      "metadata": {
        "id": "1N07smYB0nfS"
      },
      "source": [
        "print(f\"Total rows : {order.shape[0]}\")\r\n",
        "print(f\"Total unique rows (based on product_id) : {order.order_id.nunique()}\")\r\n",
        "print(f\"Number of duplicate after processed : {order.duplicated(subset = ['order_id']).sum()}\")"
      ],
      "execution_count": null,
      "outputs": []
    },
    {
      "cell_type": "markdown",
      "metadata": {
        "id": "4NwnLhT1yffn"
      },
      "source": [
        "**Few Important Notes :**\r\n",
        "* Some missing value in order_approved_date, pickup_date, delivered_date, estimated_time_delivery\r\n",
        "---\r\n",
        "**Data Types For Database:**\r\n",
        "\r\n",
        "* order_id : VARCHAR (PK)\r\n",
        "* user_name : VARCHAR\r\n",
        "* order_status : VARCHAR\r\n",
        "* order_date : VARCHAR\r\n",
        "* order_approved_date : TIMESTAMP\r\n",
        "* pickup_date : TIMESTAMP\r\n",
        "* delivered_date : TIMESTAMP\r\n",
        "* estimated_time_delivery : TIMESTAMP\r\n",
        "---\r\n",
        "**Preprocess Procedure:**\r\n",
        "* keep missing data (allow NULL on database)"
      ]
    },
    {
      "cell_type": "markdown",
      "metadata": {
        "id": "tF-KuIDcw-7K"
      },
      "source": [
        "### Order Item Dataset Exploration"
      ]
    },
    {
      "cell_type": "code",
      "metadata": {
        "id": "svwcZDJU325q"
      },
      "source": [
        "print(\"Missing Data | Order Item: \")\r\n",
        "show_missing_data(order_item)"
      ],
      "execution_count": null,
      "outputs": []
    },
    {
      "cell_type": "code",
      "metadata": {
        "id": "4dJXt9Hp37w1"
      },
      "source": [
        "order_item.info()"
      ],
      "execution_count": null,
      "outputs": []
    },
    {
      "cell_type": "code",
      "metadata": {
        "id": "U9DhK1Sc3-HQ"
      },
      "source": [
        "# Checking Primary Key\r\n",
        "print(\"Testing PK : Order Id\")\r\n",
        "print(f\"Total rows : {order_item.shape[0]}\")\r\n",
        "print(f\"Total unique rows (based on order_item_id) : {order_item.order_id.nunique()}\")\r\n",
        "print(f\"Number of duplicate after processed : {order_item.duplicated(subset = ['order_id']).sum()}\")\r\n",
        "print('-' * 20)\r\n",
        "\r\n",
        "print(\"Testing PK : Order Item Id\")\r\n",
        "print(f\"Total rows : {order_item.shape[0]}\")\r\n",
        "print(f\"Total unique rows (based on order_item_id) : {order_item.order_item_id.nunique()}\")\r\n",
        "print(f\"Number of duplicate after processed : {order_item.duplicated(subset = ['order_item_id']).sum()}\")\r\n",
        "print('-' * 20)\r\n",
        "\r\n",
        "print(\"Testing PK : Composite(order_id, order_item_id)\")\r\n",
        "print(f\"Total rows : {order_item.shape[0]}\")\r\n",
        "print(f\"Total unique rows (based on order_item_id) : {order_item[['order_item_id', 'order_id']].nunique()}\")\r\n",
        "print(f\"Number of duplicate after processed : {order_item.duplicated(subset = ['order_item_id', 'order_id']).sum()}\")"
      ],
      "execution_count": null,
      "outputs": []
    },
    {
      "cell_type": "markdown",
      "metadata": {
        "id": "CmUSyV4Oygkl"
      },
      "source": [
        "**Few Important Notes :**\r\n",
        "* what is order_item_id? \r\n",
        "* PK is composite key of order_id & order_item_id\r\n",
        "---\r\n",
        "**Data Types For Database:**\r\n",
        "\r\n",
        "* order_id : VARCHAR\r\n",
        "* order_item_id : INT\r\n",
        "* product_id : VARCHAR\r\n",
        "* seller_id : VARCHAR\r\n",
        "* pickup_limit_date : TIMESTAMP\r\n",
        "* price : FLOAT\r\n",
        "* shipping_cost : FLOAT\r\n",
        "---\r\n",
        "**Preprocess Procedure:**\r\n",
        "-"
      ]
    },
    {
      "cell_type": "markdown",
      "metadata": {
        "id": "pVlb4m1_yVag"
      },
      "source": [
        "### Payment Dataset Exploration"
      ]
    },
    {
      "cell_type": "code",
      "metadata": {
        "id": "4VCu8tQk5n2M"
      },
      "source": [
        "print(\"Missing Data | Payment: \")\r\n",
        "show_missing_data(payment)"
      ],
      "execution_count": null,
      "outputs": []
    },
    {
      "cell_type": "code",
      "metadata": {
        "id": "zUmSySEL5zCq"
      },
      "source": [
        "payment.info()"
      ],
      "execution_count": null,
      "outputs": []
    },
    {
      "cell_type": "code",
      "metadata": {
        "id": "GGwftOwP5zKi"
      },
      "source": [
        "payment.head()"
      ],
      "execution_count": null,
      "outputs": []
    },
    {
      "cell_type": "code",
      "metadata": {
        "id": "WRUCPo3q6FHx"
      },
      "source": [
        "# Checking Primary Key\r\n",
        "print(\"Testing PK : Order Id\")\r\n",
        "print(f\"Total rows : {payment.shape[0]}\")\r\n",
        "print(f\"Total unique rows (based on order_id) : {payment.order_id.nunique()}\")\r\n",
        "print(f\"Number of duplicate after processed : {payment.duplicated(subset = ['order_id']).sum()}\")\r\n",
        "print('-' * 20)\r\n",
        "\r\n",
        "print(\"Testing PK : Composite(Order Id, Payment Sequential)\")\r\n",
        "print(f\"Total rows : {payment.shape[0]}\")\r\n",
        "print(f\"Number of duplicate after processed : {payment.duplicated(subset = ['order_id','payment_sequential']).sum()}\")\r\n",
        "print('-' * 20)"
      ],
      "execution_count": null,
      "outputs": []
    },
    {
      "cell_type": "markdown",
      "metadata": {
        "id": "NNeY9d2ryhtB"
      },
      "source": [
        "**Few Important Notes :**\r\n",
        "* missing column payment_id?\r\n",
        "* what is payment_sequential?\r\n",
        "---\r\n",
        "**Data Types For Database:**\r\n",
        "\r\n",
        "* order_id : VARCHAR (PK)\r\n",
        "* payment_sequential : INT (PK)\r\n",
        "* payment_type : VARCHAR\r\n",
        "* payment_installments : VARCHAR\r\n",
        "* payment_value : FLOAT\r\n",
        "---\r\n",
        "**Preprocess Procedure:**\r\n",
        "- confused, because metadata different from specs, need clarification"
      ]
    },
    {
      "cell_type": "markdown",
      "metadata": {
        "id": "xLes1nh1yVeo"
      },
      "source": [
        "### Feedback Dataset Exploration"
      ]
    },
    {
      "cell_type": "code",
      "metadata": {
        "id": "RHgKfipl6dQ0"
      },
      "source": [
        "print(\"Missing Data | Feedback: \")\r\n",
        "show_missing_data(feedback)"
      ],
      "execution_count": null,
      "outputs": []
    },
    {
      "cell_type": "code",
      "metadata": {
        "id": "gsgq3MSk6dTs"
      },
      "source": [
        "feedback.info()"
      ],
      "execution_count": null,
      "outputs": []
    },
    {
      "cell_type": "code",
      "metadata": {
        "id": "cdMz66ce6dba"
      },
      "source": [
        "feedback.head()"
      ],
      "execution_count": null,
      "outputs": []
    },
    {
      "cell_type": "code",
      "metadata": {
        "id": "4YHx0cWk7wmF"
      },
      "source": [
        "# Checking Primary Key\r\n",
        "print(\"Testing PK : Feedback Id\")\r\n",
        "print(f\"Total rows : {feedback.shape[0]}\")\r\n",
        "print(f\"Total unique rows (based on feedback_id) : {feedback.feedback_id.nunique()}\")\r\n",
        "print(f\"Number of duplicate after processed : {feedback.duplicated(subset = ['feedback_id']).sum()}\")\r\n",
        "print('-' * 20)\r\n",
        "\r\n",
        "print(\"Testing PK : Order Id\")\r\n",
        "print(f\"Total rows : {feedback.shape[0]}\")\r\n",
        "print(f\"Total unique rows (based on order_id) : {feedback.order_id.nunique()}\")\r\n",
        "print(f\"Number of duplicate after processed : {feedback.duplicated(subset = ['order_id']).sum()}\")\r\n",
        "print('-' * 20)\r\n",
        "\r\n",
        "print(\"Testing PK : Composite(Order Id, Feedback Id)\")\r\n",
        "print(f\"Total rows : {feedback.shape[0]}\")\r\n",
        "print(f\"Number of duplicate after processed : {feedback.duplicated(subset = ['order_id','feedback_id']).sum()}\")\r\n",
        "print('-' * 20)\r\n"
      ],
      "execution_count": null,
      "outputs": []
    },
    {
      "cell_type": "markdown",
      "metadata": {
        "id": "naQITbQwyiyg"
      },
      "source": [
        "**Few Important Notes :**\r\n",
        "* is delta time (how long to answer a feedback) have a correlation in feedback score?\r\n",
        "* what about order that user / buyer not give feedback?\r\n",
        "---\r\n",
        "**Data Types For Database:**\r\n",
        "\r\n",
        "* feedback_id : VARCHAR (PK)\r\n",
        "* order_id : VARCHAR (PK)\r\n",
        "* feedback_score : INT\r\n",
        "* feedback_form_sent_date : TIMESTAMP\r\n",
        "* feedback_answer_date : TIMESTAMP\r\n",
        "---\r\n",
        "**Preprocess Procedure:**\r\n",
        "-"
      ]
    },
    {
      "cell_type": "markdown",
      "metadata": {
        "id": "pZuUqw10yxUV"
      },
      "source": [
        "## Entity Relationship Exploration\r\n",
        "\r\n",
        "Potential Relationship (based on dataset) : \r\n",
        "1. User 1 .. M Order on _user_name_\r\n",
        "2. Order 1 .. M Order_item on _order_id_\r\n",
        "3. Order 1 .. 1 Payment on _order_id_\r\n",
        "4. Order 1 .. 1 Feedback on _order_id_\r\n",
        "5. Product 1 .. M Order_item on _product_id_\r\n",
        "6. Seller 1 .. M Order_item on _seller_id_"
      ]
    },
    {
      "cell_type": "code",
      "metadata": {
        "id": "YAAJNvqMvBU6"
      },
      "source": [
        "user = pd.read_csv(\"data/processed/user_no_duplicate.csv\")"
      ],
      "execution_count": null,
      "outputs": []
    },
    {
      "cell_type": "code",
      "metadata": {
        "id": "K9Kcd0P2wzl1"
      },
      "source": [
        "# Check user - order\r\n",
        "print(\"User - Order\")\r\n",
        "set(user.columns).intersection(order.columns)"
      ],
      "execution_count": null,
      "outputs": []
    },
    {
      "cell_type": "code",
      "metadata": {
        "id": "9s2LULbymtVA"
      },
      "source": [
        "# Try to join using on 'user_name' on order\r\n",
        "print (\"Uniqueness of username in User table : \")\r\n",
        "user.user_name.value_counts()"
      ],
      "execution_count": null,
      "outputs": []
    },
    {
      "cell_type": "code",
      "metadata": {
        "id": "g-R06ZKXu8Q5"
      },
      "source": [
        "print(\"Uniquness of username in Order table :\")\r\n",
        "order.user_name.value_counts()"
      ],
      "execution_count": null,
      "outputs": []
    },
    {
      "cell_type": "code",
      "metadata": {
        "id": "P9XeYMiTxuGF"
      },
      "source": [
        "merged = pd.merge(user, order, left_on='user_name', right_on='user_name')\r\n",
        "merged.info()"
      ],
      "execution_count": null,
      "outputs": []
    },
    {
      "cell_type": "markdown",
      "metadata": {
        "id": "lPeFrc1Gvnn9"
      },
      "source": [
        "**Conclussion**:\r\n",
        "User 1 .. M Order on _user_name_"
      ]
    },
    {
      "cell_type": "code",
      "metadata": {
        "id": "9qGFITe6wCZI"
      },
      "source": [
        "# Check Order - OrderItem\r\n",
        "print(\"Order - OrderItem\")\r\n",
        "set(order.columns).intersection(order_item.columns)"
      ],
      "execution_count": null,
      "outputs": []
    },
    {
      "cell_type": "code",
      "metadata": {
        "id": "tQyZ-fhRy80Z"
      },
      "source": [
        "print (\"Uniqueness of order_id in Order table : \")\r\n",
        "order.order_id.value_counts()"
      ],
      "execution_count": null,
      "outputs": []
    },
    {
      "cell_type": "code",
      "metadata": {
        "id": "1UBmNzP4zL8_"
      },
      "source": [
        "print (\"Uniqueness of order_id in OrderItem table : \")\r\n",
        "order_item.order_id.value_counts()"
      ],
      "execution_count": null,
      "outputs": []
    },
    {
      "cell_type": "code",
      "metadata": {
        "id": "8RU2hiwvwNIw"
      },
      "source": [
        "merged = pd.merge(order, order_item, left_on='order_id', right_on='order_id')\r\n",
        "merged.info()"
      ],
      "execution_count": null,
      "outputs": []
    },
    {
      "cell_type": "markdown",
      "metadata": {
        "id": "dYp5XsF1zPOj"
      },
      "source": [
        "**Conclussion**:\r\n",
        "Order 1 .. M Order_item on _order_id_"
      ]
    },
    {
      "cell_type": "code",
      "metadata": {
        "id": "6-UVkZWC2ZCB"
      },
      "source": [
        "# Check Order - Payment\r\n",
        "print(\"Order - Payment\")\r\n",
        "set(order.columns).intersection(payment.columns)"
      ],
      "execution_count": null,
      "outputs": []
    },
    {
      "cell_type": "code",
      "metadata": {
        "id": "xRfLBkwQ2nyK"
      },
      "source": [
        "payment.order_id.value_counts()"
      ],
      "execution_count": null,
      "outputs": []
    },
    {
      "cell_type": "code",
      "metadata": {
        "id": "Wm_y9ltV2glg"
      },
      "source": [
        "merged = pd.merge(order, payment, left_on='order_id', right_on='order_id')\r\n",
        "merged.info()"
      ],
      "execution_count": null,
      "outputs": []
    },
    {
      "cell_type": "markdown",
      "metadata": {
        "id": "FYVV4y88zdyb"
      },
      "source": [
        "**Conclussion**:\r\n",
        "Order 1 .. M Order_item on _order_id_"
      ]
    },
    {
      "cell_type": "code",
      "metadata": {
        "id": "_dIeZ1G05ZS8"
      },
      "source": [
        "# Check Order - Payment\r\n",
        "print(\"Order - Feedback\")\r\n",
        "set(order.columns).intersection(feedback.columns)"
      ],
      "execution_count": null,
      "outputs": []
    },
    {
      "cell_type": "code",
      "metadata": {
        "id": "uOOizBJl5fim"
      },
      "source": [
        "feedback.order_id.value_counts()"
      ],
      "execution_count": null,
      "outputs": []
    },
    {
      "cell_type": "code",
      "metadata": {
        "id": "i6iiK_cE5nRc"
      },
      "source": [
        "merged = pd.merge(order, feedback, left_on='order_id', right_on='order_id')\r\n",
        "merged.info()"
      ],
      "execution_count": null,
      "outputs": []
    },
    {
      "cell_type": "markdown",
      "metadata": {
        "id": "uQW7yJ6Azd4M"
      },
      "source": [
        "**Conclussion**:\r\n",
        "Order 1 .. M Feedback on _order_id_"
      ]
    },
    {
      "cell_type": "code",
      "metadata": {
        "id": "iEGduj2w51Qi"
      },
      "source": [
        "# Check Order - Payment\r\n",
        "print(\"OrderItem - Product\")\r\n",
        "set(order_item.columns).intersection(products.columns)"
      ],
      "execution_count": null,
      "outputs": []
    },
    {
      "cell_type": "code",
      "metadata": {
        "id": "_EXjJhrn6HMZ"
      },
      "source": [
        "print(f\"Order Item rows : {order_item.shape[0]}\")\r\n",
        "print(f\"Producst rows : {products.shape[0]}\")"
      ],
      "execution_count": null,
      "outputs": []
    },
    {
      "cell_type": "code",
      "metadata": {
        "id": "sFQ98BRh598O"
      },
      "source": [
        "merged = pd.merge(order_item, products, left_on='product_id', right_on='product_id')\r\n",
        "merged.info()"
      ],
      "execution_count": null,
      "outputs": []
    },
    {
      "cell_type": "markdown",
      "metadata": {
        "id": "XgM50qvozd8n"
      },
      "source": [
        "**Conclussion**:\r\n",
        "Product 1 .. M Order_item on _product_id_"
      ]
    },
    {
      "cell_type": "code",
      "metadata": {
        "id": "dl26EXfh6SCK"
      },
      "source": [
        "# Check Order - Payment\r\n",
        "print(\"OrderItem - Seller\")\r\n",
        "set(order_item.columns).intersection(seller.columns)"
      ],
      "execution_count": null,
      "outputs": []
    },
    {
      "cell_type": "code",
      "metadata": {
        "id": "2jmjKfFg6d6U"
      },
      "source": [
        "print(f\"Order Item rows : {order_item.shape[0]}\")\r\n",
        "print(f\"Producst rows : {seller.shape[0]}\")"
      ],
      "execution_count": null,
      "outputs": []
    },
    {
      "cell_type": "code",
      "metadata": {
        "id": "1EYYs41k6ZO-"
      },
      "source": [
        "merged = pd.merge(order_item, seller, left_on='seller_id', right_on='seller_id')\r\n",
        "merged.info()"
      ],
      "execution_count": null,
      "outputs": []
    },
    {
      "cell_type": "markdown",
      "metadata": {
        "id": "vv8JSRI46TbO"
      },
      "source": [
        "**Conclussion**:\r\n",
        "Seller 1 .. M Order_item on _seller_id_"
      ]
    },
    {
      "cell_type": "markdown",
      "metadata": {
        "id": "MAlv-51T_Rg3"
      },
      "source": [
        "[TODO (Database Integration)] : \r\n",
        "1. Check each potential relationship\r\n",
        "2. Create ER Diagram\r\n",
        "3. Porting into local Postgres SQL\r\n",
        "---\r\n",
        "[TODO (Datamart)]:\r\n",
        "1. https://stackoverflow.com/questions/61030755/connect-to-postresql-database-from-google-colab\r\n",
        "--> Integrating colab with local db"
      ]
    },
    {
      "cell_type": "code",
      "metadata": {
        "id": "iR0TYRga_6-g"
      },
      "source": [
        ""
      ],
      "execution_count": null,
      "outputs": []
    }
  ]
}