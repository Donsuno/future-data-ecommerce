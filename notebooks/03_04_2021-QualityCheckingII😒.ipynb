{
 "metadata": {
  "orig_nbformat": 2,
  "kernelspec": {
   "name": "python3",
   "display_name": "Python 3",
   "language": "python"
  }
 },
 "nbformat": 4,
 "nbformat_minor": 2,
 "cells": [
  {
   "source": [
    "# ETL Quality Checking\n",
    "A notebook to check the result from ETL query process\n",
    "\n",
    "Scripts :\n",
    "* dim_populate.sql\n",
    "* fct_populate.sql"
   ],
   "cell_type": "markdown",
   "metadata": {}
  },
  {
   "source": [
    "## Notebook Sanity Check"
   ],
   "cell_type": "markdown",
   "metadata": {}
  },
  {
   "cell_type": "code",
   "execution_count": 15,
   "metadata": {},
   "outputs": [],
   "source": [
    "from dotenv import load_dotenv\n",
    "import os\n",
    "\n",
    "# OR, the same with increased verbosity\n",
    "load_dotenv(verbose=True)\n",
    "\n",
    "DBNAME= \"ecommerce\"\n",
    "HOSTNAME= \"localhost\"\n",
    "USER= \"postgres\"\n",
    "PASS= \"9923\""
   ]
  },
  {
   "cell_type": "code",
   "execution_count": 16,
   "metadata": {},
   "outputs": [
    {
     "output_type": "stream",
     "name": "stdout",
     "text": [
      "localhost\n"
     ]
    }
   ],
   "source": [
    "print(HOSTNAME)"
   ]
  },
  {
   "cell_type": "code",
   "execution_count": 17,
   "metadata": {},
   "outputs": [],
   "source": [
    "import psycopg2\n",
    "import pandas as pd\n",
    "from sqlalchemy import create_engine\n",
    "\n",
    "# Create an engine instance\n",
    "alchemyEngine = create_engine(f'postgresql+psycopg2://{USER}:{PASS}@{HOSTNAME}/{DBNAME}', pool_recycle=3600);\n",
    "\n",
    "# Connect to PostgreSQL server\n",
    "conn  = alchemyEngine.connect();"
   ]
  },
  {
   "cell_type": "code",
   "execution_count": 18,
   "metadata": {},
   "outputs": [],
   "source": [
    "# Showing Missing Data\n",
    "def show_missing_data(df):\n",
    "    print(f\"Shape : {df.shape}\")\n",
    "    print(f\"Missing Data : {df.isnull().sum()}\")\n",
    "    return None"
   ]
  },
  {
   "cell_type": "code",
   "execution_count": 19,
   "metadata": {},
   "outputs": [],
   "source": [
    "# Global var\n",
    "schema = \"warehouse\""
   ]
  },
  {
   "source": [
    "## Date dimension"
   ],
   "cell_type": "markdown",
   "metadata": {}
  },
  {
   "cell_type": "code",
   "execution_count": 20,
   "metadata": {},
   "outputs": [
    {
     "output_type": "stream",
     "name": "stdout",
     "text": [
      "<class 'pandas.core.frame.DataFrame'>\nRangeIndex: 3651 entries, 0 to 3650\nData columns (total 15 columns):\n #   Column                  Non-Null Count  Dtype         \n---  ------                  --------------  -----         \n 0   date_id                 3651 non-null   object        \n 1   date                    3651 non-null   datetime64[ns]\n 2   day_name                3651 non-null   object        \n 3   day_of_week             3651 non-null   int64         \n 4   day_of_month            3651 non-null   int64         \n 5   day_of_quarter          3651 non-null   int64         \n 6   day_of_year             3651 non-null   float64       \n 7   week_of_month           3651 non-null   int64         \n 8   week_of_year            3651 non-null   float64       \n 9   month_actual            3651 non-null   float64       \n 10  month_name              3651 non-null   object        \n 11  month_name_abbreviated  3651 non-null   object        \n 12  quarter                 3651 non-null   float64       \n 13  year                    3651 non-null   float64       \n 14  isWeekend               3651 non-null   bool          \ndtypes: bool(1), datetime64[ns](1), float64(5), int64(4), object(4)\nmemory usage: 403.0+ KB\n"
     ]
    }
   ],
   "source": [
    "date = pd.read_sql_table(\"dim_date\", conn, schema=schema)\n",
    "date.info()"
   ]
  },
  {
   "cell_type": "code",
   "execution_count": 21,
   "metadata": {},
   "outputs": [
    {
     "output_type": "stream",
     "name": "stdout",
     "text": [
      "Shape : (3651, 15)\nMissing Data : date_id                   0\ndate                      0\nday_name                  0\nday_of_week               0\nday_of_month              0\nday_of_quarter            0\nday_of_year               0\nweek_of_month             0\nweek_of_year              0\nmonth_actual              0\nmonth_name                0\nmonth_name_abbreviated    0\nquarter                   0\nyear                      0\nisWeekend                 0\ndtype: int64\n"
     ]
    }
   ],
   "source": [
    "show_missing_data(date)"
   ]
  },
  {
   "cell_type": "code",
   "execution_count": 22,
   "metadata": {},
   "outputs": [
    {
     "output_type": "execute_result",
     "data": {
      "text/plain": [
       "    date_id       date   day_name  day_of_week  day_of_month  day_of_quarter  \\\n",
       "0  20150101 2015-01-01  Thursday             4             1               1   \n",
       "1  20150102 2015-01-02  Friday               5             2               2   \n",
       "2  20150103 2015-01-03  Saturday             6             3               3   \n",
       "3  20150104 2015-01-04  Sunday               7             4               4   \n",
       "4  20150105 2015-01-05  Monday               1             5               5   \n",
       "\n",
       "   day_of_year  week_of_month  week_of_year  month_actual month_name  \\\n",
       "0          1.0              1           1.0           1.0  January     \n",
       "1          2.0              1           1.0           1.0  January     \n",
       "2          3.0              1           1.0           1.0  January     \n",
       "3          4.0              1           1.0           1.0  January     \n",
       "4          5.0              1           2.0           1.0  January     \n",
       "\n",
       "  month_name_abbreviated  quarter    year  isWeekend  \n",
       "0                    Jan      1.0  2015.0      False  \n",
       "1                    Jan      1.0  2015.0      False  \n",
       "2                    Jan      1.0  2015.0       True  \n",
       "3                    Jan      1.0  2015.0       True  \n",
       "4                    Jan      1.0  2015.0      False  "
      ],
      "text/html": "<div>\n<style scoped>\n    .dataframe tbody tr th:only-of-type {\n        vertical-align: middle;\n    }\n\n    .dataframe tbody tr th {\n        vertical-align: top;\n    }\n\n    .dataframe thead th {\n        text-align: right;\n    }\n</style>\n<table border=\"1\" class=\"dataframe\">\n  <thead>\n    <tr style=\"text-align: right;\">\n      <th></th>\n      <th>date_id</th>\n      <th>date</th>\n      <th>day_name</th>\n      <th>day_of_week</th>\n      <th>day_of_month</th>\n      <th>day_of_quarter</th>\n      <th>day_of_year</th>\n      <th>week_of_month</th>\n      <th>week_of_year</th>\n      <th>month_actual</th>\n      <th>month_name</th>\n      <th>month_name_abbreviated</th>\n      <th>quarter</th>\n      <th>year</th>\n      <th>isWeekend</th>\n    </tr>\n  </thead>\n  <tbody>\n    <tr>\n      <th>0</th>\n      <td>20150101</td>\n      <td>2015-01-01</td>\n      <td>Thursday</td>\n      <td>4</td>\n      <td>1</td>\n      <td>1</td>\n      <td>1.0</td>\n      <td>1</td>\n      <td>1.0</td>\n      <td>1.0</td>\n      <td>January</td>\n      <td>Jan</td>\n      <td>1.0</td>\n      <td>2015.0</td>\n      <td>False</td>\n    </tr>\n    <tr>\n      <th>1</th>\n      <td>20150102</td>\n      <td>2015-01-02</td>\n      <td>Friday</td>\n      <td>5</td>\n      <td>2</td>\n      <td>2</td>\n      <td>2.0</td>\n      <td>1</td>\n      <td>1.0</td>\n      <td>1.0</td>\n      <td>January</td>\n      <td>Jan</td>\n      <td>1.0</td>\n      <td>2015.0</td>\n      <td>False</td>\n    </tr>\n    <tr>\n      <th>2</th>\n      <td>20150103</td>\n      <td>2015-01-03</td>\n      <td>Saturday</td>\n      <td>6</td>\n      <td>3</td>\n      <td>3</td>\n      <td>3.0</td>\n      <td>1</td>\n      <td>1.0</td>\n      <td>1.0</td>\n      <td>January</td>\n      <td>Jan</td>\n      <td>1.0</td>\n      <td>2015.0</td>\n      <td>True</td>\n    </tr>\n    <tr>\n      <th>3</th>\n      <td>20150104</td>\n      <td>2015-01-04</td>\n      <td>Sunday</td>\n      <td>7</td>\n      <td>4</td>\n      <td>4</td>\n      <td>4.0</td>\n      <td>1</td>\n      <td>1.0</td>\n      <td>1.0</td>\n      <td>January</td>\n      <td>Jan</td>\n      <td>1.0</td>\n      <td>2015.0</td>\n      <td>True</td>\n    </tr>\n    <tr>\n      <th>4</th>\n      <td>20150105</td>\n      <td>2015-01-05</td>\n      <td>Monday</td>\n      <td>1</td>\n      <td>5</td>\n      <td>5</td>\n      <td>5.0</td>\n      <td>1</td>\n      <td>2.0</td>\n      <td>1.0</td>\n      <td>January</td>\n      <td>Jan</td>\n      <td>1.0</td>\n      <td>2015.0</td>\n      <td>False</td>\n    </tr>\n  </tbody>\n</table>\n</div>"
     },
     "metadata": {},
     "execution_count": 22
    }
   ],
   "source": [
    "date.head(5)"
   ]
  },
  {
   "cell_type": "code",
   "execution_count": 23,
   "metadata": {},
   "outputs": [
    {
     "output_type": "execute_result",
     "data": {
      "text/plain": [
       "       date_id       date   day_name  day_of_week  day_of_month  \\\n",
       "3646  20241225 2024-12-25  Wednesday            3            25   \n",
       "3647  20241226 2024-12-26  Thursday             4            26   \n",
       "3648  20241227 2024-12-27  Friday               5            27   \n",
       "3649  20241228 2024-12-28  Saturday             6            28   \n",
       "3650  20241229 2024-12-29  Sunday               7            29   \n",
       "\n",
       "      day_of_quarter  day_of_year  week_of_month  week_of_year  month_actual  \\\n",
       "3646              86        360.0              4          52.0          12.0   \n",
       "3647              87        361.0              4          52.0          12.0   \n",
       "3648              88        362.0              4          52.0          12.0   \n",
       "3649              89        363.0              4          52.0          12.0   \n",
       "3650              90        364.0              5          52.0          12.0   \n",
       "\n",
       "     month_name month_name_abbreviated  quarter    year  isWeekend  \n",
       "3646  December                     Dec      4.0  2024.0      False  \n",
       "3647  December                     Dec      4.0  2024.0      False  \n",
       "3648  December                     Dec      4.0  2024.0      False  \n",
       "3649  December                     Dec      4.0  2024.0       True  \n",
       "3650  December                     Dec      4.0  2024.0       True  "
      ],
      "text/html": "<div>\n<style scoped>\n    .dataframe tbody tr th:only-of-type {\n        vertical-align: middle;\n    }\n\n    .dataframe tbody tr th {\n        vertical-align: top;\n    }\n\n    .dataframe thead th {\n        text-align: right;\n    }\n</style>\n<table border=\"1\" class=\"dataframe\">\n  <thead>\n    <tr style=\"text-align: right;\">\n      <th></th>\n      <th>date_id</th>\n      <th>date</th>\n      <th>day_name</th>\n      <th>day_of_week</th>\n      <th>day_of_month</th>\n      <th>day_of_quarter</th>\n      <th>day_of_year</th>\n      <th>week_of_month</th>\n      <th>week_of_year</th>\n      <th>month_actual</th>\n      <th>month_name</th>\n      <th>month_name_abbreviated</th>\n      <th>quarter</th>\n      <th>year</th>\n      <th>isWeekend</th>\n    </tr>\n  </thead>\n  <tbody>\n    <tr>\n      <th>3646</th>\n      <td>20241225</td>\n      <td>2024-12-25</td>\n      <td>Wednesday</td>\n      <td>3</td>\n      <td>25</td>\n      <td>86</td>\n      <td>360.0</td>\n      <td>4</td>\n      <td>52.0</td>\n      <td>12.0</td>\n      <td>December</td>\n      <td>Dec</td>\n      <td>4.0</td>\n      <td>2024.0</td>\n      <td>False</td>\n    </tr>\n    <tr>\n      <th>3647</th>\n      <td>20241226</td>\n      <td>2024-12-26</td>\n      <td>Thursday</td>\n      <td>4</td>\n      <td>26</td>\n      <td>87</td>\n      <td>361.0</td>\n      <td>4</td>\n      <td>52.0</td>\n      <td>12.0</td>\n      <td>December</td>\n      <td>Dec</td>\n      <td>4.0</td>\n      <td>2024.0</td>\n      <td>False</td>\n    </tr>\n    <tr>\n      <th>3648</th>\n      <td>20241227</td>\n      <td>2024-12-27</td>\n      <td>Friday</td>\n      <td>5</td>\n      <td>27</td>\n      <td>88</td>\n      <td>362.0</td>\n      <td>4</td>\n      <td>52.0</td>\n      <td>12.0</td>\n      <td>December</td>\n      <td>Dec</td>\n      <td>4.0</td>\n      <td>2024.0</td>\n      <td>False</td>\n    </tr>\n    <tr>\n      <th>3649</th>\n      <td>20241228</td>\n      <td>2024-12-28</td>\n      <td>Saturday</td>\n      <td>6</td>\n      <td>28</td>\n      <td>89</td>\n      <td>363.0</td>\n      <td>4</td>\n      <td>52.0</td>\n      <td>12.0</td>\n      <td>December</td>\n      <td>Dec</td>\n      <td>4.0</td>\n      <td>2024.0</td>\n      <td>True</td>\n    </tr>\n    <tr>\n      <th>3650</th>\n      <td>20241229</td>\n      <td>2024-12-29</td>\n      <td>Sunday</td>\n      <td>7</td>\n      <td>29</td>\n      <td>90</td>\n      <td>364.0</td>\n      <td>5</td>\n      <td>52.0</td>\n      <td>12.0</td>\n      <td>December</td>\n      <td>Dec</td>\n      <td>4.0</td>\n      <td>2024.0</td>\n      <td>True</td>\n    </tr>\n  </tbody>\n</table>\n</div>"
     },
     "metadata": {},
     "execution_count": 23
    }
   ],
   "source": [
    "date.tail(5)"
   ]
  },
  {
   "source": [
    "## User dimension"
   ],
   "cell_type": "markdown",
   "metadata": {}
  },
  {
   "cell_type": "code",
   "execution_count": 24,
   "metadata": {},
   "outputs": [
    {
     "output_type": "stream",
     "name": "stdout",
     "text": [
      "<class 'pandas.core.frame.DataFrame'>\nRangeIndex: 96096 entries, 0 to 96095\nData columns (total 5 columns):\n #   Column              Non-Null Count  Dtype  \n---  ------              --------------  -----  \n 0   user_id             96096 non-null  int64  \n 1   user_name           96096 non-null  object \n 2   total_order         96096 non-null  float64\n 3   total_spending      96096 non-null  float64\n 4   is_current_version  96096 non-null  bool   \ndtypes: bool(1), float64(2), int64(1), object(1)\nmemory usage: 3.0+ MB\n"
     ]
    }
   ],
   "source": [
    "user = pd.read_sql_table(\"dim_user\", conn, schema=schema)\n",
    "user.info()"
   ]
  },
  {
   "cell_type": "code",
   "execution_count": 25,
   "metadata": {},
   "outputs": [
    {
     "output_type": "stream",
     "name": "stdout",
     "text": [
      "Shape : (96096, 5)\nMissing Data : user_id               0\nuser_name             0\ntotal_order           0\ntotal_spending        0\nis_current_version    0\ndtype: int64\n"
     ]
    }
   ],
   "source": [
    "show_missing_data(user)\n",
    "\n",
    "# Notes : There are a few user (1113 to be exact) that haven't done any transaction in the span of the data being collected"
   ]
  },
  {
   "cell_type": "code",
   "execution_count": 26,
   "metadata": {},
   "outputs": [
    {
     "output_type": "execute_result",
     "data": {
      "text/plain": [
       "   user_id                         user_name  total_order  total_spending  \\\n",
       "0        1  00053a61a98854899e70ed204dd4bafe          1.0        419180.0   \n",
       "1        2  0005e1862207bf6ccc02e4228effd9a0          1.0        150120.0   \n",
       "2        3  00090324bbad0e9342388303bb71ba0a          1.0         63660.0   \n",
       "3        4  000bfa1d2f1a41876493be685390d6d3          1.0         46850.0   \n",
       "4        5  000c8bdb58a29e7115cfc257230fb21b          1.0         29000.0   \n",
       "\n",
       "   is_current_version  \n",
       "0                True  \n",
       "1                True  \n",
       "2                True  \n",
       "3                True  \n",
       "4                True  "
      ],
      "text/html": "<div>\n<style scoped>\n    .dataframe tbody tr th:only-of-type {\n        vertical-align: middle;\n    }\n\n    .dataframe tbody tr th {\n        vertical-align: top;\n    }\n\n    .dataframe thead th {\n        text-align: right;\n    }\n</style>\n<table border=\"1\" class=\"dataframe\">\n  <thead>\n    <tr style=\"text-align: right;\">\n      <th></th>\n      <th>user_id</th>\n      <th>user_name</th>\n      <th>total_order</th>\n      <th>total_spending</th>\n      <th>is_current_version</th>\n    </tr>\n  </thead>\n  <tbody>\n    <tr>\n      <th>0</th>\n      <td>1</td>\n      <td>00053a61a98854899e70ed204dd4bafe</td>\n      <td>1.0</td>\n      <td>419180.0</td>\n      <td>True</td>\n    </tr>\n    <tr>\n      <th>1</th>\n      <td>2</td>\n      <td>0005e1862207bf6ccc02e4228effd9a0</td>\n      <td>1.0</td>\n      <td>150120.0</td>\n      <td>True</td>\n    </tr>\n    <tr>\n      <th>2</th>\n      <td>3</td>\n      <td>00090324bbad0e9342388303bb71ba0a</td>\n      <td>1.0</td>\n      <td>63660.0</td>\n      <td>True</td>\n    </tr>\n    <tr>\n      <th>3</th>\n      <td>4</td>\n      <td>000bfa1d2f1a41876493be685390d6d3</td>\n      <td>1.0</td>\n      <td>46850.0</td>\n      <td>True</td>\n    </tr>\n    <tr>\n      <th>4</th>\n      <td>5</td>\n      <td>000c8bdb58a29e7115cfc257230fb21b</td>\n      <td>1.0</td>\n      <td>29000.0</td>\n      <td>True</td>\n    </tr>\n  </tbody>\n</table>\n</div>"
     },
     "metadata": {},
     "execution_count": 26
    }
   ],
   "source": [
    "user.head()"
   ]
  },
  {
   "cell_type": "code",
   "execution_count": 27,
   "metadata": {},
   "outputs": [
    {
     "output_type": "execute_result",
     "data": {
      "text/plain": [
       "       user_id                         user_name  total_order  total_spending  \\\n",
       "96091    96092  1b32669eb9662ee904419de883e59a58          1.0             0.0   \n",
       "96092    96093  5942dde582a33e31ea4471bc5363b0f3          1.0             0.0   \n",
       "96093    96094  daba2e7a00c149161c68cbb18db656a9          1.0             0.0   \n",
       "96094    96095  7d373e92dd3086b4c37e9868fc8999c1          1.0             0.0   \n",
       "96095    96096  c1653f4d5fcfb808bee93bb3e1aa4744          1.0             0.0   \n",
       "\n",
       "       is_current_version  \n",
       "96091                True  \n",
       "96092                True  \n",
       "96093                True  \n",
       "96094                True  \n",
       "96095                True  "
      ],
      "text/html": "<div>\n<style scoped>\n    .dataframe tbody tr th:only-of-type {\n        vertical-align: middle;\n    }\n\n    .dataframe tbody tr th {\n        vertical-align: top;\n    }\n\n    .dataframe thead th {\n        text-align: right;\n    }\n</style>\n<table border=\"1\" class=\"dataframe\">\n  <thead>\n    <tr style=\"text-align: right;\">\n      <th></th>\n      <th>user_id</th>\n      <th>user_name</th>\n      <th>total_order</th>\n      <th>total_spending</th>\n      <th>is_current_version</th>\n    </tr>\n  </thead>\n  <tbody>\n    <tr>\n      <th>96091</th>\n      <td>96092</td>\n      <td>1b32669eb9662ee904419de883e59a58</td>\n      <td>1.0</td>\n      <td>0.0</td>\n      <td>True</td>\n    </tr>\n    <tr>\n      <th>96092</th>\n      <td>96093</td>\n      <td>5942dde582a33e31ea4471bc5363b0f3</td>\n      <td>1.0</td>\n      <td>0.0</td>\n      <td>True</td>\n    </tr>\n    <tr>\n      <th>96093</th>\n      <td>96094</td>\n      <td>daba2e7a00c149161c68cbb18db656a9</td>\n      <td>1.0</td>\n      <td>0.0</td>\n      <td>True</td>\n    </tr>\n    <tr>\n      <th>96094</th>\n      <td>96095</td>\n      <td>7d373e92dd3086b4c37e9868fc8999c1</td>\n      <td>1.0</td>\n      <td>0.0</td>\n      <td>True</td>\n    </tr>\n    <tr>\n      <th>96095</th>\n      <td>96096</td>\n      <td>c1653f4d5fcfb808bee93bb3e1aa4744</td>\n      <td>1.0</td>\n      <td>0.0</td>\n      <td>True</td>\n    </tr>\n  </tbody>\n</table>\n</div>"
     },
     "metadata": {},
     "execution_count": 27
    }
   ],
   "source": [
    "user.tail()"
   ]
  },
  {
   "source": [
    "## Product dimension"
   ],
   "cell_type": "markdown",
   "metadata": {}
  },
  {
   "cell_type": "code",
   "execution_count": 28,
   "metadata": {},
   "outputs": [
    {
     "output_type": "stream",
     "name": "stdout",
     "text": [
      "<class 'pandas.core.frame.DataFrame'>\nRangeIndex: 32951 entries, 0 to 32950\nData columns (total 11 columns):\n #   Column                      Non-Null Count  Dtype  \n---  ------                      --------------  -----  \n 0   product_id_surr             32951 non-null  int64  \n 1   product_id                  32951 non-null  object \n 2   product_category            32328 non-null  object \n 3   product_name_length         32341 non-null  float64\n 4   product_description_length  32341 non-null  float64\n 5   product_photos_qty          32341 non-null  float64\n 6   product_length_cm           32949 non-null  float64\n 7   product_weight_g            32949 non-null  float64\n 8   product_height_cm           32949 non-null  float64\n 9   product_width_cm            32949 non-null  float64\n 10  is_current_version          32951 non-null  bool   \ndtypes: bool(1), float64(7), int64(1), object(2)\nmemory usage: 2.5+ MB\n"
     ]
    }
   ],
   "source": [
    "product = pd.read_sql_table(\"dim_product\", conn, schema=schema)\n",
    "product.info()"
   ]
  },
  {
   "cell_type": "code",
   "execution_count": 29,
   "metadata": {},
   "outputs": [
    {
     "output_type": "stream",
     "name": "stdout",
     "text": [
      "Shape : (32951, 11)\nMissing Data : product_id_surr                 0\nproduct_id                      0\nproduct_category              623\nproduct_name_length           610\nproduct_description_length    610\nproduct_photos_qty            610\nproduct_length_cm               2\nproduct_weight_g                2\nproduct_height_cm               2\nproduct_width_cm                2\nis_current_version              0\ndtype: int64\n"
     ]
    }
   ],
   "source": [
    "# There are some missing values from the data\n",
    "show_missing_data(product)"
   ]
  },
  {
   "cell_type": "code",
   "execution_count": 30,
   "metadata": {},
   "outputs": [
    {
     "output_type": "execute_result",
     "data": {
      "text/plain": [
       "       product_id_surr                        product_id product_category  \\\n",
       "105                106  a41e356c76fab66334f36de622ecbd3a             None   \n",
       "128                129  d8dee61c2034d6d075997acef1870e9b             None   \n",
       "145                146  56139431d72cd51f19eb9f7dae4d1617             None   \n",
       "154                155  46b48281eb6d663ced748f324108c733             None   \n",
       "197                198  5fb61f482620cb672f5e586bb132eae9             None   \n",
       "...                ...                               ...              ...   \n",
       "32515            32516  b0a0c5dd78e644373b199380612c350a             None   \n",
       "32589            32590  10dbe0fbaa2c505123c17fdc34a63c56             None   \n",
       "32616            32617  bd2ada37b58ae94cc838b9c0569fecd8             None   \n",
       "32772            32773  fa51e914046aab32764c41356b9d4ea4             None   \n",
       "32852            32853  c4ceee876c82b8328e9c293fa0e1989b             None   \n",
       "\n",
       "       product_name_length  product_description_length  product_photos_qty  \\\n",
       "105                    NaN                         NaN                 NaN   \n",
       "128                    NaN                         NaN                 NaN   \n",
       "145                    NaN                         NaN                 NaN   \n",
       "154                    NaN                         NaN                 NaN   \n",
       "197                    NaN                         NaN                 NaN   \n",
       "...                    ...                         ...                 ...   \n",
       "32515                  NaN                         NaN                 NaN   \n",
       "32589                  NaN                         NaN                 NaN   \n",
       "32616                  NaN                         NaN                 NaN   \n",
       "32772                  NaN                         NaN                 NaN   \n",
       "32852                  NaN                         NaN                 NaN   \n",
       "\n",
       "       product_length_cm  product_weight_g  product_height_cm  \\\n",
       "105                 17.0             650.0               14.0   \n",
       "128                 16.0             300.0                7.0   \n",
       "145                 20.0             200.0               20.0   \n",
       "154                 41.0           18500.0               30.0   \n",
       "197                 35.0             300.0                7.0   \n",
       "...                  ...               ...                ...   \n",
       "32515               30.0            1800.0               20.0   \n",
       "32589               30.0             800.0               10.0   \n",
       "32616               21.0             200.0                8.0   \n",
       "32772               45.0            1300.0               16.0   \n",
       "32852               28.0             700.0                3.0   \n",
       "\n",
       "       product_width_cm  is_current_version  \n",
       "105                12.0                True  \n",
       "128                20.0                True  \n",
       "145                20.0                True  \n",
       "154                41.0                True  \n",
       "197                12.0                True  \n",
       "...                 ...                 ...  \n",
       "32515              70.0                True  \n",
       "32589              23.0                True  \n",
       "32616              16.0                True  \n",
       "32772              45.0                True  \n",
       "32852              43.0                True  \n",
       "\n",
       "[610 rows x 11 columns]"
      ],
      "text/html": "<div>\n<style scoped>\n    .dataframe tbody tr th:only-of-type {\n        vertical-align: middle;\n    }\n\n    .dataframe tbody tr th {\n        vertical-align: top;\n    }\n\n    .dataframe thead th {\n        text-align: right;\n    }\n</style>\n<table border=\"1\" class=\"dataframe\">\n  <thead>\n    <tr style=\"text-align: right;\">\n      <th></th>\n      <th>product_id_surr</th>\n      <th>product_id</th>\n      <th>product_category</th>\n      <th>product_name_length</th>\n      <th>product_description_length</th>\n      <th>product_photos_qty</th>\n      <th>product_length_cm</th>\n      <th>product_weight_g</th>\n      <th>product_height_cm</th>\n      <th>product_width_cm</th>\n      <th>is_current_version</th>\n    </tr>\n  </thead>\n  <tbody>\n    <tr>\n      <th>105</th>\n      <td>106</td>\n      <td>a41e356c76fab66334f36de622ecbd3a</td>\n      <td>None</td>\n      <td>NaN</td>\n      <td>NaN</td>\n      <td>NaN</td>\n      <td>17.0</td>\n      <td>650.0</td>\n      <td>14.0</td>\n      <td>12.0</td>\n      <td>True</td>\n    </tr>\n    <tr>\n      <th>128</th>\n      <td>129</td>\n      <td>d8dee61c2034d6d075997acef1870e9b</td>\n      <td>None</td>\n      <td>NaN</td>\n      <td>NaN</td>\n      <td>NaN</td>\n      <td>16.0</td>\n      <td>300.0</td>\n      <td>7.0</td>\n      <td>20.0</td>\n      <td>True</td>\n    </tr>\n    <tr>\n      <th>145</th>\n      <td>146</td>\n      <td>56139431d72cd51f19eb9f7dae4d1617</td>\n      <td>None</td>\n      <td>NaN</td>\n      <td>NaN</td>\n      <td>NaN</td>\n      <td>20.0</td>\n      <td>200.0</td>\n      <td>20.0</td>\n      <td>20.0</td>\n      <td>True</td>\n    </tr>\n    <tr>\n      <th>154</th>\n      <td>155</td>\n      <td>46b48281eb6d663ced748f324108c733</td>\n      <td>None</td>\n      <td>NaN</td>\n      <td>NaN</td>\n      <td>NaN</td>\n      <td>41.0</td>\n      <td>18500.0</td>\n      <td>30.0</td>\n      <td>41.0</td>\n      <td>True</td>\n    </tr>\n    <tr>\n      <th>197</th>\n      <td>198</td>\n      <td>5fb61f482620cb672f5e586bb132eae9</td>\n      <td>None</td>\n      <td>NaN</td>\n      <td>NaN</td>\n      <td>NaN</td>\n      <td>35.0</td>\n      <td>300.0</td>\n      <td>7.0</td>\n      <td>12.0</td>\n      <td>True</td>\n    </tr>\n    <tr>\n      <th>...</th>\n      <td>...</td>\n      <td>...</td>\n      <td>...</td>\n      <td>...</td>\n      <td>...</td>\n      <td>...</td>\n      <td>...</td>\n      <td>...</td>\n      <td>...</td>\n      <td>...</td>\n      <td>...</td>\n    </tr>\n    <tr>\n      <th>32515</th>\n      <td>32516</td>\n      <td>b0a0c5dd78e644373b199380612c350a</td>\n      <td>None</td>\n      <td>NaN</td>\n      <td>NaN</td>\n      <td>NaN</td>\n      <td>30.0</td>\n      <td>1800.0</td>\n      <td>20.0</td>\n      <td>70.0</td>\n      <td>True</td>\n    </tr>\n    <tr>\n      <th>32589</th>\n      <td>32590</td>\n      <td>10dbe0fbaa2c505123c17fdc34a63c56</td>\n      <td>None</td>\n      <td>NaN</td>\n      <td>NaN</td>\n      <td>NaN</td>\n      <td>30.0</td>\n      <td>800.0</td>\n      <td>10.0</td>\n      <td>23.0</td>\n      <td>True</td>\n    </tr>\n    <tr>\n      <th>32616</th>\n      <td>32617</td>\n      <td>bd2ada37b58ae94cc838b9c0569fecd8</td>\n      <td>None</td>\n      <td>NaN</td>\n      <td>NaN</td>\n      <td>NaN</td>\n      <td>21.0</td>\n      <td>200.0</td>\n      <td>8.0</td>\n      <td>16.0</td>\n      <td>True</td>\n    </tr>\n    <tr>\n      <th>32772</th>\n      <td>32773</td>\n      <td>fa51e914046aab32764c41356b9d4ea4</td>\n      <td>None</td>\n      <td>NaN</td>\n      <td>NaN</td>\n      <td>NaN</td>\n      <td>45.0</td>\n      <td>1300.0</td>\n      <td>16.0</td>\n      <td>45.0</td>\n      <td>True</td>\n    </tr>\n    <tr>\n      <th>32852</th>\n      <td>32853</td>\n      <td>c4ceee876c82b8328e9c293fa0e1989b</td>\n      <td>None</td>\n      <td>NaN</td>\n      <td>NaN</td>\n      <td>NaN</td>\n      <td>28.0</td>\n      <td>700.0</td>\n      <td>3.0</td>\n      <td>43.0</td>\n      <td>True</td>\n    </tr>\n  </tbody>\n</table>\n<p>610 rows × 11 columns</p>\n</div>"
     },
     "metadata": {},
     "execution_count": 30
    }
   ],
   "source": [
    "# Notes : All data in 3 columns (product_name_length, product_description_length, product_photos_qty) product dimension that were missing are same \n",
    "product.loc[product.product_name_length.isna() & product.product_description_length.isna() & product.product_photos_qty.isna()]"
   ]
  },
  {
   "cell_type": "code",
   "execution_count": 31,
   "metadata": {},
   "outputs": [
    {
     "output_type": "execute_result",
     "data": {
      "text/plain": [
       "       product_id_surr                        product_id product_category  \\\n",
       "8595              8585  09ff539a621711667c43eba6a3bd8466             baby   \n",
       "18857            18855  5eb564652db742ff8f28759cd8d2652a             None   \n",
       "\n",
       "       product_name_length  product_description_length  product_photos_qty  \\\n",
       "8595                  60.0                       865.0                 3.0   \n",
       "18857                  NaN                         NaN                 NaN   \n",
       "\n",
       "       product_length_cm  product_weight_g  product_height_cm  \\\n",
       "8595                 NaN               NaN                NaN   \n",
       "18857                NaN               NaN                NaN   \n",
       "\n",
       "       product_width_cm  is_current_version  \n",
       "8595                NaN                True  \n",
       "18857               NaN                True  "
      ],
      "text/html": "<div>\n<style scoped>\n    .dataframe tbody tr th:only-of-type {\n        vertical-align: middle;\n    }\n\n    .dataframe tbody tr th {\n        vertical-align: top;\n    }\n\n    .dataframe thead th {\n        text-align: right;\n    }\n</style>\n<table border=\"1\" class=\"dataframe\">\n  <thead>\n    <tr style=\"text-align: right;\">\n      <th></th>\n      <th>product_id_surr</th>\n      <th>product_id</th>\n      <th>product_category</th>\n      <th>product_name_length</th>\n      <th>product_description_length</th>\n      <th>product_photos_qty</th>\n      <th>product_length_cm</th>\n      <th>product_weight_g</th>\n      <th>product_height_cm</th>\n      <th>product_width_cm</th>\n      <th>is_current_version</th>\n    </tr>\n  </thead>\n  <tbody>\n    <tr>\n      <th>8595</th>\n      <td>8585</td>\n      <td>09ff539a621711667c43eba6a3bd8466</td>\n      <td>baby</td>\n      <td>60.0</td>\n      <td>865.0</td>\n      <td>3.0</td>\n      <td>NaN</td>\n      <td>NaN</td>\n      <td>NaN</td>\n      <td>NaN</td>\n      <td>True</td>\n    </tr>\n    <tr>\n      <th>18857</th>\n      <td>18855</td>\n      <td>5eb564652db742ff8f28759cd8d2652a</td>\n      <td>None</td>\n      <td>NaN</td>\n      <td>NaN</td>\n      <td>NaN</td>\n      <td>NaN</td>\n      <td>NaN</td>\n      <td>NaN</td>\n      <td>NaN</td>\n      <td>True</td>\n    </tr>\n  </tbody>\n</table>\n</div>"
     },
     "metadata": {},
     "execution_count": 31
    }
   ],
   "source": [
    "# Notes : All data in 3 columns (product_length_cm, product_weight_g, product_width_cm) product dimension that were missing are same \n",
    "product.loc[product.product_length_cm.isna() & product.product_weight_g.isna() & product.product_width_cm.isna()]"
   ]
  },
  {
   "cell_type": "code",
   "execution_count": 32,
   "metadata": {},
   "outputs": [
    {
     "output_type": "execute_result",
     "data": {
      "text/plain": [
       "       product_id_surr                        product_id product_category  \\\n",
       "105                106  a41e356c76fab66334f36de622ecbd3a             None   \n",
       "128                129  d8dee61c2034d6d075997acef1870e9b             None   \n",
       "145                146  56139431d72cd51f19eb9f7dae4d1617             None   \n",
       "154                155  46b48281eb6d663ced748f324108c733             None   \n",
       "197                198  5fb61f482620cb672f5e586bb132eae9             None   \n",
       "...                ...                               ...              ...   \n",
       "32515            32516  b0a0c5dd78e644373b199380612c350a             None   \n",
       "32589            32590  10dbe0fbaa2c505123c17fdc34a63c56             None   \n",
       "32616            32617  bd2ada37b58ae94cc838b9c0569fecd8             None   \n",
       "32772            32773  fa51e914046aab32764c41356b9d4ea4             None   \n",
       "32852            32853  c4ceee876c82b8328e9c293fa0e1989b             None   \n",
       "\n",
       "       product_name_length  product_description_length  product_photos_qty  \\\n",
       "105                    NaN                         NaN                 NaN   \n",
       "128                    NaN                         NaN                 NaN   \n",
       "145                    NaN                         NaN                 NaN   \n",
       "154                    NaN                         NaN                 NaN   \n",
       "197                    NaN                         NaN                 NaN   \n",
       "...                    ...                         ...                 ...   \n",
       "32515                  NaN                         NaN                 NaN   \n",
       "32589                  NaN                         NaN                 NaN   \n",
       "32616                  NaN                         NaN                 NaN   \n",
       "32772                  NaN                         NaN                 NaN   \n",
       "32852                  NaN                         NaN                 NaN   \n",
       "\n",
       "       product_length_cm  product_weight_g  product_height_cm  \\\n",
       "105                 17.0             650.0               14.0   \n",
       "128                 16.0             300.0                7.0   \n",
       "145                 20.0             200.0               20.0   \n",
       "154                 41.0           18500.0               30.0   \n",
       "197                 35.0             300.0                7.0   \n",
       "...                  ...               ...                ...   \n",
       "32515               30.0            1800.0               20.0   \n",
       "32589               30.0             800.0               10.0   \n",
       "32616               21.0             200.0                8.0   \n",
       "32772               45.0            1300.0               16.0   \n",
       "32852               28.0             700.0                3.0   \n",
       "\n",
       "       product_width_cm  is_current_version  \n",
       "105                12.0                True  \n",
       "128                20.0                True  \n",
       "145                20.0                True  \n",
       "154                41.0                True  \n",
       "197                12.0                True  \n",
       "...                 ...                 ...  \n",
       "32515              70.0                True  \n",
       "32589              23.0                True  \n",
       "32616              16.0                True  \n",
       "32772              45.0                True  \n",
       "32852              43.0                True  \n",
       "\n",
       "[623 rows x 11 columns]"
      ],
      "text/html": "<div>\n<style scoped>\n    .dataframe tbody tr th:only-of-type {\n        vertical-align: middle;\n    }\n\n    .dataframe tbody tr th {\n        vertical-align: top;\n    }\n\n    .dataframe thead th {\n        text-align: right;\n    }\n</style>\n<table border=\"1\" class=\"dataframe\">\n  <thead>\n    <tr style=\"text-align: right;\">\n      <th></th>\n      <th>product_id_surr</th>\n      <th>product_id</th>\n      <th>product_category</th>\n      <th>product_name_length</th>\n      <th>product_description_length</th>\n      <th>product_photos_qty</th>\n      <th>product_length_cm</th>\n      <th>product_weight_g</th>\n      <th>product_height_cm</th>\n      <th>product_width_cm</th>\n      <th>is_current_version</th>\n    </tr>\n  </thead>\n  <tbody>\n    <tr>\n      <th>105</th>\n      <td>106</td>\n      <td>a41e356c76fab66334f36de622ecbd3a</td>\n      <td>None</td>\n      <td>NaN</td>\n      <td>NaN</td>\n      <td>NaN</td>\n      <td>17.0</td>\n      <td>650.0</td>\n      <td>14.0</td>\n      <td>12.0</td>\n      <td>True</td>\n    </tr>\n    <tr>\n      <th>128</th>\n      <td>129</td>\n      <td>d8dee61c2034d6d075997acef1870e9b</td>\n      <td>None</td>\n      <td>NaN</td>\n      <td>NaN</td>\n      <td>NaN</td>\n      <td>16.0</td>\n      <td>300.0</td>\n      <td>7.0</td>\n      <td>20.0</td>\n      <td>True</td>\n    </tr>\n    <tr>\n      <th>145</th>\n      <td>146</td>\n      <td>56139431d72cd51f19eb9f7dae4d1617</td>\n      <td>None</td>\n      <td>NaN</td>\n      <td>NaN</td>\n      <td>NaN</td>\n      <td>20.0</td>\n      <td>200.0</td>\n      <td>20.0</td>\n      <td>20.0</td>\n      <td>True</td>\n    </tr>\n    <tr>\n      <th>154</th>\n      <td>155</td>\n      <td>46b48281eb6d663ced748f324108c733</td>\n      <td>None</td>\n      <td>NaN</td>\n      <td>NaN</td>\n      <td>NaN</td>\n      <td>41.0</td>\n      <td>18500.0</td>\n      <td>30.0</td>\n      <td>41.0</td>\n      <td>True</td>\n    </tr>\n    <tr>\n      <th>197</th>\n      <td>198</td>\n      <td>5fb61f482620cb672f5e586bb132eae9</td>\n      <td>None</td>\n      <td>NaN</td>\n      <td>NaN</td>\n      <td>NaN</td>\n      <td>35.0</td>\n      <td>300.0</td>\n      <td>7.0</td>\n      <td>12.0</td>\n      <td>True</td>\n    </tr>\n    <tr>\n      <th>...</th>\n      <td>...</td>\n      <td>...</td>\n      <td>...</td>\n      <td>...</td>\n      <td>...</td>\n      <td>...</td>\n      <td>...</td>\n      <td>...</td>\n      <td>...</td>\n      <td>...</td>\n      <td>...</td>\n    </tr>\n    <tr>\n      <th>32515</th>\n      <td>32516</td>\n      <td>b0a0c5dd78e644373b199380612c350a</td>\n      <td>None</td>\n      <td>NaN</td>\n      <td>NaN</td>\n      <td>NaN</td>\n      <td>30.0</td>\n      <td>1800.0</td>\n      <td>20.0</td>\n      <td>70.0</td>\n      <td>True</td>\n    </tr>\n    <tr>\n      <th>32589</th>\n      <td>32590</td>\n      <td>10dbe0fbaa2c505123c17fdc34a63c56</td>\n      <td>None</td>\n      <td>NaN</td>\n      <td>NaN</td>\n      <td>NaN</td>\n      <td>30.0</td>\n      <td>800.0</td>\n      <td>10.0</td>\n      <td>23.0</td>\n      <td>True</td>\n    </tr>\n    <tr>\n      <th>32616</th>\n      <td>32617</td>\n      <td>bd2ada37b58ae94cc838b9c0569fecd8</td>\n      <td>None</td>\n      <td>NaN</td>\n      <td>NaN</td>\n      <td>NaN</td>\n      <td>21.0</td>\n      <td>200.0</td>\n      <td>8.0</td>\n      <td>16.0</td>\n      <td>True</td>\n    </tr>\n    <tr>\n      <th>32772</th>\n      <td>32773</td>\n      <td>fa51e914046aab32764c41356b9d4ea4</td>\n      <td>None</td>\n      <td>NaN</td>\n      <td>NaN</td>\n      <td>NaN</td>\n      <td>45.0</td>\n      <td>1300.0</td>\n      <td>16.0</td>\n      <td>45.0</td>\n      <td>True</td>\n    </tr>\n    <tr>\n      <th>32852</th>\n      <td>32853</td>\n      <td>c4ceee876c82b8328e9c293fa0e1989b</td>\n      <td>None</td>\n      <td>NaN</td>\n      <td>NaN</td>\n      <td>NaN</td>\n      <td>28.0</td>\n      <td>700.0</td>\n      <td>3.0</td>\n      <td>43.0</td>\n      <td>True</td>\n    </tr>\n  </tbody>\n</table>\n<p>623 rows × 11 columns</p>\n</div>"
     },
     "metadata": {},
     "execution_count": 32
    }
   ],
   "source": [
    "# Notes : All data with missing category have missing previous detected missing cols -> might create new cols for understanding business problem\n",
    "product.loc[product.product_category.isna() | (product.product_name_length.isna() & product.product_description_length.isna() & product.product_photos_qty.isna())]"
   ]
  },
  {
   "source": [
    "## Seller dimension"
   ],
   "cell_type": "markdown",
   "metadata": {}
  },
  {
   "cell_type": "code",
   "execution_count": 33,
   "metadata": {},
   "outputs": [
    {
     "output_type": "stream",
     "name": "stdout",
     "text": [
      "<class 'pandas.core.frame.DataFrame'>\nRangeIndex: 3095 entries, 0 to 3094\nData columns (total 6 columns):\n #   Column              Non-Null Count  Dtype \n---  ------              --------------  ----- \n 0   seller_id_surr      3095 non-null   int64 \n 1   seller_id           3095 non-null   object\n 2   seller_zip_code     3095 non-null   int64 \n 3   seller_city         3095 non-null   object\n 4   seller_state        3095 non-null   object\n 5   is_current_version  3095 non-null   bool  \ndtypes: bool(1), int64(2), object(3)\nmemory usage: 124.0+ KB\n"
     ]
    }
   ],
   "source": [
    "seller = pd.read_sql_table(\"dim_seller\", conn, schema=schema)\n",
    "seller.info()"
   ]
  },
  {
   "cell_type": "code",
   "execution_count": 34,
   "metadata": {},
   "outputs": [
    {
     "output_type": "stream",
     "name": "stdout",
     "text": [
      "Shape : (3095, 6)\nMissing Data : seller_id_surr        0\nseller_id             0\nseller_zip_code       0\nseller_city           0\nseller_state          0\nis_current_version    0\ndtype: int64\n"
     ]
    }
   ],
   "source": [
    "show_missing_data(seller)"
   ]
  },
  {
   "cell_type": "code",
   "execution_count": 35,
   "metadata": {},
   "outputs": [
    {
     "output_type": "execute_result",
     "data": {
      "text/plain": [
       "   seller_id_surr                         seller_id  seller_zip_code  \\\n",
       "0               1  3442f8959a84dea7ee197c632cb2df15            13023   \n",
       "1               2  d1b65fc7debc3361ea86b5f14c68d2e2            13844   \n",
       "2               3  ce3ad9de960102d0677a81f5d0bb7b2d            20031   \n",
       "3               4  c0f3eea2e14555b6faeea3dd58c1b1c3             4195   \n",
       "4               5  51a04a8a6bdcb23deccc82b0b80742cf            12914   \n",
       "\n",
       "           seller_city    seller_state  is_current_version  \n",
       "0   KOTA JAKARTA TIMUR     DKI JAKARTA                True  \n",
       "1  KOTA PADANG PANJANG  SUMATERA BARAT                True  \n",
       "2   KOTA JAKARTA BARAT     DKI JAKARTA                True  \n",
       "3       KOTA TANGERANG          BANTEN                True  \n",
       "4   KABUPATEN LAMONGAN      JAWA TIMUR                True  "
      ],
      "text/html": "<div>\n<style scoped>\n    .dataframe tbody tr th:only-of-type {\n        vertical-align: middle;\n    }\n\n    .dataframe tbody tr th {\n        vertical-align: top;\n    }\n\n    .dataframe thead th {\n        text-align: right;\n    }\n</style>\n<table border=\"1\" class=\"dataframe\">\n  <thead>\n    <tr style=\"text-align: right;\">\n      <th></th>\n      <th>seller_id_surr</th>\n      <th>seller_id</th>\n      <th>seller_zip_code</th>\n      <th>seller_city</th>\n      <th>seller_state</th>\n      <th>is_current_version</th>\n    </tr>\n  </thead>\n  <tbody>\n    <tr>\n      <th>0</th>\n      <td>1</td>\n      <td>3442f8959a84dea7ee197c632cb2df15</td>\n      <td>13023</td>\n      <td>KOTA JAKARTA TIMUR</td>\n      <td>DKI JAKARTA</td>\n      <td>True</td>\n    </tr>\n    <tr>\n      <th>1</th>\n      <td>2</td>\n      <td>d1b65fc7debc3361ea86b5f14c68d2e2</td>\n      <td>13844</td>\n      <td>KOTA PADANG PANJANG</td>\n      <td>SUMATERA BARAT</td>\n      <td>True</td>\n    </tr>\n    <tr>\n      <th>2</th>\n      <td>3</td>\n      <td>ce3ad9de960102d0677a81f5d0bb7b2d</td>\n      <td>20031</td>\n      <td>KOTA JAKARTA BARAT</td>\n      <td>DKI JAKARTA</td>\n      <td>True</td>\n    </tr>\n    <tr>\n      <th>3</th>\n      <td>4</td>\n      <td>c0f3eea2e14555b6faeea3dd58c1b1c3</td>\n      <td>4195</td>\n      <td>KOTA TANGERANG</td>\n      <td>BANTEN</td>\n      <td>True</td>\n    </tr>\n    <tr>\n      <th>4</th>\n      <td>5</td>\n      <td>51a04a8a6bdcb23deccc82b0b80742cf</td>\n      <td>12914</td>\n      <td>KABUPATEN LAMONGAN</td>\n      <td>JAWA TIMUR</td>\n      <td>True</td>\n    </tr>\n  </tbody>\n</table>\n</div>"
     },
     "metadata": {},
     "execution_count": 35
    }
   ],
   "source": [
    "# TODO : Add num_product_order & total_revenue in data mart for seller subject -> combine with fct_order_items\n",
    "seller.head(5)"
   ]
  },
  {
   "source": [
    "## Feedback dimension"
   ],
   "cell_type": "markdown",
   "metadata": {}
  },
  {
   "cell_type": "code",
   "execution_count": 36,
   "metadata": {},
   "outputs": [
    {
     "output_type": "stream",
     "name": "stdout",
     "text": [
      "<class 'pandas.core.frame.DataFrame'>\nRangeIndex: 99441 entries, 0 to 99440\nData columns (total 6 columns):\n #   Column                   Non-Null Count  Dtype  \n---  ------                   --------------  -----  \n 0   feedback_id_surr         99441 non-null  int64  \n 1   order_id                 99441 non-null  object \n 2   feedback_avg_score       99441 non-null  float64\n 3   feedback_form_sent_date  99441 non-null  object \n 4   feedback_answer_date     99441 non-null  object \n 5   is_current_version       99441 non-null  bool   \ndtypes: bool(1), float64(1), int64(1), object(3)\nmemory usage: 3.9+ MB\n"
     ]
    }
   ],
   "source": [
    "feedback = pd.read_sql_table(\"dim_feedback\", conn, schema=schema)\n",
    "feedback.info()"
   ]
  },
  {
   "cell_type": "code",
   "execution_count": 37,
   "metadata": {},
   "outputs": [
    {
     "output_type": "stream",
     "name": "stdout",
     "text": [
      "Shape : (99441, 6)\nMissing Data : feedback_id_surr           0\norder_id                   0\nfeedback_avg_score         0\nfeedback_form_sent_date    0\nfeedback_answer_date       0\nis_current_version         0\ndtype: int64\n"
     ]
    }
   ],
   "source": [
    "# Notes : All feedback in the dimension have been measured based on each order (under asumption that an order should have a single feedback, and multiple feedback means multiple sent form for a single order -> aggregated)\n",
    "\n",
    "show_missing_data(feedback)"
   ]
  },
  {
   "cell_type": "code",
   "execution_count": 38,
   "metadata": {},
   "outputs": [
    {
     "output_type": "execute_result",
     "data": {
      "text/plain": [
       "   feedback_id_surr                          order_id  feedback_avg_score  \\\n",
       "0                 1  00010242fe8c5a6d1ba2dd792cb16214                 5.0   \n",
       "1                 2  00018f77f2f0320c557190d7a144bdd3                 4.0   \n",
       "2                 3  000229ec398224ef6ca0657da4fc703e                 5.0   \n",
       "3                 4  00024acbcdf0a6daa1e931b038114c75                 4.0   \n",
       "4                 5  00042b26cf59d7ce69dfabb4e55b4fd9                 5.0   \n",
       "\n",
       "  feedback_form_sent_date feedback_answer_date  is_current_version  \n",
       "0                20170921             20170922                True  \n",
       "1                20170513             20170515                True  \n",
       "2                20180123             20180123                True  \n",
       "3                20180815             20180815                True  \n",
       "4                20170302             20170303                True  "
      ],
      "text/html": "<div>\n<style scoped>\n    .dataframe tbody tr th:only-of-type {\n        vertical-align: middle;\n    }\n\n    .dataframe tbody tr th {\n        vertical-align: top;\n    }\n\n    .dataframe thead th {\n        text-align: right;\n    }\n</style>\n<table border=\"1\" class=\"dataframe\">\n  <thead>\n    <tr style=\"text-align: right;\">\n      <th></th>\n      <th>feedback_id_surr</th>\n      <th>order_id</th>\n      <th>feedback_avg_score</th>\n      <th>feedback_form_sent_date</th>\n      <th>feedback_answer_date</th>\n      <th>is_current_version</th>\n    </tr>\n  </thead>\n  <tbody>\n    <tr>\n      <th>0</th>\n      <td>1</td>\n      <td>00010242fe8c5a6d1ba2dd792cb16214</td>\n      <td>5.0</td>\n      <td>20170921</td>\n      <td>20170922</td>\n      <td>True</td>\n    </tr>\n    <tr>\n      <th>1</th>\n      <td>2</td>\n      <td>00018f77f2f0320c557190d7a144bdd3</td>\n      <td>4.0</td>\n      <td>20170513</td>\n      <td>20170515</td>\n      <td>True</td>\n    </tr>\n    <tr>\n      <th>2</th>\n      <td>3</td>\n      <td>000229ec398224ef6ca0657da4fc703e</td>\n      <td>5.0</td>\n      <td>20180123</td>\n      <td>20180123</td>\n      <td>True</td>\n    </tr>\n    <tr>\n      <th>3</th>\n      <td>4</td>\n      <td>00024acbcdf0a6daa1e931b038114c75</td>\n      <td>4.0</td>\n      <td>20180815</td>\n      <td>20180815</td>\n      <td>True</td>\n    </tr>\n    <tr>\n      <th>4</th>\n      <td>5</td>\n      <td>00042b26cf59d7ce69dfabb4e55b4fd9</td>\n      <td>5.0</td>\n      <td>20170302</td>\n      <td>20170303</td>\n      <td>True</td>\n    </tr>\n  </tbody>\n</table>\n</div>"
     },
     "metadata": {},
     "execution_count": 38
    }
   ],
   "source": [
    "feedback.head()"
   ]
  },
  {
   "source": [
    "## Payment Facts\n",
    "---\n",
    "Granularity : Each payment (payment installment / cicilan) that user pay after transaction  "
   ],
   "cell_type": "markdown",
   "metadata": {}
  },
  {
   "cell_type": "code",
   "execution_count": 39,
   "metadata": {},
   "outputs": [
    {
     "output_type": "stream",
     "name": "stdout",
     "text": [
      "<class 'pandas.core.frame.DataFrame'>\nRangeIndex: 103886 entries, 0 to 103885\nData columns (total 7 columns):\n #   Column                Non-Null Count   Dtype  \n---  ------                --------------   -----  \n 0   id                    103886 non-null  int64  \n 1   feedback_id_surr      103886 non-null  int64  \n 2   user_id               103886 non-null  int64  \n 3   payment_sequential    103886 non-null  int64  \n 4   payment_type          103886 non-null  object \n 5   payment_installments  103886 non-null  int64  \n 6   payment_value         103886 non-null  float64\ndtypes: float64(1), int64(5), object(1)\nmemory usage: 5.5+ MB\n"
     ]
    }
   ],
   "source": [
    "fct_payment = pd.read_sql_table(\"fct_payment\", conn, schema=schema)\n",
    "fct_payment.info()"
   ]
  },
  {
   "cell_type": "code",
   "execution_count": 40,
   "metadata": {},
   "outputs": [
    {
     "output_type": "stream",
     "name": "stdout",
     "text": [
      "Shape : (103886, 7)\nMissing Data : id                      0\nfeedback_id_surr        0\nuser_id                 0\npayment_sequential      0\npayment_type            0\npayment_installments    0\npayment_value           0\ndtype: int64\n"
     ]
    }
   ],
   "source": [
    "show_missing_data(fct_payment)"
   ]
  },
  {
   "source": [
    "### Check Reference"
   ],
   "cell_type": "markdown",
   "metadata": {}
  },
  {
   "cell_type": "code",
   "execution_count": 41,
   "metadata": {},
   "outputs": [
    {
     "output_type": "stream",
     "name": "stdout",
     "text": [
      "<class 'pandas.core.frame.DataFrame'>\nInt64Index: 103886 entries, 0 to 103885\nData columns (total 12 columns):\n #   Column                   Non-Null Count   Dtype  \n---  ------                   --------------   -----  \n 0   id                       103886 non-null  int64  \n 1   feedback_id_surr         103886 non-null  int64  \n 2   user_id                  103886 non-null  int64  \n 3   payment_sequential       103886 non-null  int64  \n 4   payment_type             103886 non-null  object \n 5   payment_installments     103886 non-null  int64  \n 6   payment_value            103886 non-null  float64\n 7   order_id                 103886 non-null  object \n 8   feedback_avg_score       103886 non-null  float64\n 9   feedback_form_sent_date  103886 non-null  object \n 10  feedback_answer_date     103886 non-null  object \n 11  is_current_version       103886 non-null  bool   \ndtypes: bool(1), float64(2), int64(5), object(4)\nmemory usage: 9.6+ MB\n"
     ]
    }
   ],
   "source": [
    "# Check connection to the feedback table\n",
    "merged = pd.merge(fct_payment, feedback, how=\"inner\", on=\"feedback_id_surr\")\n",
    "merged.info()\n"
   ]
  },
  {
   "cell_type": "code",
   "execution_count": 42,
   "metadata": {},
   "outputs": [
    {
     "output_type": "stream",
     "name": "stdout",
     "text": [
      "Shape : (103886, 12)\nMissing Data : id                         0\nfeedback_id_surr           0\nuser_id                    0\npayment_sequential         0\npayment_type               0\npayment_installments       0\npayment_value              0\norder_id                   0\nfeedback_avg_score         0\nfeedback_form_sent_date    0\nfeedback_answer_date       0\nis_current_version         0\ndtype: int64\n"
     ]
    }
   ],
   "source": [
    "show_missing_data(merged)"
   ]
  },
  {
   "cell_type": "code",
   "execution_count": 43,
   "metadata": {},
   "outputs": [
    {
     "output_type": "stream",
     "name": "stdout",
     "text": [
      "<class 'pandas.core.frame.DataFrame'>\nInt64Index: 103886 entries, 0 to 103885\nData columns (total 16 columns):\n #   Column                   Non-Null Count   Dtype  \n---  ------                   --------------   -----  \n 0   id                       103886 non-null  int64  \n 1   feedback_id_surr         103886 non-null  int64  \n 2   user_id                  103886 non-null  int64  \n 3   payment_sequential       103886 non-null  int64  \n 4   payment_type             103886 non-null  object \n 5   payment_installments     103886 non-null  int64  \n 6   payment_value            103886 non-null  float64\n 7   order_id                 103886 non-null  object \n 8   feedback_avg_score       103886 non-null  float64\n 9   feedback_form_sent_date  103886 non-null  object \n 10  feedback_answer_date     103886 non-null  object \n 11  is_current_version_x     103886 non-null  bool   \n 12  user_name                103886 non-null  object \n 13  total_order              103886 non-null  float64\n 14  total_spending           103886 non-null  float64\n 15  is_current_version_y     103886 non-null  bool   \ndtypes: bool(2), float64(4), int64(5), object(5)\nmemory usage: 12.1+ MB\n"
     ]
    }
   ],
   "source": [
    "merged = pd.merge(merged, user, how=\"inner\", on=\"user_id\")\n",
    "merged.info()"
   ]
  },
  {
   "cell_type": "code",
   "execution_count": 44,
   "metadata": {},
   "outputs": [
    {
     "output_type": "stream",
     "name": "stdout",
     "text": [
      "Shape : (103886, 16)\nMissing Data : id                         0\nfeedback_id_surr           0\nuser_id                    0\npayment_sequential         0\npayment_type               0\npayment_installments       0\npayment_value              0\norder_id                   0\nfeedback_avg_score         0\nfeedback_form_sent_date    0\nfeedback_answer_date       0\nis_current_version_x       0\nuser_name                  0\ntotal_order                0\ntotal_spending             0\nis_current_version_y       0\ndtype: int64\n"
     ]
    }
   ],
   "source": [
    "show_missing_data(merged)\n",
    "# missing total_spending due to the problem "
   ]
  },
  {
   "source": [
    "## Order items (Transaction) Facts"
   ],
   "cell_type": "markdown",
   "metadata": {}
  },
  {
   "cell_type": "code",
   "execution_count": 45,
   "metadata": {},
   "outputs": [
    {
     "output_type": "stream",
     "name": "stdout",
     "text": [
      "<class 'pandas.core.frame.DataFrame'>\nRangeIndex: 112650 entries, 0 to 112649\nData columns (total 16 columns):\n #   Column                   Non-Null Count   Dtype  \n---  ------                   --------------   -----  \n 0   id                       112650 non-null  int64  \n 1   user_id                  112650 non-null  int64  \n 2   product_id_surr          112650 non-null  int64  \n 3   seller_id_surr           112650 non-null  int64  \n 4   feedback_id_surr         112650 non-null  int64  \n 5   order_date               112650 non-null  object \n 6   order_approved_date      112635 non-null  object \n 7   pickup_date              111456 non-null  object \n 8   delivered_date           110196 non-null  object \n 9   estimated_time_delivery  112650 non-null  object \n 10  pickup_limit_date        112650 non-null  object \n 11  order_id                 112650 non-null  object \n 12  item_number              112650 non-null  int64  \n 13  order_item_status        112650 non-null  object \n 14  price                    112650 non-null  float64\n 15  shipping_cost            112650 non-null  float64\ndtypes: float64(2), int64(6), object(8)\nmemory usage: 13.8+ MB\n"
     ]
    }
   ],
   "source": [
    "fct_order_item = pd.read_sql_table(\"fct_order_items\", conn, schema=schema)\n",
    "fct_order_item.info()"
   ]
  },
  {
   "cell_type": "code",
   "execution_count": 46,
   "metadata": {},
   "outputs": [
    {
     "output_type": "stream",
     "name": "stdout",
     "text": [
      "Shape : (112650, 16)\nMissing Data : id                            0\nuser_id                       0\nproduct_id_surr               0\nseller_id_surr                0\nfeedback_id_surr              0\norder_date                    0\norder_approved_date          15\npickup_date                1194\ndelivered_date             2454\nestimated_time_delivery       0\npickup_limit_date             0\norder_id                      0\nitem_number                   0\norder_item_status             0\nprice                         0\nshipping_cost                 0\ndtype: int64\n"
     ]
    }
   ],
   "source": [
    "show_missing_data(fct_order_item)"
   ]
  },
  {
   "cell_type": "code",
   "execution_count": 47,
   "metadata": {},
   "outputs": [
    {
     "output_type": "execute_result",
     "data": {
      "text/plain": [
       "            id  user_id  product_id_surr  seller_id_surr  feedback_id_surr  \\\n",
       "20851    20852    44954            14173            1532             43549   \n",
       "36129    36130    28250            18257            2108             83474   \n",
       "52156    52157    90377            23444            2695             83803   \n",
       "60427    60428    65865             8786             339             23313   \n",
       "62385    62386    82545            12616            2313             75275   \n",
       "65554    65555    85019            20767              84             87256   \n",
       "72888    72889    66601             6240            2208              7281   \n",
       "72903    72904    22976             6240            2208             16817   \n",
       "72983    72984    59737             6240            2208             36016   \n",
       "76852    76853    61471            15359            1999             53652   \n",
       "77429    77430     8411            16839             200             18116   \n",
       "86103    86104    89577             6521            2796             52658   \n",
       "86104    86105    89577             6521            2796             52658   \n",
       "90208    90209    91869            15256            2108             43526   \n",
       "111935  111936    83440            31416            2108             31861   \n",
       "\n",
       "       order_date order_approved_date pickup_date delivered_date  \\\n",
       "20851    20170218                None    20170222       20170301   \n",
       "36129    20170219                None    20170223       20170302   \n",
       "52156    20170218                None    20170223       20170302   \n",
       "60427    20170217                None    20170222       20170303   \n",
       "62385    20170119                None    20170125       20170130   \n",
       "65554    20170218                None    20170223       20170301   \n",
       "72888    20170217                None    20170222       20170302   \n",
       "72903    20170218                None    20170222       20170303   \n",
       "72983    20170218                None    20170222       20170309   \n",
       "76852    20170218                None    20170223       20170302   \n",
       "77429    20170217                None    20170222       20170303   \n",
       "86103    20170218                None    20170222       20170302   \n",
       "86104    20170218                None    20170222       20170302   \n",
       "90208    20170119                None    20170127       20170206   \n",
       "111935   20170218                None    20170223       20170307   \n",
       "\n",
       "       estimated_time_delivery pickup_limit_date  \\\n",
       "20851                 20170317          20170222   \n",
       "36129                 20170327          20170226   \n",
       "52156                 20170322          20170225   \n",
       "60427                 20170323          20170222   \n",
       "62385                 20170301          20170123   \n",
       "65554                 20170317          20170222   \n",
       "72888                 20170320          20170221   \n",
       "72903                 20170331          20170222   \n",
       "72983                 20170331          20170222   \n",
       "76852                 20170321          20170222   \n",
       "77429                 20170320          20170221   \n",
       "86103                 20170321          20170222   \n",
       "86104                 20170321          20170222   \n",
       "90208                 20170316          20170129   \n",
       "111935                20170329          20170228   \n",
       "\n",
       "                                order_id  item_number order_item_status  \\\n",
       "20851   7013bcfc1c97fe719a7b5e05e61c12db            1         delivered   \n",
       "36129   d69e5d356402adc8cf17e08b5033acfb            1         delivered   \n",
       "52156   d77031d6a3c8a52f019764e68f211c69            1         delivered   \n",
       "60427   3c0b8706b065f9919d0505d3b3343881            1         delivered   \n",
       "62385   c1d4211b3dae76144deccd6c74144a88            1         delivered   \n",
       "65554   e04abd8149ef81b95221e88f6ed9ab6a            1         delivered   \n",
       "72888   12a95a3c06dbaec84bcfb0e2da5d228a            1         delivered   \n",
       "72903   2babbb4b15e6d2dfe95e2de765c97bce            1         delivered   \n",
       "72983   5cf925b116421afa85ee25e99b4c34fb            1         delivered   \n",
       "76852   8a9adc69528e1001fc68dd0aaebbb54a            1         delivered   \n",
       "77429   2eecb0d85f281280f79fa00f9cec1a95            1         delivered   \n",
       "86103   88083e8f64d95b932164187484d90212            1         delivered   \n",
       "86104   88083e8f64d95b932164187484d90212            2         delivered   \n",
       "90208   7002a78c79c519ac54022d4f8a65e6e8            1         delivered   \n",
       "111935  51eb2eebd5d76a24625b31c33dd41449            1         delivered   \n",
       "\n",
       "           price  shipping_cost  \n",
       "20851    49990.0        15530.0  \n",
       "36129   149800.0        13630.0  \n",
       "52156    28990.0        10960.0  \n",
       "60427   133990.0        23200.0  \n",
       "62385    39990.0        14520.0  \n",
       "65554   309900.0        39110.0  \n",
       "72888    79990.0        15770.0  \n",
       "72903    79990.0        26820.0  \n",
       "72983    79990.0        26820.0  \n",
       "76852   379000.0        17860.0  \n",
       "77429   135000.0        19230.0  \n",
       "86103    49000.0        14520.0  \n",
       "86104    49000.0        14520.0  \n",
       "90208    45900.0        14520.0  \n",
       "111935   59900.0        17160.0  "
      ],
      "text/html": "<div>\n<style scoped>\n    .dataframe tbody tr th:only-of-type {\n        vertical-align: middle;\n    }\n\n    .dataframe tbody tr th {\n        vertical-align: top;\n    }\n\n    .dataframe thead th {\n        text-align: right;\n    }\n</style>\n<table border=\"1\" class=\"dataframe\">\n  <thead>\n    <tr style=\"text-align: right;\">\n      <th></th>\n      <th>id</th>\n      <th>user_id</th>\n      <th>product_id_surr</th>\n      <th>seller_id_surr</th>\n      <th>feedback_id_surr</th>\n      <th>order_date</th>\n      <th>order_approved_date</th>\n      <th>pickup_date</th>\n      <th>delivered_date</th>\n      <th>estimated_time_delivery</th>\n      <th>pickup_limit_date</th>\n      <th>order_id</th>\n      <th>item_number</th>\n      <th>order_item_status</th>\n      <th>price</th>\n      <th>shipping_cost</th>\n    </tr>\n  </thead>\n  <tbody>\n    <tr>\n      <th>20851</th>\n      <td>20852</td>\n      <td>44954</td>\n      <td>14173</td>\n      <td>1532</td>\n      <td>43549</td>\n      <td>20170218</td>\n      <td>None</td>\n      <td>20170222</td>\n      <td>20170301</td>\n      <td>20170317</td>\n      <td>20170222</td>\n      <td>7013bcfc1c97fe719a7b5e05e61c12db</td>\n      <td>1</td>\n      <td>delivered</td>\n      <td>49990.0</td>\n      <td>15530.0</td>\n    </tr>\n    <tr>\n      <th>36129</th>\n      <td>36130</td>\n      <td>28250</td>\n      <td>18257</td>\n      <td>2108</td>\n      <td>83474</td>\n      <td>20170219</td>\n      <td>None</td>\n      <td>20170223</td>\n      <td>20170302</td>\n      <td>20170327</td>\n      <td>20170226</td>\n      <td>d69e5d356402adc8cf17e08b5033acfb</td>\n      <td>1</td>\n      <td>delivered</td>\n      <td>149800.0</td>\n      <td>13630.0</td>\n    </tr>\n    <tr>\n      <th>52156</th>\n      <td>52157</td>\n      <td>90377</td>\n      <td>23444</td>\n      <td>2695</td>\n      <td>83803</td>\n      <td>20170218</td>\n      <td>None</td>\n      <td>20170223</td>\n      <td>20170302</td>\n      <td>20170322</td>\n      <td>20170225</td>\n      <td>d77031d6a3c8a52f019764e68f211c69</td>\n      <td>1</td>\n      <td>delivered</td>\n      <td>28990.0</td>\n      <td>10960.0</td>\n    </tr>\n    <tr>\n      <th>60427</th>\n      <td>60428</td>\n      <td>65865</td>\n      <td>8786</td>\n      <td>339</td>\n      <td>23313</td>\n      <td>20170217</td>\n      <td>None</td>\n      <td>20170222</td>\n      <td>20170303</td>\n      <td>20170323</td>\n      <td>20170222</td>\n      <td>3c0b8706b065f9919d0505d3b3343881</td>\n      <td>1</td>\n      <td>delivered</td>\n      <td>133990.0</td>\n      <td>23200.0</td>\n    </tr>\n    <tr>\n      <th>62385</th>\n      <td>62386</td>\n      <td>82545</td>\n      <td>12616</td>\n      <td>2313</td>\n      <td>75275</td>\n      <td>20170119</td>\n      <td>None</td>\n      <td>20170125</td>\n      <td>20170130</td>\n      <td>20170301</td>\n      <td>20170123</td>\n      <td>c1d4211b3dae76144deccd6c74144a88</td>\n      <td>1</td>\n      <td>delivered</td>\n      <td>39990.0</td>\n      <td>14520.0</td>\n    </tr>\n    <tr>\n      <th>65554</th>\n      <td>65555</td>\n      <td>85019</td>\n      <td>20767</td>\n      <td>84</td>\n      <td>87256</td>\n      <td>20170218</td>\n      <td>None</td>\n      <td>20170223</td>\n      <td>20170301</td>\n      <td>20170317</td>\n      <td>20170222</td>\n      <td>e04abd8149ef81b95221e88f6ed9ab6a</td>\n      <td>1</td>\n      <td>delivered</td>\n      <td>309900.0</td>\n      <td>39110.0</td>\n    </tr>\n    <tr>\n      <th>72888</th>\n      <td>72889</td>\n      <td>66601</td>\n      <td>6240</td>\n      <td>2208</td>\n      <td>7281</td>\n      <td>20170217</td>\n      <td>None</td>\n      <td>20170222</td>\n      <td>20170302</td>\n      <td>20170320</td>\n      <td>20170221</td>\n      <td>12a95a3c06dbaec84bcfb0e2da5d228a</td>\n      <td>1</td>\n      <td>delivered</td>\n      <td>79990.0</td>\n      <td>15770.0</td>\n    </tr>\n    <tr>\n      <th>72903</th>\n      <td>72904</td>\n      <td>22976</td>\n      <td>6240</td>\n      <td>2208</td>\n      <td>16817</td>\n      <td>20170218</td>\n      <td>None</td>\n      <td>20170222</td>\n      <td>20170303</td>\n      <td>20170331</td>\n      <td>20170222</td>\n      <td>2babbb4b15e6d2dfe95e2de765c97bce</td>\n      <td>1</td>\n      <td>delivered</td>\n      <td>79990.0</td>\n      <td>26820.0</td>\n    </tr>\n    <tr>\n      <th>72983</th>\n      <td>72984</td>\n      <td>59737</td>\n      <td>6240</td>\n      <td>2208</td>\n      <td>36016</td>\n      <td>20170218</td>\n      <td>None</td>\n      <td>20170222</td>\n      <td>20170309</td>\n      <td>20170331</td>\n      <td>20170222</td>\n      <td>5cf925b116421afa85ee25e99b4c34fb</td>\n      <td>1</td>\n      <td>delivered</td>\n      <td>79990.0</td>\n      <td>26820.0</td>\n    </tr>\n    <tr>\n      <th>76852</th>\n      <td>76853</td>\n      <td>61471</td>\n      <td>15359</td>\n      <td>1999</td>\n      <td>53652</td>\n      <td>20170218</td>\n      <td>None</td>\n      <td>20170223</td>\n      <td>20170302</td>\n      <td>20170321</td>\n      <td>20170222</td>\n      <td>8a9adc69528e1001fc68dd0aaebbb54a</td>\n      <td>1</td>\n      <td>delivered</td>\n      <td>379000.0</td>\n      <td>17860.0</td>\n    </tr>\n    <tr>\n      <th>77429</th>\n      <td>77430</td>\n      <td>8411</td>\n      <td>16839</td>\n      <td>200</td>\n      <td>18116</td>\n      <td>20170217</td>\n      <td>None</td>\n      <td>20170222</td>\n      <td>20170303</td>\n      <td>20170320</td>\n      <td>20170221</td>\n      <td>2eecb0d85f281280f79fa00f9cec1a95</td>\n      <td>1</td>\n      <td>delivered</td>\n      <td>135000.0</td>\n      <td>19230.0</td>\n    </tr>\n    <tr>\n      <th>86103</th>\n      <td>86104</td>\n      <td>89577</td>\n      <td>6521</td>\n      <td>2796</td>\n      <td>52658</td>\n      <td>20170218</td>\n      <td>None</td>\n      <td>20170222</td>\n      <td>20170302</td>\n      <td>20170321</td>\n      <td>20170222</td>\n      <td>88083e8f64d95b932164187484d90212</td>\n      <td>1</td>\n      <td>delivered</td>\n      <td>49000.0</td>\n      <td>14520.0</td>\n    </tr>\n    <tr>\n      <th>86104</th>\n      <td>86105</td>\n      <td>89577</td>\n      <td>6521</td>\n      <td>2796</td>\n      <td>52658</td>\n      <td>20170218</td>\n      <td>None</td>\n      <td>20170222</td>\n      <td>20170302</td>\n      <td>20170321</td>\n      <td>20170222</td>\n      <td>88083e8f64d95b932164187484d90212</td>\n      <td>2</td>\n      <td>delivered</td>\n      <td>49000.0</td>\n      <td>14520.0</td>\n    </tr>\n    <tr>\n      <th>90208</th>\n      <td>90209</td>\n      <td>91869</td>\n      <td>15256</td>\n      <td>2108</td>\n      <td>43526</td>\n      <td>20170119</td>\n      <td>None</td>\n      <td>20170127</td>\n      <td>20170206</td>\n      <td>20170316</td>\n      <td>20170129</td>\n      <td>7002a78c79c519ac54022d4f8a65e6e8</td>\n      <td>1</td>\n      <td>delivered</td>\n      <td>45900.0</td>\n      <td>14520.0</td>\n    </tr>\n    <tr>\n      <th>111935</th>\n      <td>111936</td>\n      <td>83440</td>\n      <td>31416</td>\n      <td>2108</td>\n      <td>31861</td>\n      <td>20170218</td>\n      <td>None</td>\n      <td>20170223</td>\n      <td>20170307</td>\n      <td>20170329</td>\n      <td>20170228</td>\n      <td>51eb2eebd5d76a24625b31c33dd41449</td>\n      <td>1</td>\n      <td>delivered</td>\n      <td>59900.0</td>\n      <td>17160.0</td>\n    </tr>\n  </tbody>\n</table>\n</div>"
     },
     "metadata": {},
     "execution_count": 47
    }
   ],
   "source": [
    "# Why there are missing order_approved_date ?? -> chance is, order haven't approved by the user when this data is recorded -> can see that order id is mostly 2017 02 -> what happen?\n",
    "fct_order_item.loc[fct_order_item.order_approved_date.isna()]"
   ]
  },
  {
   "cell_type": "code",
   "execution_count": 48,
   "metadata": {},
   "outputs": [
    {
     "output_type": "execute_result",
     "data": {
      "text/plain": [
       "            id  user_id  product_id_surr  seller_id_surr  feedback_id_surr  \\\n",
       "79314    79315    71731            21745            2630             32700   \n",
       "104761  104762    75554            15041             282             20789   \n",
       "64413    64414    40849            18685             798             97583   \n",
       "33759    33760    88481            11637            3076             74107   \n",
       "33762    33763    88481            11637            3076             74107   \n",
       "\n",
       "       order_date order_approved_date pickup_date delivered_date  \\\n",
       "79314    20180903            20180903    20180904           None   \n",
       "104761   20180829            20180829    20180829       20180830   \n",
       "64413    20180829            20180829    20180829       20180830   \n",
       "33759    20180829            20180829    20180829       20180830   \n",
       "33762    20180829            20180829    20180829       20180830   \n",
       "\n",
       "       estimated_time_delivery pickup_limit_date  \\\n",
       "79314                 20180906          20180905   \n",
       "104761                20180905          20180831   \n",
       "64413                 20180904          20180831   \n",
       "33759                 20180911          20180906   \n",
       "33762                 20180911          20180906   \n",
       "\n",
       "                                order_id  item_number order_item_status  \\\n",
       "79314   54282e97f61c23b78330c15b154c867d            1           shipped   \n",
       "104761  35a972d7f8436f405b56e36add1a7140            1         delivered   \n",
       "64413   fb393211459aac00af932cd7ab4fa2cc            1         delivered   \n",
       "33759   bee12e8653a04e76786e8891cfb6330a            2         delivered   \n",
       "33762   bee12e8653a04e76786e8891cfb6330a            5         delivered   \n",
       "\n",
       "           price  shipping_cost  \n",
       "79314   145000.0        21460.0  \n",
       "104761   84990.0         8760.0  \n",
       "64413    99000.0         7950.0  \n",
       "33759    91550.0         7900.0  \n",
       "33762    91550.0         7900.0  "
      ],
      "text/html": "<div>\n<style scoped>\n    .dataframe tbody tr th:only-of-type {\n        vertical-align: middle;\n    }\n\n    .dataframe tbody tr th {\n        vertical-align: top;\n    }\n\n    .dataframe thead th {\n        text-align: right;\n    }\n</style>\n<table border=\"1\" class=\"dataframe\">\n  <thead>\n    <tr style=\"text-align: right;\">\n      <th></th>\n      <th>id</th>\n      <th>user_id</th>\n      <th>product_id_surr</th>\n      <th>seller_id_surr</th>\n      <th>feedback_id_surr</th>\n      <th>order_date</th>\n      <th>order_approved_date</th>\n      <th>pickup_date</th>\n      <th>delivered_date</th>\n      <th>estimated_time_delivery</th>\n      <th>pickup_limit_date</th>\n      <th>order_id</th>\n      <th>item_number</th>\n      <th>order_item_status</th>\n      <th>price</th>\n      <th>shipping_cost</th>\n    </tr>\n  </thead>\n  <tbody>\n    <tr>\n      <th>79314</th>\n      <td>79315</td>\n      <td>71731</td>\n      <td>21745</td>\n      <td>2630</td>\n      <td>32700</td>\n      <td>20180903</td>\n      <td>20180903</td>\n      <td>20180904</td>\n      <td>None</td>\n      <td>20180906</td>\n      <td>20180905</td>\n      <td>54282e97f61c23b78330c15b154c867d</td>\n      <td>1</td>\n      <td>shipped</td>\n      <td>145000.0</td>\n      <td>21460.0</td>\n    </tr>\n    <tr>\n      <th>104761</th>\n      <td>104762</td>\n      <td>75554</td>\n      <td>15041</td>\n      <td>282</td>\n      <td>20789</td>\n      <td>20180829</td>\n      <td>20180829</td>\n      <td>20180829</td>\n      <td>20180830</td>\n      <td>20180905</td>\n      <td>20180831</td>\n      <td>35a972d7f8436f405b56e36add1a7140</td>\n      <td>1</td>\n      <td>delivered</td>\n      <td>84990.0</td>\n      <td>8760.0</td>\n    </tr>\n    <tr>\n      <th>64413</th>\n      <td>64414</td>\n      <td>40849</td>\n      <td>18685</td>\n      <td>798</td>\n      <td>97583</td>\n      <td>20180829</td>\n      <td>20180829</td>\n      <td>20180829</td>\n      <td>20180830</td>\n      <td>20180904</td>\n      <td>20180831</td>\n      <td>fb393211459aac00af932cd7ab4fa2cc</td>\n      <td>1</td>\n      <td>delivered</td>\n      <td>99000.0</td>\n      <td>7950.0</td>\n    </tr>\n    <tr>\n      <th>33759</th>\n      <td>33760</td>\n      <td>88481</td>\n      <td>11637</td>\n      <td>3076</td>\n      <td>74107</td>\n      <td>20180829</td>\n      <td>20180829</td>\n      <td>20180829</td>\n      <td>20180830</td>\n      <td>20180911</td>\n      <td>20180906</td>\n      <td>bee12e8653a04e76786e8891cfb6330a</td>\n      <td>2</td>\n      <td>delivered</td>\n      <td>91550.0</td>\n      <td>7900.0</td>\n    </tr>\n    <tr>\n      <th>33762</th>\n      <td>33763</td>\n      <td>88481</td>\n      <td>11637</td>\n      <td>3076</td>\n      <td>74107</td>\n      <td>20180829</td>\n      <td>20180829</td>\n      <td>20180829</td>\n      <td>20180830</td>\n      <td>20180911</td>\n      <td>20180906</td>\n      <td>bee12e8653a04e76786e8891cfb6330a</td>\n      <td>5</td>\n      <td>delivered</td>\n      <td>91550.0</td>\n      <td>7900.0</td>\n    </tr>\n  </tbody>\n</table>\n</div>"
     },
     "metadata": {},
     "execution_count": 48
    }
   ],
   "source": [
    "fct_order_item.sort_values(by=\"order_date\", ascending=False).head()\n",
    "\n",
    "# Conc : missing data cause is not latest data recorded ? -> Then what? Need more exploration"
   ]
  },
  {
   "cell_type": "code",
   "execution_count": 49,
   "metadata": {},
   "outputs": [
    {
     "output_type": "execute_result",
     "data": {
      "text/plain": [
       "        id  user_id  product_id_surr  seller_id_surr  feedback_id_surr  \\\n",
       "148    149    94056              292            1020             22290   \n",
       "165    166    40400              342            1522             32888   \n",
       "311    312    24754              710             386             82423   \n",
       "662    663     7587              884            2890             95470   \n",
       "1020  1021    47973             1495            1536             14697   \n",
       "\n",
       "     order_date order_approved_date pickup_date delivered_date  \\\n",
       "148    20171212            20171212        None           None   \n",
       "165    20180806            20180807        None           None   \n",
       "311    20161005            20161006        None           None   \n",
       "662    20170219            20170219        None           None   \n",
       "1020   20170711            20170712        None           None   \n",
       "\n",
       "     estimated_time_delivery pickup_limit_date  \\\n",
       "148                 20180110          20171221   \n",
       "165                 20180823          20180813   \n",
       "311                 20161209          20161021   \n",
       "662                 20170321          20170223   \n",
       "1020                20170814          20170726   \n",
       "\n",
       "                              order_id  item_number order_item_status  \\\n",
       "148   3971a8d658593643c85790cb67105832            1        processing   \n",
       "165   54a33eb07a24da26f790d99fa2adfd7c            1          invoiced   \n",
       "311   d3c8851a6651eeff2f73b0e011ac45d0            1        processing   \n",
       "662   f5cf5716413185387030a378bdd46ebe            1        processing   \n",
       "1020  25fd9ab410ed941187c41224aaecd049            1          canceled   \n",
       "\n",
       "         price  shipping_cost  \n",
       "148   190000.0        15080.0  \n",
       "165    60030.0        15520.0  \n",
       "311   267000.0        32840.0  \n",
       "662    99000.0        15900.0  \n",
       "1020  240000.0        39520.0  "
      ],
      "text/html": "<div>\n<style scoped>\n    .dataframe tbody tr th:only-of-type {\n        vertical-align: middle;\n    }\n\n    .dataframe tbody tr th {\n        vertical-align: top;\n    }\n\n    .dataframe thead th {\n        text-align: right;\n    }\n</style>\n<table border=\"1\" class=\"dataframe\">\n  <thead>\n    <tr style=\"text-align: right;\">\n      <th></th>\n      <th>id</th>\n      <th>user_id</th>\n      <th>product_id_surr</th>\n      <th>seller_id_surr</th>\n      <th>feedback_id_surr</th>\n      <th>order_date</th>\n      <th>order_approved_date</th>\n      <th>pickup_date</th>\n      <th>delivered_date</th>\n      <th>estimated_time_delivery</th>\n      <th>pickup_limit_date</th>\n      <th>order_id</th>\n      <th>item_number</th>\n      <th>order_item_status</th>\n      <th>price</th>\n      <th>shipping_cost</th>\n    </tr>\n  </thead>\n  <tbody>\n    <tr>\n      <th>148</th>\n      <td>149</td>\n      <td>94056</td>\n      <td>292</td>\n      <td>1020</td>\n      <td>22290</td>\n      <td>20171212</td>\n      <td>20171212</td>\n      <td>None</td>\n      <td>None</td>\n      <td>20180110</td>\n      <td>20171221</td>\n      <td>3971a8d658593643c85790cb67105832</td>\n      <td>1</td>\n      <td>processing</td>\n      <td>190000.0</td>\n      <td>15080.0</td>\n    </tr>\n    <tr>\n      <th>165</th>\n      <td>166</td>\n      <td>40400</td>\n      <td>342</td>\n      <td>1522</td>\n      <td>32888</td>\n      <td>20180806</td>\n      <td>20180807</td>\n      <td>None</td>\n      <td>None</td>\n      <td>20180823</td>\n      <td>20180813</td>\n      <td>54a33eb07a24da26f790d99fa2adfd7c</td>\n      <td>1</td>\n      <td>invoiced</td>\n      <td>60030.0</td>\n      <td>15520.0</td>\n    </tr>\n    <tr>\n      <th>311</th>\n      <td>312</td>\n      <td>24754</td>\n      <td>710</td>\n      <td>386</td>\n      <td>82423</td>\n      <td>20161005</td>\n      <td>20161006</td>\n      <td>None</td>\n      <td>None</td>\n      <td>20161209</td>\n      <td>20161021</td>\n      <td>d3c8851a6651eeff2f73b0e011ac45d0</td>\n      <td>1</td>\n      <td>processing</td>\n      <td>267000.0</td>\n      <td>32840.0</td>\n    </tr>\n    <tr>\n      <th>662</th>\n      <td>663</td>\n      <td>7587</td>\n      <td>884</td>\n      <td>2890</td>\n      <td>95470</td>\n      <td>20170219</td>\n      <td>20170219</td>\n      <td>None</td>\n      <td>None</td>\n      <td>20170321</td>\n      <td>20170223</td>\n      <td>f5cf5716413185387030a378bdd46ebe</td>\n      <td>1</td>\n      <td>processing</td>\n      <td>99000.0</td>\n      <td>15900.0</td>\n    </tr>\n    <tr>\n      <th>1020</th>\n      <td>1021</td>\n      <td>47973</td>\n      <td>1495</td>\n      <td>1536</td>\n      <td>14697</td>\n      <td>20170711</td>\n      <td>20170712</td>\n      <td>None</td>\n      <td>None</td>\n      <td>20170814</td>\n      <td>20170726</td>\n      <td>25fd9ab410ed941187c41224aaecd049</td>\n      <td>1</td>\n      <td>canceled</td>\n      <td>240000.0</td>\n      <td>39520.0</td>\n    </tr>\n  </tbody>\n</table>\n</div>"
     },
     "metadata": {},
     "execution_count": 49
    }
   ],
   "source": [
    "# Why is pickup_date is missing ? -> Is it because of order status? \n",
    "fct_order_item.loc[fct_order_item.pickup_date.isna()].head()"
   ]
  },
  {
   "cell_type": "code",
   "execution_count": 50,
   "metadata": {},
   "outputs": [
    {
     "output_type": "execute_result",
     "data": {
      "text/plain": [
       "          id  user_id  product_id_surr  seller_id_surr  feedback_id_surr  \\\n",
       "49463  49464    39119            15909            2375             16426   \n",
       "\n",
       "      order_date order_approved_date pickup_date delivered_date  \\\n",
       "49463   20170929            20170929        None       20171120   \n",
       "\n",
       "      estimated_time_delivery pickup_limit_date  \\\n",
       "49463                20171114          20171018   \n",
       "\n",
       "                               order_id  item_number order_item_status  \\\n",
       "49463  2aa91108853cecb43c84a5dc5b277475            1         delivered   \n",
       "\n",
       "          price  shipping_cost  \n",
       "49463  179000.0        14980.0  "
      ],
      "text/html": "<div>\n<style scoped>\n    .dataframe tbody tr th:only-of-type {\n        vertical-align: middle;\n    }\n\n    .dataframe tbody tr th {\n        vertical-align: top;\n    }\n\n    .dataframe thead th {\n        text-align: right;\n    }\n</style>\n<table border=\"1\" class=\"dataframe\">\n  <thead>\n    <tr style=\"text-align: right;\">\n      <th></th>\n      <th>id</th>\n      <th>user_id</th>\n      <th>product_id_surr</th>\n      <th>seller_id_surr</th>\n      <th>feedback_id_surr</th>\n      <th>order_date</th>\n      <th>order_approved_date</th>\n      <th>pickup_date</th>\n      <th>delivered_date</th>\n      <th>estimated_time_delivery</th>\n      <th>pickup_limit_date</th>\n      <th>order_id</th>\n      <th>item_number</th>\n      <th>order_item_status</th>\n      <th>price</th>\n      <th>shipping_cost</th>\n    </tr>\n  </thead>\n  <tbody>\n    <tr>\n      <th>49463</th>\n      <td>49464</td>\n      <td>39119</td>\n      <td>15909</td>\n      <td>2375</td>\n      <td>16426</td>\n      <td>20170929</td>\n      <td>20170929</td>\n      <td>None</td>\n      <td>20171120</td>\n      <td>20171114</td>\n      <td>20171018</td>\n      <td>2aa91108853cecb43c84a5dc5b277475</td>\n      <td>1</td>\n      <td>delivered</td>\n      <td>179000.0</td>\n      <td>14980.0</td>\n    </tr>\n  </tbody>\n</table>\n</div>"
     },
     "metadata": {},
     "execution_count": 50
    }
   ],
   "source": [
    "fct_order_item.loc[fct_order_item.pickup_date.isna() & (~fct_order_item.delivered_date.isna())]\n",
    "\n",
    "# Weird -> how can the product is being delivered, but never being pickup? -> most of the time, the product need to be picked up by the delivery service -> then deliverd"
   ]
  },
  {
   "cell_type": "code",
   "execution_count": 51,
   "metadata": {},
   "outputs": [
    {
     "output_type": "execute_result",
     "data": {
      "text/plain": [
       "            id  user_id  product_id_surr  seller_id_surr  feedback_id_surr  \\\n",
       "246        247    54857              605            1912             68967   \n",
       "313        314     6038              727            2596             17793   \n",
       "399        400    92489              795             243             61996   \n",
       "442        443     8078              795             243             11021   \n",
       "666        667    46507              912             280             85130   \n",
       "...        ...      ...              ...             ...               ...   \n",
       "112261  112262    89020            31851             333             54325   \n",
       "112280  112281    71134            31912            1137             95841   \n",
       "112286  112287    58073            31962            2148             95175   \n",
       "112365  112366    70599            32082            1814             14289   \n",
       "112509  112510    88014            32504             131             20376   \n",
       "\n",
       "       order_date order_approved_date pickup_date delivered_date  \\\n",
       "246      20180326            20180326    20180403           None   \n",
       "313      20170121            20170121    20170209           None   \n",
       "399      20180225            20180227    20180227           None   \n",
       "442      20180425            20180425    20180430           None   \n",
       "666      20180709            20180710    20180711           None   \n",
       "...           ...                 ...         ...            ...   \n",
       "112261   20180406            20180407    20180409           None   \n",
       "112280   20180305            20180305    20180308           None   \n",
       "112286   20180716            20180717    20180718           None   \n",
       "112365   20170612            20170612    20170613           None   \n",
       "112509   20180409            20180409    20180411           None   \n",
       "\n",
       "       estimated_time_delivery pickup_limit_date  \\\n",
       "246                   20180418          20180330   \n",
       "313                   20170314          20170125   \n",
       "399                   20180322          20180305   \n",
       "442                   20180601          20180502   \n",
       "666                   20180725          20180713   \n",
       "...                        ...               ...   \n",
       "112261                20180502          20180412   \n",
       "112280                20180402          20180309   \n",
       "112286                20180726          20180723   \n",
       "112365                20170626          20170616   \n",
       "112509                20180419          20180415   \n",
       "\n",
       "                                order_id  item_number order_item_status  \\\n",
       "246     b1f6abbaec3261269b9ecc0f895f8c2d            1           shipped   \n",
       "313     2e22dc2fce65e5b9d73a11d717f41724            1           shipped   \n",
       "399     a05fc37f43df506f00a32f1507e4d360            1           shipped   \n",
       "442     1c57efb710fa0df4433b44a5c39e4b6e            1           shipped   \n",
       "666     daf3d34986ea6ba8b098570a1951677f            1           shipped   \n",
       "...                                  ...          ...               ...   \n",
       "112261  8c6eb35c6bb5e1a9dbf00531ab9404e3            1           shipped   \n",
       "112280  f6cc5ac0be9196f2fb3db04bace5cd8b            1           shipped   \n",
       "112286  f50b9192b9705d537f9593b595da132f            1           shipped   \n",
       "112365  24da4d9782584b90078fc30af8df32ad            1           shipped   \n",
       "112509  34add8976995eea31cf36aa691b32773            1           shipped   \n",
       "\n",
       "           price  shipping_cost  \n",
       "246      39990.0        23850.0  \n",
       "313      54990.0        26640.0  \n",
       "399     128890.0        15650.0  \n",
       "442      99900.0            0.0  \n",
       "666     154000.0        16180.0  \n",
       "...          ...            ...  \n",
       "112261   12300.0        19040.0  \n",
       "112280  199700.0        38950.0  \n",
       "112286   49000.0         7600.0  \n",
       "112365   18900.0         7780.0  \n",
       "112509  189990.0        13230.0  \n",
       "\n",
       "[1261 rows x 16 columns]"
      ],
      "text/html": "<div>\n<style scoped>\n    .dataframe tbody tr th:only-of-type {\n        vertical-align: middle;\n    }\n\n    .dataframe tbody tr th {\n        vertical-align: top;\n    }\n\n    .dataframe thead th {\n        text-align: right;\n    }\n</style>\n<table border=\"1\" class=\"dataframe\">\n  <thead>\n    <tr style=\"text-align: right;\">\n      <th></th>\n      <th>id</th>\n      <th>user_id</th>\n      <th>product_id_surr</th>\n      <th>seller_id_surr</th>\n      <th>feedback_id_surr</th>\n      <th>order_date</th>\n      <th>order_approved_date</th>\n      <th>pickup_date</th>\n      <th>delivered_date</th>\n      <th>estimated_time_delivery</th>\n      <th>pickup_limit_date</th>\n      <th>order_id</th>\n      <th>item_number</th>\n      <th>order_item_status</th>\n      <th>price</th>\n      <th>shipping_cost</th>\n    </tr>\n  </thead>\n  <tbody>\n    <tr>\n      <th>246</th>\n      <td>247</td>\n      <td>54857</td>\n      <td>605</td>\n      <td>1912</td>\n      <td>68967</td>\n      <td>20180326</td>\n      <td>20180326</td>\n      <td>20180403</td>\n      <td>None</td>\n      <td>20180418</td>\n      <td>20180330</td>\n      <td>b1f6abbaec3261269b9ecc0f895f8c2d</td>\n      <td>1</td>\n      <td>shipped</td>\n      <td>39990.0</td>\n      <td>23850.0</td>\n    </tr>\n    <tr>\n      <th>313</th>\n      <td>314</td>\n      <td>6038</td>\n      <td>727</td>\n      <td>2596</td>\n      <td>17793</td>\n      <td>20170121</td>\n      <td>20170121</td>\n      <td>20170209</td>\n      <td>None</td>\n      <td>20170314</td>\n      <td>20170125</td>\n      <td>2e22dc2fce65e5b9d73a11d717f41724</td>\n      <td>1</td>\n      <td>shipped</td>\n      <td>54990.0</td>\n      <td>26640.0</td>\n    </tr>\n    <tr>\n      <th>399</th>\n      <td>400</td>\n      <td>92489</td>\n      <td>795</td>\n      <td>243</td>\n      <td>61996</td>\n      <td>20180225</td>\n      <td>20180227</td>\n      <td>20180227</td>\n      <td>None</td>\n      <td>20180322</td>\n      <td>20180305</td>\n      <td>a05fc37f43df506f00a32f1507e4d360</td>\n      <td>1</td>\n      <td>shipped</td>\n      <td>128890.0</td>\n      <td>15650.0</td>\n    </tr>\n    <tr>\n      <th>442</th>\n      <td>443</td>\n      <td>8078</td>\n      <td>795</td>\n      <td>243</td>\n      <td>11021</td>\n      <td>20180425</td>\n      <td>20180425</td>\n      <td>20180430</td>\n      <td>None</td>\n      <td>20180601</td>\n      <td>20180502</td>\n      <td>1c57efb710fa0df4433b44a5c39e4b6e</td>\n      <td>1</td>\n      <td>shipped</td>\n      <td>99900.0</td>\n      <td>0.0</td>\n    </tr>\n    <tr>\n      <th>666</th>\n      <td>667</td>\n      <td>46507</td>\n      <td>912</td>\n      <td>280</td>\n      <td>85130</td>\n      <td>20180709</td>\n      <td>20180710</td>\n      <td>20180711</td>\n      <td>None</td>\n      <td>20180725</td>\n      <td>20180713</td>\n      <td>daf3d34986ea6ba8b098570a1951677f</td>\n      <td>1</td>\n      <td>shipped</td>\n      <td>154000.0</td>\n      <td>16180.0</td>\n    </tr>\n    <tr>\n      <th>...</th>\n      <td>...</td>\n      <td>...</td>\n      <td>...</td>\n      <td>...</td>\n      <td>...</td>\n      <td>...</td>\n      <td>...</td>\n      <td>...</td>\n      <td>...</td>\n      <td>...</td>\n      <td>...</td>\n      <td>...</td>\n      <td>...</td>\n      <td>...</td>\n      <td>...</td>\n      <td>...</td>\n    </tr>\n    <tr>\n      <th>112261</th>\n      <td>112262</td>\n      <td>89020</td>\n      <td>31851</td>\n      <td>333</td>\n      <td>54325</td>\n      <td>20180406</td>\n      <td>20180407</td>\n      <td>20180409</td>\n      <td>None</td>\n      <td>20180502</td>\n      <td>20180412</td>\n      <td>8c6eb35c6bb5e1a9dbf00531ab9404e3</td>\n      <td>1</td>\n      <td>shipped</td>\n      <td>12300.0</td>\n      <td>19040.0</td>\n    </tr>\n    <tr>\n      <th>112280</th>\n      <td>112281</td>\n      <td>71134</td>\n      <td>31912</td>\n      <td>1137</td>\n      <td>95841</td>\n      <td>20180305</td>\n      <td>20180305</td>\n      <td>20180308</td>\n      <td>None</td>\n      <td>20180402</td>\n      <td>20180309</td>\n      <td>f6cc5ac0be9196f2fb3db04bace5cd8b</td>\n      <td>1</td>\n      <td>shipped</td>\n      <td>199700.0</td>\n      <td>38950.0</td>\n    </tr>\n    <tr>\n      <th>112286</th>\n      <td>112287</td>\n      <td>58073</td>\n      <td>31962</td>\n      <td>2148</td>\n      <td>95175</td>\n      <td>20180716</td>\n      <td>20180717</td>\n      <td>20180718</td>\n      <td>None</td>\n      <td>20180726</td>\n      <td>20180723</td>\n      <td>f50b9192b9705d537f9593b595da132f</td>\n      <td>1</td>\n      <td>shipped</td>\n      <td>49000.0</td>\n      <td>7600.0</td>\n    </tr>\n    <tr>\n      <th>112365</th>\n      <td>112366</td>\n      <td>70599</td>\n      <td>32082</td>\n      <td>1814</td>\n      <td>14289</td>\n      <td>20170612</td>\n      <td>20170612</td>\n      <td>20170613</td>\n      <td>None</td>\n      <td>20170626</td>\n      <td>20170616</td>\n      <td>24da4d9782584b90078fc30af8df32ad</td>\n      <td>1</td>\n      <td>shipped</td>\n      <td>18900.0</td>\n      <td>7780.0</td>\n    </tr>\n    <tr>\n      <th>112509</th>\n      <td>112510</td>\n      <td>88014</td>\n      <td>32504</td>\n      <td>131</td>\n      <td>20376</td>\n      <td>20180409</td>\n      <td>20180409</td>\n      <td>20180411</td>\n      <td>None</td>\n      <td>20180419</td>\n      <td>20180415</td>\n      <td>34add8976995eea31cf36aa691b32773</td>\n      <td>1</td>\n      <td>shipped</td>\n      <td>189990.0</td>\n      <td>13230.0</td>\n    </tr>\n  </tbody>\n</table>\n<p>1261 rows × 16 columns</p>\n</div>"
     },
     "metadata": {},
     "execution_count": 51
    }
   ],
   "source": [
    "fct_order_item.loc[~fct_order_item.pickup_date.isna() & (fct_order_item.delivered_date.isna())]\n",
    "# There are many case where the product is being pickup but not delivered ?? -> Why though"
   ]
  },
  {
   "cell_type": "code",
   "execution_count": 52,
   "metadata": {},
   "outputs": [
    {
     "output_type": "execute_result",
     "data": {
      "text/plain": [
       "            id  user_id  product_id_surr  seller_id_surr  feedback_id_surr  \\\n",
       "246        247    54857              605            1912             68967   \n",
       "313        314     6038              727            2596             17793   \n",
       "399        400    92489              795             243             61996   \n",
       "442        443     8078              795             243             11021   \n",
       "666        667    46507              912             280             85130   \n",
       "...        ...      ...              ...             ...               ...   \n",
       "112261  112262    89020            31851             333             54325   \n",
       "112280  112281    71134            31912            1137             95841   \n",
       "112286  112287    58073            31962            2148             95175   \n",
       "112365  112366    70599            32082            1814             14289   \n",
       "112509  112510    88014            32504             131             20376   \n",
       "\n",
       "       order_date order_approved_date pickup_date delivered_date  \\\n",
       "246      20180326            20180326    20180403           None   \n",
       "313      20170121            20170121    20170209           None   \n",
       "399      20180225            20180227    20180227           None   \n",
       "442      20180425            20180425    20180430           None   \n",
       "666      20180709            20180710    20180711           None   \n",
       "...           ...                 ...         ...            ...   \n",
       "112261   20180406            20180407    20180409           None   \n",
       "112280   20180305            20180305    20180308           None   \n",
       "112286   20180716            20180717    20180718           None   \n",
       "112365   20170612            20170612    20170613           None   \n",
       "112509   20180409            20180409    20180411           None   \n",
       "\n",
       "       estimated_time_delivery pickup_limit_date  \\\n",
       "246                   20180418          20180330   \n",
       "313                   20170314          20170125   \n",
       "399                   20180322          20180305   \n",
       "442                   20180601          20180502   \n",
       "666                   20180725          20180713   \n",
       "...                        ...               ...   \n",
       "112261                20180502          20180412   \n",
       "112280                20180402          20180309   \n",
       "112286                20180726          20180723   \n",
       "112365                20170626          20170616   \n",
       "112509                20180419          20180415   \n",
       "\n",
       "                                order_id  item_number order_item_status  \\\n",
       "246     b1f6abbaec3261269b9ecc0f895f8c2d            1           shipped   \n",
       "313     2e22dc2fce65e5b9d73a11d717f41724            1           shipped   \n",
       "399     a05fc37f43df506f00a32f1507e4d360            1           shipped   \n",
       "442     1c57efb710fa0df4433b44a5c39e4b6e            1           shipped   \n",
       "666     daf3d34986ea6ba8b098570a1951677f            1           shipped   \n",
       "...                                  ...          ...               ...   \n",
       "112261  8c6eb35c6bb5e1a9dbf00531ab9404e3            1           shipped   \n",
       "112280  f6cc5ac0be9196f2fb3db04bace5cd8b            1           shipped   \n",
       "112286  f50b9192b9705d537f9593b595da132f            1           shipped   \n",
       "112365  24da4d9782584b90078fc30af8df32ad            1           shipped   \n",
       "112509  34add8976995eea31cf36aa691b32773            1           shipped   \n",
       "\n",
       "           price  shipping_cost  \n",
       "246      39990.0        23850.0  \n",
       "313      54990.0        26640.0  \n",
       "399     128890.0        15650.0  \n",
       "442      99900.0            0.0  \n",
       "666     154000.0        16180.0  \n",
       "...          ...            ...  \n",
       "112261   12300.0        19040.0  \n",
       "112280  199700.0        38950.0  \n",
       "112286   49000.0         7600.0  \n",
       "112365   18900.0         7780.0  \n",
       "112509  189990.0        13230.0  \n",
       "\n",
       "[1185 rows x 16 columns]"
      ],
      "text/html": "<div>\n<style scoped>\n    .dataframe tbody tr th:only-of-type {\n        vertical-align: middle;\n    }\n\n    .dataframe tbody tr th {\n        vertical-align: top;\n    }\n\n    .dataframe thead th {\n        text-align: right;\n    }\n</style>\n<table border=\"1\" class=\"dataframe\">\n  <thead>\n    <tr style=\"text-align: right;\">\n      <th></th>\n      <th>id</th>\n      <th>user_id</th>\n      <th>product_id_surr</th>\n      <th>seller_id_surr</th>\n      <th>feedback_id_surr</th>\n      <th>order_date</th>\n      <th>order_approved_date</th>\n      <th>pickup_date</th>\n      <th>delivered_date</th>\n      <th>estimated_time_delivery</th>\n      <th>pickup_limit_date</th>\n      <th>order_id</th>\n      <th>item_number</th>\n      <th>order_item_status</th>\n      <th>price</th>\n      <th>shipping_cost</th>\n    </tr>\n  </thead>\n  <tbody>\n    <tr>\n      <th>246</th>\n      <td>247</td>\n      <td>54857</td>\n      <td>605</td>\n      <td>1912</td>\n      <td>68967</td>\n      <td>20180326</td>\n      <td>20180326</td>\n      <td>20180403</td>\n      <td>None</td>\n      <td>20180418</td>\n      <td>20180330</td>\n      <td>b1f6abbaec3261269b9ecc0f895f8c2d</td>\n      <td>1</td>\n      <td>shipped</td>\n      <td>39990.0</td>\n      <td>23850.0</td>\n    </tr>\n    <tr>\n      <th>313</th>\n      <td>314</td>\n      <td>6038</td>\n      <td>727</td>\n      <td>2596</td>\n      <td>17793</td>\n      <td>20170121</td>\n      <td>20170121</td>\n      <td>20170209</td>\n      <td>None</td>\n      <td>20170314</td>\n      <td>20170125</td>\n      <td>2e22dc2fce65e5b9d73a11d717f41724</td>\n      <td>1</td>\n      <td>shipped</td>\n      <td>54990.0</td>\n      <td>26640.0</td>\n    </tr>\n    <tr>\n      <th>399</th>\n      <td>400</td>\n      <td>92489</td>\n      <td>795</td>\n      <td>243</td>\n      <td>61996</td>\n      <td>20180225</td>\n      <td>20180227</td>\n      <td>20180227</td>\n      <td>None</td>\n      <td>20180322</td>\n      <td>20180305</td>\n      <td>a05fc37f43df506f00a32f1507e4d360</td>\n      <td>1</td>\n      <td>shipped</td>\n      <td>128890.0</td>\n      <td>15650.0</td>\n    </tr>\n    <tr>\n      <th>442</th>\n      <td>443</td>\n      <td>8078</td>\n      <td>795</td>\n      <td>243</td>\n      <td>11021</td>\n      <td>20180425</td>\n      <td>20180425</td>\n      <td>20180430</td>\n      <td>None</td>\n      <td>20180601</td>\n      <td>20180502</td>\n      <td>1c57efb710fa0df4433b44a5c39e4b6e</td>\n      <td>1</td>\n      <td>shipped</td>\n      <td>99900.0</td>\n      <td>0.0</td>\n    </tr>\n    <tr>\n      <th>666</th>\n      <td>667</td>\n      <td>46507</td>\n      <td>912</td>\n      <td>280</td>\n      <td>85130</td>\n      <td>20180709</td>\n      <td>20180710</td>\n      <td>20180711</td>\n      <td>None</td>\n      <td>20180725</td>\n      <td>20180713</td>\n      <td>daf3d34986ea6ba8b098570a1951677f</td>\n      <td>1</td>\n      <td>shipped</td>\n      <td>154000.0</td>\n      <td>16180.0</td>\n    </tr>\n    <tr>\n      <th>...</th>\n      <td>...</td>\n      <td>...</td>\n      <td>...</td>\n      <td>...</td>\n      <td>...</td>\n      <td>...</td>\n      <td>...</td>\n      <td>...</td>\n      <td>...</td>\n      <td>...</td>\n      <td>...</td>\n      <td>...</td>\n      <td>...</td>\n      <td>...</td>\n      <td>...</td>\n      <td>...</td>\n    </tr>\n    <tr>\n      <th>112261</th>\n      <td>112262</td>\n      <td>89020</td>\n      <td>31851</td>\n      <td>333</td>\n      <td>54325</td>\n      <td>20180406</td>\n      <td>20180407</td>\n      <td>20180409</td>\n      <td>None</td>\n      <td>20180502</td>\n      <td>20180412</td>\n      <td>8c6eb35c6bb5e1a9dbf00531ab9404e3</td>\n      <td>1</td>\n      <td>shipped</td>\n      <td>12300.0</td>\n      <td>19040.0</td>\n    </tr>\n    <tr>\n      <th>112280</th>\n      <td>112281</td>\n      <td>71134</td>\n      <td>31912</td>\n      <td>1137</td>\n      <td>95841</td>\n      <td>20180305</td>\n      <td>20180305</td>\n      <td>20180308</td>\n      <td>None</td>\n      <td>20180402</td>\n      <td>20180309</td>\n      <td>f6cc5ac0be9196f2fb3db04bace5cd8b</td>\n      <td>1</td>\n      <td>shipped</td>\n      <td>199700.0</td>\n      <td>38950.0</td>\n    </tr>\n    <tr>\n      <th>112286</th>\n      <td>112287</td>\n      <td>58073</td>\n      <td>31962</td>\n      <td>2148</td>\n      <td>95175</td>\n      <td>20180716</td>\n      <td>20180717</td>\n      <td>20180718</td>\n      <td>None</td>\n      <td>20180726</td>\n      <td>20180723</td>\n      <td>f50b9192b9705d537f9593b595da132f</td>\n      <td>1</td>\n      <td>shipped</td>\n      <td>49000.0</td>\n      <td>7600.0</td>\n    </tr>\n    <tr>\n      <th>112365</th>\n      <td>112366</td>\n      <td>70599</td>\n      <td>32082</td>\n      <td>1814</td>\n      <td>14289</td>\n      <td>20170612</td>\n      <td>20170612</td>\n      <td>20170613</td>\n      <td>None</td>\n      <td>20170626</td>\n      <td>20170616</td>\n      <td>24da4d9782584b90078fc30af8df32ad</td>\n      <td>1</td>\n      <td>shipped</td>\n      <td>18900.0</td>\n      <td>7780.0</td>\n    </tr>\n    <tr>\n      <th>112509</th>\n      <td>112510</td>\n      <td>88014</td>\n      <td>32504</td>\n      <td>131</td>\n      <td>20376</td>\n      <td>20180409</td>\n      <td>20180409</td>\n      <td>20180411</td>\n      <td>None</td>\n      <td>20180419</td>\n      <td>20180415</td>\n      <td>34add8976995eea31cf36aa691b32773</td>\n      <td>1</td>\n      <td>shipped</td>\n      <td>189990.0</td>\n      <td>13230.0</td>\n    </tr>\n  </tbody>\n</table>\n<p>1185 rows × 16 columns</p>\n</div>"
     },
     "metadata": {},
     "execution_count": 52
    }
   ],
   "source": [
    "fct_order_item.loc[~fct_order_item.pickup_date.isna() & (fct_order_item.delivered_date.isna()) & (fct_order_item.order_item_status == \"shipped\")]"
   ]
  },
  {
   "cell_type": "code",
   "execution_count": 53,
   "metadata": {},
   "outputs": [
    {
     "output_type": "execute_result",
     "data": {
      "text/plain": [
       "            id  user_id  product_id_surr  seller_id_surr  feedback_id_surr  \\\n",
       "1643      1644    71861             2930            2108             45617   \n",
       "1752      1753    23835             3156            1772             27564   \n",
       "5423      5424    71927            11502            1685             61352   \n",
       "6793      6794    47940            15244            2464             94702   \n",
       "7729      7730    71816            17524            1324             41687   \n",
       "...        ...      ...              ...             ...               ...   \n",
       "107773  107774    23814            22847            1780             65263   \n",
       "110950  110951    95846            29466            1254             78438   \n",
       "111019  111020    72016            29466            1254             47484   \n",
       "111524  111525    23887            30589            2956             54419   \n",
       "112163  112164    95994            31738             473             41477   \n",
       "\n",
       "       order_date order_approved_date pickup_date delivered_date  \\\n",
       "1643     20180207            20180207    20180210           None   \n",
       "1752     20180129            20180129    20180131           None   \n",
       "5423     20180220            20180220    20180227           None   \n",
       "6793     20180126            20180126    20180126           None   \n",
       "7729     20180130            20180130    20180131           None   \n",
       "...           ...                 ...         ...            ...   \n",
       "107773   20180207            20180208    20180209           None   \n",
       "110950   20180205            20180205    20180206           None   \n",
       "111019   20180128            20180128    20180129           None   \n",
       "111524   20180214            20180214    20180217           None   \n",
       "112163   20180125            20180125    20180126           None   \n",
       "\n",
       "       estimated_time_delivery pickup_limit_date  \\\n",
       "1643                  20180308          20180213   \n",
       "1752                  20180223          20180204   \n",
       "5423                  20180312          20180226   \n",
       "6793                  20180219          20180201   \n",
       "7729                  20180222          20180205   \n",
       "...                        ...               ...   \n",
       "107773                20180309          20180214   \n",
       "110950                20180301          20180209   \n",
       "111019                20180302          20180201   \n",
       "111524                20180307          20180220   \n",
       "112163                20180223          20180131   \n",
       "\n",
       "                                order_id  item_number order_item_status  \\\n",
       "1643    7582b8c10039cceafcfe7b13e41a91e2            1          canceled   \n",
       "1752    46eb75885eca03736c4188871c0a9ba3            1          canceled   \n",
       "5423    9ec3685b1f21c7dfff4f656392b186dd            1          canceled   \n",
       "6793    f3c5d914eec90079a826c2b5ea7fe6bc            1          canceled   \n",
       "7729    6b5ccf5385890198c54fa97afe4812bc            1          canceled   \n",
       "...                                  ...          ...               ...   \n",
       "107773  a8a3eaaf155bc111acb10e0536a9e753            1          canceled   \n",
       "110950  c9f06c1229ec7cd4ec9aed55d434b499            1          canceled   \n",
       "111019  7a56ded9b696cca5e892f56f49b1921a            1          canceled   \n",
       "111524  8caf289ab5d7e3ec7b4522aa22dabbec            1          canceled   \n",
       "112163  6ad336dba0613cde0e5717f50dc8c669            1          canceled   \n",
       "\n",
       "           price  shipping_cost  \n",
       "1643     24900.0        15100.0  \n",
       "1752    170000.0        18440.0  \n",
       "5423     89580.0        17340.0  \n",
       "6793     59900.0        12760.0  \n",
       "7729    349490.0        28770.0  \n",
       "...          ...            ...  \n",
       "107773   69900.0        16930.0  \n",
       "110950  150000.0        12550.0  \n",
       "111019  150000.0        17490.0  \n",
       "111524   49990.0        14100.0  \n",
       "112163   69900.0        16930.0  \n",
       "\n",
       "[69 rows x 16 columns]"
      ],
      "text/html": "<div>\n<style scoped>\n    .dataframe tbody tr th:only-of-type {\n        vertical-align: middle;\n    }\n\n    .dataframe tbody tr th {\n        vertical-align: top;\n    }\n\n    .dataframe thead th {\n        text-align: right;\n    }\n</style>\n<table border=\"1\" class=\"dataframe\">\n  <thead>\n    <tr style=\"text-align: right;\">\n      <th></th>\n      <th>id</th>\n      <th>user_id</th>\n      <th>product_id_surr</th>\n      <th>seller_id_surr</th>\n      <th>feedback_id_surr</th>\n      <th>order_date</th>\n      <th>order_approved_date</th>\n      <th>pickup_date</th>\n      <th>delivered_date</th>\n      <th>estimated_time_delivery</th>\n      <th>pickup_limit_date</th>\n      <th>order_id</th>\n      <th>item_number</th>\n      <th>order_item_status</th>\n      <th>price</th>\n      <th>shipping_cost</th>\n    </tr>\n  </thead>\n  <tbody>\n    <tr>\n      <th>1643</th>\n      <td>1644</td>\n      <td>71861</td>\n      <td>2930</td>\n      <td>2108</td>\n      <td>45617</td>\n      <td>20180207</td>\n      <td>20180207</td>\n      <td>20180210</td>\n      <td>None</td>\n      <td>20180308</td>\n      <td>20180213</td>\n      <td>7582b8c10039cceafcfe7b13e41a91e2</td>\n      <td>1</td>\n      <td>canceled</td>\n      <td>24900.0</td>\n      <td>15100.0</td>\n    </tr>\n    <tr>\n      <th>1752</th>\n      <td>1753</td>\n      <td>23835</td>\n      <td>3156</td>\n      <td>1772</td>\n      <td>27564</td>\n      <td>20180129</td>\n      <td>20180129</td>\n      <td>20180131</td>\n      <td>None</td>\n      <td>20180223</td>\n      <td>20180204</td>\n      <td>46eb75885eca03736c4188871c0a9ba3</td>\n      <td>1</td>\n      <td>canceled</td>\n      <td>170000.0</td>\n      <td>18440.0</td>\n    </tr>\n    <tr>\n      <th>5423</th>\n      <td>5424</td>\n      <td>71927</td>\n      <td>11502</td>\n      <td>1685</td>\n      <td>61352</td>\n      <td>20180220</td>\n      <td>20180220</td>\n      <td>20180227</td>\n      <td>None</td>\n      <td>20180312</td>\n      <td>20180226</td>\n      <td>9ec3685b1f21c7dfff4f656392b186dd</td>\n      <td>1</td>\n      <td>canceled</td>\n      <td>89580.0</td>\n      <td>17340.0</td>\n    </tr>\n    <tr>\n      <th>6793</th>\n      <td>6794</td>\n      <td>47940</td>\n      <td>15244</td>\n      <td>2464</td>\n      <td>94702</td>\n      <td>20180126</td>\n      <td>20180126</td>\n      <td>20180126</td>\n      <td>None</td>\n      <td>20180219</td>\n      <td>20180201</td>\n      <td>f3c5d914eec90079a826c2b5ea7fe6bc</td>\n      <td>1</td>\n      <td>canceled</td>\n      <td>59900.0</td>\n      <td>12760.0</td>\n    </tr>\n    <tr>\n      <th>7729</th>\n      <td>7730</td>\n      <td>71816</td>\n      <td>17524</td>\n      <td>1324</td>\n      <td>41687</td>\n      <td>20180130</td>\n      <td>20180130</td>\n      <td>20180131</td>\n      <td>None</td>\n      <td>20180222</td>\n      <td>20180205</td>\n      <td>6b5ccf5385890198c54fa97afe4812bc</td>\n      <td>1</td>\n      <td>canceled</td>\n      <td>349490.0</td>\n      <td>28770.0</td>\n    </tr>\n    <tr>\n      <th>...</th>\n      <td>...</td>\n      <td>...</td>\n      <td>...</td>\n      <td>...</td>\n      <td>...</td>\n      <td>...</td>\n      <td>...</td>\n      <td>...</td>\n      <td>...</td>\n      <td>...</td>\n      <td>...</td>\n      <td>...</td>\n      <td>...</td>\n      <td>...</td>\n      <td>...</td>\n      <td>...</td>\n    </tr>\n    <tr>\n      <th>107773</th>\n      <td>107774</td>\n      <td>23814</td>\n      <td>22847</td>\n      <td>1780</td>\n      <td>65263</td>\n      <td>20180207</td>\n      <td>20180208</td>\n      <td>20180209</td>\n      <td>None</td>\n      <td>20180309</td>\n      <td>20180214</td>\n      <td>a8a3eaaf155bc111acb10e0536a9e753</td>\n      <td>1</td>\n      <td>canceled</td>\n      <td>69900.0</td>\n      <td>16930.0</td>\n    </tr>\n    <tr>\n      <th>110950</th>\n      <td>110951</td>\n      <td>95846</td>\n      <td>29466</td>\n      <td>1254</td>\n      <td>78438</td>\n      <td>20180205</td>\n      <td>20180205</td>\n      <td>20180206</td>\n      <td>None</td>\n      <td>20180301</td>\n      <td>20180209</td>\n      <td>c9f06c1229ec7cd4ec9aed55d434b499</td>\n      <td>1</td>\n      <td>canceled</td>\n      <td>150000.0</td>\n      <td>12550.0</td>\n    </tr>\n    <tr>\n      <th>111019</th>\n      <td>111020</td>\n      <td>72016</td>\n      <td>29466</td>\n      <td>1254</td>\n      <td>47484</td>\n      <td>20180128</td>\n      <td>20180128</td>\n      <td>20180129</td>\n      <td>None</td>\n      <td>20180302</td>\n      <td>20180201</td>\n      <td>7a56ded9b696cca5e892f56f49b1921a</td>\n      <td>1</td>\n      <td>canceled</td>\n      <td>150000.0</td>\n      <td>17490.0</td>\n    </tr>\n    <tr>\n      <th>111524</th>\n      <td>111525</td>\n      <td>23887</td>\n      <td>30589</td>\n      <td>2956</td>\n      <td>54419</td>\n      <td>20180214</td>\n      <td>20180214</td>\n      <td>20180217</td>\n      <td>None</td>\n      <td>20180307</td>\n      <td>20180220</td>\n      <td>8caf289ab5d7e3ec7b4522aa22dabbec</td>\n      <td>1</td>\n      <td>canceled</td>\n      <td>49990.0</td>\n      <td>14100.0</td>\n    </tr>\n    <tr>\n      <th>112163</th>\n      <td>112164</td>\n      <td>95994</td>\n      <td>31738</td>\n      <td>473</td>\n      <td>41477</td>\n      <td>20180125</td>\n      <td>20180125</td>\n      <td>20180126</td>\n      <td>None</td>\n      <td>20180223</td>\n      <td>20180131</td>\n      <td>6ad336dba0613cde0e5717f50dc8c669</td>\n      <td>1</td>\n      <td>canceled</td>\n      <td>69900.0</td>\n      <td>16930.0</td>\n    </tr>\n  </tbody>\n</table>\n<p>69 rows × 16 columns</p>\n</div>"
     },
     "metadata": {},
     "execution_count": 53
    }
   ],
   "source": [
    "fct_order_item.loc[~fct_order_item.pickup_date.isna() & (fct_order_item.delivered_date.isna()) & (fct_order_item.order_item_status == \"canceled\")]"
   ]
  },
  {
   "cell_type": "code",
   "execution_count": 54,
   "metadata": {},
   "outputs": [
    {
     "output_type": "execute_result",
     "data": {
      "text/plain": [
       "          id  user_id  product_id_surr  seller_id_surr  feedback_id_surr  \\\n",
       "13438  13439    50133            30579            1809             12775   \n",
       "15324  15325    43057             1772             139             66407   \n",
       "37295  37296     4381            20236            2383             95491   \n",
       "41362  41363    25806            29655            1685             17372   \n",
       "43452  43453    53587             2966            2961             89705   \n",
       "43455  43456    26617             2966            2961             18042   \n",
       "80622  80623    21874            25466            2082              5169   \n",
       "\n",
       "      order_date order_approved_date pickup_date delivered_date  \\\n",
       "13438   20180627            20180627    20180703           None   \n",
       "15324   20180608            20180608    20180612           None   \n",
       "37295   20180620            20180620    20180625           None   \n",
       "41362   20171128            20171128    20171130           None   \n",
       "43452   20180701            20180701    20180703           None   \n",
       "43455   20180701            20180701    20180703           None   \n",
       "80622   20180701            20180701    20180703           None   \n",
       "\n",
       "      estimated_time_delivery pickup_limit_date  \\\n",
       "13438                20180719          20180703   \n",
       "15324                20180626          20180618   \n",
       "37295                20180716          20180626   \n",
       "41362                20171218          20171204   \n",
       "43452                20180730          20180705   \n",
       "43455                20180730          20180705   \n",
       "80622                20180724          20180705   \n",
       "\n",
       "                               order_id  item_number order_item_status  \\\n",
       "13438  20edc82cf5400ce95e1afacc25798b31            1         delivered   \n",
       "15324  ab7c89dc1bf4a1ead9d6ec1ec8968a84            1         delivered   \n",
       "37295  f5dd62b788049ad9fc0526e3ad11a097            1         delivered   \n",
       "41362  2d1e2d5bf4dc7227b3bfebb81328c15f            1         delivered   \n",
       "43452  e69f75a717d64fc5ecdfae42b2e8e086            1         delivered   \n",
       "43455  2ebdfc4f15f23b91474edf87475f108e            1         delivered   \n",
       "80622  0d3268bad9b086af767785e3f0fc0133            1         delivered   \n",
       "\n",
       "          price  shipping_cost  \n",
       "13438   45900.0         9070.0  \n",
       "15324  110990.0         9130.0  \n",
       "37295  329000.0        25240.0  \n",
       "41362  117300.0        17530.0  \n",
       "43452  139000.0        19070.0  \n",
       "43455  139000.0        19070.0  \n",
       "80622  188990.0        15630.0  "
      ],
      "text/html": "<div>\n<style scoped>\n    .dataframe tbody tr th:only-of-type {\n        vertical-align: middle;\n    }\n\n    .dataframe tbody tr th {\n        vertical-align: top;\n    }\n\n    .dataframe thead th {\n        text-align: right;\n    }\n</style>\n<table border=\"1\" class=\"dataframe\">\n  <thead>\n    <tr style=\"text-align: right;\">\n      <th></th>\n      <th>id</th>\n      <th>user_id</th>\n      <th>product_id_surr</th>\n      <th>seller_id_surr</th>\n      <th>feedback_id_surr</th>\n      <th>order_date</th>\n      <th>order_approved_date</th>\n      <th>pickup_date</th>\n      <th>delivered_date</th>\n      <th>estimated_time_delivery</th>\n      <th>pickup_limit_date</th>\n      <th>order_id</th>\n      <th>item_number</th>\n      <th>order_item_status</th>\n      <th>price</th>\n      <th>shipping_cost</th>\n    </tr>\n  </thead>\n  <tbody>\n    <tr>\n      <th>13438</th>\n      <td>13439</td>\n      <td>50133</td>\n      <td>30579</td>\n      <td>1809</td>\n      <td>12775</td>\n      <td>20180627</td>\n      <td>20180627</td>\n      <td>20180703</td>\n      <td>None</td>\n      <td>20180719</td>\n      <td>20180703</td>\n      <td>20edc82cf5400ce95e1afacc25798b31</td>\n      <td>1</td>\n      <td>delivered</td>\n      <td>45900.0</td>\n      <td>9070.0</td>\n    </tr>\n    <tr>\n      <th>15324</th>\n      <td>15325</td>\n      <td>43057</td>\n      <td>1772</td>\n      <td>139</td>\n      <td>66407</td>\n      <td>20180608</td>\n      <td>20180608</td>\n      <td>20180612</td>\n      <td>None</td>\n      <td>20180626</td>\n      <td>20180618</td>\n      <td>ab7c89dc1bf4a1ead9d6ec1ec8968a84</td>\n      <td>1</td>\n      <td>delivered</td>\n      <td>110990.0</td>\n      <td>9130.0</td>\n    </tr>\n    <tr>\n      <th>37295</th>\n      <td>37296</td>\n      <td>4381</td>\n      <td>20236</td>\n      <td>2383</td>\n      <td>95491</td>\n      <td>20180620</td>\n      <td>20180620</td>\n      <td>20180625</td>\n      <td>None</td>\n      <td>20180716</td>\n      <td>20180626</td>\n      <td>f5dd62b788049ad9fc0526e3ad11a097</td>\n      <td>1</td>\n      <td>delivered</td>\n      <td>329000.0</td>\n      <td>25240.0</td>\n    </tr>\n    <tr>\n      <th>41362</th>\n      <td>41363</td>\n      <td>25806</td>\n      <td>29655</td>\n      <td>1685</td>\n      <td>17372</td>\n      <td>20171128</td>\n      <td>20171128</td>\n      <td>20171130</td>\n      <td>None</td>\n      <td>20171218</td>\n      <td>20171204</td>\n      <td>2d1e2d5bf4dc7227b3bfebb81328c15f</td>\n      <td>1</td>\n      <td>delivered</td>\n      <td>117300.0</td>\n      <td>17530.0</td>\n    </tr>\n    <tr>\n      <th>43452</th>\n      <td>43453</td>\n      <td>53587</td>\n      <td>2966</td>\n      <td>2961</td>\n      <td>89705</td>\n      <td>20180701</td>\n      <td>20180701</td>\n      <td>20180703</td>\n      <td>None</td>\n      <td>20180730</td>\n      <td>20180705</td>\n      <td>e69f75a717d64fc5ecdfae42b2e8e086</td>\n      <td>1</td>\n      <td>delivered</td>\n      <td>139000.0</td>\n      <td>19070.0</td>\n    </tr>\n    <tr>\n      <th>43455</th>\n      <td>43456</td>\n      <td>26617</td>\n      <td>2966</td>\n      <td>2961</td>\n      <td>18042</td>\n      <td>20180701</td>\n      <td>20180701</td>\n      <td>20180703</td>\n      <td>None</td>\n      <td>20180730</td>\n      <td>20180705</td>\n      <td>2ebdfc4f15f23b91474edf87475f108e</td>\n      <td>1</td>\n      <td>delivered</td>\n      <td>139000.0</td>\n      <td>19070.0</td>\n    </tr>\n    <tr>\n      <th>80622</th>\n      <td>80623</td>\n      <td>21874</td>\n      <td>25466</td>\n      <td>2082</td>\n      <td>5169</td>\n      <td>20180701</td>\n      <td>20180701</td>\n      <td>20180703</td>\n      <td>None</td>\n      <td>20180724</td>\n      <td>20180705</td>\n      <td>0d3268bad9b086af767785e3f0fc0133</td>\n      <td>1</td>\n      <td>delivered</td>\n      <td>188990.0</td>\n      <td>15630.0</td>\n    </tr>\n  </tbody>\n</table>\n</div>"
     },
     "metadata": {},
     "execution_count": 54
    }
   ],
   "source": [
    "fct_order_item.loc[~fct_order_item.pickup_date.isna() & (fct_order_item.delivered_date.isna()) & (fct_order_item.order_item_status != \"canceled\") & (fct_order_item.order_item_status != \"shipped\")]\n",
    "\n",
    "# Delivered but never recorded in delivered date -> might use the estimated_time_delivery (remaining 7 records)"
   ]
  },
  {
   "source": [
    "### Check reference"
   ],
   "cell_type": "markdown",
   "metadata": {}
  },
  {
   "cell_type": "code",
   "execution_count": 55,
   "metadata": {},
   "outputs": [
    {
     "output_type": "stream",
     "name": "stdout",
     "text": [
      "<class 'pandas.core.frame.DataFrame'>\nInt64Index: 112650 entries, 0 to 112649\nData columns (total 20 columns):\n #   Column                   Non-Null Count   Dtype  \n---  ------                   --------------   -----  \n 0   id                       112650 non-null  int64  \n 1   user_id                  112650 non-null  int64  \n 2   product_id_surr          112650 non-null  int64  \n 3   seller_id_surr           112650 non-null  int64  \n 4   feedback_id_surr         112650 non-null  int64  \n 5   order_date               112650 non-null  object \n 6   order_approved_date      112635 non-null  object \n 7   pickup_date              111456 non-null  object \n 8   delivered_date           110196 non-null  object \n 9   estimated_time_delivery  112650 non-null  object \n 10  pickup_limit_date        112650 non-null  object \n 11  order_id                 112650 non-null  object \n 12  item_number              112650 non-null  int64  \n 13  order_item_status        112650 non-null  object \n 14  price                    112650 non-null  float64\n 15  shipping_cost            112650 non-null  float64\n 16  user_name                112650 non-null  object \n 17  total_order              112650 non-null  float64\n 18  total_spending           112650 non-null  float64\n 19  is_current_version       112650 non-null  bool   \ndtypes: bool(1), float64(4), int64(6), object(9)\nmemory usage: 17.3+ MB\n"
     ]
    }
   ],
   "source": [
    "merged = pd.merge(fct_order_item, user, how=\"inner\", on=\"user_id\")\n",
    "merged.info()"
   ]
  },
  {
   "cell_type": "code",
   "execution_count": 56,
   "metadata": {},
   "outputs": [
    {
     "output_type": "stream",
     "name": "stdout",
     "text": [
      "<class 'pandas.core.frame.DataFrame'>\nInt64Index: 112650 entries, 0 to 112649\nData columns (total 25 columns):\n #   Column                   Non-Null Count   Dtype  \n---  ------                   --------------   -----  \n 0   id                       112650 non-null  int64  \n 1   user_id                  112650 non-null  int64  \n 2   product_id_surr          112650 non-null  int64  \n 3   seller_id_surr           112650 non-null  int64  \n 4   feedback_id_surr         112650 non-null  int64  \n 5   order_date               112650 non-null  object \n 6   order_approved_date      112635 non-null  object \n 7   pickup_date              111456 non-null  object \n 8   delivered_date           110196 non-null  object \n 9   estimated_time_delivery  112650 non-null  object \n 10  pickup_limit_date        112650 non-null  object \n 11  order_id_x               112650 non-null  object \n 12  item_number              112650 non-null  int64  \n 13  order_item_status        112650 non-null  object \n 14  price                    112650 non-null  float64\n 15  shipping_cost            112650 non-null  float64\n 16  user_name                112650 non-null  object \n 17  total_order              112650 non-null  float64\n 18  total_spending           112650 non-null  float64\n 19  is_current_version_x     112650 non-null  bool   \n 20  order_id_y               112650 non-null  object \n 21  feedback_avg_score       112650 non-null  float64\n 22  feedback_form_sent_date  112650 non-null  object \n 23  feedback_answer_date     112650 non-null  object \n 24  is_current_version_y     112650 non-null  bool   \ndtypes: bool(2), float64(5), int64(6), object(12)\nmemory usage: 20.8+ MB\n"
     ]
    }
   ],
   "source": [
    "merged = pd.merge(merged,feedback, how=\"inner\", on=\"feedback_id_surr\")\n",
    "merged.info()"
   ]
  },
  {
   "cell_type": "code",
   "execution_count": 57,
   "metadata": {},
   "outputs": [
    {
     "output_type": "stream",
     "name": "stdout",
     "text": [
      "<class 'pandas.core.frame.DataFrame'>\nInt64Index: 112650 entries, 0 to 112649\nData columns (total 35 columns):\n #   Column                      Non-Null Count   Dtype  \n---  ------                      --------------   -----  \n 0   id                          112650 non-null  int64  \n 1   user_id                     112650 non-null  int64  \n 2   product_id_surr             112650 non-null  int64  \n 3   seller_id_surr              112650 non-null  int64  \n 4   feedback_id_surr            112650 non-null  int64  \n 5   order_date                  112650 non-null  object \n 6   order_approved_date         112635 non-null  object \n 7   pickup_date                 111456 non-null  object \n 8   delivered_date              110196 non-null  object \n 9   estimated_time_delivery     112650 non-null  object \n 10  pickup_limit_date           112650 non-null  object \n 11  order_id_x                  112650 non-null  object \n 12  item_number                 112650 non-null  int64  \n 13  order_item_status           112650 non-null  object \n 14  price                       112650 non-null  float64\n 15  shipping_cost               112650 non-null  float64\n 16  user_name                   112650 non-null  object \n 17  total_order                 112650 non-null  float64\n 18  total_spending              112650 non-null  float64\n 19  is_current_version_x        112650 non-null  bool   \n 20  order_id_y                  112650 non-null  object \n 21  feedback_avg_score          112650 non-null  float64\n 22  feedback_form_sent_date     112650 non-null  object \n 23  feedback_answer_date        112650 non-null  object \n 24  is_current_version_y        112650 non-null  bool   \n 25  product_id                  112650 non-null  object \n 26  product_category            111023 non-null  object \n 27  product_name_length         111047 non-null  float64\n 28  product_description_length  111047 non-null  float64\n 29  product_photos_qty          111047 non-null  float64\n 30  product_length_cm           112632 non-null  float64\n 31  product_weight_g            112632 non-null  float64\n 32  product_height_cm           112632 non-null  float64\n 33  product_width_cm            112632 non-null  float64\n 34  is_current_version          112650 non-null  bool   \ndtypes: bool(3), float64(12), int64(6), object(14)\nmemory usage: 28.7+ MB\n"
     ]
    }
   ],
   "source": [
    "merged = pd.merge(merged,product, how=\"inner\", on=\"product_id_surr\")\n",
    "merged.info()"
   ]
  },
  {
   "cell_type": "code",
   "execution_count": 58,
   "metadata": {},
   "outputs": [
    {
     "output_type": "stream",
     "name": "stdout",
     "text": [
      "<class 'pandas.core.frame.DataFrame'>\nInt64Index: 112650 entries, 0 to 112649\nData columns (total 40 columns):\n #   Column                      Non-Null Count   Dtype  \n---  ------                      --------------   -----  \n 0   id                          112650 non-null  int64  \n 1   user_id                     112650 non-null  int64  \n 2   product_id_surr             112650 non-null  int64  \n 3   seller_id_surr              112650 non-null  int64  \n 4   feedback_id_surr            112650 non-null  int64  \n 5   order_date                  112650 non-null  object \n 6   order_approved_date         112635 non-null  object \n 7   pickup_date                 111456 non-null  object \n 8   delivered_date              110196 non-null  object \n 9   estimated_time_delivery     112650 non-null  object \n 10  pickup_limit_date           112650 non-null  object \n 11  order_id_x                  112650 non-null  object \n 12  item_number                 112650 non-null  int64  \n 13  order_item_status           112650 non-null  object \n 14  price                       112650 non-null  float64\n 15  shipping_cost               112650 non-null  float64\n 16  user_name                   112650 non-null  object \n 17  total_order                 112650 non-null  float64\n 18  total_spending              112650 non-null  float64\n 19  is_current_version_x        112650 non-null  bool   \n 20  order_id_y                  112650 non-null  object \n 21  feedback_avg_score          112650 non-null  float64\n 22  feedback_form_sent_date     112650 non-null  object \n 23  feedback_answer_date        112650 non-null  object \n 24  is_current_version_y        112650 non-null  bool   \n 25  product_id                  112650 non-null  object \n 26  product_category            111023 non-null  object \n 27  product_name_length         111047 non-null  float64\n 28  product_description_length  111047 non-null  float64\n 29  product_photos_qty          111047 non-null  float64\n 30  product_length_cm           112632 non-null  float64\n 31  product_weight_g            112632 non-null  float64\n 32  product_height_cm           112632 non-null  float64\n 33  product_width_cm            112632 non-null  float64\n 34  is_current_version_x        112650 non-null  bool   \n 35  seller_id                   112650 non-null  object \n 36  seller_zip_code             112650 non-null  int64  \n 37  seller_city                 112650 non-null  object \n 38  seller_state                112650 non-null  object \n 39  is_current_version_y        112650 non-null  bool   \ndtypes: bool(4), float64(12), int64(7), object(17)\nmemory usage: 32.2+ MB\n"
     ]
    }
   ],
   "source": [
    "merged = pd.merge(merged,seller, how=\"inner\", on=\"seller_id_surr\")\n",
    "merged.info()"
   ]
  }
 ]
}