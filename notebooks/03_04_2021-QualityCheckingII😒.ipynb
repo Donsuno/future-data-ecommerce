{
 "metadata": {
  "orig_nbformat": 2,
  "kernelspec": {
   "name": "python3",
   "display_name": "Python 3",
   "language": "python"
  }
 },
 "nbformat": 4,
 "nbformat_minor": 2,
 "cells": [
  {
   "source": [
    "# ETL Quality Checking\n",
    "A notebook to check the result from ETL query process\n",
    "\n",
    "Scripts :\n",
    "* dim_populate.sql\n",
    "* fct_populate.sql"
   ],
   "cell_type": "markdown",
   "metadata": {}
  },
  {
   "source": [
    "## Notebook Sanity Check"
   ],
   "cell_type": "markdown",
   "metadata": {}
  },
  {
   "cell_type": "code",
   "execution_count": 1,
   "metadata": {},
   "outputs": [],
   "source": [
    "from dotenv import load_dotenv\n",
    "import os\n",
    "load_dotenv()\n",
    "\n",
    "# OR, the same with increased verbosity\n",
    "load_dotenv(verbose=True)\n",
    "\n",
    "DBNAME= os.getenv(\"DBNAME\")\n",
    "HOSTNAME= os.getenv(\"HOSTNAME\")\n",
    "USER= os.getenv(\"USER\")\n",
    "PASS= os.getenv(\"PASS\")\n",
    "STGDBNAME = os.getenv(\"STAGING_DBNAME\")"
   ]
  },
  {
   "cell_type": "code",
   "execution_count": 2,
   "metadata": {},
   "outputs": [],
   "source": [
    "import psycopg2\n",
    "import pandas as pd\n",
    "from sqlalchemy import create_engine\n",
    "\n",
    "# Create an engine instance\n",
    "alchemyEngine = create_engine(f'postgresql+psycopg2://{USER}:{PASS}@{HOSTNAME}/{DBNAME}', pool_recycle=3600);\n",
    "\n",
    "# Connect to PostgreSQL server\n",
    "conn  = alchemyEngine.connect();"
   ]
  },
  {
   "cell_type": "code",
   "execution_count": 3,
   "metadata": {},
   "outputs": [],
   "source": [
    "# Showing Missing Data\n",
    "def show_missing_data(df):\n",
    "    print(f\"Shape : {df.shape}\")\n",
    "    print(f\"Missing Data : {df.isnull().sum()}\")\n",
    "    return None"
   ]
  },
  {
   "cell_type": "code",
   "execution_count": 4,
   "metadata": {},
   "outputs": [],
   "source": [
    "# Global var\n",
    "schema = \"staging\""
   ]
  },
  {
   "source": [
    "## Date dimension"
   ],
   "cell_type": "markdown",
   "metadata": {}
  },
  {
   "cell_type": "code",
   "execution_count": 5,
   "metadata": {},
   "outputs": [
    {
     "output_type": "stream",
     "name": "stdout",
     "text": [
      "<class 'pandas.core.frame.DataFrame'>\nRangeIndex: 3651 entries, 0 to 3650\nData columns (total 15 columns):\n #   Column                  Non-Null Count  Dtype         \n---  ------                  --------------  -----         \n 0   date_id                 3651 non-null   object        \n 1   date                    3651 non-null   datetime64[ns]\n 2   day_name                3651 non-null   object        \n 3   day_of_week             3651 non-null   int64         \n 4   day_of_month            3651 non-null   int64         \n 5   day_of_quarter          3651 non-null   int64         \n 6   day_of_year             3651 non-null   float64       \n 7   week_of_month           3651 non-null   int64         \n 8   week_of_year            3651 non-null   float64       \n 9   month_actual            3651 non-null   float64       \n 10  month_name              3651 non-null   object        \n 11  month_name_abbreviated  3651 non-null   object        \n 12  quarter                 3651 non-null   float64       \n 13  year                    3651 non-null   float64       \n 14  isWeekend               3651 non-null   bool          \ndtypes: bool(1), datetime64[ns](1), float64(5), int64(4), object(4)\nmemory usage: 403.0+ KB\n"
     ]
    }
   ],
   "source": [
    "date = pd.read_sql_table(\"dim_date\", conn, schema=schema)\n",
    "date.info()"
   ]
  },
  {
   "cell_type": "code",
   "execution_count": 6,
   "metadata": {},
   "outputs": [
    {
     "output_type": "stream",
     "name": "stdout",
     "text": [
      "Shape : (3651, 15)\nMissing Data : date_id                   0\ndate                      0\nday_name                  0\nday_of_week               0\nday_of_month              0\nday_of_quarter            0\nday_of_year               0\nweek_of_month             0\nweek_of_year              0\nmonth_actual              0\nmonth_name                0\nmonth_name_abbreviated    0\nquarter                   0\nyear                      0\nisWeekend                 0\ndtype: int64\n"
     ]
    }
   ],
   "source": [
    "show_missing_data(date)"
   ]
  },
  {
   "cell_type": "code",
   "execution_count": 7,
   "metadata": {},
   "outputs": [
    {
     "output_type": "execute_result",
     "data": {
      "text/plain": [
       "    date_id       date   day_name  day_of_week  day_of_month  day_of_quarter  \\\n",
       "0  20150101 2015-01-01  Thursday             4             1               1   \n",
       "1  20150102 2015-01-02  Friday               5             2               2   \n",
       "2  20150103 2015-01-03  Saturday             6             3               3   \n",
       "3  20150104 2015-01-04  Sunday               7             4               4   \n",
       "4  20150105 2015-01-05  Monday               1             5               5   \n",
       "\n",
       "   day_of_year  week_of_month  week_of_year  month_actual month_name  \\\n",
       "0          1.0              1           1.0           1.0  January     \n",
       "1          2.0              1           1.0           1.0  January     \n",
       "2          3.0              1           1.0           1.0  January     \n",
       "3          4.0              1           1.0           1.0  January     \n",
       "4          5.0              1           2.0           1.0  January     \n",
       "\n",
       "  month_name_abbreviated  quarter    year  isWeekend  \n",
       "0                    Jan      1.0  2015.0      False  \n",
       "1                    Jan      1.0  2015.0      False  \n",
       "2                    Jan      1.0  2015.0       True  \n",
       "3                    Jan      1.0  2015.0       True  \n",
       "4                    Jan      1.0  2015.0      False  "
      ],
      "text/html": "<div>\n<style scoped>\n    .dataframe tbody tr th:only-of-type {\n        vertical-align: middle;\n    }\n\n    .dataframe tbody tr th {\n        vertical-align: top;\n    }\n\n    .dataframe thead th {\n        text-align: right;\n    }\n</style>\n<table border=\"1\" class=\"dataframe\">\n  <thead>\n    <tr style=\"text-align: right;\">\n      <th></th>\n      <th>date_id</th>\n      <th>date</th>\n      <th>day_name</th>\n      <th>day_of_week</th>\n      <th>day_of_month</th>\n      <th>day_of_quarter</th>\n      <th>day_of_year</th>\n      <th>week_of_month</th>\n      <th>week_of_year</th>\n      <th>month_actual</th>\n      <th>month_name</th>\n      <th>month_name_abbreviated</th>\n      <th>quarter</th>\n      <th>year</th>\n      <th>isWeekend</th>\n    </tr>\n  </thead>\n  <tbody>\n    <tr>\n      <th>0</th>\n      <td>20150101</td>\n      <td>2015-01-01</td>\n      <td>Thursday</td>\n      <td>4</td>\n      <td>1</td>\n      <td>1</td>\n      <td>1.0</td>\n      <td>1</td>\n      <td>1.0</td>\n      <td>1.0</td>\n      <td>January</td>\n      <td>Jan</td>\n      <td>1.0</td>\n      <td>2015.0</td>\n      <td>False</td>\n    </tr>\n    <tr>\n      <th>1</th>\n      <td>20150102</td>\n      <td>2015-01-02</td>\n      <td>Friday</td>\n      <td>5</td>\n      <td>2</td>\n      <td>2</td>\n      <td>2.0</td>\n      <td>1</td>\n      <td>1.0</td>\n      <td>1.0</td>\n      <td>January</td>\n      <td>Jan</td>\n      <td>1.0</td>\n      <td>2015.0</td>\n      <td>False</td>\n    </tr>\n    <tr>\n      <th>2</th>\n      <td>20150103</td>\n      <td>2015-01-03</td>\n      <td>Saturday</td>\n      <td>6</td>\n      <td>3</td>\n      <td>3</td>\n      <td>3.0</td>\n      <td>1</td>\n      <td>1.0</td>\n      <td>1.0</td>\n      <td>January</td>\n      <td>Jan</td>\n      <td>1.0</td>\n      <td>2015.0</td>\n      <td>True</td>\n    </tr>\n    <tr>\n      <th>3</th>\n      <td>20150104</td>\n      <td>2015-01-04</td>\n      <td>Sunday</td>\n      <td>7</td>\n      <td>4</td>\n      <td>4</td>\n      <td>4.0</td>\n      <td>1</td>\n      <td>1.0</td>\n      <td>1.0</td>\n      <td>January</td>\n      <td>Jan</td>\n      <td>1.0</td>\n      <td>2015.0</td>\n      <td>True</td>\n    </tr>\n    <tr>\n      <th>4</th>\n      <td>20150105</td>\n      <td>2015-01-05</td>\n      <td>Monday</td>\n      <td>1</td>\n      <td>5</td>\n      <td>5</td>\n      <td>5.0</td>\n      <td>1</td>\n      <td>2.0</td>\n      <td>1.0</td>\n      <td>January</td>\n      <td>Jan</td>\n      <td>1.0</td>\n      <td>2015.0</td>\n      <td>False</td>\n    </tr>\n  </tbody>\n</table>\n</div>"
     },
     "metadata": {},
     "execution_count": 7
    }
   ],
   "source": [
    "date.head(5)"
   ]
  },
  {
   "cell_type": "code",
   "execution_count": 8,
   "metadata": {},
   "outputs": [
    {
     "output_type": "execute_result",
     "data": {
      "text/plain": [
       "       date_id       date   day_name  day_of_week  day_of_month  \\\n",
       "3646  20241225 2024-12-25  Wednesday            3            25   \n",
       "3647  20241226 2024-12-26  Thursday             4            26   \n",
       "3648  20241227 2024-12-27  Friday               5            27   \n",
       "3649  20241228 2024-12-28  Saturday             6            28   \n",
       "3650  20241229 2024-12-29  Sunday               7            29   \n",
       "\n",
       "      day_of_quarter  day_of_year  week_of_month  week_of_year  month_actual  \\\n",
       "3646              86        360.0              4          52.0          12.0   \n",
       "3647              87        361.0              4          52.0          12.0   \n",
       "3648              88        362.0              4          52.0          12.0   \n",
       "3649              89        363.0              4          52.0          12.0   \n",
       "3650              90        364.0              5          52.0          12.0   \n",
       "\n",
       "     month_name month_name_abbreviated  quarter    year  isWeekend  \n",
       "3646  December                     Dec      4.0  2024.0      False  \n",
       "3647  December                     Dec      4.0  2024.0      False  \n",
       "3648  December                     Dec      4.0  2024.0      False  \n",
       "3649  December                     Dec      4.0  2024.0       True  \n",
       "3650  December                     Dec      4.0  2024.0       True  "
      ],
      "text/html": "<div>\n<style scoped>\n    .dataframe tbody tr th:only-of-type {\n        vertical-align: middle;\n    }\n\n    .dataframe tbody tr th {\n        vertical-align: top;\n    }\n\n    .dataframe thead th {\n        text-align: right;\n    }\n</style>\n<table border=\"1\" class=\"dataframe\">\n  <thead>\n    <tr style=\"text-align: right;\">\n      <th></th>\n      <th>date_id</th>\n      <th>date</th>\n      <th>day_name</th>\n      <th>day_of_week</th>\n      <th>day_of_month</th>\n      <th>day_of_quarter</th>\n      <th>day_of_year</th>\n      <th>week_of_month</th>\n      <th>week_of_year</th>\n      <th>month_actual</th>\n      <th>month_name</th>\n      <th>month_name_abbreviated</th>\n      <th>quarter</th>\n      <th>year</th>\n      <th>isWeekend</th>\n    </tr>\n  </thead>\n  <tbody>\n    <tr>\n      <th>3646</th>\n      <td>20241225</td>\n      <td>2024-12-25</td>\n      <td>Wednesday</td>\n      <td>3</td>\n      <td>25</td>\n      <td>86</td>\n      <td>360.0</td>\n      <td>4</td>\n      <td>52.0</td>\n      <td>12.0</td>\n      <td>December</td>\n      <td>Dec</td>\n      <td>4.0</td>\n      <td>2024.0</td>\n      <td>False</td>\n    </tr>\n    <tr>\n      <th>3647</th>\n      <td>20241226</td>\n      <td>2024-12-26</td>\n      <td>Thursday</td>\n      <td>4</td>\n      <td>26</td>\n      <td>87</td>\n      <td>361.0</td>\n      <td>4</td>\n      <td>52.0</td>\n      <td>12.0</td>\n      <td>December</td>\n      <td>Dec</td>\n      <td>4.0</td>\n      <td>2024.0</td>\n      <td>False</td>\n    </tr>\n    <tr>\n      <th>3648</th>\n      <td>20241227</td>\n      <td>2024-12-27</td>\n      <td>Friday</td>\n      <td>5</td>\n      <td>27</td>\n      <td>88</td>\n      <td>362.0</td>\n      <td>4</td>\n      <td>52.0</td>\n      <td>12.0</td>\n      <td>December</td>\n      <td>Dec</td>\n      <td>4.0</td>\n      <td>2024.0</td>\n      <td>False</td>\n    </tr>\n    <tr>\n      <th>3649</th>\n      <td>20241228</td>\n      <td>2024-12-28</td>\n      <td>Saturday</td>\n      <td>6</td>\n      <td>28</td>\n      <td>89</td>\n      <td>363.0</td>\n      <td>4</td>\n      <td>52.0</td>\n      <td>12.0</td>\n      <td>December</td>\n      <td>Dec</td>\n      <td>4.0</td>\n      <td>2024.0</td>\n      <td>True</td>\n    </tr>\n    <tr>\n      <th>3650</th>\n      <td>20241229</td>\n      <td>2024-12-29</td>\n      <td>Sunday</td>\n      <td>7</td>\n      <td>29</td>\n      <td>90</td>\n      <td>364.0</td>\n      <td>5</td>\n      <td>52.0</td>\n      <td>12.0</td>\n      <td>December</td>\n      <td>Dec</td>\n      <td>4.0</td>\n      <td>2024.0</td>\n      <td>True</td>\n    </tr>\n  </tbody>\n</table>\n</div>"
     },
     "metadata": {},
     "execution_count": 8
    }
   ],
   "source": [
    "date.tail(5)"
   ]
  },
  {
   "source": [
    "## User dimension"
   ],
   "cell_type": "markdown",
   "metadata": {}
  },
  {
   "cell_type": "code",
   "execution_count": 9,
   "metadata": {},
   "outputs": [
    {
     "output_type": "stream",
     "name": "stdout",
     "text": [
      "<class 'pandas.core.frame.DataFrame'>\nRangeIndex: 96096 entries, 0 to 96095\nData columns (total 5 columns):\n #   Column              Non-Null Count  Dtype  \n---  ------              --------------  -----  \n 0   user_id             96096 non-null  int64  \n 1   user_name           96096 non-null  object \n 2   total_order         96096 non-null  float64\n 3   total_spending      96096 non-null  float64\n 4   is_current_version  96096 non-null  bool   \ndtypes: bool(1), float64(2), int64(1), object(1)\nmemory usage: 3.0+ MB\n"
     ]
    }
   ],
   "source": [
    "user = pd.read_sql_table(\"dim_user\", conn, schema=schema)\n",
    "user.info()"
   ]
  },
  {
   "cell_type": "code",
   "execution_count": 10,
   "metadata": {},
   "outputs": [
    {
     "output_type": "stream",
     "name": "stdout",
     "text": [
      "Shape : (96096, 5)\nMissing Data : user_id               0\nuser_name             0\ntotal_order           0\ntotal_spending        0\nis_current_version    0\ndtype: int64\n"
     ]
    }
   ],
   "source": [
    "show_missing_data(user)\n",
    "\n",
    "# Notes : There are a few user (1113 to be exact) that haven't done any transaction in the span of the data being collected"
   ]
  },
  {
   "cell_type": "code",
   "execution_count": 11,
   "metadata": {},
   "outputs": [
    {
     "output_type": "execute_result",
     "data": {
      "text/plain": [
       "   user_id                         user_name  total_order  total_spending  \\\n",
       "0    96097  00053a61a98854899e70ed204dd4bafe          1.0        419180.0   \n",
       "1    96098  0005e1862207bf6ccc02e4228effd9a0          1.0        150120.0   \n",
       "2    96099  00090324bbad0e9342388303bb71ba0a          1.0         63660.0   \n",
       "3    96100  000bfa1d2f1a41876493be685390d6d3          1.0         46850.0   \n",
       "4    96101  000c8bdb58a29e7115cfc257230fb21b          1.0         29000.0   \n",
       "\n",
       "   is_current_version  \n",
       "0                True  \n",
       "1                True  \n",
       "2                True  \n",
       "3                True  \n",
       "4                True  "
      ],
      "text/html": "<div>\n<style scoped>\n    .dataframe tbody tr th:only-of-type {\n        vertical-align: middle;\n    }\n\n    .dataframe tbody tr th {\n        vertical-align: top;\n    }\n\n    .dataframe thead th {\n        text-align: right;\n    }\n</style>\n<table border=\"1\" class=\"dataframe\">\n  <thead>\n    <tr style=\"text-align: right;\">\n      <th></th>\n      <th>user_id</th>\n      <th>user_name</th>\n      <th>total_order</th>\n      <th>total_spending</th>\n      <th>is_current_version</th>\n    </tr>\n  </thead>\n  <tbody>\n    <tr>\n      <th>0</th>\n      <td>96097</td>\n      <td>00053a61a98854899e70ed204dd4bafe</td>\n      <td>1.0</td>\n      <td>419180.0</td>\n      <td>True</td>\n    </tr>\n    <tr>\n      <th>1</th>\n      <td>96098</td>\n      <td>0005e1862207bf6ccc02e4228effd9a0</td>\n      <td>1.0</td>\n      <td>150120.0</td>\n      <td>True</td>\n    </tr>\n    <tr>\n      <th>2</th>\n      <td>96099</td>\n      <td>00090324bbad0e9342388303bb71ba0a</td>\n      <td>1.0</td>\n      <td>63660.0</td>\n      <td>True</td>\n    </tr>\n    <tr>\n      <th>3</th>\n      <td>96100</td>\n      <td>000bfa1d2f1a41876493be685390d6d3</td>\n      <td>1.0</td>\n      <td>46850.0</td>\n      <td>True</td>\n    </tr>\n    <tr>\n      <th>4</th>\n      <td>96101</td>\n      <td>000c8bdb58a29e7115cfc257230fb21b</td>\n      <td>1.0</td>\n      <td>29000.0</td>\n      <td>True</td>\n    </tr>\n  </tbody>\n</table>\n</div>"
     },
     "metadata": {},
     "execution_count": 11
    }
   ],
   "source": [
    "user.head()"
   ]
  },
  {
   "cell_type": "code",
   "execution_count": 12,
   "metadata": {},
   "outputs": [
    {
     "output_type": "execute_result",
     "data": {
      "text/plain": [
       "       user_id                         user_name  total_order  total_spending  \\\n",
       "96091   192188  1b32669eb9662ee904419de883e59a58          1.0             0.0   \n",
       "96092   192189  5942dde582a33e31ea4471bc5363b0f3          1.0             0.0   \n",
       "96093   192190  daba2e7a00c149161c68cbb18db656a9          1.0             0.0   \n",
       "96094   192191  7d373e92dd3086b4c37e9868fc8999c1          1.0             0.0   \n",
       "96095   192192  c1653f4d5fcfb808bee93bb3e1aa4744          1.0             0.0   \n",
       "\n",
       "       is_current_version  \n",
       "96091                True  \n",
       "96092                True  \n",
       "96093                True  \n",
       "96094                True  \n",
       "96095                True  "
      ],
      "text/html": "<div>\n<style scoped>\n    .dataframe tbody tr th:only-of-type {\n        vertical-align: middle;\n    }\n\n    .dataframe tbody tr th {\n        vertical-align: top;\n    }\n\n    .dataframe thead th {\n        text-align: right;\n    }\n</style>\n<table border=\"1\" class=\"dataframe\">\n  <thead>\n    <tr style=\"text-align: right;\">\n      <th></th>\n      <th>user_id</th>\n      <th>user_name</th>\n      <th>total_order</th>\n      <th>total_spending</th>\n      <th>is_current_version</th>\n    </tr>\n  </thead>\n  <tbody>\n    <tr>\n      <th>96091</th>\n      <td>192188</td>\n      <td>1b32669eb9662ee904419de883e59a58</td>\n      <td>1.0</td>\n      <td>0.0</td>\n      <td>True</td>\n    </tr>\n    <tr>\n      <th>96092</th>\n      <td>192189</td>\n      <td>5942dde582a33e31ea4471bc5363b0f3</td>\n      <td>1.0</td>\n      <td>0.0</td>\n      <td>True</td>\n    </tr>\n    <tr>\n      <th>96093</th>\n      <td>192190</td>\n      <td>daba2e7a00c149161c68cbb18db656a9</td>\n      <td>1.0</td>\n      <td>0.0</td>\n      <td>True</td>\n    </tr>\n    <tr>\n      <th>96094</th>\n      <td>192191</td>\n      <td>7d373e92dd3086b4c37e9868fc8999c1</td>\n      <td>1.0</td>\n      <td>0.0</td>\n      <td>True</td>\n    </tr>\n    <tr>\n      <th>96095</th>\n      <td>192192</td>\n      <td>c1653f4d5fcfb808bee93bb3e1aa4744</td>\n      <td>1.0</td>\n      <td>0.0</td>\n      <td>True</td>\n    </tr>\n  </tbody>\n</table>\n</div>"
     },
     "metadata": {},
     "execution_count": 12
    }
   ],
   "source": [
    "user.tail()"
   ]
  },
  {
   "source": [
    "## Product dimension"
   ],
   "cell_type": "markdown",
   "metadata": {}
  },
  {
   "cell_type": "code",
   "execution_count": 13,
   "metadata": {},
   "outputs": [
    {
     "output_type": "stream",
     "name": "stdout",
     "text": [
      "<class 'pandas.core.frame.DataFrame'>\nRangeIndex: 32951 entries, 0 to 32950\nData columns (total 11 columns):\n #   Column                      Non-Null Count  Dtype  \n---  ------                      --------------  -----  \n 0   product_id_surr             32951 non-null  int64  \n 1   product_id                  32951 non-null  object \n 2   product_category            32328 non-null  object \n 3   product_name_length         32341 non-null  float64\n 4   product_description_length  32341 non-null  float64\n 5   product_photos_qty          32341 non-null  float64\n 6   product_length_cm           32949 non-null  float64\n 7   product_weight_g            32949 non-null  float64\n 8   product_height_cm           32949 non-null  float64\n 9   product_width_cm            32949 non-null  float64\n 10  is_current_version          32951 non-null  bool   \ndtypes: bool(1), float64(7), int64(1), object(2)\nmemory usage: 2.5+ MB\n"
     ]
    }
   ],
   "source": [
    "product = pd.read_sql_table(\"dim_product\", conn, schema=schema)\n",
    "product.info()"
   ]
  },
  {
   "cell_type": "code",
   "execution_count": 14,
   "metadata": {},
   "outputs": [
    {
     "output_type": "stream",
     "name": "stdout",
     "text": [
      "Shape : (32951, 11)\nMissing Data : product_id_surr                 0\nproduct_id                      0\nproduct_category              623\nproduct_name_length           610\nproduct_description_length    610\nproduct_photos_qty            610\nproduct_length_cm               2\nproduct_weight_g                2\nproduct_height_cm               2\nproduct_width_cm                2\nis_current_version              0\ndtype: int64\n"
     ]
    }
   ],
   "source": [
    "# There are some missing values from the data\n",
    "show_missing_data(product)"
   ]
  },
  {
   "cell_type": "code",
   "execution_count": 15,
   "metadata": {},
   "outputs": [
    {
     "output_type": "execute_result",
     "data": {
      "text/plain": [
       "       product_id_surr                        product_id product_category  \\\n",
       "105              33057  a41e356c76fab66334f36de622ecbd3a             None   \n",
       "128              33080  d8dee61c2034d6d075997acef1870e9b             None   \n",
       "145              33097  56139431d72cd51f19eb9f7dae4d1617             None   \n",
       "154              33106  46b48281eb6d663ced748f324108c733             None   \n",
       "197              33149  5fb61f482620cb672f5e586bb132eae9             None   \n",
       "...                ...                               ...              ...   \n",
       "32515            65467  b0a0c5dd78e644373b199380612c350a             None   \n",
       "32589            65541  10dbe0fbaa2c505123c17fdc34a63c56             None   \n",
       "32616            65568  bd2ada37b58ae94cc838b9c0569fecd8             None   \n",
       "32772            65724  fa51e914046aab32764c41356b9d4ea4             None   \n",
       "32852            65804  c4ceee876c82b8328e9c293fa0e1989b             None   \n",
       "\n",
       "       product_name_length  product_description_length  product_photos_qty  \\\n",
       "105                    NaN                         NaN                 NaN   \n",
       "128                    NaN                         NaN                 NaN   \n",
       "145                    NaN                         NaN                 NaN   \n",
       "154                    NaN                         NaN                 NaN   \n",
       "197                    NaN                         NaN                 NaN   \n",
       "...                    ...                         ...                 ...   \n",
       "32515                  NaN                         NaN                 NaN   \n",
       "32589                  NaN                         NaN                 NaN   \n",
       "32616                  NaN                         NaN                 NaN   \n",
       "32772                  NaN                         NaN                 NaN   \n",
       "32852                  NaN                         NaN                 NaN   \n",
       "\n",
       "       product_length_cm  product_weight_g  product_height_cm  \\\n",
       "105                 17.0             650.0               14.0   \n",
       "128                 16.0             300.0                7.0   \n",
       "145                 20.0             200.0               20.0   \n",
       "154                 41.0           18500.0               30.0   \n",
       "197                 35.0             300.0                7.0   \n",
       "...                  ...               ...                ...   \n",
       "32515               30.0            1800.0               20.0   \n",
       "32589               30.0             800.0               10.0   \n",
       "32616               21.0             200.0                8.0   \n",
       "32772               45.0            1300.0               16.0   \n",
       "32852               28.0             700.0                3.0   \n",
       "\n",
       "       product_width_cm  is_current_version  \n",
       "105                12.0                True  \n",
       "128                20.0                True  \n",
       "145                20.0                True  \n",
       "154                41.0                True  \n",
       "197                12.0                True  \n",
       "...                 ...                 ...  \n",
       "32515              70.0                True  \n",
       "32589              23.0                True  \n",
       "32616              16.0                True  \n",
       "32772              45.0                True  \n",
       "32852              43.0                True  \n",
       "\n",
       "[610 rows x 11 columns]"
      ],
      "text/html": "<div>\n<style scoped>\n    .dataframe tbody tr th:only-of-type {\n        vertical-align: middle;\n    }\n\n    .dataframe tbody tr th {\n        vertical-align: top;\n    }\n\n    .dataframe thead th {\n        text-align: right;\n    }\n</style>\n<table border=\"1\" class=\"dataframe\">\n  <thead>\n    <tr style=\"text-align: right;\">\n      <th></th>\n      <th>product_id_surr</th>\n      <th>product_id</th>\n      <th>product_category</th>\n      <th>product_name_length</th>\n      <th>product_description_length</th>\n      <th>product_photos_qty</th>\n      <th>product_length_cm</th>\n      <th>product_weight_g</th>\n      <th>product_height_cm</th>\n      <th>product_width_cm</th>\n      <th>is_current_version</th>\n    </tr>\n  </thead>\n  <tbody>\n    <tr>\n      <th>105</th>\n      <td>33057</td>\n      <td>a41e356c76fab66334f36de622ecbd3a</td>\n      <td>None</td>\n      <td>NaN</td>\n      <td>NaN</td>\n      <td>NaN</td>\n      <td>17.0</td>\n      <td>650.0</td>\n      <td>14.0</td>\n      <td>12.0</td>\n      <td>True</td>\n    </tr>\n    <tr>\n      <th>128</th>\n      <td>33080</td>\n      <td>d8dee61c2034d6d075997acef1870e9b</td>\n      <td>None</td>\n      <td>NaN</td>\n      <td>NaN</td>\n      <td>NaN</td>\n      <td>16.0</td>\n      <td>300.0</td>\n      <td>7.0</td>\n      <td>20.0</td>\n      <td>True</td>\n    </tr>\n    <tr>\n      <th>145</th>\n      <td>33097</td>\n      <td>56139431d72cd51f19eb9f7dae4d1617</td>\n      <td>None</td>\n      <td>NaN</td>\n      <td>NaN</td>\n      <td>NaN</td>\n      <td>20.0</td>\n      <td>200.0</td>\n      <td>20.0</td>\n      <td>20.0</td>\n      <td>True</td>\n    </tr>\n    <tr>\n      <th>154</th>\n      <td>33106</td>\n      <td>46b48281eb6d663ced748f324108c733</td>\n      <td>None</td>\n      <td>NaN</td>\n      <td>NaN</td>\n      <td>NaN</td>\n      <td>41.0</td>\n      <td>18500.0</td>\n      <td>30.0</td>\n      <td>41.0</td>\n      <td>True</td>\n    </tr>\n    <tr>\n      <th>197</th>\n      <td>33149</td>\n      <td>5fb61f482620cb672f5e586bb132eae9</td>\n      <td>None</td>\n      <td>NaN</td>\n      <td>NaN</td>\n      <td>NaN</td>\n      <td>35.0</td>\n      <td>300.0</td>\n      <td>7.0</td>\n      <td>12.0</td>\n      <td>True</td>\n    </tr>\n    <tr>\n      <th>...</th>\n      <td>...</td>\n      <td>...</td>\n      <td>...</td>\n      <td>...</td>\n      <td>...</td>\n      <td>...</td>\n      <td>...</td>\n      <td>...</td>\n      <td>...</td>\n      <td>...</td>\n      <td>...</td>\n    </tr>\n    <tr>\n      <th>32515</th>\n      <td>65467</td>\n      <td>b0a0c5dd78e644373b199380612c350a</td>\n      <td>None</td>\n      <td>NaN</td>\n      <td>NaN</td>\n      <td>NaN</td>\n      <td>30.0</td>\n      <td>1800.0</td>\n      <td>20.0</td>\n      <td>70.0</td>\n      <td>True</td>\n    </tr>\n    <tr>\n      <th>32589</th>\n      <td>65541</td>\n      <td>10dbe0fbaa2c505123c17fdc34a63c56</td>\n      <td>None</td>\n      <td>NaN</td>\n      <td>NaN</td>\n      <td>NaN</td>\n      <td>30.0</td>\n      <td>800.0</td>\n      <td>10.0</td>\n      <td>23.0</td>\n      <td>True</td>\n    </tr>\n    <tr>\n      <th>32616</th>\n      <td>65568</td>\n      <td>bd2ada37b58ae94cc838b9c0569fecd8</td>\n      <td>None</td>\n      <td>NaN</td>\n      <td>NaN</td>\n      <td>NaN</td>\n      <td>21.0</td>\n      <td>200.0</td>\n      <td>8.0</td>\n      <td>16.0</td>\n      <td>True</td>\n    </tr>\n    <tr>\n      <th>32772</th>\n      <td>65724</td>\n      <td>fa51e914046aab32764c41356b9d4ea4</td>\n      <td>None</td>\n      <td>NaN</td>\n      <td>NaN</td>\n      <td>NaN</td>\n      <td>45.0</td>\n      <td>1300.0</td>\n      <td>16.0</td>\n      <td>45.0</td>\n      <td>True</td>\n    </tr>\n    <tr>\n      <th>32852</th>\n      <td>65804</td>\n      <td>c4ceee876c82b8328e9c293fa0e1989b</td>\n      <td>None</td>\n      <td>NaN</td>\n      <td>NaN</td>\n      <td>NaN</td>\n      <td>28.0</td>\n      <td>700.0</td>\n      <td>3.0</td>\n      <td>43.0</td>\n      <td>True</td>\n    </tr>\n  </tbody>\n</table>\n<p>610 rows × 11 columns</p>\n</div>"
     },
     "metadata": {},
     "execution_count": 15
    }
   ],
   "source": [
    "# Notes : All data in 3 columns (product_name_length, product_description_length, product_photos_qty) product dimension that were missing are same \n",
    "product.loc[product.product_name_length.isna() & product.product_description_length.isna() & product.product_photos_qty.isna()]"
   ]
  },
  {
   "cell_type": "code",
   "execution_count": 16,
   "metadata": {},
   "outputs": [
    {
     "output_type": "execute_result",
     "data": {
      "text/plain": [
       "       product_id_surr                        product_id product_category  \\\n",
       "8595             41536  09ff539a621711667c43eba6a3bd8466             baby   \n",
       "18857            51806  5eb564652db742ff8f28759cd8d2652a             None   \n",
       "\n",
       "       product_name_length  product_description_length  product_photos_qty  \\\n",
       "8595                  60.0                       865.0                 3.0   \n",
       "18857                  NaN                         NaN                 NaN   \n",
       "\n",
       "       product_length_cm  product_weight_g  product_height_cm  \\\n",
       "8595                 NaN               NaN                NaN   \n",
       "18857                NaN               NaN                NaN   \n",
       "\n",
       "       product_width_cm  is_current_version  \n",
       "8595                NaN                True  \n",
       "18857               NaN                True  "
      ],
      "text/html": "<div>\n<style scoped>\n    .dataframe tbody tr th:only-of-type {\n        vertical-align: middle;\n    }\n\n    .dataframe tbody tr th {\n        vertical-align: top;\n    }\n\n    .dataframe thead th {\n        text-align: right;\n    }\n</style>\n<table border=\"1\" class=\"dataframe\">\n  <thead>\n    <tr style=\"text-align: right;\">\n      <th></th>\n      <th>product_id_surr</th>\n      <th>product_id</th>\n      <th>product_category</th>\n      <th>product_name_length</th>\n      <th>product_description_length</th>\n      <th>product_photos_qty</th>\n      <th>product_length_cm</th>\n      <th>product_weight_g</th>\n      <th>product_height_cm</th>\n      <th>product_width_cm</th>\n      <th>is_current_version</th>\n    </tr>\n  </thead>\n  <tbody>\n    <tr>\n      <th>8595</th>\n      <td>41536</td>\n      <td>09ff539a621711667c43eba6a3bd8466</td>\n      <td>baby</td>\n      <td>60.0</td>\n      <td>865.0</td>\n      <td>3.0</td>\n      <td>NaN</td>\n      <td>NaN</td>\n      <td>NaN</td>\n      <td>NaN</td>\n      <td>True</td>\n    </tr>\n    <tr>\n      <th>18857</th>\n      <td>51806</td>\n      <td>5eb564652db742ff8f28759cd8d2652a</td>\n      <td>None</td>\n      <td>NaN</td>\n      <td>NaN</td>\n      <td>NaN</td>\n      <td>NaN</td>\n      <td>NaN</td>\n      <td>NaN</td>\n      <td>NaN</td>\n      <td>True</td>\n    </tr>\n  </tbody>\n</table>\n</div>"
     },
     "metadata": {},
     "execution_count": 16
    }
   ],
   "source": [
    "# Notes : All data in 3 columns (product_length_cm, product_weight_g, product_width_cm) product dimension that were missing are same \n",
    "product.loc[product.product_length_cm.isna() & product.product_weight_g.isna() & product.product_width_cm.isna()]"
   ]
  },
  {
   "cell_type": "code",
   "execution_count": 17,
   "metadata": {},
   "outputs": [
    {
     "output_type": "execute_result",
     "data": {
      "text/plain": [
       "       product_id_surr                        product_id product_category  \\\n",
       "105              33057  a41e356c76fab66334f36de622ecbd3a             None   \n",
       "128              33080  d8dee61c2034d6d075997acef1870e9b             None   \n",
       "145              33097  56139431d72cd51f19eb9f7dae4d1617             None   \n",
       "154              33106  46b48281eb6d663ced748f324108c733             None   \n",
       "197              33149  5fb61f482620cb672f5e586bb132eae9             None   \n",
       "...                ...                               ...              ...   \n",
       "32515            65467  b0a0c5dd78e644373b199380612c350a             None   \n",
       "32589            65541  10dbe0fbaa2c505123c17fdc34a63c56             None   \n",
       "32616            65568  bd2ada37b58ae94cc838b9c0569fecd8             None   \n",
       "32772            65724  fa51e914046aab32764c41356b9d4ea4             None   \n",
       "32852            65804  c4ceee876c82b8328e9c293fa0e1989b             None   \n",
       "\n",
       "       product_name_length  product_description_length  product_photos_qty  \\\n",
       "105                    NaN                         NaN                 NaN   \n",
       "128                    NaN                         NaN                 NaN   \n",
       "145                    NaN                         NaN                 NaN   \n",
       "154                    NaN                         NaN                 NaN   \n",
       "197                    NaN                         NaN                 NaN   \n",
       "...                    ...                         ...                 ...   \n",
       "32515                  NaN                         NaN                 NaN   \n",
       "32589                  NaN                         NaN                 NaN   \n",
       "32616                  NaN                         NaN                 NaN   \n",
       "32772                  NaN                         NaN                 NaN   \n",
       "32852                  NaN                         NaN                 NaN   \n",
       "\n",
       "       product_length_cm  product_weight_g  product_height_cm  \\\n",
       "105                 17.0             650.0               14.0   \n",
       "128                 16.0             300.0                7.0   \n",
       "145                 20.0             200.0               20.0   \n",
       "154                 41.0           18500.0               30.0   \n",
       "197                 35.0             300.0                7.0   \n",
       "...                  ...               ...                ...   \n",
       "32515               30.0            1800.0               20.0   \n",
       "32589               30.0             800.0               10.0   \n",
       "32616               21.0             200.0                8.0   \n",
       "32772               45.0            1300.0               16.0   \n",
       "32852               28.0             700.0                3.0   \n",
       "\n",
       "       product_width_cm  is_current_version  \n",
       "105                12.0                True  \n",
       "128                20.0                True  \n",
       "145                20.0                True  \n",
       "154                41.0                True  \n",
       "197                12.0                True  \n",
       "...                 ...                 ...  \n",
       "32515              70.0                True  \n",
       "32589              23.0                True  \n",
       "32616              16.0                True  \n",
       "32772              45.0                True  \n",
       "32852              43.0                True  \n",
       "\n",
       "[623 rows x 11 columns]"
      ],
      "text/html": "<div>\n<style scoped>\n    .dataframe tbody tr th:only-of-type {\n        vertical-align: middle;\n    }\n\n    .dataframe tbody tr th {\n        vertical-align: top;\n    }\n\n    .dataframe thead th {\n        text-align: right;\n    }\n</style>\n<table border=\"1\" class=\"dataframe\">\n  <thead>\n    <tr style=\"text-align: right;\">\n      <th></th>\n      <th>product_id_surr</th>\n      <th>product_id</th>\n      <th>product_category</th>\n      <th>product_name_length</th>\n      <th>product_description_length</th>\n      <th>product_photos_qty</th>\n      <th>product_length_cm</th>\n      <th>product_weight_g</th>\n      <th>product_height_cm</th>\n      <th>product_width_cm</th>\n      <th>is_current_version</th>\n    </tr>\n  </thead>\n  <tbody>\n    <tr>\n      <th>105</th>\n      <td>33057</td>\n      <td>a41e356c76fab66334f36de622ecbd3a</td>\n      <td>None</td>\n      <td>NaN</td>\n      <td>NaN</td>\n      <td>NaN</td>\n      <td>17.0</td>\n      <td>650.0</td>\n      <td>14.0</td>\n      <td>12.0</td>\n      <td>True</td>\n    </tr>\n    <tr>\n      <th>128</th>\n      <td>33080</td>\n      <td>d8dee61c2034d6d075997acef1870e9b</td>\n      <td>None</td>\n      <td>NaN</td>\n      <td>NaN</td>\n      <td>NaN</td>\n      <td>16.0</td>\n      <td>300.0</td>\n      <td>7.0</td>\n      <td>20.0</td>\n      <td>True</td>\n    </tr>\n    <tr>\n      <th>145</th>\n      <td>33097</td>\n      <td>56139431d72cd51f19eb9f7dae4d1617</td>\n      <td>None</td>\n      <td>NaN</td>\n      <td>NaN</td>\n      <td>NaN</td>\n      <td>20.0</td>\n      <td>200.0</td>\n      <td>20.0</td>\n      <td>20.0</td>\n      <td>True</td>\n    </tr>\n    <tr>\n      <th>154</th>\n      <td>33106</td>\n      <td>46b48281eb6d663ced748f324108c733</td>\n      <td>None</td>\n      <td>NaN</td>\n      <td>NaN</td>\n      <td>NaN</td>\n      <td>41.0</td>\n      <td>18500.0</td>\n      <td>30.0</td>\n      <td>41.0</td>\n      <td>True</td>\n    </tr>\n    <tr>\n      <th>197</th>\n      <td>33149</td>\n      <td>5fb61f482620cb672f5e586bb132eae9</td>\n      <td>None</td>\n      <td>NaN</td>\n      <td>NaN</td>\n      <td>NaN</td>\n      <td>35.0</td>\n      <td>300.0</td>\n      <td>7.0</td>\n      <td>12.0</td>\n      <td>True</td>\n    </tr>\n    <tr>\n      <th>...</th>\n      <td>...</td>\n      <td>...</td>\n      <td>...</td>\n      <td>...</td>\n      <td>...</td>\n      <td>...</td>\n      <td>...</td>\n      <td>...</td>\n      <td>...</td>\n      <td>...</td>\n      <td>...</td>\n    </tr>\n    <tr>\n      <th>32515</th>\n      <td>65467</td>\n      <td>b0a0c5dd78e644373b199380612c350a</td>\n      <td>None</td>\n      <td>NaN</td>\n      <td>NaN</td>\n      <td>NaN</td>\n      <td>30.0</td>\n      <td>1800.0</td>\n      <td>20.0</td>\n      <td>70.0</td>\n      <td>True</td>\n    </tr>\n    <tr>\n      <th>32589</th>\n      <td>65541</td>\n      <td>10dbe0fbaa2c505123c17fdc34a63c56</td>\n      <td>None</td>\n      <td>NaN</td>\n      <td>NaN</td>\n      <td>NaN</td>\n      <td>30.0</td>\n      <td>800.0</td>\n      <td>10.0</td>\n      <td>23.0</td>\n      <td>True</td>\n    </tr>\n    <tr>\n      <th>32616</th>\n      <td>65568</td>\n      <td>bd2ada37b58ae94cc838b9c0569fecd8</td>\n      <td>None</td>\n      <td>NaN</td>\n      <td>NaN</td>\n      <td>NaN</td>\n      <td>21.0</td>\n      <td>200.0</td>\n      <td>8.0</td>\n      <td>16.0</td>\n      <td>True</td>\n    </tr>\n    <tr>\n      <th>32772</th>\n      <td>65724</td>\n      <td>fa51e914046aab32764c41356b9d4ea4</td>\n      <td>None</td>\n      <td>NaN</td>\n      <td>NaN</td>\n      <td>NaN</td>\n      <td>45.0</td>\n      <td>1300.0</td>\n      <td>16.0</td>\n      <td>45.0</td>\n      <td>True</td>\n    </tr>\n    <tr>\n      <th>32852</th>\n      <td>65804</td>\n      <td>c4ceee876c82b8328e9c293fa0e1989b</td>\n      <td>None</td>\n      <td>NaN</td>\n      <td>NaN</td>\n      <td>NaN</td>\n      <td>28.0</td>\n      <td>700.0</td>\n      <td>3.0</td>\n      <td>43.0</td>\n      <td>True</td>\n    </tr>\n  </tbody>\n</table>\n<p>623 rows × 11 columns</p>\n</div>"
     },
     "metadata": {},
     "execution_count": 17
    }
   ],
   "source": [
    "# Notes : All data with missing category have missing previous detected missing cols -> might create new cols for understanding business problem\n",
    "product.loc[product.product_category.isna() | (product.product_name_length.isna() & product.product_description_length.isna() & product.product_photos_qty.isna())]"
   ]
  },
  {
   "source": [
    "## Seller dimension"
   ],
   "cell_type": "markdown",
   "metadata": {}
  },
  {
   "cell_type": "code",
   "execution_count": 18,
   "metadata": {},
   "outputs": [
    {
     "output_type": "stream",
     "name": "stdout",
     "text": [
      "<class 'pandas.core.frame.DataFrame'>\nRangeIndex: 3095 entries, 0 to 3094\nData columns (total 6 columns):\n #   Column              Non-Null Count  Dtype \n---  ------              --------------  ----- \n 0   seller_id_surr      3095 non-null   int64 \n 1   seller_id           3095 non-null   object\n 2   seller_zip_code     3095 non-null   int64 \n 3   seller_city         3095 non-null   object\n 4   seller_state        3095 non-null   object\n 5   is_current_version  3095 non-null   bool  \ndtypes: bool(1), int64(2), object(3)\nmemory usage: 124.0+ KB\n"
     ]
    }
   ],
   "source": [
    "seller = pd.read_sql_table(\"dim_seller\", conn, schema=schema)\n",
    "seller.info()"
   ]
  },
  {
   "cell_type": "code",
   "execution_count": 19,
   "metadata": {},
   "outputs": [
    {
     "output_type": "stream",
     "name": "stdout",
     "text": [
      "Shape : (3095, 6)\nMissing Data : seller_id_surr        0\nseller_id             0\nseller_zip_code       0\nseller_city           0\nseller_state          0\nis_current_version    0\ndtype: int64\n"
     ]
    }
   ],
   "source": [
    "show_missing_data(seller)"
   ]
  },
  {
   "cell_type": "code",
   "execution_count": 20,
   "metadata": {},
   "outputs": [
    {
     "output_type": "execute_result",
     "data": {
      "text/plain": [
       "   seller_id_surr                         seller_id  seller_zip_code  \\\n",
       "0            3096  3442f8959a84dea7ee197c632cb2df15            13023   \n",
       "1            3097  d1b65fc7debc3361ea86b5f14c68d2e2            13844   \n",
       "2            3098  ce3ad9de960102d0677a81f5d0bb7b2d            20031   \n",
       "3            3099  c0f3eea2e14555b6faeea3dd58c1b1c3             4195   \n",
       "4            3100  51a04a8a6bdcb23deccc82b0b80742cf            12914   \n",
       "\n",
       "           seller_city    seller_state  is_current_version  \n",
       "0   KOTA JAKARTA TIMUR     DKI JAKARTA                True  \n",
       "1  KOTA PADANG PANJANG  SUMATERA BARAT                True  \n",
       "2   KOTA JAKARTA BARAT     DKI JAKARTA                True  \n",
       "3       KOTA TANGERANG          BANTEN                True  \n",
       "4   KABUPATEN LAMONGAN      JAWA TIMUR                True  "
      ],
      "text/html": "<div>\n<style scoped>\n    .dataframe tbody tr th:only-of-type {\n        vertical-align: middle;\n    }\n\n    .dataframe tbody tr th {\n        vertical-align: top;\n    }\n\n    .dataframe thead th {\n        text-align: right;\n    }\n</style>\n<table border=\"1\" class=\"dataframe\">\n  <thead>\n    <tr style=\"text-align: right;\">\n      <th></th>\n      <th>seller_id_surr</th>\n      <th>seller_id</th>\n      <th>seller_zip_code</th>\n      <th>seller_city</th>\n      <th>seller_state</th>\n      <th>is_current_version</th>\n    </tr>\n  </thead>\n  <tbody>\n    <tr>\n      <th>0</th>\n      <td>3096</td>\n      <td>3442f8959a84dea7ee197c632cb2df15</td>\n      <td>13023</td>\n      <td>KOTA JAKARTA TIMUR</td>\n      <td>DKI JAKARTA</td>\n      <td>True</td>\n    </tr>\n    <tr>\n      <th>1</th>\n      <td>3097</td>\n      <td>d1b65fc7debc3361ea86b5f14c68d2e2</td>\n      <td>13844</td>\n      <td>KOTA PADANG PANJANG</td>\n      <td>SUMATERA BARAT</td>\n      <td>True</td>\n    </tr>\n    <tr>\n      <th>2</th>\n      <td>3098</td>\n      <td>ce3ad9de960102d0677a81f5d0bb7b2d</td>\n      <td>20031</td>\n      <td>KOTA JAKARTA BARAT</td>\n      <td>DKI JAKARTA</td>\n      <td>True</td>\n    </tr>\n    <tr>\n      <th>3</th>\n      <td>3099</td>\n      <td>c0f3eea2e14555b6faeea3dd58c1b1c3</td>\n      <td>4195</td>\n      <td>KOTA TANGERANG</td>\n      <td>BANTEN</td>\n      <td>True</td>\n    </tr>\n    <tr>\n      <th>4</th>\n      <td>3100</td>\n      <td>51a04a8a6bdcb23deccc82b0b80742cf</td>\n      <td>12914</td>\n      <td>KABUPATEN LAMONGAN</td>\n      <td>JAWA TIMUR</td>\n      <td>True</td>\n    </tr>\n  </tbody>\n</table>\n</div>"
     },
     "metadata": {},
     "execution_count": 20
    }
   ],
   "source": [
    "# TODO : Add num_product_order & total_revenue in data mart for seller subject -> combine with fct_order_items\n",
    "seller.head(5)"
   ]
  },
  {
   "source": [
    "## Feedback dimension"
   ],
   "cell_type": "markdown",
   "metadata": {}
  },
  {
   "cell_type": "code",
   "execution_count": 21,
   "metadata": {},
   "outputs": [
    {
     "output_type": "stream",
     "name": "stdout",
     "text": [
      "<class 'pandas.core.frame.DataFrame'>\nRangeIndex: 99441 entries, 0 to 99440\nData columns (total 6 columns):\n #   Column                   Non-Null Count  Dtype  \n---  ------                   --------------  -----  \n 0   feedback_id_surr         99441 non-null  int64  \n 1   order_id                 99441 non-null  object \n 2   feedback_avg_score       99441 non-null  float64\n 3   feedback_form_sent_date  99441 non-null  object \n 4   feedback_answer_date     99441 non-null  object \n 5   is_current_version       99441 non-null  bool   \ndtypes: bool(1), float64(1), int64(1), object(3)\nmemory usage: 3.9+ MB\n"
     ]
    }
   ],
   "source": [
    "feedback = pd.read_sql_table(\"dim_feedback\", conn, schema=schema)\n",
    "feedback.info()"
   ]
  },
  {
   "cell_type": "code",
   "execution_count": 22,
   "metadata": {},
   "outputs": [
    {
     "output_type": "stream",
     "name": "stdout",
     "text": [
      "Shape : (99441, 6)\nMissing Data : feedback_id_surr           0\norder_id                   0\nfeedback_avg_score         0\nfeedback_form_sent_date    0\nfeedback_answer_date       0\nis_current_version         0\ndtype: int64\n"
     ]
    }
   ],
   "source": [
    "# Notes : All feedback in the dimension have been measured based on each order (under asumption that an order should have a single feedback, and multiple feedback means multiple sent form for a single order -> aggregated)\n",
    "\n",
    "show_missing_data(feedback)"
   ]
  },
  {
   "cell_type": "code",
   "execution_count": 23,
   "metadata": {},
   "outputs": [
    {
     "output_type": "execute_result",
     "data": {
      "text/plain": [
       "   feedback_id_surr                          order_id  feedback_avg_score  \\\n",
       "0            198883  00010242fe8c5a6d1ba2dd792cb16214                 5.0   \n",
       "1            198884  00018f77f2f0320c557190d7a144bdd3                 4.0   \n",
       "2            198885  000229ec398224ef6ca0657da4fc703e                 5.0   \n",
       "3            198886  00024acbcdf0a6daa1e931b038114c75                 4.0   \n",
       "4            198887  00042b26cf59d7ce69dfabb4e55b4fd9                 5.0   \n",
       "\n",
       "  feedback_form_sent_date feedback_answer_date  is_current_version  \n",
       "0                20170921             20170922                True  \n",
       "1                20170513             20170515                True  \n",
       "2                20180123             20180123                True  \n",
       "3                20180815             20180815                True  \n",
       "4                20170302             20170303                True  "
      ],
      "text/html": "<div>\n<style scoped>\n    .dataframe tbody tr th:only-of-type {\n        vertical-align: middle;\n    }\n\n    .dataframe tbody tr th {\n        vertical-align: top;\n    }\n\n    .dataframe thead th {\n        text-align: right;\n    }\n</style>\n<table border=\"1\" class=\"dataframe\">\n  <thead>\n    <tr style=\"text-align: right;\">\n      <th></th>\n      <th>feedback_id_surr</th>\n      <th>order_id</th>\n      <th>feedback_avg_score</th>\n      <th>feedback_form_sent_date</th>\n      <th>feedback_answer_date</th>\n      <th>is_current_version</th>\n    </tr>\n  </thead>\n  <tbody>\n    <tr>\n      <th>0</th>\n      <td>198883</td>\n      <td>00010242fe8c5a6d1ba2dd792cb16214</td>\n      <td>5.0</td>\n      <td>20170921</td>\n      <td>20170922</td>\n      <td>True</td>\n    </tr>\n    <tr>\n      <th>1</th>\n      <td>198884</td>\n      <td>00018f77f2f0320c557190d7a144bdd3</td>\n      <td>4.0</td>\n      <td>20170513</td>\n      <td>20170515</td>\n      <td>True</td>\n    </tr>\n    <tr>\n      <th>2</th>\n      <td>198885</td>\n      <td>000229ec398224ef6ca0657da4fc703e</td>\n      <td>5.0</td>\n      <td>20180123</td>\n      <td>20180123</td>\n      <td>True</td>\n    </tr>\n    <tr>\n      <th>3</th>\n      <td>198886</td>\n      <td>00024acbcdf0a6daa1e931b038114c75</td>\n      <td>4.0</td>\n      <td>20180815</td>\n      <td>20180815</td>\n      <td>True</td>\n    </tr>\n    <tr>\n      <th>4</th>\n      <td>198887</td>\n      <td>00042b26cf59d7ce69dfabb4e55b4fd9</td>\n      <td>5.0</td>\n      <td>20170302</td>\n      <td>20170303</td>\n      <td>True</td>\n    </tr>\n  </tbody>\n</table>\n</div>"
     },
     "metadata": {},
     "execution_count": 23
    }
   ],
   "source": [
    "feedback.head()"
   ]
  },
  {
   "source": [
    "## Payment Facts\n",
    "---\n",
    "Granularity : Each payment (payment installment / cicilan) that user pay after transaction  "
   ],
   "cell_type": "markdown",
   "metadata": {}
  },
  {
   "cell_type": "code",
   "execution_count": 24,
   "metadata": {},
   "outputs": [
    {
     "output_type": "stream",
     "name": "stdout",
     "text": [
      "<class 'pandas.core.frame.DataFrame'>\nRangeIndex: 103886 entries, 0 to 103885\nData columns (total 7 columns):\n #   Column                Non-Null Count   Dtype  \n---  ------                --------------   -----  \n 0   id                    103886 non-null  int64  \n 1   feedback_id_surr      103886 non-null  int64  \n 2   user_id               103886 non-null  int64  \n 3   payment_sequential    103886 non-null  int64  \n 4   payment_type          103886 non-null  object \n 5   payment_installments  103886 non-null  int64  \n 6   payment_value         103886 non-null  float64\ndtypes: float64(1), int64(5), object(1)\nmemory usage: 5.5+ MB\n"
     ]
    }
   ],
   "source": [
    "fct_payment = pd.read_sql_table(\"fct_payment\", conn, schema=schema)\n",
    "fct_payment.info()"
   ]
  },
  {
   "cell_type": "code",
   "execution_count": 25,
   "metadata": {},
   "outputs": [
    {
     "output_type": "stream",
     "name": "stdout",
     "text": [
      "Shape : (103886, 7)\nMissing Data : id                      0\nfeedback_id_surr        0\nuser_id                 0\npayment_sequential      0\npayment_type            0\npayment_installments    0\npayment_value           0\ndtype: int64\n"
     ]
    }
   ],
   "source": [
    "show_missing_data(fct_payment)"
   ]
  },
  {
   "source": [
    "### Check Reference"
   ],
   "cell_type": "markdown",
   "metadata": {}
  },
  {
   "cell_type": "code",
   "execution_count": 26,
   "metadata": {},
   "outputs": [
    {
     "output_type": "stream",
     "name": "stdout",
     "text": [
      "<class 'pandas.core.frame.DataFrame'>\nInt64Index: 103886 entries, 0 to 103885\nData columns (total 12 columns):\n #   Column                   Non-Null Count   Dtype  \n---  ------                   --------------   -----  \n 0   id                       103886 non-null  int64  \n 1   feedback_id_surr         103886 non-null  int64  \n 2   user_id                  103886 non-null  int64  \n 3   payment_sequential       103886 non-null  int64  \n 4   payment_type             103886 non-null  object \n 5   payment_installments     103886 non-null  int64  \n 6   payment_value            103886 non-null  float64\n 7   order_id                 103886 non-null  object \n 8   feedback_avg_score       103886 non-null  float64\n 9   feedback_form_sent_date  103886 non-null  object \n 10  feedback_answer_date     103886 non-null  object \n 11  is_current_version       103886 non-null  bool   \ndtypes: bool(1), float64(2), int64(5), object(4)\nmemory usage: 9.6+ MB\n"
     ]
    }
   ],
   "source": [
    "# Check connection to the feedback table\n",
    "merged = pd.merge(fct_payment, feedback, how=\"inner\", on=\"feedback_id_surr\")\n",
    "merged.info()\n"
   ]
  },
  {
   "cell_type": "code",
   "execution_count": 27,
   "metadata": {},
   "outputs": [
    {
     "output_type": "stream",
     "name": "stdout",
     "text": [
      "Shape : (103886, 12)\nMissing Data : id                         0\nfeedback_id_surr           0\nuser_id                    0\npayment_sequential         0\npayment_type               0\npayment_installments       0\npayment_value              0\norder_id                   0\nfeedback_avg_score         0\nfeedback_form_sent_date    0\nfeedback_answer_date       0\nis_current_version         0\ndtype: int64\n"
     ]
    }
   ],
   "source": [
    "show_missing_data(merged)"
   ]
  },
  {
   "cell_type": "code",
   "execution_count": 28,
   "metadata": {},
   "outputs": [
    {
     "output_type": "stream",
     "name": "stdout",
     "text": [
      "<class 'pandas.core.frame.DataFrame'>\nInt64Index: 103886 entries, 0 to 103885\nData columns (total 16 columns):\n #   Column                   Non-Null Count   Dtype  \n---  ------                   --------------   -----  \n 0   id                       103886 non-null  int64  \n 1   feedback_id_surr         103886 non-null  int64  \n 2   user_id                  103886 non-null  int64  \n 3   payment_sequential       103886 non-null  int64  \n 4   payment_type             103886 non-null  object \n 5   payment_installments     103886 non-null  int64  \n 6   payment_value            103886 non-null  float64\n 7   order_id                 103886 non-null  object \n 8   feedback_avg_score       103886 non-null  float64\n 9   feedback_form_sent_date  103886 non-null  object \n 10  feedback_answer_date     103886 non-null  object \n 11  is_current_version_x     103886 non-null  bool   \n 12  user_name                103886 non-null  object \n 13  total_order              103886 non-null  float64\n 14  total_spending           103886 non-null  float64\n 15  is_current_version_y     103886 non-null  bool   \ndtypes: bool(2), float64(4), int64(5), object(5)\nmemory usage: 12.1+ MB\n"
     ]
    }
   ],
   "source": [
    "merged = pd.merge(merged, user, how=\"inner\", on=\"user_id\")\n",
    "merged.info()"
   ]
  },
  {
   "cell_type": "code",
   "execution_count": 29,
   "metadata": {},
   "outputs": [
    {
     "output_type": "stream",
     "name": "stdout",
     "text": [
      "Shape : (103886, 16)\n",
      "Missing Data : id                         0\n",
      "feedback_id_surr           0\n",
      "user_id                    0\n",
      "payment_sequential         0\n",
      "payment_type               0\n",
      "payment_installments       0\n",
      "payment_value              0\n",
      "order_id                   0\n",
      "feedback_avg_score         0\n",
      "feedback_form_sent_date    0\n",
      "feedback_answer_date       0\n",
      "is_current_version_x       0\n",
      "user_name                  0\n",
      "total_order                0\n",
      "total_spending             0\n",
      "is_current_version_y       0\n",
      "dtype: int64\n"
     ]
    }
   ],
   "source": [
    "show_missing_data(merged)\n",
    "# missing total_spending due to the problem "
   ]
  },
  {
   "source": [
    "## Order items (Transaction) Facts"
   ],
   "cell_type": "markdown",
   "metadata": {}
  },
  {
   "cell_type": "code",
   "execution_count": 31,
   "metadata": {},
   "outputs": [
    {
     "output_type": "stream",
     "name": "stdout",
     "text": [
      "<class 'pandas.core.frame.DataFrame'>\nRangeIndex: 112650 entries, 0 to 112649\nData columns (total 16 columns):\n #   Column                   Non-Null Count   Dtype  \n---  ------                   --------------   -----  \n 0   id                       112650 non-null  int64  \n 1   user_id                  112650 non-null  int64  \n 2   product_id_surr          112650 non-null  int64  \n 3   seller_id_surr           112650 non-null  int64  \n 4   feedback_id_surr         112650 non-null  int64  \n 5   order_date               112650 non-null  object \n 6   order_approved_date      112635 non-null  object \n 7   pickup_date              111456 non-null  object \n 8   delivered_date           110196 non-null  object \n 9   estimated_time_delivery  112650 non-null  object \n 10  pickup_limit_date        112650 non-null  object \n 11  order_id                 112650 non-null  object \n 12  item_number              112650 non-null  int64  \n 13  order_item_status        112650 non-null  object \n 14  price                    112650 non-null  float64\n 15  shipping_cost            112650 non-null  float64\ndtypes: float64(2), int64(6), object(8)\nmemory usage: 13.8+ MB\n"
     ]
    }
   ],
   "source": [
    "fct_order_item = pd.read_sql_table(\"fct_order_items\", conn, schema=schema)\n",
    "fct_order_item.info()"
   ]
  },
  {
   "cell_type": "code",
   "execution_count": 33,
   "metadata": {},
   "outputs": [
    {
     "output_type": "stream",
     "name": "stdout",
     "text": [
      "Shape : (112650, 16)\nMissing Data : id                            0\nuser_id                       0\nproduct_id_surr               0\nseller_id_surr                0\nfeedback_id_surr              0\norder_date                    0\norder_approved_date          15\npickup_date                1194\ndelivered_date             2454\nestimated_time_delivery       0\npickup_limit_date             0\norder_id                      0\nitem_number                   0\norder_item_status             0\nprice                         0\nshipping_cost                 0\ndtype: int64\n"
     ]
    }
   ],
   "source": [
    "show_missing_data(fct_order_item)"
   ]
  },
  {
   "cell_type": "code",
   "execution_count": 34,
   "metadata": {},
   "outputs": [
    {
     "output_type": "execute_result",
     "data": {
      "text/plain": [
       "            id  user_id  product_id_surr  seller_id_surr  feedback_id_surr  \\\n",
       "4806      4807   119072            39191            5303            215699   \n",
       "6670      6671   161961            41737            3434            222195   \n",
       "9079      9080   179536            64367            5203            230743   \n",
       "30223    30224   162697            39191            5303            206163   \n",
       "61406    61407   104507            49790            3295            216998   \n",
       "68583    68584   187965            48207            5203            242408   \n",
       "71458    71459   157567            48310            5094            252534   \n",
       "77618    77619   178641            45567            5408            274157   \n",
       "79951    79952   124346            51208            5203            282356   \n",
       "81006    81007   181115            53718            3179            286138   \n",
       "94835    94836   155833            39191            5303            234898   \n",
       "96996    96997   141050            47124            4627            242431   \n",
       "99610    99611   185673            39472            5891            251540   \n",
       "99611    99612   185673            39472            5891            251540   \n",
       "108336  108337   186473            56395            5790            282685   \n",
       "\n",
       "       order_date order_approved_date pickup_date delivered_date  \\\n",
       "4806     20170218                None    20170222       20170303   \n",
       "6670     20170217                None    20170222       20170303   \n",
       "9079     20170218                None    20170223       20170307   \n",
       "30223    20170217                None    20170222       20170302   \n",
       "61406    20170217                None    20170222       20170303   \n",
       "68583    20170119                None    20170127       20170206   \n",
       "71458    20170218                None    20170223       20170302   \n",
       "77618    20170119                None    20170125       20170130   \n",
       "79951    20170219                None    20170223       20170302   \n",
       "81006    20170218                None    20170223       20170301   \n",
       "94835    20170218                None    20170222       20170309   \n",
       "96996    20170218                None    20170222       20170301   \n",
       "99610    20170218                None    20170222       20170302   \n",
       "99611    20170218                None    20170222       20170302   \n",
       "108336   20170218                None    20170223       20170302   \n",
       "\n",
       "       estimated_time_delivery pickup_limit_date  \\\n",
       "4806                  20170331          20170222   \n",
       "6670                  20170323          20170222   \n",
       "9079                  20170329          20170228   \n",
       "30223                 20170320          20170221   \n",
       "61406                 20170320          20170221   \n",
       "68583                 20170316          20170129   \n",
       "71458                 20170321          20170222   \n",
       "77618                 20170301          20170123   \n",
       "79951                 20170327          20170226   \n",
       "81006                 20170317          20170222   \n",
       "94835                 20170331          20170222   \n",
       "96996                 20170317          20170222   \n",
       "99610                 20170321          20170222   \n",
       "99611                 20170321          20170222   \n",
       "108336                20170322          20170225   \n",
       "\n",
       "                                order_id  item_number order_item_status  \\\n",
       "4806    2babbb4b15e6d2dfe95e2de765c97bce            1         delivered   \n",
       "6670    3c0b8706b065f9919d0505d3b3343881            1         delivered   \n",
       "9079    51eb2eebd5d76a24625b31c33dd41449            1         delivered   \n",
       "30223   12a95a3c06dbaec84bcfb0e2da5d228a            1         delivered   \n",
       "61406   2eecb0d85f281280f79fa00f9cec1a95            1         delivered   \n",
       "68583   7002a78c79c519ac54022d4f8a65e6e8            1         delivered   \n",
       "71458   8a9adc69528e1001fc68dd0aaebbb54a            1         delivered   \n",
       "77618   c1d4211b3dae76144deccd6c74144a88            1         delivered   \n",
       "79951   d69e5d356402adc8cf17e08b5033acfb            1         delivered   \n",
       "81006   e04abd8149ef81b95221e88f6ed9ab6a            1         delivered   \n",
       "94835   5cf925b116421afa85ee25e99b4c34fb            1         delivered   \n",
       "96996   7013bcfc1c97fe719a7b5e05e61c12db            1         delivered   \n",
       "99610   88083e8f64d95b932164187484d90212            1         delivered   \n",
       "99611   88083e8f64d95b932164187484d90212            2         delivered   \n",
       "108336  d77031d6a3c8a52f019764e68f211c69            1         delivered   \n",
       "\n",
       "           price  shipping_cost  \n",
       "4806     79990.0        26820.0  \n",
       "6670    133990.0        23200.0  \n",
       "9079     59900.0        17160.0  \n",
       "30223    79990.0        15770.0  \n",
       "61406   135000.0        19230.0  \n",
       "68583    45900.0        14520.0  \n",
       "71458   379000.0        17860.0  \n",
       "77618    39990.0        14520.0  \n",
       "79951   149800.0        13630.0  \n",
       "81006   309900.0        39110.0  \n",
       "94835    79990.0        26820.0  \n",
       "96996    49990.0        15530.0  \n",
       "99610    49000.0        14520.0  \n",
       "99611    49000.0        14520.0  \n",
       "108336   28990.0        10960.0  "
      ],
      "text/html": "<div>\n<style scoped>\n    .dataframe tbody tr th:only-of-type {\n        vertical-align: middle;\n    }\n\n    .dataframe tbody tr th {\n        vertical-align: top;\n    }\n\n    .dataframe thead th {\n        text-align: right;\n    }\n</style>\n<table border=\"1\" class=\"dataframe\">\n  <thead>\n    <tr style=\"text-align: right;\">\n      <th></th>\n      <th>id</th>\n      <th>user_id</th>\n      <th>product_id_surr</th>\n      <th>seller_id_surr</th>\n      <th>feedback_id_surr</th>\n      <th>order_date</th>\n      <th>order_approved_date</th>\n      <th>pickup_date</th>\n      <th>delivered_date</th>\n      <th>estimated_time_delivery</th>\n      <th>pickup_limit_date</th>\n      <th>order_id</th>\n      <th>item_number</th>\n      <th>order_item_status</th>\n      <th>price</th>\n      <th>shipping_cost</th>\n    </tr>\n  </thead>\n  <tbody>\n    <tr>\n      <th>4806</th>\n      <td>4807</td>\n      <td>119072</td>\n      <td>39191</td>\n      <td>5303</td>\n      <td>215699</td>\n      <td>20170218</td>\n      <td>None</td>\n      <td>20170222</td>\n      <td>20170303</td>\n      <td>20170331</td>\n      <td>20170222</td>\n      <td>2babbb4b15e6d2dfe95e2de765c97bce</td>\n      <td>1</td>\n      <td>delivered</td>\n      <td>79990.0</td>\n      <td>26820.0</td>\n    </tr>\n    <tr>\n      <th>6670</th>\n      <td>6671</td>\n      <td>161961</td>\n      <td>41737</td>\n      <td>3434</td>\n      <td>222195</td>\n      <td>20170217</td>\n      <td>None</td>\n      <td>20170222</td>\n      <td>20170303</td>\n      <td>20170323</td>\n      <td>20170222</td>\n      <td>3c0b8706b065f9919d0505d3b3343881</td>\n      <td>1</td>\n      <td>delivered</td>\n      <td>133990.0</td>\n      <td>23200.0</td>\n    </tr>\n    <tr>\n      <th>9079</th>\n      <td>9080</td>\n      <td>179536</td>\n      <td>64367</td>\n      <td>5203</td>\n      <td>230743</td>\n      <td>20170218</td>\n      <td>None</td>\n      <td>20170223</td>\n      <td>20170307</td>\n      <td>20170329</td>\n      <td>20170228</td>\n      <td>51eb2eebd5d76a24625b31c33dd41449</td>\n      <td>1</td>\n      <td>delivered</td>\n      <td>59900.0</td>\n      <td>17160.0</td>\n    </tr>\n    <tr>\n      <th>30223</th>\n      <td>30224</td>\n      <td>162697</td>\n      <td>39191</td>\n      <td>5303</td>\n      <td>206163</td>\n      <td>20170217</td>\n      <td>None</td>\n      <td>20170222</td>\n      <td>20170302</td>\n      <td>20170320</td>\n      <td>20170221</td>\n      <td>12a95a3c06dbaec84bcfb0e2da5d228a</td>\n      <td>1</td>\n      <td>delivered</td>\n      <td>79990.0</td>\n      <td>15770.0</td>\n    </tr>\n    <tr>\n      <th>61406</th>\n      <td>61407</td>\n      <td>104507</td>\n      <td>49790</td>\n      <td>3295</td>\n      <td>216998</td>\n      <td>20170217</td>\n      <td>None</td>\n      <td>20170222</td>\n      <td>20170303</td>\n      <td>20170320</td>\n      <td>20170221</td>\n      <td>2eecb0d85f281280f79fa00f9cec1a95</td>\n      <td>1</td>\n      <td>delivered</td>\n      <td>135000.0</td>\n      <td>19230.0</td>\n    </tr>\n    <tr>\n      <th>68583</th>\n      <td>68584</td>\n      <td>187965</td>\n      <td>48207</td>\n      <td>5203</td>\n      <td>242408</td>\n      <td>20170119</td>\n      <td>None</td>\n      <td>20170127</td>\n      <td>20170206</td>\n      <td>20170316</td>\n      <td>20170129</td>\n      <td>7002a78c79c519ac54022d4f8a65e6e8</td>\n      <td>1</td>\n      <td>delivered</td>\n      <td>45900.0</td>\n      <td>14520.0</td>\n    </tr>\n    <tr>\n      <th>71458</th>\n      <td>71459</td>\n      <td>157567</td>\n      <td>48310</td>\n      <td>5094</td>\n      <td>252534</td>\n      <td>20170218</td>\n      <td>None</td>\n      <td>20170223</td>\n      <td>20170302</td>\n      <td>20170321</td>\n      <td>20170222</td>\n      <td>8a9adc69528e1001fc68dd0aaebbb54a</td>\n      <td>1</td>\n      <td>delivered</td>\n      <td>379000.0</td>\n      <td>17860.0</td>\n    </tr>\n    <tr>\n      <th>77618</th>\n      <td>77619</td>\n      <td>178641</td>\n      <td>45567</td>\n      <td>5408</td>\n      <td>274157</td>\n      <td>20170119</td>\n      <td>None</td>\n      <td>20170125</td>\n      <td>20170130</td>\n      <td>20170301</td>\n      <td>20170123</td>\n      <td>c1d4211b3dae76144deccd6c74144a88</td>\n      <td>1</td>\n      <td>delivered</td>\n      <td>39990.0</td>\n      <td>14520.0</td>\n    </tr>\n    <tr>\n      <th>79951</th>\n      <td>79952</td>\n      <td>124346</td>\n      <td>51208</td>\n      <td>5203</td>\n      <td>282356</td>\n      <td>20170219</td>\n      <td>None</td>\n      <td>20170223</td>\n      <td>20170302</td>\n      <td>20170327</td>\n      <td>20170226</td>\n      <td>d69e5d356402adc8cf17e08b5033acfb</td>\n      <td>1</td>\n      <td>delivered</td>\n      <td>149800.0</td>\n      <td>13630.0</td>\n    </tr>\n    <tr>\n      <th>81006</th>\n      <td>81007</td>\n      <td>181115</td>\n      <td>53718</td>\n      <td>3179</td>\n      <td>286138</td>\n      <td>20170218</td>\n      <td>None</td>\n      <td>20170223</td>\n      <td>20170301</td>\n      <td>20170317</td>\n      <td>20170222</td>\n      <td>e04abd8149ef81b95221e88f6ed9ab6a</td>\n      <td>1</td>\n      <td>delivered</td>\n      <td>309900.0</td>\n      <td>39110.0</td>\n    </tr>\n    <tr>\n      <th>94835</th>\n      <td>94836</td>\n      <td>155833</td>\n      <td>39191</td>\n      <td>5303</td>\n      <td>234898</td>\n      <td>20170218</td>\n      <td>None</td>\n      <td>20170222</td>\n      <td>20170309</td>\n      <td>20170331</td>\n      <td>20170222</td>\n      <td>5cf925b116421afa85ee25e99b4c34fb</td>\n      <td>1</td>\n      <td>delivered</td>\n      <td>79990.0</td>\n      <td>26820.0</td>\n    </tr>\n    <tr>\n      <th>96996</th>\n      <td>96997</td>\n      <td>141050</td>\n      <td>47124</td>\n      <td>4627</td>\n      <td>242431</td>\n      <td>20170218</td>\n      <td>None</td>\n      <td>20170222</td>\n      <td>20170301</td>\n      <td>20170317</td>\n      <td>20170222</td>\n      <td>7013bcfc1c97fe719a7b5e05e61c12db</td>\n      <td>1</td>\n      <td>delivered</td>\n      <td>49990.0</td>\n      <td>15530.0</td>\n    </tr>\n    <tr>\n      <th>99610</th>\n      <td>99611</td>\n      <td>185673</td>\n      <td>39472</td>\n      <td>5891</td>\n      <td>251540</td>\n      <td>20170218</td>\n      <td>None</td>\n      <td>20170222</td>\n      <td>20170302</td>\n      <td>20170321</td>\n      <td>20170222</td>\n      <td>88083e8f64d95b932164187484d90212</td>\n      <td>1</td>\n      <td>delivered</td>\n      <td>49000.0</td>\n      <td>14520.0</td>\n    </tr>\n    <tr>\n      <th>99611</th>\n      <td>99612</td>\n      <td>185673</td>\n      <td>39472</td>\n      <td>5891</td>\n      <td>251540</td>\n      <td>20170218</td>\n      <td>None</td>\n      <td>20170222</td>\n      <td>20170302</td>\n      <td>20170321</td>\n      <td>20170222</td>\n      <td>88083e8f64d95b932164187484d90212</td>\n      <td>2</td>\n      <td>delivered</td>\n      <td>49000.0</td>\n      <td>14520.0</td>\n    </tr>\n    <tr>\n      <th>108336</th>\n      <td>108337</td>\n      <td>186473</td>\n      <td>56395</td>\n      <td>5790</td>\n      <td>282685</td>\n      <td>20170218</td>\n      <td>None</td>\n      <td>20170223</td>\n      <td>20170302</td>\n      <td>20170322</td>\n      <td>20170225</td>\n      <td>d77031d6a3c8a52f019764e68f211c69</td>\n      <td>1</td>\n      <td>delivered</td>\n      <td>28990.0</td>\n      <td>10960.0</td>\n    </tr>\n  </tbody>\n</table>\n</div>"
     },
     "metadata": {},
     "execution_count": 34
    }
   ],
   "source": [
    "# Why there are missing order_approved_date ?? -> chance is, order haven't approved by the user when this data is recorded -> can see that order id is mostly 2017 02 -> what happen?\n",
    "fct_order_item.loc[fct_order_item.order_approved_date.isna()]"
   ]
  },
  {
   "cell_type": "code",
   "execution_count": 37,
   "metadata": {},
   "outputs": [
    {
     "output_type": "execute_result",
     "data": {
      "text/plain": [
       "          id  user_id  product_id_surr  seller_id_surr  feedback_id_surr  \\\n",
       "9312    9313   167827            54696            5725            231582   \n",
       "79996  79997    99169            40110            5903            282513   \n",
       "426      427   137147            43512            3507            200416   \n",
       "55734  55735   136945            51636            3893            296465   \n",
       "22017  22018   143057            37810            5975            276711   \n",
       "\n",
       "      order_date order_approved_date pickup_date delivered_date  \\\n",
       "9312    20180903            20180903    20180904           None   \n",
       "79996   20180829            20180829    20180829       20180830   \n",
       "426     20180829            20180829    20180829       20180830   \n",
       "55734   20180829            20180829    20180829       20180830   \n",
       "22017   20180829            20180829    20180829       20180830   \n",
       "\n",
       "      estimated_time_delivery pickup_limit_date  \\\n",
       "9312                 20180906          20180905   \n",
       "79996                20180904          20180903   \n",
       "426                  20180903          20180831   \n",
       "55734                20180904          20180831   \n",
       "22017                20180903          20180831   \n",
       "\n",
       "                               order_id  item_number order_item_status  \\\n",
       "9312   54282e97f61c23b78330c15b154c867d            1           shipped   \n",
       "79996  d70442bc5e3cb7438da497cc6a210f80            1         delivered   \n",
       "426    03ef5dedbe7492bdae72eec50764c43f            1         delivered   \n",
       "55734  fb393211459aac00af932cd7ab4fa2cc            1         delivered   \n",
       "22017  c84d88553f9878bf2c7ecda2eb211ece            1         delivered   \n",
       "\n",
       "          price  shipping_cost  \n",
       "9312   145000.0        21460.0  \n",
       "79996    6900.0         7390.0  \n",
       "426     24900.0         8330.0  \n",
       "55734   99000.0         7950.0  \n",
       "22017   65000.0         9210.0  "
      ],
      "text/html": "<div>\n<style scoped>\n    .dataframe tbody tr th:only-of-type {\n        vertical-align: middle;\n    }\n\n    .dataframe tbody tr th {\n        vertical-align: top;\n    }\n\n    .dataframe thead th {\n        text-align: right;\n    }\n</style>\n<table border=\"1\" class=\"dataframe\">\n  <thead>\n    <tr style=\"text-align: right;\">\n      <th></th>\n      <th>id</th>\n      <th>user_id</th>\n      <th>product_id_surr</th>\n      <th>seller_id_surr</th>\n      <th>feedback_id_surr</th>\n      <th>order_date</th>\n      <th>order_approved_date</th>\n      <th>pickup_date</th>\n      <th>delivered_date</th>\n      <th>estimated_time_delivery</th>\n      <th>pickup_limit_date</th>\n      <th>order_id</th>\n      <th>item_number</th>\n      <th>order_item_status</th>\n      <th>price</th>\n      <th>shipping_cost</th>\n    </tr>\n  </thead>\n  <tbody>\n    <tr>\n      <th>9312</th>\n      <td>9313</td>\n      <td>167827</td>\n      <td>54696</td>\n      <td>5725</td>\n      <td>231582</td>\n      <td>20180903</td>\n      <td>20180903</td>\n      <td>20180904</td>\n      <td>None</td>\n      <td>20180906</td>\n      <td>20180905</td>\n      <td>54282e97f61c23b78330c15b154c867d</td>\n      <td>1</td>\n      <td>shipped</td>\n      <td>145000.0</td>\n      <td>21460.0</td>\n    </tr>\n    <tr>\n      <th>79996</th>\n      <td>79997</td>\n      <td>99169</td>\n      <td>40110</td>\n      <td>5903</td>\n      <td>282513</td>\n      <td>20180829</td>\n      <td>20180829</td>\n      <td>20180829</td>\n      <td>20180830</td>\n      <td>20180904</td>\n      <td>20180903</td>\n      <td>d70442bc5e3cb7438da497cc6a210f80</td>\n      <td>1</td>\n      <td>delivered</td>\n      <td>6900.0</td>\n      <td>7390.0</td>\n    </tr>\n    <tr>\n      <th>426</th>\n      <td>427</td>\n      <td>137147</td>\n      <td>43512</td>\n      <td>3507</td>\n      <td>200416</td>\n      <td>20180829</td>\n      <td>20180829</td>\n      <td>20180829</td>\n      <td>20180830</td>\n      <td>20180903</td>\n      <td>20180831</td>\n      <td>03ef5dedbe7492bdae72eec50764c43f</td>\n      <td>1</td>\n      <td>delivered</td>\n      <td>24900.0</td>\n      <td>8330.0</td>\n    </tr>\n    <tr>\n      <th>55734</th>\n      <td>55735</td>\n      <td>136945</td>\n      <td>51636</td>\n      <td>3893</td>\n      <td>296465</td>\n      <td>20180829</td>\n      <td>20180829</td>\n      <td>20180829</td>\n      <td>20180830</td>\n      <td>20180904</td>\n      <td>20180831</td>\n      <td>fb393211459aac00af932cd7ab4fa2cc</td>\n      <td>1</td>\n      <td>delivered</td>\n      <td>99000.0</td>\n      <td>7950.0</td>\n    </tr>\n    <tr>\n      <th>22017</th>\n      <td>22018</td>\n      <td>143057</td>\n      <td>37810</td>\n      <td>5975</td>\n      <td>276711</td>\n      <td>20180829</td>\n      <td>20180829</td>\n      <td>20180829</td>\n      <td>20180830</td>\n      <td>20180903</td>\n      <td>20180831</td>\n      <td>c84d88553f9878bf2c7ecda2eb211ece</td>\n      <td>1</td>\n      <td>delivered</td>\n      <td>65000.0</td>\n      <td>9210.0</td>\n    </tr>\n  </tbody>\n</table>\n</div>"
     },
     "metadata": {},
     "execution_count": 37
    }
   ],
   "source": [
    "fct_order_item.sort_values(by=\"order_date\", ascending=False).head()\n",
    "\n",
    "# Conc : missing data cause is not latest data recorded ? -> Then what? Need more exploration"
   ]
  },
  {
   "cell_type": "code",
   "execution_count": 38,
   "metadata": {},
   "outputs": [
    {
     "output_type": "execute_result",
     "data": {
      "text/plain": [
       "      id  user_id  product_id_surr  seller_id_surr  feedback_id_surr  \\\n",
       "104  105   113317            50814            5873            199263   \n",
       "143  144   127154            61601            3912            199405   \n",
       "144  145   127154            61601            3912            199405   \n",
       "278  279   100074            41471            5981            199894   \n",
       "360  361   156381            40615            4625            200186   \n",
       "\n",
       "    order_date order_approved_date pickup_date delivered_date  \\\n",
       "104   20170410            20170410        None           None   \n",
       "143   20170131            20170202        None           None   \n",
       "144   20170131            20170202        None           None   \n",
       "278   20161009            20161010        None           None   \n",
       "360   20180325            20180325        None           None   \n",
       "\n",
       "    estimated_time_delivery pickup_limit_date  \\\n",
       "104                20170504          20170414   \n",
       "143                20170309          20170204   \n",
       "144                20170309          20170204   \n",
       "278                20161212          20161014   \n",
       "360                20180406          20180329   \n",
       "\n",
       "                             order_id  item_number order_item_status  \\\n",
       "104  00ff0cf5583758e6964723e42f111bf4            1          canceled   \n",
       "143  015fb6b5f739788434fa690540f90f19            1          invoiced   \n",
       "144  015fb6b5f739788434fa690540f90f19            2          invoiced   \n",
       "278  02a0eb7c22b0616c767a45954a2a28f6            1          invoiced   \n",
       "360  035b790fa740b68de2d6f1a74f9b2098            1          invoiced   \n",
       "\n",
       "        price  shipping_cost  \n",
       "104  154900.0        15250.0  \n",
       "143  143000.0        94980.0  \n",
       "144  143000.0        94980.0  \n",
       "278  119500.0        25040.0  \n",
       "360   63990.0         8290.0  "
      ],
      "text/html": "<div>\n<style scoped>\n    .dataframe tbody tr th:only-of-type {\n        vertical-align: middle;\n    }\n\n    .dataframe tbody tr th {\n        vertical-align: top;\n    }\n\n    .dataframe thead th {\n        text-align: right;\n    }\n</style>\n<table border=\"1\" class=\"dataframe\">\n  <thead>\n    <tr style=\"text-align: right;\">\n      <th></th>\n      <th>id</th>\n      <th>user_id</th>\n      <th>product_id_surr</th>\n      <th>seller_id_surr</th>\n      <th>feedback_id_surr</th>\n      <th>order_date</th>\n      <th>order_approved_date</th>\n      <th>pickup_date</th>\n      <th>delivered_date</th>\n      <th>estimated_time_delivery</th>\n      <th>pickup_limit_date</th>\n      <th>order_id</th>\n      <th>item_number</th>\n      <th>order_item_status</th>\n      <th>price</th>\n      <th>shipping_cost</th>\n    </tr>\n  </thead>\n  <tbody>\n    <tr>\n      <th>104</th>\n      <td>105</td>\n      <td>113317</td>\n      <td>50814</td>\n      <td>5873</td>\n      <td>199263</td>\n      <td>20170410</td>\n      <td>20170410</td>\n      <td>None</td>\n      <td>None</td>\n      <td>20170504</td>\n      <td>20170414</td>\n      <td>00ff0cf5583758e6964723e42f111bf4</td>\n      <td>1</td>\n      <td>canceled</td>\n      <td>154900.0</td>\n      <td>15250.0</td>\n    </tr>\n    <tr>\n      <th>143</th>\n      <td>144</td>\n      <td>127154</td>\n      <td>61601</td>\n      <td>3912</td>\n      <td>199405</td>\n      <td>20170131</td>\n      <td>20170202</td>\n      <td>None</td>\n      <td>None</td>\n      <td>20170309</td>\n      <td>20170204</td>\n      <td>015fb6b5f739788434fa690540f90f19</td>\n      <td>1</td>\n      <td>invoiced</td>\n      <td>143000.0</td>\n      <td>94980.0</td>\n    </tr>\n    <tr>\n      <th>144</th>\n      <td>145</td>\n      <td>127154</td>\n      <td>61601</td>\n      <td>3912</td>\n      <td>199405</td>\n      <td>20170131</td>\n      <td>20170202</td>\n      <td>None</td>\n      <td>None</td>\n      <td>20170309</td>\n      <td>20170204</td>\n      <td>015fb6b5f739788434fa690540f90f19</td>\n      <td>2</td>\n      <td>invoiced</td>\n      <td>143000.0</td>\n      <td>94980.0</td>\n    </tr>\n    <tr>\n      <th>278</th>\n      <td>279</td>\n      <td>100074</td>\n      <td>41471</td>\n      <td>5981</td>\n      <td>199894</td>\n      <td>20161009</td>\n      <td>20161010</td>\n      <td>None</td>\n      <td>None</td>\n      <td>20161212</td>\n      <td>20161014</td>\n      <td>02a0eb7c22b0616c767a45954a2a28f6</td>\n      <td>1</td>\n      <td>invoiced</td>\n      <td>119500.0</td>\n      <td>25040.0</td>\n    </tr>\n    <tr>\n      <th>360</th>\n      <td>361</td>\n      <td>156381</td>\n      <td>40615</td>\n      <td>4625</td>\n      <td>200186</td>\n      <td>20180325</td>\n      <td>20180325</td>\n      <td>None</td>\n      <td>None</td>\n      <td>20180406</td>\n      <td>20180329</td>\n      <td>035b790fa740b68de2d6f1a74f9b2098</td>\n      <td>1</td>\n      <td>invoiced</td>\n      <td>63990.0</td>\n      <td>8290.0</td>\n    </tr>\n  </tbody>\n</table>\n</div>"
     },
     "metadata": {},
     "execution_count": 38
    }
   ],
   "source": [
    "# Why is pickup_date is missing ? -> Is it because of order status? \n",
    "fct_order_item.loc[fct_order_item.pickup_date.isna()].head()"
   ]
  },
  {
   "cell_type": "code",
   "execution_count": 41,
   "metadata": {},
   "outputs": [
    {
     "output_type": "execute_result",
     "data": {
      "text/plain": [
       "        id  user_id  product_id_surr  seller_id_surr  feedback_id_surr  \\\n",
       "4684  4685   135215            48860            5470            215308   \n",
       "\n",
       "     order_date order_approved_date pickup_date delivered_date  \\\n",
       "4684   20170929            20170929        None       20171120   \n",
       "\n",
       "     estimated_time_delivery pickup_limit_date  \\\n",
       "4684                20171114          20171018   \n",
       "\n",
       "                              order_id  item_number order_item_status  \\\n",
       "4684  2aa91108853cecb43c84a5dc5b277475            1         delivered   \n",
       "\n",
       "         price  shipping_cost  \n",
       "4684  179000.0        14980.0  "
      ],
      "text/html": "<div>\n<style scoped>\n    .dataframe tbody tr th:only-of-type {\n        vertical-align: middle;\n    }\n\n    .dataframe tbody tr th {\n        vertical-align: top;\n    }\n\n    .dataframe thead th {\n        text-align: right;\n    }\n</style>\n<table border=\"1\" class=\"dataframe\">\n  <thead>\n    <tr style=\"text-align: right;\">\n      <th></th>\n      <th>id</th>\n      <th>user_id</th>\n      <th>product_id_surr</th>\n      <th>seller_id_surr</th>\n      <th>feedback_id_surr</th>\n      <th>order_date</th>\n      <th>order_approved_date</th>\n      <th>pickup_date</th>\n      <th>delivered_date</th>\n      <th>estimated_time_delivery</th>\n      <th>pickup_limit_date</th>\n      <th>order_id</th>\n      <th>item_number</th>\n      <th>order_item_status</th>\n      <th>price</th>\n      <th>shipping_cost</th>\n    </tr>\n  </thead>\n  <tbody>\n    <tr>\n      <th>4684</th>\n      <td>4685</td>\n      <td>135215</td>\n      <td>48860</td>\n      <td>5470</td>\n      <td>215308</td>\n      <td>20170929</td>\n      <td>20170929</td>\n      <td>None</td>\n      <td>20171120</td>\n      <td>20171114</td>\n      <td>20171018</td>\n      <td>2aa91108853cecb43c84a5dc5b277475</td>\n      <td>1</td>\n      <td>delivered</td>\n      <td>179000.0</td>\n      <td>14980.0</td>\n    </tr>\n  </tbody>\n</table>\n</div>"
     },
     "metadata": {},
     "execution_count": 41
    }
   ],
   "source": [
    "fct_order_item.loc[fct_order_item.pickup_date.isna() & (~fct_order_item.delivered_date.isna())]\n",
    "\n",
    "# Weird -> how can the product is being delivered, but never being pickup? -> most of the time, the product need to be picked up by the delivery service -> then deliverd"
   ]
  },
  {
   "cell_type": "code",
   "execution_count": 43,
   "metadata": {},
   "outputs": [
    {
     "output_type": "execute_result",
     "data": {
      "text/plain": [
       "            id  user_id  product_id_surr  seller_id_surr  feedback_id_surr  \\\n",
       "62          63   105072            50647            5757            199119   \n",
       "303        304   130500            52443            5855            200001   \n",
       "305        306   128038            41776            4841            200006   \n",
       "307        308   139498            40800            4780            200015   \n",
       "323        324   160991            59900            5904            200060   \n",
       "...        ...      ...              ...             ...               ...   \n",
       "112328  112329   174396            41248            5842            297136   \n",
       "112459  112460   175147            38776            4509            297679   \n",
       "112474  112475   155953            38108            4533            297741   \n",
       "112531  112532   127630            54972            5000            297935   \n",
       "112572  112573   145898            34094            4760            298086   \n",
       "\n",
       "       order_date order_approved_date pickup_date delivered_date  \\\n",
       "62       20180817            20180817    20180818           None   \n",
       "303      20170323            20170323    20170328           None   \n",
       "305      20170428            20170428    20170511           None   \n",
       "307      20171127            20171128    20171129           None   \n",
       "323      20180615            20180616    20180618           None   \n",
       "...           ...                 ...         ...            ...   \n",
       "112328   20180329            20180329    20180402           None   \n",
       "112459   20171126            20171126    20171130           None   \n",
       "112474   20180328            20180328    20180328           None   \n",
       "112531   20170925            20170925    20170927           None   \n",
       "112572   20171221            20171222    20180103           None   \n",
       "\n",
       "       estimated_time_delivery pickup_limit_date  \\\n",
       "62                    20180918          20180821   \n",
       "303                   20170418          20170329   \n",
       "305                   20170524          20170505   \n",
       "307                   20171211          20171204   \n",
       "323                   20180713          20180620   \n",
       "...                        ...               ...   \n",
       "112328                20180507          20180404   \n",
       "112459                20171219          20171204   \n",
       "112474                20180419          20180403   \n",
       "112531                20171024          20170929   \n",
       "112572                20180110          20171229   \n",
       "\n",
       "                                order_id  item_number order_item_status  \\\n",
       "62      00a99c50fdff7e36262caba33821875a            1           shipped   \n",
       "303     02ea547b6d2ee25305588fd50df58b46            1           shipped   \n",
       "305     02ec4da9d03014f06d711d60eb37cc22            1           shipped   \n",
       "307     02f30be57375dc610c40ca989d2385b7            1           shipped   \n",
       "323     03138c298bfe1ee7855eefc9442346a8            1           shipped   \n",
       "...                                  ...          ...               ...   \n",
       "112328  fceed72ef6fde5b43c8bcefbdb223edc            1           shipped   \n",
       "112459  fe4979a6778e2fa4ae731cbe532d30e0            1           shipped   \n",
       "112474  fe68d8f20f2d6e9d702a74d3bfa9c4fa            1           shipped   \n",
       "112531  feebdfdb4759bd4600d52547c81b4fa8            1           shipped   \n",
       "112572  ff536d93ae4214b4d51c2894ccfc569f            1           shipped   \n",
       "\n",
       "           price  shipping_cost  \n",
       "62       52990.0        22300.0  \n",
       "303      23990.0        15650.0  \n",
       "305      85000.0        20080.0  \n",
       "307      69000.0        11730.0  \n",
       "323      40000.0        19470.0  \n",
       "...          ...            ...  \n",
       "112328  139000.0        54720.0  \n",
       "112459   89990.0        15390.0  \n",
       "112474  199000.0        19270.0  \n",
       "112531   24900.0        21150.0  \n",
       "112572   39000.0         8270.0  \n",
       "\n",
       "[1261 rows x 16 columns]"
      ],
      "text/html": "<div>\n<style scoped>\n    .dataframe tbody tr th:only-of-type {\n        vertical-align: middle;\n    }\n\n    .dataframe tbody tr th {\n        vertical-align: top;\n    }\n\n    .dataframe thead th {\n        text-align: right;\n    }\n</style>\n<table border=\"1\" class=\"dataframe\">\n  <thead>\n    <tr style=\"text-align: right;\">\n      <th></th>\n      <th>id</th>\n      <th>user_id</th>\n      <th>product_id_surr</th>\n      <th>seller_id_surr</th>\n      <th>feedback_id_surr</th>\n      <th>order_date</th>\n      <th>order_approved_date</th>\n      <th>pickup_date</th>\n      <th>delivered_date</th>\n      <th>estimated_time_delivery</th>\n      <th>pickup_limit_date</th>\n      <th>order_id</th>\n      <th>item_number</th>\n      <th>order_item_status</th>\n      <th>price</th>\n      <th>shipping_cost</th>\n    </tr>\n  </thead>\n  <tbody>\n    <tr>\n      <th>62</th>\n      <td>63</td>\n      <td>105072</td>\n      <td>50647</td>\n      <td>5757</td>\n      <td>199119</td>\n      <td>20180817</td>\n      <td>20180817</td>\n      <td>20180818</td>\n      <td>None</td>\n      <td>20180918</td>\n      <td>20180821</td>\n      <td>00a99c50fdff7e36262caba33821875a</td>\n      <td>1</td>\n      <td>shipped</td>\n      <td>52990.0</td>\n      <td>22300.0</td>\n    </tr>\n    <tr>\n      <th>303</th>\n      <td>304</td>\n      <td>130500</td>\n      <td>52443</td>\n      <td>5855</td>\n      <td>200001</td>\n      <td>20170323</td>\n      <td>20170323</td>\n      <td>20170328</td>\n      <td>None</td>\n      <td>20170418</td>\n      <td>20170329</td>\n      <td>02ea547b6d2ee25305588fd50df58b46</td>\n      <td>1</td>\n      <td>shipped</td>\n      <td>23990.0</td>\n      <td>15650.0</td>\n    </tr>\n    <tr>\n      <th>305</th>\n      <td>306</td>\n      <td>128038</td>\n      <td>41776</td>\n      <td>4841</td>\n      <td>200006</td>\n      <td>20170428</td>\n      <td>20170428</td>\n      <td>20170511</td>\n      <td>None</td>\n      <td>20170524</td>\n      <td>20170505</td>\n      <td>02ec4da9d03014f06d711d60eb37cc22</td>\n      <td>1</td>\n      <td>shipped</td>\n      <td>85000.0</td>\n      <td>20080.0</td>\n    </tr>\n    <tr>\n      <th>307</th>\n      <td>308</td>\n      <td>139498</td>\n      <td>40800</td>\n      <td>4780</td>\n      <td>200015</td>\n      <td>20171127</td>\n      <td>20171128</td>\n      <td>20171129</td>\n      <td>None</td>\n      <td>20171211</td>\n      <td>20171204</td>\n      <td>02f30be57375dc610c40ca989d2385b7</td>\n      <td>1</td>\n      <td>shipped</td>\n      <td>69000.0</td>\n      <td>11730.0</td>\n    </tr>\n    <tr>\n      <th>323</th>\n      <td>324</td>\n      <td>160991</td>\n      <td>59900</td>\n      <td>5904</td>\n      <td>200060</td>\n      <td>20180615</td>\n      <td>20180616</td>\n      <td>20180618</td>\n      <td>None</td>\n      <td>20180713</td>\n      <td>20180620</td>\n      <td>03138c298bfe1ee7855eefc9442346a8</td>\n      <td>1</td>\n      <td>shipped</td>\n      <td>40000.0</td>\n      <td>19470.0</td>\n    </tr>\n    <tr>\n      <th>...</th>\n      <td>...</td>\n      <td>...</td>\n      <td>...</td>\n      <td>...</td>\n      <td>...</td>\n      <td>...</td>\n      <td>...</td>\n      <td>...</td>\n      <td>...</td>\n      <td>...</td>\n      <td>...</td>\n      <td>...</td>\n      <td>...</td>\n      <td>...</td>\n      <td>...</td>\n      <td>...</td>\n    </tr>\n    <tr>\n      <th>112328</th>\n      <td>112329</td>\n      <td>174396</td>\n      <td>41248</td>\n      <td>5842</td>\n      <td>297136</td>\n      <td>20180329</td>\n      <td>20180329</td>\n      <td>20180402</td>\n      <td>None</td>\n      <td>20180507</td>\n      <td>20180404</td>\n      <td>fceed72ef6fde5b43c8bcefbdb223edc</td>\n      <td>1</td>\n      <td>shipped</td>\n      <td>139000.0</td>\n      <td>54720.0</td>\n    </tr>\n    <tr>\n      <th>112459</th>\n      <td>112460</td>\n      <td>175147</td>\n      <td>38776</td>\n      <td>4509</td>\n      <td>297679</td>\n      <td>20171126</td>\n      <td>20171126</td>\n      <td>20171130</td>\n      <td>None</td>\n      <td>20171219</td>\n      <td>20171204</td>\n      <td>fe4979a6778e2fa4ae731cbe532d30e0</td>\n      <td>1</td>\n      <td>shipped</td>\n      <td>89990.0</td>\n      <td>15390.0</td>\n    </tr>\n    <tr>\n      <th>112474</th>\n      <td>112475</td>\n      <td>155953</td>\n      <td>38108</td>\n      <td>4533</td>\n      <td>297741</td>\n      <td>20180328</td>\n      <td>20180328</td>\n      <td>20180328</td>\n      <td>None</td>\n      <td>20180419</td>\n      <td>20180403</td>\n      <td>fe68d8f20f2d6e9d702a74d3bfa9c4fa</td>\n      <td>1</td>\n      <td>shipped</td>\n      <td>199000.0</td>\n      <td>19270.0</td>\n    </tr>\n    <tr>\n      <th>112531</th>\n      <td>112532</td>\n      <td>127630</td>\n      <td>54972</td>\n      <td>5000</td>\n      <td>297935</td>\n      <td>20170925</td>\n      <td>20170925</td>\n      <td>20170927</td>\n      <td>None</td>\n      <td>20171024</td>\n      <td>20170929</td>\n      <td>feebdfdb4759bd4600d52547c81b4fa8</td>\n      <td>1</td>\n      <td>shipped</td>\n      <td>24900.0</td>\n      <td>21150.0</td>\n    </tr>\n    <tr>\n      <th>112572</th>\n      <td>112573</td>\n      <td>145898</td>\n      <td>34094</td>\n      <td>4760</td>\n      <td>298086</td>\n      <td>20171221</td>\n      <td>20171222</td>\n      <td>20180103</td>\n      <td>None</td>\n      <td>20180110</td>\n      <td>20171229</td>\n      <td>ff536d93ae4214b4d51c2894ccfc569f</td>\n      <td>1</td>\n      <td>shipped</td>\n      <td>39000.0</td>\n      <td>8270.0</td>\n    </tr>\n  </tbody>\n</table>\n<p>1261 rows × 16 columns</p>\n</div>"
     },
     "metadata": {},
     "execution_count": 43
    }
   ],
   "source": [
    "fct_order_item.loc[~fct_order_item.pickup_date.isna() & (fct_order_item.delivered_date.isna())]\n",
    "# There are many case where the product is being pickup but not delivered ?? -> Why though"
   ]
  },
  {
   "cell_type": "code",
   "execution_count": 45,
   "metadata": {},
   "outputs": [
    {
     "output_type": "execute_result",
     "data": {
      "text/plain": [
       "            id  user_id  product_id_surr  seller_id_surr  feedback_id_surr  \\\n",
       "62          63   105072            50647            5757            199119   \n",
       "303        304   130500            52443            5855            200001   \n",
       "305        306   128038            41776            4841            200006   \n",
       "307        308   139498            40800            4780            200015   \n",
       "323        324   160991            59900            5904            200060   \n",
       "...        ...      ...              ...             ...               ...   \n",
       "112328  112329   174396            41248            5842            297136   \n",
       "112459  112460   175147            38776            4509            297679   \n",
       "112474  112475   155953            38108            4533            297741   \n",
       "112531  112532   127630            54972            5000            297935   \n",
       "112572  112573   145898            34094            4760            298086   \n",
       "\n",
       "       order_date order_approved_date pickup_date delivered_date  \\\n",
       "62       20180817            20180817    20180818           None   \n",
       "303      20170323            20170323    20170328           None   \n",
       "305      20170428            20170428    20170511           None   \n",
       "307      20171127            20171128    20171129           None   \n",
       "323      20180615            20180616    20180618           None   \n",
       "...           ...                 ...         ...            ...   \n",
       "112328   20180329            20180329    20180402           None   \n",
       "112459   20171126            20171126    20171130           None   \n",
       "112474   20180328            20180328    20180328           None   \n",
       "112531   20170925            20170925    20170927           None   \n",
       "112572   20171221            20171222    20180103           None   \n",
       "\n",
       "       estimated_time_delivery pickup_limit_date  \\\n",
       "62                    20180918          20180821   \n",
       "303                   20170418          20170329   \n",
       "305                   20170524          20170505   \n",
       "307                   20171211          20171204   \n",
       "323                   20180713          20180620   \n",
       "...                        ...               ...   \n",
       "112328                20180507          20180404   \n",
       "112459                20171219          20171204   \n",
       "112474                20180419          20180403   \n",
       "112531                20171024          20170929   \n",
       "112572                20180110          20171229   \n",
       "\n",
       "                                order_id  item_number order_item_status  \\\n",
       "62      00a99c50fdff7e36262caba33821875a            1           shipped   \n",
       "303     02ea547b6d2ee25305588fd50df58b46            1           shipped   \n",
       "305     02ec4da9d03014f06d711d60eb37cc22            1           shipped   \n",
       "307     02f30be57375dc610c40ca989d2385b7            1           shipped   \n",
       "323     03138c298bfe1ee7855eefc9442346a8            1           shipped   \n",
       "...                                  ...          ...               ...   \n",
       "112328  fceed72ef6fde5b43c8bcefbdb223edc            1           shipped   \n",
       "112459  fe4979a6778e2fa4ae731cbe532d30e0            1           shipped   \n",
       "112474  fe68d8f20f2d6e9d702a74d3bfa9c4fa            1           shipped   \n",
       "112531  feebdfdb4759bd4600d52547c81b4fa8            1           shipped   \n",
       "112572  ff536d93ae4214b4d51c2894ccfc569f            1           shipped   \n",
       "\n",
       "           price  shipping_cost  \n",
       "62       52990.0        22300.0  \n",
       "303      23990.0        15650.0  \n",
       "305      85000.0        20080.0  \n",
       "307      69000.0        11730.0  \n",
       "323      40000.0        19470.0  \n",
       "...          ...            ...  \n",
       "112328  139000.0        54720.0  \n",
       "112459   89990.0        15390.0  \n",
       "112474  199000.0        19270.0  \n",
       "112531   24900.0        21150.0  \n",
       "112572   39000.0         8270.0  \n",
       "\n",
       "[1185 rows x 16 columns]"
      ],
      "text/html": "<div>\n<style scoped>\n    .dataframe tbody tr th:only-of-type {\n        vertical-align: middle;\n    }\n\n    .dataframe tbody tr th {\n        vertical-align: top;\n    }\n\n    .dataframe thead th {\n        text-align: right;\n    }\n</style>\n<table border=\"1\" class=\"dataframe\">\n  <thead>\n    <tr style=\"text-align: right;\">\n      <th></th>\n      <th>id</th>\n      <th>user_id</th>\n      <th>product_id_surr</th>\n      <th>seller_id_surr</th>\n      <th>feedback_id_surr</th>\n      <th>order_date</th>\n      <th>order_approved_date</th>\n      <th>pickup_date</th>\n      <th>delivered_date</th>\n      <th>estimated_time_delivery</th>\n      <th>pickup_limit_date</th>\n      <th>order_id</th>\n      <th>item_number</th>\n      <th>order_item_status</th>\n      <th>price</th>\n      <th>shipping_cost</th>\n    </tr>\n  </thead>\n  <tbody>\n    <tr>\n      <th>62</th>\n      <td>63</td>\n      <td>105072</td>\n      <td>50647</td>\n      <td>5757</td>\n      <td>199119</td>\n      <td>20180817</td>\n      <td>20180817</td>\n      <td>20180818</td>\n      <td>None</td>\n      <td>20180918</td>\n      <td>20180821</td>\n      <td>00a99c50fdff7e36262caba33821875a</td>\n      <td>1</td>\n      <td>shipped</td>\n      <td>52990.0</td>\n      <td>22300.0</td>\n    </tr>\n    <tr>\n      <th>303</th>\n      <td>304</td>\n      <td>130500</td>\n      <td>52443</td>\n      <td>5855</td>\n      <td>200001</td>\n      <td>20170323</td>\n      <td>20170323</td>\n      <td>20170328</td>\n      <td>None</td>\n      <td>20170418</td>\n      <td>20170329</td>\n      <td>02ea547b6d2ee25305588fd50df58b46</td>\n      <td>1</td>\n      <td>shipped</td>\n      <td>23990.0</td>\n      <td>15650.0</td>\n    </tr>\n    <tr>\n      <th>305</th>\n      <td>306</td>\n      <td>128038</td>\n      <td>41776</td>\n      <td>4841</td>\n      <td>200006</td>\n      <td>20170428</td>\n      <td>20170428</td>\n      <td>20170511</td>\n      <td>None</td>\n      <td>20170524</td>\n      <td>20170505</td>\n      <td>02ec4da9d03014f06d711d60eb37cc22</td>\n      <td>1</td>\n      <td>shipped</td>\n      <td>85000.0</td>\n      <td>20080.0</td>\n    </tr>\n    <tr>\n      <th>307</th>\n      <td>308</td>\n      <td>139498</td>\n      <td>40800</td>\n      <td>4780</td>\n      <td>200015</td>\n      <td>20171127</td>\n      <td>20171128</td>\n      <td>20171129</td>\n      <td>None</td>\n      <td>20171211</td>\n      <td>20171204</td>\n      <td>02f30be57375dc610c40ca989d2385b7</td>\n      <td>1</td>\n      <td>shipped</td>\n      <td>69000.0</td>\n      <td>11730.0</td>\n    </tr>\n    <tr>\n      <th>323</th>\n      <td>324</td>\n      <td>160991</td>\n      <td>59900</td>\n      <td>5904</td>\n      <td>200060</td>\n      <td>20180615</td>\n      <td>20180616</td>\n      <td>20180618</td>\n      <td>None</td>\n      <td>20180713</td>\n      <td>20180620</td>\n      <td>03138c298bfe1ee7855eefc9442346a8</td>\n      <td>1</td>\n      <td>shipped</td>\n      <td>40000.0</td>\n      <td>19470.0</td>\n    </tr>\n    <tr>\n      <th>...</th>\n      <td>...</td>\n      <td>...</td>\n      <td>...</td>\n      <td>...</td>\n      <td>...</td>\n      <td>...</td>\n      <td>...</td>\n      <td>...</td>\n      <td>...</td>\n      <td>...</td>\n      <td>...</td>\n      <td>...</td>\n      <td>...</td>\n      <td>...</td>\n      <td>...</td>\n      <td>...</td>\n    </tr>\n    <tr>\n      <th>112328</th>\n      <td>112329</td>\n      <td>174396</td>\n      <td>41248</td>\n      <td>5842</td>\n      <td>297136</td>\n      <td>20180329</td>\n      <td>20180329</td>\n      <td>20180402</td>\n      <td>None</td>\n      <td>20180507</td>\n      <td>20180404</td>\n      <td>fceed72ef6fde5b43c8bcefbdb223edc</td>\n      <td>1</td>\n      <td>shipped</td>\n      <td>139000.0</td>\n      <td>54720.0</td>\n    </tr>\n    <tr>\n      <th>112459</th>\n      <td>112460</td>\n      <td>175147</td>\n      <td>38776</td>\n      <td>4509</td>\n      <td>297679</td>\n      <td>20171126</td>\n      <td>20171126</td>\n      <td>20171130</td>\n      <td>None</td>\n      <td>20171219</td>\n      <td>20171204</td>\n      <td>fe4979a6778e2fa4ae731cbe532d30e0</td>\n      <td>1</td>\n      <td>shipped</td>\n      <td>89990.0</td>\n      <td>15390.0</td>\n    </tr>\n    <tr>\n      <th>112474</th>\n      <td>112475</td>\n      <td>155953</td>\n      <td>38108</td>\n      <td>4533</td>\n      <td>297741</td>\n      <td>20180328</td>\n      <td>20180328</td>\n      <td>20180328</td>\n      <td>None</td>\n      <td>20180419</td>\n      <td>20180403</td>\n      <td>fe68d8f20f2d6e9d702a74d3bfa9c4fa</td>\n      <td>1</td>\n      <td>shipped</td>\n      <td>199000.0</td>\n      <td>19270.0</td>\n    </tr>\n    <tr>\n      <th>112531</th>\n      <td>112532</td>\n      <td>127630</td>\n      <td>54972</td>\n      <td>5000</td>\n      <td>297935</td>\n      <td>20170925</td>\n      <td>20170925</td>\n      <td>20170927</td>\n      <td>None</td>\n      <td>20171024</td>\n      <td>20170929</td>\n      <td>feebdfdb4759bd4600d52547c81b4fa8</td>\n      <td>1</td>\n      <td>shipped</td>\n      <td>24900.0</td>\n      <td>21150.0</td>\n    </tr>\n    <tr>\n      <th>112572</th>\n      <td>112573</td>\n      <td>145898</td>\n      <td>34094</td>\n      <td>4760</td>\n      <td>298086</td>\n      <td>20171221</td>\n      <td>20171222</td>\n      <td>20180103</td>\n      <td>None</td>\n      <td>20180110</td>\n      <td>20171229</td>\n      <td>ff536d93ae4214b4d51c2894ccfc569f</td>\n      <td>1</td>\n      <td>shipped</td>\n      <td>39000.0</td>\n      <td>8270.0</td>\n    </tr>\n  </tbody>\n</table>\n<p>1185 rows × 16 columns</p>\n</div>"
     },
     "metadata": {},
     "execution_count": 45
    }
   ],
   "source": [
    "fct_order_item.loc[~fct_order_item.pickup_date.isna() & (fct_order_item.delivered_date.isna()) & (fct_order_item.order_item_status == \"shipped\")]"
   ]
  },
  {
   "cell_type": "code",
   "execution_count": 47,
   "metadata": {},
   "outputs": [
    {
     "output_type": "execute_result",
     "data": {
      "text/plain": [
       "            id  user_id  product_id_surr  seller_id_surr  feedback_id_surr  \\\n",
       "2284      2285   192162            36208            3893            206866   \n",
       "3327      3328   167908            42404            5474            210515   \n",
       "4848      4849   168130            56446            6006            215814   \n",
       "4945      4946   144115            37462            4228            216207   \n",
       "5031      5032   168110            36597            3486            216512   \n",
       "...        ...      ...              ...             ...               ...   \n",
       "105631  105632   168123            60838            4644            273032   \n",
       "107032  107033   119911            34445            4138            277881   \n",
       "107973  107974   175112            57880            5655            281277   \n",
       "108785  108786   192145            34192            3568            284303   \n",
       "109502  109503   144000            47524            4802            286967   \n",
       "\n",
       "       order_date order_approved_date pickup_date delivered_date  \\\n",
       "2284     20180212            20180212    20180214           None   \n",
       "3327     20171221            20171223    20180130           None   \n",
       "4848     20180206            20180206    20180216           None   \n",
       "4945     20180219            20180219    20180220           None   \n",
       "5031     20180202            20180202    20180206           None   \n",
       "...           ...                 ...         ...            ...   \n",
       "105631   20180123            20180123    20180124           None   \n",
       "107032   20180130            20180130    20180201           None   \n",
       "107973   20180205            20180205    20180206           None   \n",
       "108785   20180124            20180124    20180126           None   \n",
       "109502   20180303            20180303    20180305           None   \n",
       "\n",
       "       estimated_time_delivery pickup_limit_date  \\\n",
       "2284                  20180313          20180216   \n",
       "3327                  20180220          20180129   \n",
       "4848                  20180312          20180212   \n",
       "4945                  20180315          20180223   \n",
       "5031                  20180220          20180208   \n",
       "...                        ...               ...   \n",
       "105631                20180222          20180129   \n",
       "107032                20180222          20180205   \n",
       "107973                20180221          20180211   \n",
       "108785                20180305          20180130   \n",
       "109502                20180315          20180308   \n",
       "\n",
       "                                order_id  item_number order_item_status  \\\n",
       "2284    14904245b311483b6886be3c2e717e76            1          canceled   \n",
       "3327    1def7af24cb7182497acfd953f6dd88b            1          canceled   \n",
       "4848    2c0032906c603dcc21cd954828fa77d0            1          canceled   \n",
       "4945    2cfc79d9582e9135c0a9b61fa60e6b21            1          canceled   \n",
       "5031    2db84a082bda455eb1da10727e7ca621            1          canceled   \n",
       "...                                  ...          ...               ...   \n",
       "105631  bef875448d5a4f703555d2dd5f8382b5            1          canceled   \n",
       "107032  cb599c234fc71be7c137179b6d473a30            1          canceled   \n",
       "107973  d3afe40f7060b3287d948a6bdea42687            1          canceled   \n",
       "108785  dba741d70126a95feb85435175370edc            1          canceled   \n",
       "109502  e248283e6b8ba09b05efea1000d9478b            1          canceled   \n",
       "\n",
       "           price  shipping_cost  \n",
       "2284     55000.0        17670.0  \n",
       "3327    244690.0        54310.0  \n",
       "4848    213750.0        36820.0  \n",
       "4945     59900.0        19660.0  \n",
       "5031     12000.0         7780.0  \n",
       "...          ...            ...  \n",
       "105631  139900.0        19220.0  \n",
       "107032   35900.0        15100.0  \n",
       "107973   26000.0         7780.0  \n",
       "108785   69900.0        16930.0  \n",
       "109502  129900.0        13460.0  \n",
       "\n",
       "[69 rows x 16 columns]"
      ],
      "text/html": "<div>\n<style scoped>\n    .dataframe tbody tr th:only-of-type {\n        vertical-align: middle;\n    }\n\n    .dataframe tbody tr th {\n        vertical-align: top;\n    }\n\n    .dataframe thead th {\n        text-align: right;\n    }\n</style>\n<table border=\"1\" class=\"dataframe\">\n  <thead>\n    <tr style=\"text-align: right;\">\n      <th></th>\n      <th>id</th>\n      <th>user_id</th>\n      <th>product_id_surr</th>\n      <th>seller_id_surr</th>\n      <th>feedback_id_surr</th>\n      <th>order_date</th>\n      <th>order_approved_date</th>\n      <th>pickup_date</th>\n      <th>delivered_date</th>\n      <th>estimated_time_delivery</th>\n      <th>pickup_limit_date</th>\n      <th>order_id</th>\n      <th>item_number</th>\n      <th>order_item_status</th>\n      <th>price</th>\n      <th>shipping_cost</th>\n    </tr>\n  </thead>\n  <tbody>\n    <tr>\n      <th>2284</th>\n      <td>2285</td>\n      <td>192162</td>\n      <td>36208</td>\n      <td>3893</td>\n      <td>206866</td>\n      <td>20180212</td>\n      <td>20180212</td>\n      <td>20180214</td>\n      <td>None</td>\n      <td>20180313</td>\n      <td>20180216</td>\n      <td>14904245b311483b6886be3c2e717e76</td>\n      <td>1</td>\n      <td>canceled</td>\n      <td>55000.0</td>\n      <td>17670.0</td>\n    </tr>\n    <tr>\n      <th>3327</th>\n      <td>3328</td>\n      <td>167908</td>\n      <td>42404</td>\n      <td>5474</td>\n      <td>210515</td>\n      <td>20171221</td>\n      <td>20171223</td>\n      <td>20180130</td>\n      <td>None</td>\n      <td>20180220</td>\n      <td>20180129</td>\n      <td>1def7af24cb7182497acfd953f6dd88b</td>\n      <td>1</td>\n      <td>canceled</td>\n      <td>244690.0</td>\n      <td>54310.0</td>\n    </tr>\n    <tr>\n      <th>4848</th>\n      <td>4849</td>\n      <td>168130</td>\n      <td>56446</td>\n      <td>6006</td>\n      <td>215814</td>\n      <td>20180206</td>\n      <td>20180206</td>\n      <td>20180216</td>\n      <td>None</td>\n      <td>20180312</td>\n      <td>20180212</td>\n      <td>2c0032906c603dcc21cd954828fa77d0</td>\n      <td>1</td>\n      <td>canceled</td>\n      <td>213750.0</td>\n      <td>36820.0</td>\n    </tr>\n    <tr>\n      <th>4945</th>\n      <td>4946</td>\n      <td>144115</td>\n      <td>37462</td>\n      <td>4228</td>\n      <td>216207</td>\n      <td>20180219</td>\n      <td>20180219</td>\n      <td>20180220</td>\n      <td>None</td>\n      <td>20180315</td>\n      <td>20180223</td>\n      <td>2cfc79d9582e9135c0a9b61fa60e6b21</td>\n      <td>1</td>\n      <td>canceled</td>\n      <td>59900.0</td>\n      <td>19660.0</td>\n    </tr>\n    <tr>\n      <th>5031</th>\n      <td>5032</td>\n      <td>168110</td>\n      <td>36597</td>\n      <td>3486</td>\n      <td>216512</td>\n      <td>20180202</td>\n      <td>20180202</td>\n      <td>20180206</td>\n      <td>None</td>\n      <td>20180220</td>\n      <td>20180208</td>\n      <td>2db84a082bda455eb1da10727e7ca621</td>\n      <td>1</td>\n      <td>canceled</td>\n      <td>12000.0</td>\n      <td>7780.0</td>\n    </tr>\n    <tr>\n      <th>...</th>\n      <td>...</td>\n      <td>...</td>\n      <td>...</td>\n      <td>...</td>\n      <td>...</td>\n      <td>...</td>\n      <td>...</td>\n      <td>...</td>\n      <td>...</td>\n      <td>...</td>\n      <td>...</td>\n      <td>...</td>\n      <td>...</td>\n      <td>...</td>\n      <td>...</td>\n      <td>...</td>\n    </tr>\n    <tr>\n      <th>105631</th>\n      <td>105632</td>\n      <td>168123</td>\n      <td>60838</td>\n      <td>4644</td>\n      <td>273032</td>\n      <td>20180123</td>\n      <td>20180123</td>\n      <td>20180124</td>\n      <td>None</td>\n      <td>20180222</td>\n      <td>20180129</td>\n      <td>bef875448d5a4f703555d2dd5f8382b5</td>\n      <td>1</td>\n      <td>canceled</td>\n      <td>139900.0</td>\n      <td>19220.0</td>\n    </tr>\n    <tr>\n      <th>107032</th>\n      <td>107033</td>\n      <td>119911</td>\n      <td>34445</td>\n      <td>4138</td>\n      <td>277881</td>\n      <td>20180130</td>\n      <td>20180130</td>\n      <td>20180201</td>\n      <td>None</td>\n      <td>20180222</td>\n      <td>20180205</td>\n      <td>cb599c234fc71be7c137179b6d473a30</td>\n      <td>1</td>\n      <td>canceled</td>\n      <td>35900.0</td>\n      <td>15100.0</td>\n    </tr>\n    <tr>\n      <th>107973</th>\n      <td>107974</td>\n      <td>175112</td>\n      <td>57880</td>\n      <td>5655</td>\n      <td>281277</td>\n      <td>20180205</td>\n      <td>20180205</td>\n      <td>20180206</td>\n      <td>None</td>\n      <td>20180221</td>\n      <td>20180211</td>\n      <td>d3afe40f7060b3287d948a6bdea42687</td>\n      <td>1</td>\n      <td>canceled</td>\n      <td>26000.0</td>\n      <td>7780.0</td>\n    </tr>\n    <tr>\n      <th>108785</th>\n      <td>108786</td>\n      <td>192145</td>\n      <td>34192</td>\n      <td>3568</td>\n      <td>284303</td>\n      <td>20180124</td>\n      <td>20180124</td>\n      <td>20180126</td>\n      <td>None</td>\n      <td>20180305</td>\n      <td>20180130</td>\n      <td>dba741d70126a95feb85435175370edc</td>\n      <td>1</td>\n      <td>canceled</td>\n      <td>69900.0</td>\n      <td>16930.0</td>\n    </tr>\n    <tr>\n      <th>109502</th>\n      <td>109503</td>\n      <td>144000</td>\n      <td>47524</td>\n      <td>4802</td>\n      <td>286967</td>\n      <td>20180303</td>\n      <td>20180303</td>\n      <td>20180305</td>\n      <td>None</td>\n      <td>20180315</td>\n      <td>20180308</td>\n      <td>e248283e6b8ba09b05efea1000d9478b</td>\n      <td>1</td>\n      <td>canceled</td>\n      <td>129900.0</td>\n      <td>13460.0</td>\n    </tr>\n  </tbody>\n</table>\n<p>69 rows × 16 columns</p>\n</div>"
     },
     "metadata": {},
     "execution_count": 47
    }
   ],
   "source": [
    "fct_order_item.loc[~fct_order_item.pickup_date.isna() & (fct_order_item.delivered_date.isna()) & (fct_order_item.order_item_status == \"canceled\")]"
   ]
  },
  {
   "cell_type": "code",
   "execution_count": 48,
   "metadata": {},
   "outputs": [
    {
     "output_type": "execute_result",
     "data": {
      "text/plain": [
       "          id  user_id  product_id_surr  seller_id_surr  feedback_id_surr  \\\n",
       "18774  18775   139153            34723            3234            265289   \n",
       "25376  25377   149683            35917            6056            288587   \n",
       "33036  33037   121902            62606            4780            216254   \n",
       "33222  33223   122713            35917            6056            216924   \n",
       "55147  55148   100477            53187            5478            294373   \n",
       "57735  57736   117970            58417            5177            204051   \n",
       "88187  88188   146229            63530            4904            211657   \n",
       "\n",
       "      order_date order_approved_date pickup_date delivered_date  \\\n",
       "18774   20180608            20180608    20180612           None   \n",
       "25376   20180701            20180701    20180703           None   \n",
       "33036   20171128            20171128    20171130           None   \n",
       "33222   20180701            20180701    20180703           None   \n",
       "55147   20180620            20180620    20180625           None   \n",
       "57735   20180701            20180701    20180703           None   \n",
       "88187   20180627            20180627    20180703           None   \n",
       "\n",
       "      estimated_time_delivery pickup_limit_date  \\\n",
       "18774                20180626          20180618   \n",
       "25376                20180730          20180705   \n",
       "33036                20171218          20171204   \n",
       "33222                20180730          20180705   \n",
       "55147                20180716          20180626   \n",
       "57735                20180724          20180705   \n",
       "88187                20180719          20180703   \n",
       "\n",
       "                               order_id  item_number order_item_status  \\\n",
       "18774  ab7c89dc1bf4a1ead9d6ec1ec8968a84            1         delivered   \n",
       "25376  e69f75a717d64fc5ecdfae42b2e8e086            1         delivered   \n",
       "33036  2d1e2d5bf4dc7227b3bfebb81328c15f            1         delivered   \n",
       "33222  2ebdfc4f15f23b91474edf87475f108e            1         delivered   \n",
       "55147  f5dd62b788049ad9fc0526e3ad11a097            1         delivered   \n",
       "57735  0d3268bad9b086af767785e3f0fc0133            1         delivered   \n",
       "88187  20edc82cf5400ce95e1afacc25798b31            1         delivered   \n",
       "\n",
       "          price  shipping_cost  \n",
       "18774  110990.0         9130.0  \n",
       "25376  139000.0        19070.0  \n",
       "33036  117300.0        17530.0  \n",
       "33222  139000.0        19070.0  \n",
       "55147  329000.0        25240.0  \n",
       "57735  188990.0        15630.0  \n",
       "88187   45900.0         9070.0  "
      ],
      "text/html": "<div>\n<style scoped>\n    .dataframe tbody tr th:only-of-type {\n        vertical-align: middle;\n    }\n\n    .dataframe tbody tr th {\n        vertical-align: top;\n    }\n\n    .dataframe thead th {\n        text-align: right;\n    }\n</style>\n<table border=\"1\" class=\"dataframe\">\n  <thead>\n    <tr style=\"text-align: right;\">\n      <th></th>\n      <th>id</th>\n      <th>user_id</th>\n      <th>product_id_surr</th>\n      <th>seller_id_surr</th>\n      <th>feedback_id_surr</th>\n      <th>order_date</th>\n      <th>order_approved_date</th>\n      <th>pickup_date</th>\n      <th>delivered_date</th>\n      <th>estimated_time_delivery</th>\n      <th>pickup_limit_date</th>\n      <th>order_id</th>\n      <th>item_number</th>\n      <th>order_item_status</th>\n      <th>price</th>\n      <th>shipping_cost</th>\n    </tr>\n  </thead>\n  <tbody>\n    <tr>\n      <th>18774</th>\n      <td>18775</td>\n      <td>139153</td>\n      <td>34723</td>\n      <td>3234</td>\n      <td>265289</td>\n      <td>20180608</td>\n      <td>20180608</td>\n      <td>20180612</td>\n      <td>None</td>\n      <td>20180626</td>\n      <td>20180618</td>\n      <td>ab7c89dc1bf4a1ead9d6ec1ec8968a84</td>\n      <td>1</td>\n      <td>delivered</td>\n      <td>110990.0</td>\n      <td>9130.0</td>\n    </tr>\n    <tr>\n      <th>25376</th>\n      <td>25377</td>\n      <td>149683</td>\n      <td>35917</td>\n      <td>6056</td>\n      <td>288587</td>\n      <td>20180701</td>\n      <td>20180701</td>\n      <td>20180703</td>\n      <td>None</td>\n      <td>20180730</td>\n      <td>20180705</td>\n      <td>e69f75a717d64fc5ecdfae42b2e8e086</td>\n      <td>1</td>\n      <td>delivered</td>\n      <td>139000.0</td>\n      <td>19070.0</td>\n    </tr>\n    <tr>\n      <th>33036</th>\n      <td>33037</td>\n      <td>121902</td>\n      <td>62606</td>\n      <td>4780</td>\n      <td>216254</td>\n      <td>20171128</td>\n      <td>20171128</td>\n      <td>20171130</td>\n      <td>None</td>\n      <td>20171218</td>\n      <td>20171204</td>\n      <td>2d1e2d5bf4dc7227b3bfebb81328c15f</td>\n      <td>1</td>\n      <td>delivered</td>\n      <td>117300.0</td>\n      <td>17530.0</td>\n    </tr>\n    <tr>\n      <th>33222</th>\n      <td>33223</td>\n      <td>122713</td>\n      <td>35917</td>\n      <td>6056</td>\n      <td>216924</td>\n      <td>20180701</td>\n      <td>20180701</td>\n      <td>20180703</td>\n      <td>None</td>\n      <td>20180730</td>\n      <td>20180705</td>\n      <td>2ebdfc4f15f23b91474edf87475f108e</td>\n      <td>1</td>\n      <td>delivered</td>\n      <td>139000.0</td>\n      <td>19070.0</td>\n    </tr>\n    <tr>\n      <th>55147</th>\n      <td>55148</td>\n      <td>100477</td>\n      <td>53187</td>\n      <td>5478</td>\n      <td>294373</td>\n      <td>20180620</td>\n      <td>20180620</td>\n      <td>20180625</td>\n      <td>None</td>\n      <td>20180716</td>\n      <td>20180626</td>\n      <td>f5dd62b788049ad9fc0526e3ad11a097</td>\n      <td>1</td>\n      <td>delivered</td>\n      <td>329000.0</td>\n      <td>25240.0</td>\n    </tr>\n    <tr>\n      <th>57735</th>\n      <td>57736</td>\n      <td>117970</td>\n      <td>58417</td>\n      <td>5177</td>\n      <td>204051</td>\n      <td>20180701</td>\n      <td>20180701</td>\n      <td>20180703</td>\n      <td>None</td>\n      <td>20180724</td>\n      <td>20180705</td>\n      <td>0d3268bad9b086af767785e3f0fc0133</td>\n      <td>1</td>\n      <td>delivered</td>\n      <td>188990.0</td>\n      <td>15630.0</td>\n    </tr>\n    <tr>\n      <th>88187</th>\n      <td>88188</td>\n      <td>146229</td>\n      <td>63530</td>\n      <td>4904</td>\n      <td>211657</td>\n      <td>20180627</td>\n      <td>20180627</td>\n      <td>20180703</td>\n      <td>None</td>\n      <td>20180719</td>\n      <td>20180703</td>\n      <td>20edc82cf5400ce95e1afacc25798b31</td>\n      <td>1</td>\n      <td>delivered</td>\n      <td>45900.0</td>\n      <td>9070.0</td>\n    </tr>\n  </tbody>\n</table>\n</div>"
     },
     "metadata": {},
     "execution_count": 48
    }
   ],
   "source": [
    "fct_order_item.loc[~fct_order_item.pickup_date.isna() & (fct_order_item.delivered_date.isna()) & (fct_order_item.order_item_status != \"canceled\") & (fct_order_item.order_item_status != \"shipped\")]\n",
    "\n",
    "# Delivered but never recorded in delivered date -> might use the estimated_time_delivery (remaining 7 records)"
   ]
  },
  {
   "source": [
    "### Check reference"
   ],
   "cell_type": "markdown",
   "metadata": {}
  },
  {
   "cell_type": "code",
   "execution_count": 49,
   "metadata": {},
   "outputs": [
    {
     "output_type": "stream",
     "name": "stdout",
     "text": [
      "<class 'pandas.core.frame.DataFrame'>\nInt64Index: 112650 entries, 0 to 112649\nData columns (total 20 columns):\n #   Column                   Non-Null Count   Dtype  \n---  ------                   --------------   -----  \n 0   id                       112650 non-null  int64  \n 1   user_id                  112650 non-null  int64  \n 2   product_id_surr          112650 non-null  int64  \n 3   seller_id_surr           112650 non-null  int64  \n 4   feedback_id_surr         112650 non-null  int64  \n 5   order_date               112650 non-null  object \n 6   order_approved_date      112635 non-null  object \n 7   pickup_date              111456 non-null  object \n 8   delivered_date           110196 non-null  object \n 9   estimated_time_delivery  112650 non-null  object \n 10  pickup_limit_date        112650 non-null  object \n 11  order_id                 112650 non-null  object \n 12  item_number              112650 non-null  int64  \n 13  order_item_status        112650 non-null  object \n 14  price                    112650 non-null  float64\n 15  shipping_cost            112650 non-null  float64\n 16  user_name                112650 non-null  object \n 17  total_order              112650 non-null  float64\n 18  total_spending           112650 non-null  float64\n 19  is_current_version       112650 non-null  bool   \ndtypes: bool(1), float64(4), int64(6), object(9)\nmemory usage: 17.3+ MB\n"
     ]
    }
   ],
   "source": [
    "merged = pd.merge(fct_order_item, user, how=\"inner\", on=\"user_id\")\n",
    "merged.info()"
   ]
  },
  {
   "cell_type": "code",
   "execution_count": 50,
   "metadata": {},
   "outputs": [
    {
     "output_type": "stream",
     "name": "stdout",
     "text": [
      "<class 'pandas.core.frame.DataFrame'>\nInt64Index: 112650 entries, 0 to 112649\nData columns (total 25 columns):\n #   Column                   Non-Null Count   Dtype  \n---  ------                   --------------   -----  \n 0   id                       112650 non-null  int64  \n 1   user_id                  112650 non-null  int64  \n 2   product_id_surr          112650 non-null  int64  \n 3   seller_id_surr           112650 non-null  int64  \n 4   feedback_id_surr         112650 non-null  int64  \n 5   order_date               112650 non-null  object \n 6   order_approved_date      112635 non-null  object \n 7   pickup_date              111456 non-null  object \n 8   delivered_date           110196 non-null  object \n 9   estimated_time_delivery  112650 non-null  object \n 10  pickup_limit_date        112650 non-null  object \n 11  order_id_x               112650 non-null  object \n 12  item_number              112650 non-null  int64  \n 13  order_item_status        112650 non-null  object \n 14  price                    112650 non-null  float64\n 15  shipping_cost            112650 non-null  float64\n 16  user_name                112650 non-null  object \n 17  total_order              112650 non-null  float64\n 18  total_spending           112650 non-null  float64\n 19  is_current_version_x     112650 non-null  bool   \n 20  order_id_y               112650 non-null  object \n 21  feedback_avg_score       112650 non-null  float64\n 22  feedback_form_sent_date  112650 non-null  object \n 23  feedback_answer_date     112650 non-null  object \n 24  is_current_version_y     112650 non-null  bool   \ndtypes: bool(2), float64(5), int64(6), object(12)\nmemory usage: 20.8+ MB\n"
     ]
    }
   ],
   "source": [
    "merged = pd.merge(merged,feedback, how=\"inner\", on=\"feedback_id_surr\")\n",
    "merged.info()"
   ]
  },
  {
   "cell_type": "code",
   "execution_count": 51,
   "metadata": {},
   "outputs": [
    {
     "output_type": "stream",
     "name": "stdout",
     "text": [
      "<class 'pandas.core.frame.DataFrame'>\nInt64Index: 112650 entries, 0 to 112649\nData columns (total 35 columns):\n #   Column                      Non-Null Count   Dtype  \n---  ------                      --------------   -----  \n 0   id                          112650 non-null  int64  \n 1   user_id                     112650 non-null  int64  \n 2   product_id_surr             112650 non-null  int64  \n 3   seller_id_surr              112650 non-null  int64  \n 4   feedback_id_surr            112650 non-null  int64  \n 5   order_date                  112650 non-null  object \n 6   order_approved_date         112635 non-null  object \n 7   pickup_date                 111456 non-null  object \n 8   delivered_date              110196 non-null  object \n 9   estimated_time_delivery     112650 non-null  object \n 10  pickup_limit_date           112650 non-null  object \n 11  order_id_x                  112650 non-null  object \n 12  item_number                 112650 non-null  int64  \n 13  order_item_status           112650 non-null  object \n 14  price                       112650 non-null  float64\n 15  shipping_cost               112650 non-null  float64\n 16  user_name                   112650 non-null  object \n 17  total_order                 112650 non-null  float64\n 18  total_spending              112650 non-null  float64\n 19  is_current_version_x        112650 non-null  bool   \n 20  order_id_y                  112650 non-null  object \n 21  feedback_avg_score          112650 non-null  float64\n 22  feedback_form_sent_date     112650 non-null  object \n 23  feedback_answer_date        112650 non-null  object \n 24  is_current_version_y        112650 non-null  bool   \n 25  product_id                  112650 non-null  object \n 26  product_category            111023 non-null  object \n 27  product_name_length         111047 non-null  float64\n 28  product_description_length  111047 non-null  float64\n 29  product_photos_qty          111047 non-null  float64\n 30  product_length_cm           112632 non-null  float64\n 31  product_weight_g            112632 non-null  float64\n 32  product_height_cm           112632 non-null  float64\n 33  product_width_cm            112632 non-null  float64\n 34  is_current_version          112650 non-null  bool   \ndtypes: bool(3), float64(12), int64(6), object(14)\nmemory usage: 28.7+ MB\n"
     ]
    }
   ],
   "source": [
    "merged = pd.merge(merged,product, how=\"inner\", on=\"product_id_surr\")\n",
    "merged.info()"
   ]
  },
  {
   "cell_type": "code",
   "execution_count": 53,
   "metadata": {},
   "outputs": [
    {
     "output_type": "stream",
     "name": "stdout",
     "text": [
      "<class 'pandas.core.frame.DataFrame'>\nInt64Index: 112650 entries, 0 to 112649\nData columns (total 50 columns):\n #   Column                        Non-Null Count   Dtype  \n---  ------                        --------------   -----  \n 0   id                            112650 non-null  int64  \n 1   user_id                       112650 non-null  int64  \n 2   product_id_surr               112650 non-null  int64  \n 3   seller_id_surr                112650 non-null  int64  \n 4   feedback_id_surr              112650 non-null  int64  \n 5   order_date                    112650 non-null  object \n 6   order_approved_date           112635 non-null  object \n 7   pickup_date                   111456 non-null  object \n 8   delivered_date                110196 non-null  object \n 9   estimated_time_delivery       112650 non-null  object \n 10  pickup_limit_date             112650 non-null  object \n 11  order_id_x                    112650 non-null  object \n 12  item_number                   112650 non-null  int64  \n 13  order_item_status             112650 non-null  object \n 14  price                         112650 non-null  float64\n 15  shipping_cost                 112650 non-null  float64\n 16  user_name                     112650 non-null  object \n 17  total_order                   112650 non-null  float64\n 18  total_spending                112650 non-null  float64\n 19  is_current_version_x          112650 non-null  bool   \n 20  order_id_y                    112650 non-null  object \n 21  feedback_avg_score            112650 non-null  float64\n 22  feedback_form_sent_date       112650 non-null  object \n 23  feedback_answer_date          112650 non-null  object \n 24  is_current_version_y          112650 non-null  bool   \n 25  product_id_x                  112650 non-null  object \n 26  product_category_x            111023 non-null  object \n 27  product_name_length_x         111047 non-null  float64\n 28  product_description_length_x  111047 non-null  float64\n 29  product_photos_qty_x          111047 non-null  float64\n 30  product_length_cm_x           112632 non-null  float64\n 31  product_weight_g_x            112632 non-null  float64\n 32  product_height_cm_x           112632 non-null  float64\n 33  product_width_cm_x            112632 non-null  float64\n 34  is_current_version_x          112650 non-null  bool   \n 35  product_id_y                  112650 non-null  object \n 36  product_category_y            111023 non-null  object \n 37  product_name_length_y         111047 non-null  float64\n 38  product_description_length_y  111047 non-null  float64\n 39  product_photos_qty_y          111047 non-null  float64\n 40  product_length_cm_y           112632 non-null  float64\n 41  product_weight_g_y            112632 non-null  float64\n 42  product_height_cm_y           112632 non-null  float64\n 43  product_width_cm_y            112632 non-null  float64\n 44  is_current_version_y          112650 non-null  bool   \n 45  seller_id                     112650 non-null  object \n 46  seller_zip_code               112650 non-null  int64  \n 47  seller_city                   112650 non-null  object \n 48  seller_state                  112650 non-null  object \n 49  is_current_version            112650 non-null  bool   \ndtypes: bool(5), float64(19), int64(7), object(19)\nmemory usage: 40.1+ MB\n"
     ]
    }
   ],
   "source": [
    "merged = pd.merge(merged,seller, how=\"inner\", on=\"seller_id_surr\")\n",
    "merged.info()"
   ]
  },
  {
   "cell_type": "code",
   "execution_count": null,
   "metadata": {},
   "outputs": [],
   "source": []
  }
 ]
}