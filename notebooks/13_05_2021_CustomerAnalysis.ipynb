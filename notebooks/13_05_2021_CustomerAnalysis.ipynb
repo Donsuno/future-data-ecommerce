{
 "cells": [
  {
   "cell_type": "markdown",
   "id": "abaf8290",
   "metadata": {},
   "source": [
    "# Customer Recency Analysis\n",
    "\n",
    "## Purpose\n",
    "Finding insight on :\n",
    "\n",
    "## Background\n",
    "\n",
    "## Assumption"
   ]
  },
  {
   "cell_type": "markdown",
   "id": "04fa58af",
   "metadata": {},
   "source": [
    "## Sanity Check"
   ]
  },
  {
   "cell_type": "code",
   "execution_count": null,
   "id": "1d3d1deb",
   "metadata": {},
   "outputs": [],
   "source": [
    "import json\n",
    "\n",
    "def load_config(file_path: str = \"./config.json\"):\n",
    "    with open(file_path) as config_file:\n",
    "        data = json.load(config_file)\n",
    "    return data\n",
    "\n",
    "config = load_config(\"../config.json\")\n",
    "DBNAME = config.get(\"DBNAME\")\n",
    "HOSTNAME = config.get(\"HOSTNAME\")\n",
    "USER = config.get(\"USER\")\n",
    "PASS = config.get(\"PASS\")\n",
    "SCHEMA = config.get(\"SCHEMA\")"
   ]
  },
  {
   "cell_type": "code",
   "execution_count": null,
   "id": "b6bc7477",
   "metadata": {},
   "outputs": [],
   "source": [
    "# Basic \n",
    "import sys\n",
    "import numpy as np\n",
    "import scipy as sp\n",
    "import pandas as pd\n",
    "\n",
    "# SQL Engine\n",
    "import psycopg2\n",
    "import pandas as pd\n",
    "from sqlalchemy import create_engine\n",
    "\n",
    "# Profiling process\n",
    "from tqdm import tqdm\n",
    "\n",
    "# Warning problems in notebook\n",
    "import warnings\n",
    "warnings.filterwarnings('ignore')\n",
    "\n",
    "# Visualization\n",
    "import bamboolib as bam\n",
    "import plotly.express as px\n",
    "\n",
    "# Reporting result\n",
    "import sweetviz as sv\n",
    "from dataprep.eda import create_report"
   ]
  },
  {
   "cell_type": "code",
   "execution_count": null,
   "id": "016a1938",
   "metadata": {},
   "outputs": [],
   "source": [
    "def mapping_geolocation(val):\n",
    "    mapping = {\n",
    "        \"DKI JAKARTA\" : \"JAKARTA RAYA\",\n",
    "        \"KALIMANTAN UTARA\" : \"KALIMANTAN TENGAH\",\n",
    "        \"DI YOGYAKARTA\" : \"YOGYAKARTA\",\n",
    "        \"KEPULAUAN BANGKA BELITUNG\" : \"BANGKA BELITUNG\"\n",
    "    }\n",
    "    if (val in mapping) :\n",
    "        return mapping[val]\n",
    "    return val"
   ]
  },
  {
   "cell_type": "code",
   "execution_count": null,
   "id": "e3620c61",
   "metadata": {},
   "outputs": [],
   "source": [
    "# Load data\n",
    "\n",
    "# Create an engine instance\n",
    "alchemyEngine = create_engine(\n",
    "    f'postgresql+psycopg2://{USER}:{PASS}@{HOSTNAME}/{DBNAME}', pool_recycle=3600)\n",
    "\n",
    "# Connect to PostgreSQL server\n",
    "conn = alchemyEngine.connect()\n",
    "\n",
    "schema = SCHEMA"
   ]
  },
  {
   "cell_type": "markdown",
   "id": "262d5822",
   "metadata": {},
   "source": [
    "## Multiple vs Single Time Only User\n",
    "\n",
    "### Understand Lifetime Purchase Behaviour"
   ]
  },
  {
   "cell_type": "code",
   "execution_count": null,
   "id": "7e694fe6",
   "metadata": {},
   "outputs": [],
   "source": [
    "QUERY = \"\"\"\n",
    "select \n",
    "\tu.user_name,\n",
    "\tMAX(foi.lifetime_order) as lifetime_order ,\n",
    "\tMAX(foi.lifetime_spending) as lifetime_spending \n",
    "from staging.fct_order_items foi\n",
    "left outer join (\n",
    "\tselect \n",
    "\t\tdu.user_key ,\n",
    "\t\tdu.user_name \n",
    "\tfrom staging.dim_user du \n",
    "\twhere du.is_current_version=true\n",
    ") u on foi.user_key = u.user_key\n",
    "group by u.user_name\n",
    "\"\"\"\n",
    "\n",
    "df = pd.read_sql_query(QUERY, conn)\n",
    "df"
   ]
  },
  {
   "cell_type": "code",
   "execution_count": null,
   "id": "f4029ef8",
   "metadata": {},
   "outputs": [],
   "source": [
    "df_temp = df.groupby(['lifetime_order']).agg(number_of_customer=('user_name', 'size')).reset_index()\n",
    "df_temp"
   ]
  },
  {
   "cell_type": "code",
   "execution_count": null,
   "id": "80caf612",
   "metadata": {},
   "outputs": [],
   "source": [
    "fig = px.bar(df_temp, x='lifetime_order', y='number_of_customer', template='ggplot2', title='User by Number of Order')\n",
    "fig.update_yaxes(title_text='Number of user')\n",
    "fig.update_xaxes(title_text='Number of order')\n",
    "fig"
   ]
  },
  {
   "cell_type": "code",
   "execution_count": null,
   "id": "67cc042d",
   "metadata": {},
   "outputs": [],
   "source": [
    "df_temp = df.groupby(['lifetime_spending']).agg(number_of_customer=('user_name', 'size')).reset_index()\n",
    "df_temp"
   ]
  },
  {
   "cell_type": "code",
   "execution_count": null,
   "id": "6a261605",
   "metadata": {},
   "outputs": [],
   "source": [
    "fig = px.histogram(df_temp, x='lifetime_spending', y='number_of_customer', template='ggplot2', title='User by Total Spending')\n",
    "fig.update_yaxes(title_text='Number of user')\n",
    "fig.update_xaxes(title_text='Total Spending')\n",
    "fig"
   ]
  },
  {
   "cell_type": "markdown",
   "id": "1dc8629b",
   "metadata": {},
   "source": [
    "### Important Notes : \n",
    "Most people only purchase 1 times in the ecommerce ..."
   ]
  },
  {
   "cell_type": "markdown",
   "id": "ce0e3298",
   "metadata": {},
   "source": [
    "## Understanding Interval between purchase for multiple purchase"
   ]
  },
  {
   "cell_type": "code",
   "execution_count": null,
   "id": "f2864b1c",
   "metadata": {},
   "outputs": [],
   "source": [
    "QUERY = \"\"\"\n",
    "select \n",
    "distinct\n",
    "\tfoi.order_id,\n",
    "\tu.user_name,\n",
    "\tdd.date\n",
    "from staging.fct_order_items foi \n",
    "left outer join (\n",
    "\tselect \n",
    "\t\tdu.user_key ,\n",
    "\t\tdu.user_name \n",
    "\tfrom staging.dim_user du \n",
    "\twhere du.is_current_version=true\n",
    ") u on foi.user_key = u.user_key\n",
    "left outer join staging.dim_date dd on foi.order_date = dd.date_id \n",
    "left outer join staging.dim_time dt on foi.order_time = dt.time_id\n",
    "where foi.lifetime_order > 1;\n",
    "\"\"\"\n",
    "\n",
    "interval_df = pd.read_sql_query(QUERY, conn)\n",
    "interval_df['date'] = pd.to_datetime(interval_df['date'], format='%Y-%m-%d')\n",
    "interval_df"
   ]
  },
  {
   "cell_type": "code",
   "execution_count": null,
   "id": "461788f8",
   "metadata": {},
   "outputs": [],
   "source": [
    "interval_df['previous_date'] = interval_df.groupby('user_name')['date'].shift(1)\n",
    "interval_df.dropna(inplace = True)\n",
    "interval_df['order_interval'] = (interval_df['date'] - interval_df['previous_date']).dt.days\n",
    "interval_df = interval_df[interval_df['order_interval'] > 0]\n",
    "interval_df"
   ]
  },
  {
   "cell_type": "code",
   "execution_count": null,
   "id": "30004e99",
   "metadata": {},
   "outputs": [],
   "source": [
    "fig = px.violin(interval_df[interval_df['order_interval'] > 0], box=True, template=\"ggplot2\", x='order_interval', title='Distribution between each order (multiple purchase user)')\n",
    "fig.update_xaxes(title_text='Number of Days')\n",
    "fig"
   ]
  },
  {
   "cell_type": "code",
   "execution_count": null,
   "id": "d30794b0",
   "metadata": {},
   "outputs": [],
   "source": [
    "fig = px.box(interval_df[interval_df['order_interval'] > 0], template=\"ggplot2\", x='order_interval', title='Distribution between each order (multiple purchase user)')\n",
    "fig.update_xaxes(title_text='Number of Days')\n",
    "fig"
   ]
  },
  {
   "cell_type": "markdown",
   "id": "d74434d7",
   "metadata": {},
   "source": [
    "The violin plot in the upper shows that the majority of customers who repurchase order leave between 22 and 168 days to do so. The vast majority of customers will purchase within 400 days with there being a few extreme cases which are over 600 days. The upper quartile (Q3) suggests that there is a rough interval of 183 days which sits about 6 months. Using the upper bound of that interval, we can have this as our cut-off point for recency, ultimately any purchase within 6 months (~183 days) will be considered as a recent purchase."
   ]
  },
  {
   "cell_type": "markdown",
   "id": "84365110",
   "metadata": {},
   "source": [
    "## User Recency Segmentation"
   ]
  },
  {
   "cell_type": "code",
   "execution_count": null,
   "id": "5a852d18",
   "metadata": {},
   "outputs": [],
   "source": [
    "# Finding max date recorded in data\n",
    "QUERY = \"\"\"\n",
    "select MAX(dd.\"date\")\n",
    "from staging.fct_order_items foi\n",
    "left outer join staging.dim_date dd on foi.order_date = dd.date_id \n",
    "limit 1;\n",
    "\"\"\"\n",
    "\n",
    "_ = pd.read_sql_query(QUERY, conn)\n",
    "max_date = _['max'][0]\n",
    "print(f\"Max Order Date Recorded : {max_date.day}-{max_date.month}-{max_date.year}\")"
   ]
  },
  {
   "cell_type": "code",
   "execution_count": null,
   "id": "d50b071b",
   "metadata": {},
   "outputs": [],
   "source": [
    "# Init RFM Analysis Query\n",
    "QUERY = \"\"\"\n",
    "select \n",
    "\tu.user_name,\n",
    "\tDATE_PART('day', '2018-09-03'::timestamp- MAX(dd.\"date\")) as recency,\n",
    "\tMAX(foi.lifetime_order) as frequency ,\n",
    "\tMAX(foi.lifetime_spending) as monetary,\n",
    "\tMAX(dd.\"date\") - MIN(dd.\"date\") as usage_days,\n",
    "    MAX(foi.lifetime_spending) as total_spending,\n",
    "\tMAX(foi.lifetime_spending) / MAX(foi.lifetime_order) as average_order_value,\n",
    "    COUNT(foi.order_item_id)  as total_basket_size,\n",
    "    COUNT(foi.order_item_id) / MAX(foi.lifetime_order)  as avg_basket_size,\n",
    "    CASE \n",
    "        WHEN DATE_PART('day', '2018-09-03'::timestamp- MAX(dd.\"date\")) < 183 THEN 'ACTIVE'\n",
    "        WHEN DATE_PART('day', '2018-09-03'::timestamp- MAX(dd.\"date\")) >= 183 AND DATE_PART('day', '2018-09-03'::timestamp- MAX(dd.\"date\")) < 365 THEN 'INACTIVE'\n",
    "        ELSE 'LAPSED'\n",
    "    END as recency_status\n",
    "from staging.fct_order_items foi\n",
    "left join staging.dim_date dd on foi.order_date = dd.date_id \n",
    "left join (\n",
    "\tselect \n",
    "\t\tdu.user_key ,\n",
    "\t\tdu.user_name \n",
    "\tfrom staging.dim_user du \n",
    "\twhere du.is_current_version=true\n",
    ") u on foi.user_key = u.user_key\n",
    "group by u.user_name \n",
    "order by 6 desc;\n",
    "\"\"\"\n",
    "rfm_df = pd.read_sql_query(QUERY, conn)\n",
    "rfm_df = rfm_df.dropna(subset=['frequency'])\n",
    "rfm_df"
   ]
  },
  {
   "cell_type": "code",
   "execution_count": null,
   "id": "8123327f",
   "metadata": {},
   "outputs": [],
   "source": [
    "fig = px.bar( x=rfm_df['recency_status'].value_counts().index, \n",
    "             y=rfm_df['recency_status'].value_counts().values, \n",
    "             template='ggplot2', \n",
    "             title='User by Number of Order',\n",
    "             color=rfm_df['recency_status'].value_counts().index)\n",
    "fig.update_yaxes(title_text='Number of user')\n",
    "fig.update_xaxes(title_text='Recency Status')\n",
    "fig.update_layout(legend_title_text='Type')\n",
    "fig"
   ]
  },
  {
   "cell_type": "code",
   "execution_count": null,
   "id": "e0ef0705",
   "metadata": {},
   "outputs": [],
   "source": [
    "fig = px.box(rfm_df, x='recency_status', y='recency',\n",
    "             template='ggplot2', \n",
    "             title='Distribution of recency days of user',\n",
    "            color='recency_status')\n",
    "fig.update_yaxes(title_text='Number of days')\n",
    "fig.update_xaxes(title_text='Recency Status')\n",
    "fig.update_layout(legend_title_text='Type')\n",
    "fig"
   ]
  },
  {
   "cell_type": "markdown",
   "id": "00916fd4",
   "metadata": {},
   "source": [
    "## User Spending Preference based on Recency Segment Type"
   ]
  },
  {
   "cell_type": "code",
   "execution_count": null,
   "id": "de99430f",
   "metadata": {},
   "outputs": [],
   "source": [
    "# Checking for any missed data (some order may not delivered yet -> cancelled, unavailable, etc)\n",
    "rfm_df.loc[rfm_df.avg_basket_size < 1]"
   ]
  },
  {
   "cell_type": "code",
   "execution_count": null,
   "id": "113a25e6",
   "metadata": {},
   "outputs": [],
   "source": [
    "# We can see the distribution for the basket size \n",
    "fig = px.histogram(rfm_df, x='avg_basket_size', template='ggplot2', title='User Average Cart Size Distribution ')\n",
    "fig.update_yaxes(title_text='Order count')\n",
    "fig.update_xaxes(title_text='Number of item')\n",
    "fig"
   ]
  },
  {
   "cell_type": "code",
   "execution_count": null,
   "id": "309ffc57",
   "metadata": {},
   "outputs": [],
   "source": [
    "fig = px.violin(rfm_df, x='avg_basket_size', box=True, template='ggplot2', title='User Average Cart Size Distribution ')\n",
    "fig.update_xaxes(title_text='Number of item')\n",
    "fig"
   ]
  },
  {
   "cell_type": "code",
   "execution_count": null,
   "id": "4e1a5b3a",
   "metadata": {},
   "outputs": [],
   "source": [
    "# Lets divide into 2 categories : \n",
    "# TODO : barplot + create segmentation using apply\n",
    "rfm_df['percentile_avg_spending'] = pd.qcut(rfm_df['average_order_value'], 10, labels=np.arange(1, 11, 1)).astype('int')\n",
    "rfm_df['percentile_total_spending'] = pd.qcut(rfm_df['total_spending'], 10, labels=np.arange(1, 11, 1)).astype('int')\n",
    "rfm_df['volume_type'] = rfm_df.apply(\n",
    "    lambda row : \"High Volume\" if row['avg_basket_size'] > 1 else \"Low Volume\",\n",
    "    axis = 1\n",
    ")\n",
    "rfm_df['spending_type'] = rfm_df.apply(\n",
    "    lambda row : \"Low Value\" if row['percentile_avg_spending'] < 6 else \"High Value\"\n",
    "    , axis = 1\n",
    ")"
   ]
  },
  {
   "cell_type": "code",
   "execution_count": null,
   "id": "1985a028",
   "metadata": {},
   "outputs": [],
   "source": [
    "def mapping_segment(row) :\n",
    "    if (row.recency_status == \"ACTIVE\") :\n",
    "        return f\"{row.spending_type} & {row.volume_type}\"\n",
    "    elif row.recency_status == \"INACTIVE\" :\n",
    "        return row.spending_type\n",
    "    else :\n",
    "        return \"Invalid\"\n",
    "\n",
    "rfm_df['segment'] = rfm_df.apply(mapping_segment, axis = 1)\n",
    "rfm_df"
   ]
  },
  {
   "cell_type": "code",
   "execution_count": null,
   "id": "6f977ee3",
   "metadata": {},
   "outputs": [],
   "source": [
    "rfm_df_active = rfm_df.loc[rfm_df.recency_status ==\"ACTIVE\"]\n",
    "rfm_df_inactive = rfm_df.loc[rfm_df.recency_status ==\"INACTIVE\"]"
   ]
  },
  {
   "cell_type": "code",
   "execution_count": null,
   "id": "8726a2f6",
   "metadata": {},
   "outputs": [],
   "source": [
    "rfm_df_active_segment = rfm_df_active.groupby(['segment']).agg(user_count=('user_name', 'size'), avg_spending = ('average_order_value', 'mean'), avg_basket = ('avg_basket_size', 'mean')).reset_index()\n",
    "rfm_df_active_segment"
   ]
  },
  {
   "cell_type": "code",
   "execution_count": null,
   "id": "54e04806",
   "metadata": {},
   "outputs": [],
   "source": [
    "fig = px.bar(rfm_df_active_segment, x='segment', y='user_count', color=\"segment\", template='ggplot2', title='Active User Value & Volume Segment')\n",
    "fig.update_xaxes(categoryorder='total descending')\n",
    "fig.update_yaxes(title_text='Number of User')\n",
    "fig.update_xaxes(title_text='Segment')\n",
    "fig"
   ]
  },
  {
   "cell_type": "code",
   "execution_count": null,
   "id": "0ee7a717",
   "metadata": {},
   "outputs": [],
   "source": [
    "fig = px.bar(rfm_df_active_segment, x='segment', y='avg_spending', color=\"segment\", template='ggplot2', title='Active User Average Spending (per Segment)')\n",
    "fig.update_xaxes(categoryorder='total descending')\n",
    "fig.update_yaxes(title_text='Average Spending Value')\n",
    "fig.update_xaxes(title_text='Segment')\n",
    "fig"
   ]
  },
  {
   "cell_type": "code",
   "execution_count": null,
   "id": "974b0f45",
   "metadata": {},
   "outputs": [],
   "source": [
    "fig = px.bar(rfm_df_active_segment, x='segment', y='avg_basket', color=\"segment\", template='ggplot2', title='Active User Average Cart Size (per Segment)')\n",
    "fig.update_xaxes(categoryorder='total descending')\n",
    "fig.update_yaxes(title_text='Average Cart Size')\n",
    "fig.update_xaxes(title_text='Segment')\n",
    "fig"
   ]
  },
  {
   "cell_type": "code",
   "execution_count": null,
   "id": "c63c7bf4",
   "metadata": {},
   "outputs": [],
   "source": [
    "rfm_df_inactive_segment = rfm_df_inactive.groupby(['segment']).agg(user_count=('user_name', 'size'),avg_spending = ('average_order_value', 'mean')).reset_index()\n",
    "rfm_df_inactive_segment"
   ]
  },
  {
   "cell_type": "code",
   "execution_count": null,
   "id": "bd45c76b",
   "metadata": {},
   "outputs": [],
   "source": [
    "fig = px.bar(rfm_df_inactive_segment, x='segment', y='user_count', color=\"segment\", template='ggplot2', title='Inactive User Value')\n",
    "fig.update_xaxes(categoryorder='total descending')\n",
    "fig.update_yaxes(title_text='Number of User')\n",
    "fig.update_xaxes(title_text='Segment')\n",
    "fig"
   ]
  },
  {
   "cell_type": "code",
   "execution_count": null,
   "id": "15a28801",
   "metadata": {},
   "outputs": [],
   "source": [
    "fig = px.bar(rfm_df_inactive_segment, x='segment', y='avg_spending', color=\"segment\", template='ggplot2', title='Inactive User Average Spending (per Segment)')\n",
    "fig.update_xaxes(categoryorder='total descending')\n",
    "fig.update_yaxes(title_text='Average Spending Value')\n",
    "fig.update_xaxes(title_text='Segment')\n",
    "fig"
   ]
  },
  {
   "cell_type": "markdown",
   "id": "705d4b77",
   "metadata": {},
   "source": [
    "## User vs Seller Location"
   ]
  },
  {
   "cell_type": "code",
   "execution_count": null,
   "id": "a93ad055",
   "metadata": {},
   "outputs": [],
   "source": [
    "# Init needed data\n",
    "\n",
    "QUERY_USER = \"\"\"\n",
    "select * \n",
    "from staging.dim_user;\n",
    "\"\"\"\n",
    "\n",
    "QUERY_SELLER = \"\"\"\n",
    "select * \n",
    "from staging.dim_seller;\n",
    "\"\"\"\n",
    "\n",
    "# Init dataframe\n",
    "user_df = pd.read_sql_query(QUERY_USER, conn)\n",
    "seller_df = pd.read_sql_query(QUERY_SELLER, conn)\n",
    "\n",
    "# Mapping geolocation\n",
    "user_df['mapped_geolocation'] = user_df.apply(\n",
    "    lambda row : mapping_geolocation(row['customer_state']),\n",
    "    axis = 1\n",
    ")\n",
    "\n",
    "seller_df['mapped_geolocation'] = seller_df.apply(\n",
    "    lambda row : mapping_geolocation(row['seller_state']),\n",
    "    axis = 1\n",
    ")"
   ]
  },
  {
   "cell_type": "code",
   "execution_count": null,
   "id": "5c9884f2",
   "metadata": {},
   "outputs": [],
   "source": [
    "# User df info\n",
    "user_df_geo_grouped = user_df.groupby(['mapped_geolocation']).agg(user_count=('user_name', 'size')).reset_index()\n",
    "user_df_geo_grouped"
   ]
  },
  {
   "cell_type": "code",
   "execution_count": null,
   "id": "af564766",
   "metadata": {},
   "outputs": [],
   "source": [
    "fig = px.bar(user_df_geo_grouped, x='mapped_geolocation', y='user_count', title='Number of user per state', template='plotly_white', orientation='v', color='mapped_geolocation')\n",
    "fig.update_xaxes(categoryorder='total descending')\n",
    "fig.update_xaxes(title_text='State')\n",
    "fig.update_yaxes(title_text='Number of user')\n",
    "fig.update_layout(legend_title_text='State')\n",
    "fig"
   ]
  },
  {
   "cell_type": "code",
   "execution_count": null,
   "id": "87f2fa54",
   "metadata": {},
   "outputs": [],
   "source": [
    "# Seller df info\n",
    "seller_df_geo_grouped = seller_df.groupby(['mapped_geolocation']).agg(seller_count=('seller_id', 'size')).reset_index()\n",
    "seller_df_geo_grouped"
   ]
  },
  {
   "cell_type": "code",
   "execution_count": null,
   "id": "f168a663",
   "metadata": {},
   "outputs": [],
   "source": [
    "fig = px.bar(seller_df_geo_grouped, x='mapped_geolocation', y='seller_count', title='Number of seller per state', template='plotly_white', orientation='v', color='mapped_geolocation')\n",
    "fig.update_xaxes(categoryorder='total descending')\n",
    "fig.update_xaxes(title_text='State')\n",
    "fig.update_yaxes(title_text='Number of seller')\n",
    "fig.update_layout(legend_title_text='State')\n",
    "fig"
   ]
  },
  {
   "cell_type": "code",
   "execution_count": null,
   "id": "7c88157f",
   "metadata": {},
   "outputs": [],
   "source": [
    "import geopandas as gpd\n",
    "\n",
    "path = '../data/gadm36_IDN_1.json'\n",
    "df_geo = gpd.read_file(path)\n",
    "df_geo['NAME_1_upper'] = df_geo['NAME_1'].str.upper()"
   ]
  },
  {
   "cell_type": "code",
   "execution_count": null,
   "id": "1f2294f6",
   "metadata": {},
   "outputs": [],
   "source": [
    "seller_geo = df_geo.merge(seller_df_geo_grouped, how=\"inner\", left_on=\"NAME_1_upper\", right_on=\"mapped_geolocation\")\n",
    "seller_geo.info()"
   ]
  },
  {
   "cell_type": "code",
   "execution_count": null,
   "id": "b9465357",
   "metadata": {},
   "outputs": [],
   "source": [
    "fig = px.choropleth(seller_geo,\n",
    "                   geojson=seller_geo.geometry,\n",
    "                   locations=seller_geo.index,\n",
    "                   hover_name=seller_geo.mapped_geolocation,\n",
    "                   color=\"seller_count\",\n",
    "                    template='ggplot2'\n",
    "                   )\n",
    "fig.update_geos(fitbounds=\"locations\", visible=False)"
   ]
  },
  {
   "cell_type": "code",
   "execution_count": null,
   "id": "c28f0bc2",
   "metadata": {},
   "outputs": [],
   "source": [
    "user_geo = df_geo.merge(user_df_geo_grouped, how=\"inner\", left_on=\"NAME_1_upper\", right_on=\"mapped_geolocation\")\n",
    "user_geo.info()"
   ]
  },
  {
   "cell_type": "code",
   "execution_count": null,
   "id": "4dc8c023",
   "metadata": {},
   "outputs": [],
   "source": [
    "fig = px.choropleth(user_geo,\n",
    "                   geojson=user_geo.geometry,\n",
    "                   locations=user_geo.index,\n",
    "                   hover_name=user_geo.mapped_geolocation,\n",
    "                   color=\"user_count\",\n",
    "                    template='ggplot2'\n",
    "                   )\n",
    "fig.update_geos(fitbounds=\"locations\", visible=False)"
   ]
  },
  {
   "cell_type": "markdown",
   "id": "db4d9e19",
   "metadata": {},
   "source": [
    "## Recommendation"
   ]
  },
  {
   "cell_type": "markdown",
   "id": "6175b22b",
   "metadata": {},
   "source": [
    "## Reference\n",
    "- [RFM Analysis](https://www.kaggle.com/alpamys/rfm-cohort-analysis)\n",
    "- [Customer Satisfaction](https://www.kaggle.com/andresionek/predicting-customer-satisfaction)\n",
    "- [Mapping in Plotly](https://towardsdatascience.com/noobs-guide-to-create-choropleth-map-using-python-geopandas-d6269e9e9a0c)\n",
    "- [Kaggle Plotting Map](https://www.kaggle.com/farizdarari/simple-map-visualization-using-geopandas)\n",
    "- [Web application for map visualization](https://plotly.com/python/choropleth-maps/)"
   ]
  },
  {
   "cell_type": "code",
   "execution_count": null,
   "id": "a405da06",
   "metadata": {},
   "outputs": [],
   "source": []
  }
 ],
 "metadata": {
  "kernelspec": {
   "display_name": "Python 3",
   "language": "python",
   "name": "python3"
  },
  "language_info": {
   "codemirror_mode": {
    "name": "ipython",
    "version": 3
   },
   "file_extension": ".py",
   "mimetype": "text/x-python",
   "name": "python",
   "nbconvert_exporter": "python",
   "pygments_lexer": "ipython3",
   "version": "3.8.8"
  }
 },
 "nbformat": 4,
 "nbformat_minor": 5
}
