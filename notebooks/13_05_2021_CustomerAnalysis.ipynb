{
 "cells": [
  {
   "cell_type": "markdown",
   "id": "7b55fe4b",
   "metadata": {},
   "source": [
    "# Customer RFM Analysis\n",
    "\n",
    "## Purpose\n",
    "Finding insight on :\n",
    "- What is the customer retention rate from ecommerce user?\n",
    "- How long is the interval between each purchase for multiple purchase user?\n",
    "- How many user that are a \"loyal\" user?\n",
    "- Who is the big spender in the ecommerce? (Spending preference of user in ecommerce)\n",
    "- How many active user vs inactive user from each states?\n",
    "\n",
    "-- (Not to related, but really interesting)\n",
    "- What are the frequency of order from each states?\n",
    "- What about the number of user in each states?\n",
    "- What about the number of seller in each states?\n",
    "\n",
    "## Background\n",
    "Customer / User is an important part for business process in ecommerce. By understanding user, we could increase many things, such as increasing the user satisfaction, sales, retention rate and new user. With this in mind, I'm trying to understand the user using the RFM (Recency, Frequency and Monetary) Analysis ([reference](https://www.investopedia.com/terms/r/rfm-recency-frequency-monetary-value.asp)) to find the customer segment in order to make marketing strategy more effectively.\n",
    "\n",
    "## In General\n",
    "Some importhing thing to know is that the average retention rate for e-commerce is around 30% for ecommerce.\n",
    "\n"
   ]
  },
  {
   "cell_type": "markdown",
   "id": "dc1e4900",
   "metadata": {},
   "source": [
    "## Sanity Check"
   ]
  },
  {
   "cell_type": "code",
   "execution_count": null,
   "id": "097b9a4a",
   "metadata": {},
   "outputs": [],
   "source": [
    "import json\n",
    "\n",
    "def load_config(file_path: str = \"./config.json\"):\n",
    "    with open(file_path) as config_file:\n",
    "        data = json.load(config_file)\n",
    "    return data\n",
    "\n",
    "config = load_config(\"../config.json\")\n",
    "DBNAME = config.get(\"DBNAME\")\n",
    "HOSTNAME = config.get(\"HOSTNAME\")\n",
    "USER = config.get(\"USER\")\n",
    "PASS = config.get(\"PASS\")\n",
    "SCHEMA = config.get(\"SCHEMA\")"
   ]
  },
  {
   "cell_type": "code",
   "execution_count": null,
   "id": "9b31eaa9",
   "metadata": {},
   "outputs": [],
   "source": [
    "# Basic \n",
    "import sys\n",
    "import numpy as np\n",
    "import scipy as sp\n",
    "import pandas as pd\n",
    "\n",
    "# SQL Engine\n",
    "import psycopg2\n",
    "import pandas as pd\n",
    "from sqlalchemy import create_engine\n",
    "\n",
    "# Profiling process\n",
    "from tqdm import tqdm\n",
    "\n",
    "# Warning problems in notebook\n",
    "import warnings\n",
    "warnings.filterwarnings('ignore')\n",
    "\n",
    "# Visualization\n",
    "import bamboolib as bam\n",
    "import plotly.express as px\n",
    "\n",
    "# Reporting result\n",
    "import sweetviz as sv\n",
    "from dataprep.eda import create_report"
   ]
  },
  {
   "cell_type": "code",
   "execution_count": null,
   "id": "fb9de95f",
   "metadata": {},
   "outputs": [],
   "source": [
    "def mapping_geolocation(val):\n",
    "    mapping = {\n",
    "        \"DKI JAKARTA\" : \"JAKARTA RAYA\",\n",
    "        \"KALIMANTAN UTARA\" : \"KALIMANTAN TENGAH\",\n",
    "        \"DI YOGYAKARTA\" : \"YOGYAKARTA\",\n",
    "        \"KEPULAUAN BANGKA BELITUNG\" : \"BANGKA BELITUNG\"\n",
    "    }\n",
    "    if (val in mapping) :\n",
    "        return mapping[val]\n",
    "    return val"
   ]
  },
  {
   "cell_type": "code",
   "execution_count": null,
   "id": "a76ca607",
   "metadata": {},
   "outputs": [],
   "source": [
    "# Load data\n",
    "\n",
    "# Create an engine instance\n",
    "alchemyEngine = create_engine(\n",
    "    f'postgresql+psycopg2://{USER}:{PASS}@{HOSTNAME}/{DBNAME}', pool_recycle=3600)\n",
    "\n",
    "# Connect to PostgreSQL server\n",
    "conn = alchemyEngine.connect()\n",
    "\n",
    "schema = SCHEMA"
   ]
  },
  {
   "cell_type": "markdown",
   "id": "21e15ce4",
   "metadata": {},
   "source": [
    "## Multiple vs Single Time Purchase(s) User\n",
    "\n",
    "### Understand User Retention Rate"
   ]
  },
  {
   "cell_type": "code",
   "execution_count": null,
   "id": "85856825",
   "metadata": {},
   "outputs": [],
   "source": [
    "QUERY = \"\"\"\n",
    "select \n",
    "\tu.user_name,\n",
    "\tMAX(foi.lifetime_order) as lifetime_order ,\n",
    "\tMAX(foi.lifetime_spending) as lifetime_spending \n",
    "from staging.fct_order_items foi\n",
    "left outer join (\n",
    "\tselect \n",
    "\t\tdu.user_key ,\n",
    "\t\tdu.user_name \n",
    "\tfrom staging.dim_user du \n",
    "\twhere du.is_current_version=true\n",
    ") u on foi.user_key = u.user_key\n",
    "group by u.user_name\n",
    "\"\"\"\n",
    "\n",
    "df = pd.read_sql_query(QUERY, conn)\n",
    "df"
   ]
  },
  {
   "cell_type": "code",
   "execution_count": null,
   "id": "4e9bb05c",
   "metadata": {},
   "outputs": [],
   "source": [
    "df_temp = df.groupby(['lifetime_order']).agg(number_of_customer=('user_name', 'size')).reset_index()\n",
    "df_temp"
   ]
  },
  {
   "cell_type": "code",
   "execution_count": null,
   "id": "e03cdfa0",
   "metadata": {},
   "outputs": [],
   "source": [
    "fig = px.bar(df_temp, x='lifetime_order', y='number_of_customer', template='ggplot2', title='User by Number of Order')\n",
    "fig.update_yaxes(title_text='Number of user')\n",
    "fig.update_xaxes(title_text='Number of order')\n",
    "fig"
   ]
  },
  {
   "cell_type": "code",
   "execution_count": null,
   "id": "a5ef2485",
   "metadata": {},
   "outputs": [],
   "source": [
    "df_temp = df.groupby(['lifetime_spending']).agg(number_of_customer=('user_name', 'size')).reset_index()\n",
    "df_temp"
   ]
  },
  {
   "cell_type": "code",
   "execution_count": null,
   "id": "bc3fdacd",
   "metadata": {},
   "outputs": [],
   "source": [
    "fig = px.histogram(df_temp, x='lifetime_spending', y='number_of_customer', template='ggplot2', title='User by Total Spending')\n",
    "fig.update_yaxes(title_text='Number of user')\n",
    "fig.update_xaxes(title_text='Total Spending')\n",
    "fig"
   ]
  },
  {
   "cell_type": "markdown",
   "id": "78f6f76c",
   "metadata": {},
   "source": [
    "### Notes \n",
    "Most user (around 92k) only purchase 1 times from the ecommerce. Meanwhile, there are about (~ 3k) user that purchase more than 1 times. \n",
    "\n",
    "We could see that most of the time the user is not purchase more than 1. Meanwhile the average retention rate is about 30%..."
   ]
  },
  {
   "cell_type": "markdown",
   "id": "315aeb24",
   "metadata": {},
   "source": [
    "## Understanding Interval between purchase for multiple purchase\n",
    "\n",
    "What about the interval for each purchase ?"
   ]
  },
  {
   "cell_type": "code",
   "execution_count": null,
   "id": "2049b91f",
   "metadata": {},
   "outputs": [],
   "source": [
    "QUERY = \"\"\"\n",
    "select \n",
    "distinct\n",
    "\tfoi.order_id,\n",
    "\tu.user_name,\n",
    "\tdd.date\n",
    "from staging.fct_order_items foi \n",
    "left outer join (\n",
    "\tselect \n",
    "\t\tdu.user_key ,\n",
    "\t\tdu.user_name \n",
    "\tfrom staging.dim_user du \n",
    "\twhere du.is_current_version=true\n",
    ") u on foi.user_key = u.user_key\n",
    "left outer join staging.dim_date dd on foi.order_date = dd.date_id \n",
    "left outer join staging.dim_time dt on foi.order_time = dt.time_id\n",
    "where foi.lifetime_order > 1;\n",
    "\"\"\"\n",
    "\n",
    "interval_df = pd.read_sql_query(QUERY, conn)\n",
    "interval_df['date'] = pd.to_datetime(interval_df['date'], format='%Y-%m-%d')\n",
    "interval_df"
   ]
  },
  {
   "cell_type": "code",
   "execution_count": null,
   "id": "051c20d0",
   "metadata": {},
   "outputs": [],
   "source": [
    "interval_df['previous_date'] = interval_df.groupby('user_name')['date'].shift(1)\n",
    "interval_df.dropna(inplace = True)\n",
    "interval_df['order_interval'] = (interval_df['date'] - interval_df['previous_date']).dt.days\n",
    "interval_df = interval_df[interval_df['order_interval'] > 0]\n",
    "interval_df"
   ]
  },
  {
   "cell_type": "code",
   "execution_count": null,
   "id": "e7187bee",
   "metadata": {},
   "outputs": [],
   "source": [
    "fig = px.violin(interval_df[interval_df['order_interval'] > 0], box=True, template=\"ggplot2\", x='order_interval', title='Distribution between each order (multiple purchase user)')\n",
    "fig.update_xaxes(title_text='Number of Days')\n",
    "fig"
   ]
  },
  {
   "cell_type": "code",
   "execution_count": null,
   "id": "d99b79e5",
   "metadata": {},
   "outputs": [],
   "source": [
    "fig = px.box(interval_df[interval_df['order_interval'] > 0], template=\"ggplot2\", x='order_interval', title='Distribution between each order (multiple purchase user)')\n",
    "fig.update_xaxes(title_text='Number of Days')\n",
    "fig"
   ]
  },
  {
   "cell_type": "markdown",
   "id": "66c56804",
   "metadata": {},
   "source": [
    "The violin plot in the upper shows that the majority of customers who repurchase order leave between 22 and 168 days to do so. The vast majority of customers will purchase within 400 days with there being a few extreme cases which are over 600 days. The upper quartile (Q3) suggests that there is a rough interval of 183 days which sits about 6 months. Using the upper bound of that interval, we can have this as our cut-off point for recency, ultimately any purchase within 6 months (~183 days) will be considered as a recent purchase."
   ]
  },
  {
   "cell_type": "markdown",
   "id": "f40f286e",
   "metadata": {},
   "source": [
    "## User Recency Segmentation"
   ]
  },
  {
   "cell_type": "code",
   "execution_count": null,
   "id": "8c1592a1",
   "metadata": {},
   "outputs": [],
   "source": [
    "# Finding max date recorded in data\n",
    "QUERY = \"\"\"\n",
    "select MAX(dd.\"date\")\n",
    "from staging.fct_order_items foi\n",
    "left outer join staging.dim_date dd on foi.order_date = dd.date_id \n",
    "limit 1;\n",
    "\"\"\"\n",
    "\n",
    "_ = pd.read_sql_query(QUERY, conn)\n",
    "max_date = _['max'][0]\n",
    "print(f\"Max Order Date Recorded : {max_date.day}-{max_date.month}-{max_date.year}\")"
   ]
  },
  {
   "cell_type": "code",
   "execution_count": null,
   "id": "9c4e719c",
   "metadata": {},
   "outputs": [],
   "source": [
    "# Init RFM Analysis Query\n",
    "QUERY = \"\"\"\n",
    "select \n",
    "\tu.user_name,\n",
    "    u.customer_state,\n",
    "\tDATE_PART('day', '2018-09-03'::timestamp- MAX(dd.\"date\")) as recency,\n",
    "\tMAX(foi.lifetime_order) as frequency ,\n",
    "\tMAX(foi.lifetime_spending) as monetary,\n",
    "\tMAX(dd.\"date\") - MIN(dd.\"date\") as usage_days,\n",
    "    MAX(foi.lifetime_spending) as total_spending,\n",
    "\tMAX(foi.lifetime_spending) / MAX(foi.lifetime_order) as average_order_value,\n",
    "    COUNT(foi.order_item_id)  as total_basket_size,\n",
    "    COUNT(foi.order_item_id) / MAX(foi.lifetime_order)  as avg_basket_size,\n",
    "    CASE \n",
    "        WHEN DATE_PART('day', '2018-09-03'::timestamp- MAX(dd.\"date\")) < 183 THEN 'ACTIVE'\n",
    "        WHEN DATE_PART('day', '2018-09-03'::timestamp- MAX(dd.\"date\")) >= 183 AND DATE_PART('day', '2018-09-03'::timestamp- MAX(dd.\"date\")) < 365 THEN 'INACTIVE'\n",
    "        ELSE 'LAPSED'\n",
    "    END as recency_status\n",
    "from staging.fct_order_items foi\n",
    "left join staging.dim_date dd on foi.order_date = dd.date_id \n",
    "left join (\n",
    "\tselect \n",
    "\t\tdu.user_key ,\n",
    "\t\tdu.user_name ,\n",
    "        du.customer_state\n",
    "\tfrom staging.dim_user du \n",
    "\twhere du.is_current_version=true\n",
    ") u on foi.user_key = u.user_key\n",
    "group by u.user_name , u.customer_state\n",
    "order by 6 desc;\n",
    "\"\"\"\n",
    "rfm_df = pd.read_sql_query(QUERY, conn)\n",
    "rfm_df = rfm_df.dropna(subset=['frequency'])\n",
    "rfm_df"
   ]
  },
  {
   "cell_type": "code",
   "execution_count": null,
   "id": "6b5b01b5",
   "metadata": {},
   "outputs": [],
   "source": [
    "fig = px.bar( x=rfm_df['recency_status'].value_counts().index, \n",
    "             y=rfm_df['recency_status'].value_counts().values, \n",
    "             template='ggplot2', \n",
    "             title='User by Number of Order',\n",
    "             color=rfm_df['recency_status'].value_counts().index)\n",
    "fig.update_yaxes(title_text='Number of user')\n",
    "fig.update_xaxes(title_text='Recency Status')\n",
    "fig.update_layout(legend_title_text='Type')\n",
    "fig"
   ]
  },
  {
   "cell_type": "code",
   "execution_count": null,
   "id": "c32b116f",
   "metadata": {},
   "outputs": [],
   "source": [
    "fig = px.box(rfm_df, x='recency_status', y='recency',\n",
    "             template='ggplot2', \n",
    "             title='Distribution of recency days of user',\n",
    "            color='recency_status')\n",
    "fig.update_yaxes(title_text='Number of days')\n",
    "fig.update_xaxes(title_text='Recency Status')\n",
    "fig.update_layout(legend_title_text='Type')\n",
    "fig"
   ]
  },
  {
   "cell_type": "markdown",
   "id": "0ca3b1be",
   "metadata": {},
   "source": [
    "### Notes : \n",
    "Based on observation, we can see that there are roughly the same amount of customers considered active and lapsed, with the majority of customers being classified as active.\n",
    "\n",
    "So, with this information, even though there are less than 10% user that come back (multiple purchase), we could see that there still about 30-40% user that still active based on our recency status segment (6 month)\n",
    "\n",
    "Because the data only provided us about 2 years of user transaction, we could not get anymore information about new user that purchase in 2018."
   ]
  },
  {
   "cell_type": "markdown",
   "id": "578f6ad1",
   "metadata": {},
   "source": [
    "## User Spending Preference based on Recency Segment Type"
   ]
  },
  {
   "cell_type": "code",
   "execution_count": null,
   "id": "7e151043",
   "metadata": {},
   "outputs": [],
   "source": [
    "# Checking for any missed data (some order may not delivered yet -> cancelled, unavailable, etc)\n",
    "rfm_df.loc[rfm_df.avg_basket_size < 1]"
   ]
  },
  {
   "cell_type": "code",
   "execution_count": null,
   "id": "53713b0b",
   "metadata": {},
   "outputs": [],
   "source": [
    "# We can see the distribution for the basket size \n",
    "fig = px.histogram(rfm_df, x='avg_basket_size', template='ggplot2', title='User Average Cart Size Distribution ')\n",
    "fig.update_yaxes(title_text='Order count')\n",
    "fig.update_xaxes(title_text='Number of item')\n",
    "fig"
   ]
  },
  {
   "cell_type": "code",
   "execution_count": null,
   "id": "dda35371",
   "metadata": {},
   "outputs": [],
   "source": [
    "fig = px.violin(rfm_df, x='avg_basket_size', box=True, template='ggplot2', title='User Average Cart Size Distribution ')\n",
    "fig.update_xaxes(title_text='Number of item')\n",
    "fig"
   ]
  },
  {
   "cell_type": "code",
   "execution_count": null,
   "id": "3ff1e9fc",
   "metadata": {},
   "outputs": [],
   "source": [
    "# Lets divide into 2 categories : \n",
    "# TODO : barplot + create segmentation using apply\n",
    "rfm_df['percentile_avg_spending'] = pd.qcut(rfm_df['average_order_value'], 10, labels=np.arange(1, 11, 1)).astype('int')\n",
    "rfm_df['percentile_total_spending'] = pd.qcut(rfm_df['total_spending'], 10, labels=np.arange(1, 11, 1)).astype('int')\n",
    "rfm_df['volume_type'] = rfm_df.apply(\n",
    "    lambda row : \"High Volume\" if row['avg_basket_size'] > 1 else \"Low Volume\",\n",
    "    axis = 1\n",
    ")\n",
    "rfm_df['spending_type'] = rfm_df.apply(\n",
    "    lambda row : \"Low Value\" if row['percentile_avg_spending'] < 6 else \"High Value\"\n",
    "    , axis = 1\n",
    ")"
   ]
  },
  {
   "cell_type": "code",
   "execution_count": null,
   "id": "73cadf13",
   "metadata": {},
   "outputs": [],
   "source": [
    "def mapping_segment(row) :\n",
    "    if (row.recency_status == \"ACTIVE\") :\n",
    "        return f\"{row.spending_type} & {row.volume_type}\"\n",
    "    elif row.recency_status == \"INACTIVE\" :\n",
    "        return row.spending_type\n",
    "    else :\n",
    "        return \"Invalid\"\n",
    "\n",
    "rfm_df['segment'] = rfm_df.apply(mapping_segment, axis = 1)\n",
    "rfm_df"
   ]
  },
  {
   "cell_type": "code",
   "execution_count": null,
   "id": "84221deb",
   "metadata": {},
   "outputs": [],
   "source": [
    "rfm_df_active = rfm_df.loc[rfm_df.recency_status ==\"ACTIVE\"]\n",
    "rfm_df_inactive = rfm_df.loc[rfm_df.recency_status ==\"INACTIVE\"]"
   ]
  },
  {
   "cell_type": "code",
   "execution_count": null,
   "id": "c6d24ddf",
   "metadata": {},
   "outputs": [],
   "source": [
    "rfm_df_active_segment = rfm_df_active.groupby(['segment']).agg(user_count=('user_name', 'size'), avg_spending = ('average_order_value', 'mean'), avg_basket = ('avg_basket_size', 'mean')).reset_index()\n",
    "rfm_df_active_segment"
   ]
  },
  {
   "cell_type": "markdown",
   "id": "56018427",
   "metadata": {},
   "source": [
    "### Notes\n",
    "\n",
    "When trying to understand user spending & cart size, I'm trying to divide it into 4 class for active user:\n",
    "- High Value & High Volume -> high priority user\n",
    "- Low Value & High Volume \n",
    "- High Value & Low Volume\n",
    "- Low Value & Low Volume\n",
    "based on this preference, we could give better marketing strategy..."
   ]
  },
  {
   "cell_type": "code",
   "execution_count": null,
   "id": "d917c3b6",
   "metadata": {},
   "outputs": [],
   "source": [
    "fig = px.bar(rfm_df_active_segment, x='segment', y='user_count', color=\"segment\", template='ggplot2', title='Active User Value & Volume Segment')\n",
    "fig.update_xaxes(categoryorder='total descending')\n",
    "fig.update_yaxes(title_text='Number of User')\n",
    "fig.update_xaxes(title_text='Segment')\n",
    "fig"
   ]
  },
  {
   "cell_type": "markdown",
   "id": "540b75a6",
   "metadata": {},
   "source": [
    "Focusing on the active customer, , we can see that most customers are low value and low volume. This is then followed by customers with a high value but low volume. We can take from this plot, that most customers actually order infrequently and/ or only buy single items at a time, wether pricey product or cheap product."
   ]
  },
  {
   "cell_type": "code",
   "execution_count": null,
   "id": "882ba17c",
   "metadata": {},
   "outputs": [],
   "source": [
    "fig = px.bar(rfm_df_active_segment, x='segment', y='avg_spending', color=\"segment\", template='ggplot2', title='Active User Average Spending (per Segment)')\n",
    "fig.update_xaxes(categoryorder='total descending')\n",
    "fig.update_yaxes(title_text='Average Spending Value')\n",
    "fig.update_xaxes(title_text='Segment')\n",
    "fig"
   ]
  },
  {
   "cell_type": "markdown",
   "id": "12404f04",
   "metadata": {},
   "source": [
    "Then we see tha average spending value on each transaction, obviously the high value & high volume and high value & low volume user spend much for each transaction. A good marketing strategy would be giving discount with some constraint (like minimum payment) to this segment."
   ]
  },
  {
   "cell_type": "code",
   "execution_count": null,
   "id": "408c8b54",
   "metadata": {},
   "outputs": [],
   "source": [
    "fig = px.bar(rfm_df_active_segment, x='segment', y='avg_basket', color=\"segment\", template='ggplot2', title='Active User Average Cart Size (per Segment)')\n",
    "fig.update_xaxes(categoryorder='total descending')\n",
    "fig.update_yaxes(title_text='Average Cart Size')\n",
    "fig.update_xaxes(title_text='Segment')\n",
    "fig"
   ]
  },
  {
   "cell_type": "code",
   "execution_count": null,
   "id": "0fea46df",
   "metadata": {},
   "outputs": [],
   "source": [
    "rfm_df_inactive_segment = rfm_df_inactive.groupby(['segment']).agg(user_count=('user_name', 'size'),avg_spending = ('average_order_value', 'mean')).reset_index()\n",
    "rfm_df_inactive_segment"
   ]
  },
  {
   "cell_type": "markdown",
   "id": "8d3ce58f",
   "metadata": {},
   "source": [
    "### Notes \n",
    "\n",
    "Now, we should focus for the \"Inactive\" user.\n",
    "Here we only seperate it into 2 groups :\n",
    "- High Value\n",
    "- Low Value\n",
    "\n",
    "This seperation is quite important, as it could determine the effort we should do in order to make user coming back into using our ecommerce (As returning customer with high value is more important than low value)"
   ]
  },
  {
   "cell_type": "code",
   "execution_count": null,
   "id": "320f540a",
   "metadata": {},
   "outputs": [],
   "source": [
    "fig = px.bar(rfm_df_inactive_segment, x='segment', y='user_count', color=\"segment\", template='ggplot2', title='Inactive User Value')\n",
    "fig.update_xaxes(categoryorder='total descending')\n",
    "fig.update_yaxes(title_text='Number of User')\n",
    "fig.update_xaxes(title_text='Segment')\n",
    "fig"
   ]
  },
  {
   "cell_type": "markdown",
   "id": "1e2d443a",
   "metadata": {},
   "source": [
    "We can see that is likely 50/50 on high value vs low value inactive user."
   ]
  },
  {
   "cell_type": "code",
   "execution_count": null,
   "id": "10e057ab",
   "metadata": {},
   "outputs": [],
   "source": [
    "fig = px.bar(rfm_df_inactive_segment, x='segment', y='avg_spending', color=\"segment\", template='ggplot2', title='Inactive User Average Spending (per Segment)')\n",
    "fig.update_xaxes(categoryorder='total descending')\n",
    "fig.update_yaxes(title_text='Average Spending Value')\n",
    "fig.update_xaxes(title_text='Segment')\n",
    "fig"
   ]
  },
  {
   "cell_type": "markdown",
   "id": "41c27bc3",
   "metadata": {},
   "source": [
    "## Active User Spread (Geolocation)"
   ]
  },
  {
   "cell_type": "code",
   "execution_count": null,
   "id": "eaf6aca7",
   "metadata": {},
   "outputs": [],
   "source": [
    "# Mapping geolocation\n",
    "rfm_df['mapped_geolocation'] = rfm_df.apply(\n",
    "    lambda row : mapping_geolocation(row['customer_state']),\n",
    "    axis = 1\n",
    ")"
   ]
  },
  {
   "cell_type": "code",
   "execution_count": null,
   "id": "03f74d80",
   "metadata": {},
   "outputs": [],
   "source": [
    "# Type \n",
    "rfm_df_geo_grouped = rfm_df.groupby(['recency_status','mapped_geolocation']).agg(user_count=('user_name', 'size')).reset_index()\n",
    "rfm_df_geo_grouped"
   ]
  },
  {
   "cell_type": "code",
   "execution_count": null,
   "id": "6614a3a5",
   "metadata": {},
   "outputs": [],
   "source": [
    "rfm_df_geo_grouped_active = rfm_df_geo_grouped.loc[rfm_df_geo_grouped.recency_status == 'ACTIVE']\n",
    "rfm_df_geo_grouped_inactive = rfm_df_geo_grouped.loc[rfm_df_geo_grouped.recency_status == 'INACTIVE']\n",
    "rfm_df_geo_grouped_lapsed = rfm_df_geo_grouped.loc[rfm_df_geo_grouped.recency_status == 'LAPSED']"
   ]
  },
  {
   "cell_type": "code",
   "execution_count": null,
   "id": "273d21f4",
   "metadata": {},
   "outputs": [],
   "source": [
    "import geopandas as gpd\n",
    "\n",
    "path = '../data/gadm36_IDN_1.json'\n",
    "df_geo = gpd.read_file(path)\n",
    "df_geo['NAME_1_upper'] = df_geo['NAME_1'].str.upper()"
   ]
  },
  {
   "cell_type": "code",
   "execution_count": null,
   "id": "92048a7b",
   "metadata": {},
   "outputs": [],
   "source": [
    "user_geo_active = df_geo.merge(rfm_df_geo_grouped_active, how=\"inner\", left_on=\"NAME_1_upper\", right_on=\"mapped_geolocation\")\n",
    "user_geo_active.info()"
   ]
  },
  {
   "cell_type": "code",
   "execution_count": null,
   "id": "58fe1bb8",
   "metadata": {},
   "outputs": [],
   "source": [
    "fig = px.choropleth(user_geo_active,\n",
    "                   geojson=user_geo_active.geometry,\n",
    "                   locations=user_geo_active.index,\n",
    "                   hover_name=user_geo_active.mapped_geolocation,\n",
    "                   color=\"user_count\",\n",
    "                    template='ggplot2',\n",
    "                    title=\"Active User Spread Location\"\n",
    "                   )\n",
    "fig.update_geos(fitbounds=\"locations\", visible=False)"
   ]
  },
  {
   "cell_type": "code",
   "execution_count": null,
   "id": "33c70af3",
   "metadata": {},
   "outputs": [],
   "source": [
    "user_geo_inactive = df_geo.merge(rfm_df_geo_grouped_inactive, how=\"inner\", left_on=\"NAME_1_upper\", right_on=\"mapped_geolocation\")\n",
    "user_geo_inactive.info()"
   ]
  },
  {
   "cell_type": "code",
   "execution_count": null,
   "id": "f6be16ae",
   "metadata": {},
   "outputs": [],
   "source": [
    "fig = px.choropleth(user_geo_inactive,\n",
    "                   geojson=user_geo_inactive.geometry,\n",
    "                   locations=user_geo_inactive.index,\n",
    "                   hover_name=user_geo_inactive.mapped_geolocation,\n",
    "                   color=\"user_count\",\n",
    "                    template='plotly_white',\n",
    "                    title=\"Inactive User Spread Location\"\n",
    "                   )\n",
    "fig.update_geos(fitbounds=\"locations\", visible=False)"
   ]
  },
  {
   "cell_type": "code",
   "execution_count": null,
   "id": "19d08dbd",
   "metadata": {},
   "outputs": [],
   "source": [
    "user_geo_lapsed = df_geo.merge(rfm_df_geo_grouped_lapsed, how=\"inner\", left_on=\"NAME_1_upper\", right_on=\"mapped_geolocation\")\n",
    "user_geo_lapsed.info()"
   ]
  },
  {
   "cell_type": "code",
   "execution_count": null,
   "id": "4dda9372",
   "metadata": {},
   "outputs": [],
   "source": [
    "fig = px.choropleth(user_geo_lapsed,\n",
    "                   geojson=user_geo_lapsed.geometry,\n",
    "                   locations=user_geo_lapsed.index,\n",
    "                   hover_name=user_geo_lapsed.mapped_geolocation,\n",
    "                   color=\"user_count\",\n",
    "                    template='ggplot2',\n",
    "                    title=\"Lapsed User Spread Location\"\n",
    "                   )\n",
    "fig.update_geos(fitbounds=\"locations\", visible=False)"
   ]
  },
  {
   "cell_type": "markdown",
   "id": "128e4754",
   "metadata": {},
   "source": [
    "## Insight "
   ]
  },
  {
   "cell_type": "markdown",
   "id": "86f23a75",
   "metadata": {},
   "source": [
    "## User vs Seller Location"
   ]
  },
  {
   "cell_type": "code",
   "execution_count": null,
   "id": "d5d4c438",
   "metadata": {},
   "outputs": [],
   "source": [
    "# Init needed data\n",
    "\n",
    "QUERY_USER = \"\"\"\n",
    "select * \n",
    "from staging.dim_user;\n",
    "\"\"\"\n",
    "\n",
    "QUERY_SELLER = \"\"\"\n",
    "select * \n",
    "from staging.dim_seller;\n",
    "\"\"\"\n",
    "\n",
    "# Init dataframe\n",
    "user_df = pd.read_sql_query(QUERY_USER, conn)\n",
    "seller_df = pd.read_sql_query(QUERY_SELLER, conn)\n",
    "\n",
    "# Mapping geolocation\n",
    "user_df['mapped_geolocation'] = user_df.apply(\n",
    "    lambda row : mapping_geolocation(row['customer_state']),\n",
    "    axis = 1\n",
    ")\n",
    "\n",
    "seller_df['mapped_geolocation'] = seller_df.apply(\n",
    "    lambda row : mapping_geolocation(row['seller_state']),\n",
    "    axis = 1\n",
    ")"
   ]
  },
  {
   "cell_type": "code",
   "execution_count": null,
   "id": "eaf3f851",
   "metadata": {},
   "outputs": [],
   "source": [
    "# User df info\n",
    "user_df_geo_grouped = user_df.groupby(['mapped_geolocation']).agg(user_count=('user_name', 'size')).reset_index()\n",
    "user_df_geo_grouped"
   ]
  },
  {
   "cell_type": "code",
   "execution_count": null,
   "id": "142fc0ad",
   "metadata": {},
   "outputs": [],
   "source": [
    "fig = px.bar(user_df_geo_grouped, x='mapped_geolocation', y='user_count', title='Number of user per state', template='plotly_white', orientation='v', color='mapped_geolocation')\n",
    "fig.update_xaxes(categoryorder='total descending')\n",
    "fig.update_xaxes(title_text='State')\n",
    "fig.update_yaxes(title_text='Number of user')\n",
    "fig.update_layout(legend_title_text='State')\n",
    "fig"
   ]
  },
  {
   "cell_type": "code",
   "execution_count": null,
   "id": "d9cbc7e7",
   "metadata": {},
   "outputs": [],
   "source": [
    "# Seller df info\n",
    "seller_df_geo_grouped = seller_df.groupby(['mapped_geolocation']).agg(seller_count=('seller_id', 'size')).reset_index()\n",
    "seller_df_geo_grouped"
   ]
  },
  {
   "cell_type": "code",
   "execution_count": null,
   "id": "71e7eef2",
   "metadata": {},
   "outputs": [],
   "source": [
    "fig = px.bar(seller_df_geo_grouped, x='mapped_geolocation', y='seller_count', title='Number of seller per state', template='plotly_white', orientation='v', color='mapped_geolocation')\n",
    "fig.update_xaxes(categoryorder='total descending')\n",
    "fig.update_xaxes(title_text='State')\n",
    "fig.update_yaxes(title_text='Number of seller')\n",
    "fig.update_layout(legend_title_text='State')\n",
    "fig"
   ]
  },
  {
   "cell_type": "code",
   "execution_count": null,
   "id": "3761b723",
   "metadata": {},
   "outputs": [],
   "source": [
    "import geopandas as gpd\n",
    "\n",
    "path = '../data/gadm36_IDN_1.json'\n",
    "df_geo = gpd.read_file(path)\n",
    "df_geo['NAME_1_upper'] = df_geo['NAME_1'].str.upper()"
   ]
  },
  {
   "cell_type": "code",
   "execution_count": null,
   "id": "93382af2",
   "metadata": {},
   "outputs": [],
   "source": [
    "seller_geo = df_geo.merge(seller_df_geo_grouped, how=\"inner\", left_on=\"NAME_1_upper\", right_on=\"mapped_geolocation\")\n",
    "seller_geo.info()"
   ]
  },
  {
   "cell_type": "code",
   "execution_count": null,
   "id": "7eaf57eb",
   "metadata": {},
   "outputs": [],
   "source": [
    "fig = px.choropleth(seller_geo,\n",
    "                   geojson=seller_geo.geometry,\n",
    "                   locations=seller_geo.index,\n",
    "                   hover_name=seller_geo.mapped_geolocation,\n",
    "                   color=\"seller_count\",\n",
    "                    template='ggplot2'\n",
    "                   )\n",
    "fig.update_geos(fitbounds=\"locations\", visible=False)"
   ]
  },
  {
   "cell_type": "code",
   "execution_count": null,
   "id": "7a2ec949",
   "metadata": {},
   "outputs": [],
   "source": [
    "user_geo = df_geo.merge(user_df_geo_grouped, how=\"inner\", left_on=\"NAME_1_upper\", right_on=\"mapped_geolocation\")\n",
    "user_geo.info()"
   ]
  },
  {
   "cell_type": "code",
   "execution_count": null,
   "id": "6a34c233",
   "metadata": {},
   "outputs": [],
   "source": [
    "fig = px.choropleth(user_geo,\n",
    "                   geojson=user_geo.geometry,\n",
    "                   locations=user_geo.index,\n",
    "                   hover_name=user_geo.mapped_geolocation,\n",
    "                   color=\"user_count\",\n",
    "                    template='ggplot2'\n",
    "                   )\n",
    "fig.update_geos(fitbounds=\"locations\", visible=False)"
   ]
  },
  {
   "cell_type": "markdown",
   "id": "533c227c",
   "metadata": {},
   "source": [
    "## Recommendation"
   ]
  },
  {
   "cell_type": "markdown",
   "id": "fffeecdf",
   "metadata": {},
   "source": [
    "## Reference\n",
    "- [RFM Analysis](https://www.kaggle.com/alpamys/rfm-cohort-analysis)\n",
    "- [Customer Satisfaction](https://www.kaggle.com/andresionek/predicting-customer-satisfaction)\n",
    "- [Mapping in Plotly](https://towardsdatascience.com/noobs-guide-to-create-choropleth-map-using-python-geopandas-d6269e9e9a0c)\n",
    "- [Kaggle Plotting Map](https://www.kaggle.com/farizdarari/simple-map-visualization-using-geopandas)\n",
    "- [Web application for map visualization](https://plotly.com/python/choropleth-maps/)"
   ]
  },
  {
   "cell_type": "code",
   "execution_count": null,
   "id": "2e5bca4f",
   "metadata": {},
   "outputs": [],
   "source": []
  }
 ],
 "metadata": {
  "kernelspec": {
   "display_name": "Python 3",
   "language": "python",
   "name": "python3"
  },
  "language_info": {
   "codemirror_mode": {
    "name": "ipython",
    "version": 3
   },
   "file_extension": ".py",
   "mimetype": "text/x-python",
   "name": "python",
   "nbconvert_exporter": "python",
   "pygments_lexer": "ipython3",
   "version": "3.8.8"
  }
 },
 "nbformat": 4,
 "nbformat_minor": 5
}
