{
  "nbformat": 4,
  "nbformat_minor": 0,
  "metadata": {
    "colab": {
      "name": "27_05_2021_CustomerSatisfactionAnalysis.ipynb",
      "private_outputs": true,
      "provenance": [],
      "collapsed_sections": [],
      "authorship_tag": "ABX9TyNR9PK2OzFrdWrIEkiwmPMI",
      "include_colab_link": true
    },
    "kernelspec": {
      "name": "python3",
      "display_name": "Python 3"
    },
    "language_info": {
      "name": "python"
    }
  },
  "cells": [
    {
      "cell_type": "markdown",
      "metadata": {
        "id": "view-in-github",
        "colab_type": "text"
      },
      "source": [
        "<a href=\"https://colab.research.google.com/github/William9923/future-data-ecommerce/blob/master/notebooks/27_05_2021_CustomerSatisfactionAnalysis.ipynb\" target=\"_parent\"><img src=\"https://colab.research.google.com/assets/colab-badge.svg\" alt=\"Open In Colab\"/></a>"
      ]
    },
    {
      "cell_type": "markdown",
      "metadata": {
        "id": "S92NZF9iakXH"
      },
      "source": [
        "# Customer Satisfaction Analysis\n",
        "\n",
        "## Purpose\n",
        "Finding insight on:\n",
        "- Is there a correlation between delivered process and rating given by user (feedback) ?\n",
        "- Is there a correlation between purchase respond time and rating given by user (feedback) ?\n",
        "- Are late delivered product affecting the review / feedback score?\n",
        "- What can we do to improve the satisfaction from the user?\n",
        "\n",
        "## Background\n",
        "Rating / review is one of the most important part in ecommerce. Normally, an average customer can perceive wether the product is good or bad solely based on rating alone. But, we should know that it is not the only factor that determine a product is reviewed / rated as a good or bad product. Other factor, such as delay between estimated delivery time and actual delivered time might affecting the rating too. Based on [reference](https://targetbay.com/blog/customer-reviews/), we know why rating is important for other user that might buy a product. Because this data doesn't have actual text review, I want to try to analyze other factor that might affecting the customer satisfaction. The biggest factor outside of product quality might be the next thing that we need to improve in order to make more user use the application\n",
        "\n",
        "## Assumption\n",
        "Based on my assumption, probably the product (especially product price / value) or how the order fulfilled / deliverd gonna affect the customer review score.\n",
        "The hypotesting that we gonna check : \n",
        "- working days estimated delivery time\n",
        "- working days actual delivery time\n",
        "- working days delivery time delta\n",
        "- is late (the product arrived late)\n",
        "\n",
        "Also, based on my hipotesis, we might be able to increase user satisfaction if we were able to be more precise on the estimated delivery time, so that customer is not angry if the order is late, but also not make the customer wait too long.\n",
        "\n",
        "## Reference \n",
        "- [Delivery Date Estimation](https://towardsdatascience.com/delivery-date-estimation-5aff1a0ff8dc)\n",
        "- "
      ]
    },
    {
      "cell_type": "markdown",
      "metadata": {
        "id": "6UtDsyXCe1UD"
      },
      "source": [
        "## Sanity Check"
      ]
    },
    {
      "cell_type": "code",
      "metadata": {
        "id": "aCSTv51NPNCs"
      },
      "source": [
        "import json\n",
        "\n",
        "def load_config(file_path: str = \"./config.json\"):\n",
        "    with open(file_path) as config_file:\n",
        "        data = json.load(config_file)\n",
        "    return data\n",
        "\n",
        "config = load_config(\"../config.json\")\n",
        "DBNAME = config.get(\"DBNAME\")\n",
        "HOSTNAME = config.get(\"HOSTNAME\")\n",
        "USER = config.get(\"USER\")\n",
        "PASS = config.get(\"PASS\")\n",
        "SCHEMA = config.get(\"SCHEMA\")"
      ],
      "execution_count": null,
      "outputs": []
    },
    {
      "cell_type": "code",
      "metadata": {
        "id": "A0-xAY4ge68R"
      },
      "source": [
        "# Basic \n",
        "import sys\n",
        "import numpy as np\n",
        "import scipy as sp\n",
        "import pandas as pd\n",
        "\n",
        "# SQL Engine\n",
        "import psycopg2\n",
        "import pandas as pd\n",
        "from sqlalchemy import create_engine\n",
        "\n",
        "# Profiling process\n",
        "from tqdm import tqdm\n",
        "\n",
        "# Warning problems in notebook\n",
        "import warnings\n",
        "warnings.filterwarnings('ignore')\n",
        "\n",
        "# Visualization\n",
        "import plotly.express as px\n",
        "from plotly.subplots import make_subplots\n",
        "import matplotlib.pyplot as plt\n",
        "import seaborn as sns\n",
        "\n",
        "# Reporting result\n",
        "import sweetviz as sv\n",
        "from dataprep.eda import create_report"
      ],
      "execution_count": null,
      "outputs": []
    },
    {
      "cell_type": "code",
      "metadata": {
        "id": "53lOCZUvL_6g"
      },
      "source": [
        "# Load data\n",
        "\n",
        "# Create an engine instance\n",
        "alchemyEngine = create_engine(\n",
        "    f'postgresql+psycopg2://{USER}:{PASS}@{HOSTNAME}/{DBNAME}', pool_recycle=3600)\n",
        "\n",
        "# Connect to PostgreSQL server\n",
        "conn = alchemyEngine.connect()\n",
        "\n",
        "schema = SCHEMA"
      ],
      "execution_count": null,
      "outputs": []
    },
    {
      "cell_type": "code",
      "metadata": {
        "id": "6zcK6k1oMFDn"
      },
      "source": [
        "# Init needed data\n",
        "\n",
        "QUERY = \"\"\"\n",
        "with order_grouped as (\n",
        "\tselect \n",
        "\t\tfoi.order_id ,\n",
        "\t\tSUM(foi.price) as total_price,\n",
        "\t\tAVG(foi.price) as average_price,\n",
        "\t\tCOUNT(foi.order_item_id) as total_item,\n",
        "\t\tSUM(foi.shipping_cost) as shipping_cost \n",
        "\tfrom staging.fct_order_items foi \n",
        "\tgroup by 1\n",
        ")\n",
        "select \n",
        "\tdistinct \n",
        "\tfoi.order_id ,\n",
        "\t\n",
        "\t-- order\n",
        "\tddo.date as order_date,\n",
        "\tddo.day_of_year as order_day_of_year,\n",
        "\tdto.hour as order_time,\n",
        "\t\n",
        "\t-- approved\n",
        "\tdda.date as order_approved_date,\n",
        "\tdda.day_of_year as order_approved_day_of_year,\n",
        "\tdta.hour as order_approved_time,\n",
        "\t\n",
        "\t-- pickup\n",
        "\tddp.date as pickup_date,\n",
        "\tddp.day_of_year as pickup_day_of_year,\n",
        "\tdtp.hour as pickup_time,\n",
        "\t\n",
        "\t-- delivered\n",
        "\tddd.date as delivered_date,\n",
        "\tddd.day_of_year as delivered_day_of_year,\n",
        "\tdtd.hour as delivered_time,\n",
        "\t\n",
        "\t-- estimated delivery\n",
        "\tdde.date as estimated_date_delivery,\n",
        "\tdde.day_of_year as estimated_day_of_year_delivery,\n",
        "\tdte.hour as estimated_time_delivery,\n",
        "\t\n",
        "\t-- pickup limit\n",
        "\tddl.date as pickup_limit_date,\n",
        "\tddl.day_of_year as pickup_limit_day_of_year,\n",
        "\tdtl.hour as pickup_limit_time,\n",
        "\t\n",
        "\t-- user \n",
        "\tdu.user_name ,\n",
        "\tdu.customer_state ,\n",
        "\t\n",
        "\t-- seller\n",
        "\tds.seller_id,\n",
        "\tds.seller_state,\n",
        "\t\n",
        "\t-- order detail\n",
        "\tog.total_price,\n",
        "\tog.average_price,\n",
        "\tog.total_item,\n",
        "\tog.shipping_cost,\n",
        "\t\n",
        "\t-- feedback\n",
        "\tdf.feedback_score \n",
        "\t\n",
        "from staging.fct_order_items foi \n",
        "left join order_grouped og on og.order_id = foi.order_id \n",
        "left join staging.dim_feedback df on foi.feedback_key = df.feedback_key \n",
        "left join staging.dim_user du on foi.user_key = du.user_key \n",
        "left join staging.dim_seller ds on foi.seller_key = ds.seller_key \n",
        "left join staging.dim_date ddp on foi.pickup_date = ddp.date_id \n",
        "left join staging.dim_time dtp on foi.pickup_time = dtp.time_id\n",
        "left join staging.dim_date dde on foi.estimated_date_delivery = dde.date_id \n",
        "left join staging.dim_time dte on foi.estimated_time_delivery = dte.time_id\n",
        "left join staging.dim_date ddd on foi.delivered_date = ddd.date_id \n",
        "left join staging.dim_time dtd on foi.delivered_time = dtd.time_id\n",
        "left join staging.dim_date dda on foi.order_approved_date = dda.date_id \n",
        "left join staging.dim_time dta on foi.order_approved_time = dta.time_id\n",
        "left join staging.dim_date ddo on foi.order_date = ddo.date_id \n",
        "left join staging.dim_time dto on foi.order_time = dto.time_id\n",
        "left join staging.dim_date ddl on foi.pickup_limit_date = ddl.date_id \n",
        "left join staging.dim_time dtl on foi.pickup_limit_time = dtl.time_id\n",
        "\n",
        "where foi.order_item_status in ('delivered')\n",
        "\"\"\"\n",
        "\n",
        "# Init dataframe\n",
        "df = pd.read_sql_query(QUERY, conn)\n",
        "df.info()"
      ],
      "execution_count": null,
      "outputs": []
    },
    {
      "cell_type": "code",
      "metadata": {
        "id": "VQdQXe5L9fsX"
      },
      "source": [
        "# Checking missing value\n",
        "df[['order_date', 'order_approved_date', 'pickup_date', 'delivered_date', 'feedback_score']].loc[pd.isna(df['order_approved_date']) | pd.isna(df['pickup_date']) | pd.isna(df['delivered_date'])]"
      ],
      "execution_count": null,
      "outputs": []
    },
    {
      "cell_type": "code",
      "metadata": {
        "id": "bRFlMBAKNIPS"
      },
      "source": [
        "# Target : Categorical Data, unbalance\n",
        "\n",
        "df.feedback_score.value_counts()"
      ],
      "execution_count": null,
      "outputs": []
    },
    {
      "cell_type": "code",
      "metadata": {
        "id": "hiPW930QrOzl"
      },
      "source": [
        "# Initialize calender object\n",
        "\n",
        "from workalendar.asia import Singapore\n",
        "cal = Singapore()"
      ],
      "execution_count": null,
      "outputs": []
    },
    {
      "cell_type": "code",
      "metadata": {
        "id": "Lx5Qv08zl9ac"
      },
      "source": [
        "# Base Transformer\n",
        "class Transformer(object):\n",
        "  def __init__(self, df, transformation_map):\n",
        "    self.df = df.copy()\n",
        "    self.transformation_map = transformation_map \n",
        "  \n",
        "  def parse(self):\n",
        "    pass \n",
        "\n",
        "  def clean(self):\n",
        "    pass\n",
        "\n",
        "  def transform(self):\n",
        "    if self.transformation_map is not None : \n",
        "      df = self.df.copy()\n",
        "      for key, value in tqdm(self.transformation_map.items()):\n",
        "        df[key] = df.apply(\n",
        "            value,\n",
        "            axis = 1\n",
        "        )\n",
        "      self.df = df\n",
        "    else :\n",
        "      raise Exception(\"Null Transformation Map\")\n",
        "\n",
        "  def get_data(self):\n",
        "    return self.df\n",
        "\n",
        "  def process(self):\n",
        "    self.parse()\n",
        "    self.clean()\n",
        "    self.transform()\n",
        "    return self.get_data()"
      ],
      "execution_count": null,
      "outputs": []
    },
    {
      "cell_type": "code",
      "metadata": {
        "id": "UwECcn3QOBVV"
      },
      "source": [
        "# Datetime Transformer\n",
        "\n",
        "class DateTransformer(Transformer):\n",
        "  def __init__(self, df, cal):\n",
        "    transformation = {\n",
        "        # Calculate the working days interval between event\n",
        "        'wd_approved_interval' : lambda row: (row.order_approved_date - row.order_date).days,\n",
        "\n",
        "        # Calculate pickup time\n",
        "        'wd_pickup_interval' : lambda row: (row.pickup_date - row.order_date).days,\n",
        "\n",
        "        # Calculate shipping time\n",
        "        'wd_shipping_interval' : lambda row: (row.delivered_date - row.pickup_date).days,\n",
        "\n",
        "        # Calculate working days actual day\n",
        "        'wd_estimated_delivery_interval' : lambda row:(row.estimated_date_delivery - row.order_date).days,\n",
        "\n",
        "        # Check Delta interval from order -> arrive to customer\n",
        "        'wd_actual_delivery_interval' : lambda row: (row.delivered_date - row.order_date).days,\n",
        "\n",
        "        # Calculate the difference between actual order delivery and estimated date delivery\n",
        "        'wd_delta_delivery_interval' : lambda row: (row.delivered_date -  row.estimated_date_delivery).days,\n",
        "\n",
        "        'wd_delta_shipping' : lambda row : (row.delivered_date - row.pickup_date).days - (row.estimated_date_delivery - row.pickup_limit_date).days,\n",
        "        'abs_wd_delta_delivery_interval' : lambda row: abs(row['wd_delta_delivery_interval']),\n",
        "        'is_late_delivery' : lambda row: row.delivered_date > row.estimated_date_delivery,\n",
        "        'is_late_shipping' : lambda row: (row.delivered_date - row.pickup_date).days > (row.estimated_date_delivery - row.pickup_limit_date).days,\n",
        "        'is_late_pickup' : lambda row: row.pickup_date > row.pickup_limit_date,\n",
        "    }\n",
        "    super().__init__(df, transformation)\n",
        "    self.cal = cal\n",
        "\n",
        "  def parse(self):\n",
        "    df = self.df.copy()\n",
        "    df['order_date'] = pd.to_datetime(df['order_date'], format='%Y-%m-%d')\n",
        "    df['order_approved_date'] = pd.to_datetime(df['order_approved_date'], format='%Y-%m-%d')\n",
        "    df['pickup_date'] = pd.to_datetime(df['pickup_date'], format='%Y-%m-%d')\n",
        "    df['delivered_date'] = pd.to_datetime(df['delivered_date'], format='%Y-%m-%d')\n",
        "    df['estimated_date_delivery'] = pd.to_datetime(df['estimated_date_delivery'], format='%Y-%m-%d')\n",
        "    df['pickup_limit_date'] = pd.to_datetime(df['pickup_limit_date'], format='%Y-%m-%d')\n",
        "    self.df = df \n",
        "  \n",
        "  def clean(self):\n",
        "    # Drop misuse col\n",
        "    df = self.df.copy()\n",
        "\n",
        "    # Remove all record that have missed information in it\n",
        "    df = df.dropna(subset=['order_approved_date', 'pickup_date', 'delivered_date'])\n",
        "\n",
        "    # Remove all record that delivered before approved (misuse of the ecommerce system)\n",
        "    df = df.loc[~(df.delivered_date < df.order_approved_date)]\n",
        "    df = df.loc[~(df.delivered_date < df.pickup_date)]\n",
        "    df = df.loc[~(df.order_approved_date > df.pickup_date)]\n",
        "    df = df.loc[~(df.estimated_date_delivery < df.order_approved_date)]\n",
        "\n",
        "    # Copy back again data into original data\n",
        "    self.df = df "
      ],
      "execution_count": null,
      "outputs": []
    },
    {
      "cell_type": "code",
      "metadata": {
        "id": "xriKnQDekQBy"
      },
      "source": [
        "# Geolocation Transformer\n",
        "\n",
        "class LocationTransformer(Transformer):\n",
        "  def __init__(self, df):\n",
        "    # TODO : We need to segment the location if we want to create machine learning out of it\n",
        "    # Might be using the freight value?\n",
        "    transformation = {\n",
        "      'routes' : lambda row : \n",
        "        f\"{row['seller_state'] if row['seller_state'] < row['customer_state'] else row['customer_state']} - {row['customer_state'] if row['seller_state'] < row['customer_state'] else row['seller_state']}\",\n",
        "    }\n",
        "    super().__init__(df, transformation)"
      ],
      "execution_count": null,
      "outputs": []
    },
    {
      "cell_type": "code",
      "metadata": {
        "id": "VMx1MSohrm3x"
      },
      "source": [
        "# Processing Date \n",
        "date_transformer = DateTransformer(df, cal)\n",
        "df = date_transformer.process()\n",
        "\n",
        "df.info()"
      ],
      "execution_count": null,
      "outputs": []
    },
    {
      "cell_type": "code",
      "metadata": {
        "id": "G6oKRpW0qQP_"
      },
      "source": [
        "# Processing Location\n",
        "location_transformer = LocationTransformer(df)\n",
        "df = location_transformer.process()\n",
        "\n",
        "df.info()"
      ],
      "execution_count": null,
      "outputs": []
    },
    {
      "cell_type": "code",
      "metadata": {
        "id": "460URZVs5rxR"
      },
      "source": [
        "fig = px.box(df.loc[df['routes'] == 'BANTEN - JAWA BARAT'], x=\"shipping_cost\", template=\"ggplot2\")\n",
        "fig.show(renderer=\"colab\")"
      ],
      "execution_count": null,
      "outputs": []
    },
    {
      "cell_type": "code",
      "metadata": {
        "id": "22qrgqOE4QOQ"
      },
      "source": [
        "grouped_pricing = df.groupby(['routes']).agg(value=('shipping_cost', 'mean'))\n",
        "grouped_pricing = grouped_pricing.reset_index()"
      ],
      "execution_count": null,
      "outputs": []
    },
    {
      "cell_type": "code",
      "metadata": {
        "id": "OBrt5BNa7IO6"
      },
      "source": [
        "fig = px.bar(grouped_pricing.sort_values(by=['value']), y=\"routes\", x=\"value\", color=\"routes\", template=\"ggplot2\")\n",
        "fig.show(renderer=\"colab\")"
      ],
      "execution_count": null,
      "outputs": []
    },
    {
      "cell_type": "code",
      "metadata": {
        "id": "07FRn9hB48Jd"
      },
      "source": [
        "fig = px.box(df, x=\"shipping_cost\", template=\"ggplot2\")\n",
        "fig.show(renderer=\"colab\")"
      ],
      "execution_count": null,
      "outputs": []
    },
    {
      "cell_type": "markdown",
      "metadata": {
        "id": "RQ1r4WFtEaPc"
      },
      "source": [
        "### Working Days Approval Time\n",
        "\n",
        "---\n",
        "User might unsatisfied if time needed to approve the order is too long"
      ]
    },
    {
      "cell_type": "code",
      "metadata": {
        "id": "3VSYLAD9g1nl"
      },
      "source": [
        "fig = px.box(df, x=\"feedback_score\", y=\"wd_approved_interval\", color=\"feedback_score\", template=\"ggplot2\", title=\"Working Day Approval Time\")\n",
        "fig.update_xaxes(title_text='Feedback Score')\n",
        "fig.update_yaxes(title_text='Approval Time (days)')\n",
        "fig.update_xaxes( type='category')\n",
        "# To sorting : Uncomment below\n",
        "# fig.update_xaxes(categoryorder='total descending')\n",
        "fig.update_layout(legend=dict(\n",
        "    orientation=\"h\",\n",
        "    yanchor=\"bottom\",\n",
        "    y=1.02,\n",
        "    xanchor=\"right\",\n",
        "    x=1\n",
        "))\n",
        "fig.show(renderer=\"colab\")"
      ],
      "execution_count": null,
      "outputs": []
    },
    {
      "cell_type": "markdown",
      "metadata": {
        "id": "Kwc2ZOcmEcPy"
      },
      "source": [
        "---\n",
        "\n",
        "Looks like it is not about the interval between order and approval that determine much for the feedback score. We can **exclude** the possibility that approval interval might affect the feedback score\n",
        "\n",
        "---"
      ]
    },
    {
      "cell_type": "markdown",
      "metadata": {
        "id": "vQ4PNXgFE3S6"
      },
      "source": [
        "### Working Days Pickup Interval Time\n",
        "\n",
        "---\n",
        "What about pickup time? User might unsatisfied if it takes too long for the seller to place the order into the transporting process"
      ]
    },
    {
      "cell_type": "code",
      "metadata": {
        "id": "6knrfuwag1z_"
      },
      "source": [
        "fig = px.box(df, x=\"feedback_score\", y=\"wd_pickup_interval\", color=\"feedback_score\", template=\"ggplot2\")\n",
        "fig.show(renderer=\"colab\")"
      ],
      "execution_count": null,
      "outputs": []
    },
    {
      "cell_type": "markdown",
      "metadata": {
        "id": "2iLELIEJFH94"
      },
      "source": [
        "---\n",
        "\n",
        "From boxplot result alone, we could determine that rating 1 - 2 might be affected by this factor, still need more proof if this feature really determine the feedback score\n",
        "\n",
        "---"
      ]
    },
    {
      "cell_type": "markdown",
      "metadata": {
        "id": "FDCmJZo8FXdJ"
      },
      "source": [
        "### Working Days Shipping Time\n",
        "\n",
        "---\n",
        "What about shipping time? User might mad if it takes too long for transport process to ship their item"
      ]
    },
    {
      "cell_type": "code",
      "metadata": {
        "id": "XdhqaWZLg15x"
      },
      "source": [
        "fig = px.box(df, x=\"feedback_score\", y=\"wd_shipping_interval\", color=\"feedback_score\", template=\"ggplot2\")\n",
        "fig.show(renderer=\"colab\")"
      ],
      "execution_count": null,
      "outputs": []
    },
    {
      "cell_type": "markdown",
      "metadata": {
        "id": "-I6WKsG7FkTx"
      },
      "source": [
        "---\n",
        "\n",
        "Based on graph above, we could see that the less time needed to ship, normally the feedback keep getting higher. Might be important to look up what's the connection between this and user feedback result\n",
        "\n",
        "---"
      ]
    },
    {
      "cell_type": "markdown",
      "metadata": {
        "id": "EQBh-8MeFzpO"
      },
      "source": [
        "### Working Days Estimated Delivery Time\n",
        "\n",
        "---\n",
        "User might unsatisfied if the application estimate too long for the item to arrive to the user"
      ]
    },
    {
      "cell_type": "code",
      "metadata": {
        "id": "bBaejiYCg1-_"
      },
      "source": [
        "fig = px.box(df, x=\"feedback_score\", y=\"wd_estimated_delivery_interval\", color=\"feedback_score\", template=\"ggplot2\")\n",
        "fig.show(renderer=\"colab\")"
      ],
      "execution_count": null,
      "outputs": []
    },
    {
      "cell_type": "markdown",
      "metadata": {
        "id": "kJmjO7FDF92F"
      },
      "source": [
        "---\n",
        "\n",
        "It seems that the estimated time is not the problem.\n",
        "\n",
        "---"
      ]
    },
    {
      "cell_type": "markdown",
      "metadata": {
        "id": "7bcvF0piGF50"
      },
      "source": [
        "### Working Days Actual Delivery Time\n",
        "\n",
        "---\n",
        "User might unsatisfied if the item need too much time to arrive to the user"
      ]
    },
    {
      "cell_type": "code",
      "metadata": {
        "id": "ZACzGzRLg2EZ"
      },
      "source": [
        "fig = px.box(df, x=\"feedback_score\", y=\"wd_actual_delivery_interval\", color=\"feedback_score\", template=\"ggplot2\")\n",
        "fig.show(renderer=\"colab\")"
      ],
      "execution_count": null,
      "outputs": []
    },
    {
      "cell_type": "markdown",
      "metadata": {
        "id": "eTeFIzojGTJA"
      },
      "source": [
        "---\n",
        "\n",
        "It seems that the more time needed for the item to arrive, the worse the feedback score. But if we see from previous finding, estimated date actually not affecting the feedback score. This might infer that the user might be mad if the difference between actual delivery time and estimated delivery time is big (delayed product arrival)\n",
        "\n",
        "---"
      ]
    },
    {
      "cell_type": "markdown",
      "metadata": {
        "id": "siKZqOlDGu-O"
      },
      "source": [
        "### Working Days Actual Delivery Time\n",
        "\n",
        "---\n",
        "From previous finding, let us check the difference between estimated and actual delivery date from each feedback score"
      ]
    },
    {
      "cell_type": "code",
      "metadata": {
        "id": "LJ2BSxLyHmXI"
      },
      "source": [
        "fig = px.histogram(df, x=\"abs_wd_delta_delivery_interval\", template=\"ggplot2\")\n",
        "fig.show(renderer=\"colab\")"
      ],
      "execution_count": null,
      "outputs": []
    },
    {
      "cell_type": "markdown",
      "metadata": {
        "id": "dYNMpB2ZHnzg"
      },
      "source": [
        "---\n",
        "\n",
        "Wow, from the histogram, we can see that most of the time, the system estimation of when the order is arrived is off by about 5 - 20 days. That actually pretty bad!!\n",
        "\n",
        "---"
      ]
    },
    {
      "cell_type": "code",
      "metadata": {
        "id": "QrB-85esDcg-"
      },
      "source": [
        "fig = px.box(df.loc[df['wd_delta_delivery_interval'] > 0], x=\"feedback_score\", y=\"wd_delta_delivery_interval\", color=\"feedback_score\", template=\"ggplot2\")\n",
        "fig.show(renderer=\"colab\")"
      ],
      "execution_count": null,
      "outputs": []
    },
    {
      "cell_type": "code",
      "metadata": {
        "id": "fCX9IAX7AMBE"
      },
      "source": [
        "fig = px.box(df.loc[df['wd_delta_delivery_interval'] < 0], x=\"feedback_score\", y=\"wd_delta_delivery_interval\", color=\"feedback_score\", template=\"ggplot2\")\n",
        "fig.show(renderer=\"colab\")"
      ],
      "execution_count": null,
      "outputs": []
    },
    {
      "cell_type": "markdown",
      "metadata": {
        "id": "pSXjQm5cG_XE"
      },
      "source": [
        "---\n",
        "\n",
        "From above graph, we can conclude 2 things : \n",
        "- If the arrival date is delayed, then the more time it took to arrive, the feedback score might become worse\n",
        "- But, if the arrival date is actually faster, then it might not affecting the feedback score as much as it does if the actual arrival date is late\n",
        "\n",
        "---"
      ]
    },
    {
      "cell_type": "code",
      "metadata": {
        "id": "HDsc4Lo2phAl"
      },
      "source": [
        "grouped_late_pickup = df.groupby(['feedback_score', 'is_late_pickup']).agg(count=('order_id', 'count'))\n",
        "grouped_late_pickup = grouped_late_pickup.reset_index()\n",
        "\n",
        "grouped_late_delivery = df.groupby(['feedback_score', 'is_late_delivery']).agg(count=('order_id', 'count'))\n",
        "grouped_late_delivery = grouped_late_delivery.reset_index()\n",
        "\n",
        "grouped_late_shipping = df.groupby(['feedback_score', 'is_late_shipping']).agg(count=('order_id', 'count'))\n",
        "grouped_late_shipping = grouped_late_shipping.reset_index()"
      ],
      "execution_count": null,
      "outputs": []
    },
    {
      "cell_type": "code",
      "metadata": {
        "id": "ECTSQEgqngPf"
      },
      "source": [
        "fig = px.bar(grouped_late_pickup, x=\"feedback_score\", y=\"count\", color=\"is_late_pickup\",barmode=\"group\", template=\"ggplot2\")\n",
        "fig.show(renderer=\"colab\")"
      ],
      "execution_count": null,
      "outputs": []
    },
    {
      "cell_type": "code",
      "metadata": {
        "id": "SrgPgJtdnsNG"
      },
      "source": [
        "fig = px.bar(grouped_late_delivery, x=\"feedback_score\", y=\"count\", color=\"is_late_delivery\", barmode=\"group\", template=\"ggplot2\")\n",
        "fig.show(renderer=\"colab\")"
      ],
      "execution_count": null,
      "outputs": []
    },
    {
      "cell_type": "code",
      "metadata": {
        "id": "bpAe89t-ns8L"
      },
      "source": [
        "fig = px.bar(grouped_late_shipping, x=\"feedback_score\", y=\"count\", color=\"is_late_shipping\", barmode=\"group\", template=\"ggplot2\")\n",
        "fig.show(renderer=\"colab\")"
      ],
      "execution_count": null,
      "outputs": []
    },
    {
      "cell_type": "code",
      "metadata": {
        "id": "RdTXUt6MIFdU"
      },
      "source": [
        "fig = px.box(df, x=\"feedback_score\", y=\"average_price\", color=\"feedback_score\", template=\"ggplot2\")\n",
        "fig.show(renderer=\"colab\")"
      ],
      "execution_count": null,
      "outputs": []
    },
    {
      "cell_type": "code",
      "metadata": {
        "id": "7Ghc_gzHI35d"
      },
      "source": [
        "fig = px.box(df, x=\"feedback_score\", y=\"total_price\", color=\"feedback_score\", template=\"ggplot2\")\n",
        "fig.show(renderer=\"colab\")"
      ],
      "execution_count": null,
      "outputs": []
    },
    {
      "cell_type": "markdown",
      "metadata": {
        "id": "W268rC7ozOLx"
      },
      "source": [
        "## Recommendation\n",
        "---\n",
        "\n",
        "- Have to increase the accuracy of the estimating order arrival date -> CDT (Customer Delivery Time) Prediction -> Supervised Learning\n",
        "- Because the fare of each order is different, it could be infered that probably the order is using many type of transport vendor. Might be better if the ecommerce only use (option available for user) transport vendor that have better quality, because we can see that pickup time is not the problem but shipping time (affecting the difference from estimated - actual delivery time)\n",
        "\n",
        "-> Next : Check the source - destination and make it into variable?\n",
        "          Quantify into each group for each order fee (for quality segmentation)"
      ]
    },
    {
      "cell_type": "code",
      "metadata": {
        "id": "N6GIlJeYabvc"
      },
      "source": [
        ""
      ],
      "execution_count": null,
      "outputs": []
    }
  ]
}